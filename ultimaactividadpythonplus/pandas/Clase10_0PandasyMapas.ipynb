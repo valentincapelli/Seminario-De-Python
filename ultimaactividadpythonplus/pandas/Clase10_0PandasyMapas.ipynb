{
 "cells": [
  {
   "cell_type": "markdown",
   "id": "469d521f-f9c2-46f9-b73e-c2bf637be205",
   "metadata": {},
   "source": [
    "# Seminario de Lenguajes - Python\n",
    "\n",
    "## Cursada 2024\n",
    "### Más funciones de Pandas y mapas"
   ]
  },
  {
   "cell_type": "markdown",
   "id": "01f53dc5-fa6b-413b-89ba-87793884968e",
   "metadata": {},
   "source": [
    "## 💢 ¿Qué vimos en la clase anterior?\n"
   ]
  },
  {
   "cell_type": "markdown",
   "id": "2f5a9efb-79c9-437c-aede-b43c0da2d83c",
   "metadata": {},
   "source": [
    "### Modificación de datos\n",
    "* renombar columna/s: **rename**\n",
    "* renombrar todas las columnas: **columns** (igual cantidad)\n",
    "* modificar datos: **replace**\n",
    "* modificación en el momento: **inplace** (sólo en algunos casos)\n",
    "* copia segura del dataset: **copy**\n",
    "* crear una nueva variable\n",
    "* cambio de tipo de dato:\n",
    "    * datetime: **pd.to_datetime**\n",
    "    * int, float..: **astype**\n",
    "* eliminación de datos nulos:\n",
    "    * de todas las filas: **df.dropna**\n",
    "    * de una columna: **df.columna.dropna**\n",
    "* generación de datos en función de datos del dataframe: **apply**"
   ]
  },
  {
   "cell_type": "markdown",
   "id": "ddeb13c3-2421-45ec-a3dc-9a34b10f0ba9",
   "metadata": {},
   "source": [
    "### Crear nuestro Dataframe\n",
    "* de un diccionario\n",
    "* definición de los índices\n",
    "* cambio de columna como índice"
   ]
  },
  {
   "cell_type": "markdown",
   "id": "1f57bbe9-8a4d-4c1f-bb9f-043f74a82b97",
   "metadata": {},
   "source": [
    "### Agrupamientos\n",
    "* **groupby**: definición de una operación de agregación\n",
    "* una columna\n",
    "* más de una columna\n",
    "* operaciones:\n",
    "    * **nunique**\n",
    "    * **sum**\n",
    "    * **count**\n",
    "    * **value_counts**\n",
    "    * otras"
   ]
  },
  {
   "cell_type": "markdown",
   "id": "5edde550-1a67-4b7b-9542-f7218b362859",
   "metadata": {},
   "source": [
    "### Gráficos\n",
    "* matplotlib\n",
    "    * simples: **df.plot**\n",
    "    * más personalizados: **plt.funciones de cada gráfico**\n",
    "* plotly\n",
    "    * Gráficos simples: **plotly.express**\n",
    "    * Gráficos más complejos: **plotly.graph_objects (go.Figure)**"
   ]
  },
  {
   "cell_type": "markdown",
   "id": "f1b432f5-96c6-4154-ba65-ae6b9f422af3",
   "metadata": {},
   "source": [
    "### Streamlit\n",
    "* gráficos simples: **st.tipo_grafico**\n",
    "* gráficos a través de librerías específicas: **st.librería(figura)**\n",
    "* widget interactivos\n"
   ]
  },
  {
   "cell_type": "markdown",
   "id": "ba13f463-2147-4788-a556-3e9e63c91e03",
   "metadata": {},
   "source": [
    "Trabajemos con el dataset de aeropuertos otra vez"
   ]
  },
  {
   "cell_type": "code",
   "execution_count": null,
   "id": "49e9e142-df5f-4e11-a434-57891166c19d",
   "metadata": {},
   "outputs": [],
   "source": [
    "import pandas as pd\n",
    "from pathlib import Path"
   ]
  },
  {
   "cell_type": "code",
   "execution_count": null,
   "id": "e5f09832-12da-46e2-9415-723c8c860e4b",
   "metadata": {},
   "outputs": [],
   "source": [
    "file_route = Path('files')\n",
    "file_data = 'ar-airports.csv'\n",
    "df_airports = pd.read_csv(file_route/file_data)"
   ]
  },
  {
   "cell_type": "markdown",
   "id": "d0243d09-ff51-4da8-8c56-1748c1adb473",
   "metadata": {},
   "source": [
    "## 🎒 Habíamos hecho algunas operaciones con los datos nulos\n",
    "* eliminar datos nulos de la columna **elevation_ft** y cambiar a int.\n",
    "* si no queremos perder esas filas, al crear una columna nueva en función de esa columna, ¿qué pasó?"
   ]
  },
  {
   "cell_type": "code",
   "execution_count": null,
   "id": "a63fa6b3-d05a-4fd8-9e33-3b0cc7d51895",
   "metadata": {},
   "outputs": [],
   "source": [
    "df_airports = df_airports.copy()\n",
    "\n",
    "def define_height(value):\n",
    "    if value < 131:\n",
    "        return 'bajo'\n",
    "    elif value < 903:\n",
    "        return 'medio'\n",
    "    else:\n",
    "        return 'alto'"
   ]
  },
  {
   "cell_type": "code",
   "execution_count": null,
   "id": "800b44c6-54c1-4a9b-90bc-4da424000f99",
   "metadata": {},
   "outputs": [],
   "source": [
    "df_airports['height'] = df_airports['elevation_ft'].apply(define_height)\n",
    "df_airports[['name','elevation_ft','height']].head(4)"
   ]
  },
  {
   "cell_type": "markdown",
   "id": "89a14b42-231f-4a12-8c13-4bfd03a23196",
   "metadata": {},
   "source": [
    "Pero ¿qué paso en los casos que era nulo?:"
   ]
  },
  {
   "cell_type": "code",
   "execution_count": null,
   "id": "085716fe-7ead-4a9f-9492-a55342ec1fa2",
   "metadata": {},
   "outputs": [],
   "source": [
    "df_airports.iloc[926]"
   ]
  },
  {
   "cell_type": "markdown",
   "id": "d5ddd607-8c2b-4d36-bb4c-74c69541b057",
   "metadata": {},
   "source": [
    "Como el valor entra por el último else, le pone como **alto**  en la columna creada, en las filas que la columna **elevation_ft** es nula."
   ]
  },
  {
   "cell_type": "markdown",
   "id": "cc48f8b1-9fb3-4e82-bf7d-f36ca8aead0a",
   "metadata": {},
   "source": [
    "Veamos algunas cuestiones para realizar en estos casos, que nos puede servir para hacer modificaciones. "
   ]
  },
  {
   "cell_type": "markdown",
   "id": "93e718e1-2f52-4a28-a93d-71e709df0c5a",
   "metadata": {},
   "source": [
    "### 📌 1.Comprobar si todos los valores float en la columna 'elevation_ft' no tienen decimales\n"
   ]
  },
  {
   "cell_type": "code",
   "execution_count": null,
   "id": "5e425ff8-3ae6-4b16-b113-a00bc4a4a08c",
   "metadata": {},
   "outputs": [],
   "source": [
    "# Primero, ignorar los NaN para evitar errores de comparación\n",
    "non_decimal_values = df_airports['elevation_ft'].dropna().apply(lambda x: x.is_integer())\n",
    "all_integers = non_decimal_values.all()\n",
    "all_integers\n"
   ]
  },
  {
   "cell_type": "markdown",
   "id": "6dc5386f-8b02-45de-8675-552d48f994f6",
   "metadata": {},
   "source": [
    "* **df_airports['elevation_ft'].dropna()** devuelve una variable de tipo Series con los valores nulos eliminados\n",
    "* **lambda x: x.is_integer()**: verifica que un valor sea igual a su parte entera, es decir comprobar que no tiene decimales\n",
    "* **non_decimal_values.all()**: devuelve **True** si todos los valores son verdaderos"
   ]
  },
  {
   "cell_type": "markdown",
   "id": "a58b3c8c-263f-47c2-ba1f-906823750b6c",
   "metadata": {},
   "source": [
    "### 📌 2.Cambiar el tipo de dato que permita manejar valores nulos"
   ]
  },
  {
   "cell_type": "code",
   "execution_count": null,
   "id": "4795e552-da6d-43cf-b1e0-92c38affe8d1",
   "metadata": {},
   "outputs": [],
   "source": [
    "if all_integers:\n",
    "    df_airports['elevation_ft'] = df_airports['elevation_ft'].astype(pd.Int64Dtype())\n",
    "    print(\"Todos los valores fueron convertidos exitosamente a enteros.\")\n",
    "else:\n",
    "    print(\"Algunos valores tienen decimales y no pueden ser convertidos a enteros sin pérdida de información.\")"
   ]
  },
  {
   "cell_type": "markdown",
   "id": "4228ad05-1e0a-4580-b43b-16cf32b94f12",
   "metadata": {},
   "source": [
    "**astype(pd.Int64Dtype())** convierte la columna a enteros (Int64) que permiten valores nulos o NaN representado como **NA**."
   ]
  },
  {
   "cell_type": "code",
   "execution_count": null,
   "id": "eea9f838-a355-4be5-ba7e-0dba2dd1fad4",
   "metadata": {},
   "outputs": [],
   "source": [
    "df_airports.info()"
   ]
  },
  {
   "cell_type": "code",
   "execution_count": null,
   "id": "bd0fa4d0-6d2f-45e8-84bb-d8e101eacf00",
   "metadata": {},
   "outputs": [],
   "source": [
    "df_airports.iloc[926]"
   ]
  },
  {
   "cell_type": "markdown",
   "id": "51e9c77a-e1f1-453b-8976-649100d0437c",
   "metadata": {},
   "source": [
    "### 📌 3. Aplicar la función evaluando los valores nulos"
   ]
  },
  {
   "cell_type": "code",
   "execution_count": null,
   "id": "1453c441-d680-4bac-bcd7-0ab8d99069c2",
   "metadata": {},
   "outputs": [],
   "source": [
    "def define_height(value):\n",
    "    if pd.isna(value):\n",
    "        return 'desconocido'\n",
    "    if value < 131:\n",
    "        return 'bajo'\n",
    "    elif value < 903:\n",
    "        return 'medio'\n",
    "    else:\n",
    "        return 'alto'"
   ]
  },
  {
   "cell_type": "code",
   "execution_count": null,
   "id": "24002834-0dea-40b4-81ae-d0d5e9005f2e",
   "metadata": {},
   "outputs": [],
   "source": [
    "df_airports['elevation_ft'] = df_airports['elevation_ft'].astype('float').astype(pd.Int64Dtype())\n",
    "df_airports['altura'] = df_airports.elevation_ft.apply(define_height)"
   ]
  },
  {
   "cell_type": "code",
   "execution_count": null,
   "id": "d41b78aa-908f-4294-805b-a61d4817a62c",
   "metadata": {},
   "outputs": [],
   "source": [
    "df_airports.iloc[926]"
   ]
  },
  {
   "cell_type": "markdown",
   "id": "879fb266-b7da-4564-970c-64f7e55e35dd",
   "metadata": {},
   "source": [
    "### ¿Qué cambia?\n",
    "* Podríamos usar **is_na** sin convertir la columna a **Int64Dtype**, pero de esta forma nos aseguramos que el valor es **NaN** en esos casos.\n",
    "* De esta forma no eliminamos filas y podemos tener identificadas las alturas en los casos que esté presente."
   ]
  },
  {
   "cell_type": "markdown",
   "id": "ade8fe88-97b4-4735-9fd1-8bca288d363d",
   "metadata": {},
   "source": [
    "### ¿Cuál es la cantidad y cuáles son filas con valores nulos?\n",
    "¿Cómo puedo saber las filas que tienen en la columna **elevation_ft** valores nulos?"
   ]
  },
  {
   "cell_type": "markdown",
   "id": "3d91daaf-5d4a-42db-9d1d-efd827052f3f",
   "metadata": {},
   "source": [
    "Para saber cuántos:"
   ]
  },
  {
   "cell_type": "code",
   "execution_count": null,
   "id": "95cac91a-28ee-456c-a770-c7880ddefccf",
   "metadata": {},
   "outputs": [],
   "source": [
    "df_airports.elevation_ft.isnull().sum()"
   ]
  },
  {
   "cell_type": "markdown",
   "id": "7312fdd8-dd17-464e-85d8-8aeeaaba5bc4",
   "metadata": {},
   "source": [
    "Para saber cuáles:"
   ]
  },
  {
   "cell_type": "code",
   "execution_count": null,
   "id": "d1a96c2c-a8d9-421c-b63c-43a2e9d6c91e",
   "metadata": {},
   "outputs": [],
   "source": [
    "df_airports[df_airports['elevation_ft'].apply(lambda x: pd.isna(x))]"
   ]
  },
  {
   "cell_type": "markdown",
   "id": "d040ff8a-9ce1-4ea2-a9e8-817d72e54de5",
   "metadata": {},
   "source": [
    "## 🎒 Agrupamientos con operaciones\n",
    "* Vamos a trabajar con el dataset **felinos**\n",
    "* Primero veamos algunas modificaciones para acomodar los datos"
   ]
  },
  {
   "cell_type": "code",
   "execution_count": null,
   "id": "f1ae4b14-0fbf-44c2-8a3d-cf264f4e95c8",
   "metadata": {},
   "outputs": [],
   "source": [
    "felinos = pd.read_csv(file_route/'felinos_filtrado.csv')\n",
    "felinos.stateProvince = felinos.stateProvince.replace('Neuquen','Neuquén')\n",
    "felinos = felinos.dropna(subset=['year']).copy()\n",
    "felinos.info()"
   ]
  },
  {
   "cell_type": "markdown",
   "id": "abeff2bd-3627-446d-92bb-9e8b8279bd72",
   "metadata": {},
   "source": [
    "Las columnas **day**, **month** y **year** se les asignó el tipo de dato **float**.\n",
    "\n",
    "### ¿Con qué función le podemos cambiar el tipo de dato?"
   ]
  },
  {
   "cell_type": "code",
   "execution_count": null,
   "id": "b0aa8472-7e9a-4db4-b3ef-92662532fe3c",
   "metadata": {},
   "outputs": [],
   "source": [
    "felinos['year'] = felinos['year'].astype(int)"
   ]
  },
  {
   "cell_type": "markdown",
   "id": "9f9a94cb-38ae-4a1d-aefb-2dd9adeaebad",
   "metadata": {},
   "source": [
    "Para cambiar varias columnas al mismo tiempo podemos definir la lista de columnas y luego hacer el cambio:"
   ]
  },
  {
   "cell_type": "code",
   "execution_count": null,
   "id": "6e14939c-257b-4939-a79c-cc724faec2fd",
   "metadata": {},
   "outputs": [],
   "source": [
    "columns_to_convert = ['day','month']\n",
    "felinos[columns_to_convert] = felinos[columns_to_convert].astype(int)"
   ]
  },
  {
   "cell_type": "markdown",
   "id": "31a06744-c841-44ab-978d-0cfa906368c1",
   "metadata": {},
   "source": [
    "Definimos la lista de columnas que queremos cambiar a un mismo tipo de datos y luego aplicamos a todas la función que convierte **astype**."
   ]
  },
  {
   "cell_type": "markdown",
   "id": "0e6167b0-f10c-489c-a35f-5d04909a6f83",
   "metadata": {},
   "source": [
    "### Ahora veamos algunas operaciones y sus diferencias"
   ]
  },
  {
   "cell_type": "markdown",
   "id": "59d663f9-9a12-4838-8b99-d1f828128a0f",
   "metadata": {},
   "source": [
    "¿Qué diferencia hay entre estas operaciones?"
   ]
  },
  {
   "cell_type": "code",
   "execution_count": null,
   "id": "7affb235-28a2-4f6e-aa3b-2cf44735bef6",
   "metadata": {},
   "outputs": [],
   "source": [
    "felinos.groupby('genus')['stateProvince'].nunique()"
   ]
  },
  {
   "cell_type": "code",
   "execution_count": null,
   "id": "d2a2a573-de6e-4036-82b3-135ec4c2bab5",
   "metadata": {},
   "outputs": [],
   "source": [
    "felinos.genus.value_counts()"
   ]
  },
  {
   "cell_type": "code",
   "execution_count": null,
   "id": "e7221fde-4256-4211-a2c9-8d21b8c85073",
   "metadata": {},
   "outputs": [],
   "source": [
    "felinos.groupby('genus')['stateProvince'].count()"
   ]
  },
  {
   "cell_type": "code",
   "execution_count": null,
   "id": "72ad06cd-80f7-4340-97e2-837128e36568",
   "metadata": {},
   "outputs": [],
   "source": [
    "felinos['stateProvince']"
   ]
  },
  {
   "cell_type": "code",
   "execution_count": null,
   "id": "ff63de1c-13ca-4b86-bab4-9de39fd43a17",
   "metadata": {},
   "outputs": [],
   "source": [
    "felinos.groupby('genus')['stateProvince'].sum()"
   ]
  },
  {
   "cell_type": "code",
   "execution_count": null,
   "id": "5c33dcf0-170b-4ce6-a80e-75475994eb53",
   "metadata": {},
   "outputs": [],
   "source": [
    "felinos.groupby('genus')['year'].max()"
   ]
  },
  {
   "cell_type": "code",
   "execution_count": null,
   "id": "918f956f-c7ae-46b1-a4eb-45f8175bcf1f",
   "metadata": {},
   "outputs": [],
   "source": [
    "felinos.groupby('genus')['stateProvince'].value_counts()"
   ]
  },
  {
   "cell_type": "code",
   "execution_count": null,
   "id": "154033a7-843c-4c59-bfb0-5e90d62236f1",
   "metadata": {},
   "outputs": [],
   "source": [
    "felinos.groupby(['genus','stateProvince'])['stateProvince'].count()"
   ]
  },
  {
   "cell_type": "markdown",
   "id": "aeab7639-9c1b-4903-8eb3-27c8b455646f",
   "metadata": {},
   "source": [
    "Ambos están contando la frecuencia de las combinaciones únicas de **genus** y **stateProvince**."
   ]
  },
  {
   "cell_type": "markdown",
   "id": "6ce11dca-5c2a-4b44-a6de-4b8262f77065",
   "metadata": {},
   "source": [
    "* **nunique**: cantidad de valores diferentes de una columna\n",
    "* **value_counts**: la cantidad de valores de una columna\n",
    "* **count**: cuenta la cantidad de valores no nulos\n",
    "    * Para una Series: series.count()\n",
    "    * Para un DataFrame: dataframe.count()\n",
    "*  **value_counts**: se utiliza para contar la frecuencia de los valores únicos en una Series.\n",
    "    * Devuelve una Series que contiene los conteos de frecuencia de los valores únicos, ordenados en orden descendente.\n",
    "* **sum**: devuelve los valores sumados, se uiliza principalmente en columnas con valores numéricos\n",
    "* **max**: devuelve el valor máximo de una columna"
   ]
  },
  {
   "cell_type": "markdown",
   "id": "4ac75351-4296-43f8-b397-ffec97414c54",
   "metadata": {},
   "source": [
    "### 📌 Gráfico usando agrupación\n",
    "Hagamos un gráfico simple con las cantidades de provincias donde se han visto felinos"
   ]
  },
  {
   "cell_type": "code",
   "execution_count": null,
   "id": "04568eff-8840-4f72-9868-ce088ab80921",
   "metadata": {},
   "outputs": [],
   "source": [
    "felinos.groupby(['genus'])['stateProvince'].nunique().plot(kind='bar')"
   ]
  },
  {
   "cell_type": "markdown",
   "id": "ff37e7b4-43ef-41f3-8ecf-b1b13b7e07dc",
   "metadata": {},
   "source": [
    "#### ¿No quedaría mejor el gráfico con las barras ordendas por cantidad?\n",
    "Más adelante veremos cómo graficar con los valores ordenamos por cantidad"
   ]
  },
  {
   "cell_type": "markdown",
   "id": "cb1896c0-4028-4882-a610-d56b59161b26",
   "metadata": {},
   "source": [
    "## 🎒 Datos en mapas"
   ]
  },
  {
   "cell_type": "markdown",
   "id": "21875a3b-ab02-4c89-8360-7bc626952a04",
   "metadata": {},
   "source": [
    "### 📌 Folium\n",
    "* [librería](https://python-visualization.github.io/folium/latest/) de Python para la visualización de datos geoespaciales basada en [**Leaflet.js**](https://leafletjs.com/)\n",
    "* instalar:\n",
    "```bash\n",
    "pip install folium\n",
    "```\n",
    "* Generar mapas básicos **Map**\n",
    "* Agregar puntos **Marker**\n",
    "* Agregar polígonos **Polygon**\n",
    "* Agregar áreas o multipolígonos usando [GeoPandas](https://geopandas.org/en/stable/) y Folium"
   ]
  },
  {
   "cell_type": "markdown",
   "id": "241d7dda-d41b-492c-b1cb-ef7d297dbde9",
   "metadata": {},
   "source": [
    "### 📌 Generar un mapa básico"
   ]
  },
  {
   "cell_type": "code",
   "execution_count": null,
   "id": "7fc307f6-e403-4edf-953f-24333beb9237",
   "metadata": {},
   "outputs": [],
   "source": [
    "import folium"
   ]
  },
  {
   "cell_type": "code",
   "execution_count": null,
   "id": "9e2a50be-5306-477c-8686-be2c460cb1d2",
   "metadata": {},
   "outputs": [],
   "source": [
    "folium.Map(\n",
    "    location=(-33.457606, -65.346857),\n",
    "    control_scale=True,\n",
    "    zoom_start=5\n",
    ")"
   ]
  },
  {
   "cell_type": "markdown",
   "id": "10e211dc-6bfa-4252-8541-c58417cf4f13",
   "metadata": {},
   "source": [
    "* **location=(-33.457606, -65.346857)**: Indicamos el centro donde queremos generar el mapa.\n",
    "* **control_scale=True**: muestra la barra de escala del mapa.\n",
    "* **zoom_start=5**: establece un nivel de zoom que puede variar desde:\n",
    "    * 0 (mundo entero) hasta\n",
    "    * 18 (detalles de la calle), dependiendo de los datos disponibles."
   ]
  },
  {
   "cell_type": "markdown",
   "id": "c67f4595-c060-4b4c-989c-6fee36b1fe75",
   "metadata": {},
   "source": [
    "## ¿Qué problemas tenemos con la identificación de los lugares, dado que estamos en Argentina?"
   ]
  },
  {
   "cell_type": "markdown",
   "id": "c0dfff77-7ed1-44a6-abaf-321f490bd911",
   "metadata": {},
   "source": [
    "Folium utiliza **OpenStreeMap**, dado que es abierto se puede adaptar la idenfitcación, el Miniterio de Defensa a través del  [Instituto Geográfico Nacional](https://mapa.ign.gob.ar/?zoom=5&lat=-47.309&lng=-59.76&layers=argenmap), pone a disposición una capa que adapta el mapa para utilizar:"
   ]
  },
  {
   "cell_type": "code",
   "execution_count": null,
   "id": "9af001d4-0fb0-425f-8f14-21aacfa1ead5",
   "metadata": {},
   "outputs": [],
   "source": [
    "attr = (\n",
    "    '&copy; <a href=\"https://www.openstreetmap.org/copyright\">OpenStreetMap</a> '\n",
    "    'contributors, &copy; <a href=\"https://cartodb.com/attributions\">CartoDB</a>'\n",
    ")\n",
    "\n",
    "tiles = 'https://wms.ign.gob.ar/geoserver/gwc/service/tms/1.0.0/capabaseargenmap@EPSG%3A3857@png/{z}/{x}/{-y}.png'\n",
    "m = folium.Map(\n",
    "    location=(-33.457606, -65.346857),\n",
    "    control_scale=True,\n",
    "    zoom_start=5,\n",
    "    name='es',\n",
    "    tiles=tiles,\n",
    "    attr=attr\n",
    ")\n",
    "m"
   ]
  },
  {
   "cell_type": "markdown",
   "id": "75ffdf2b-0c53-457c-9fbe-aa32926d6bb9",
   "metadata": {},
   "source": [
    "Ahora que tenemos nuestro mapa con la identificación correcta, veamos cómo agregar datos"
   ]
  },
  {
   "cell_type": "markdown",
   "id": "fde29ca4-2f1c-4aa3-8da0-d1d951ac4cc0",
   "metadata": {},
   "source": [
    "### 📌Agregar puntos o marker al mapa"
   ]
  },
  {
   "cell_type": "markdown",
   "id": "ca1f4572-8c67-42e2-b341-52b6fc14fbb1",
   "metadata": {},
   "source": [
    "Lo primero que necesitamos es identificar las columnas donde están están los datos de geolocalización, en el dataset de felinos"
   ]
  },
  {
   "cell_type": "code",
   "execution_count": null,
   "id": "70bdbe3c-8e3f-4bcf-ad18-81f165cbed57",
   "metadata": {},
   "outputs": [],
   "source": [
    "felinos.columns"
   ]
  },
  {
   "cell_type": "markdown",
   "id": "18d7dd3d-3041-42d1-a43f-ddb55f69acc9",
   "metadata": {},
   "source": [
    "Los datos se encuentran en:\n",
    "* decimalLatitude\n",
    "* decimalLongitude"
   ]
  },
  {
   "cell_type": "code",
   "execution_count": null,
   "id": "0db37d16-4676-4659-9a94-abbfd0915e18",
   "metadata": {},
   "outputs": [],
   "source": [
    "felinos.loc[0,['decimalLatitude', \t'decimalLongitude']]"
   ]
  },
  {
   "cell_type": "markdown",
   "id": "2366382e-b65d-4d74-9a72-48db8176f8ac",
   "metadata": {},
   "source": [
    "### Queremos mostrar en un mapa los avistajes de los diferentes felinos\n",
    "* generar puntos con color que permitan diferenciar por tipo\n",
    "* este dato se encuentra en la columna **genus**"
   ]
  },
  {
   "cell_type": "markdown",
   "id": "0cc0c679-7553-496a-8a65-28fd7abbe075",
   "metadata": {},
   "source": [
    "* Definimos una función para generar el mapa con la identificación correcta: **generate_map**\n",
    "* Definimos una función para que nos devuelva el color según el tipo: **get_color**\n",
    "* Definimos una función para que agregue los puntos **Marker** al mapa: **add_marker** "
   ]
  },
  {
   "cell_type": "code",
   "execution_count": null,
   "id": "0dd2911a-bf3f-4fb4-afe2-1e2212b85678",
   "metadata": {},
   "outputs": [],
   "source": [
    "def generate_map():\n",
    "    attr = (\n",
    "    '&copy; <a href=\"https://www.openstreetmap.org/copyright\">OpenStreetMap</a> '\n",
    "    'contributors, &copy; <a href=\"https://cartodb.com/attributions\">CartoDB</a>'\n",
    "    )\n",
    "    \n",
    "    tiles = 'https://wms.ign.gob.ar/geoserver/gwc/service/tms/1.0.0/capabaseargenmap@EPSG%3A3857@png/{z}/{x}/{-y}.png'\n",
    "    m = folium.Map(\n",
    "        location=(-33.457606, -65.346857),\n",
    "        control_scale=True,\n",
    "        zoom_start=5,\n",
    "        name='es',\n",
    "        tiles=tiles,\n",
    "        attr=attr\n",
    "    )\n",
    "    return m\n",
    "\n",
    "def get_color(categoria):\n",
    "    match categoria:\n",
    "        case 'Puma':\n",
    "            return 'blue'\n",
    "        case 'Leopardus':\n",
    "            return 'green'\n",
    "        case _:\n",
    "            return 'red'\n",
    "def add_marker(row):\n",
    "    color = get_color(row['genus'])\n",
    "    folium.Marker(\n",
    "        [row['decimalLatitude'], row['decimalLongitude']],\n",
    "        popup=row['genus'],\n",
    "        icon=folium.Icon(color=color)\n",
    "    ).add_to(mapa)\n",
    "mapa = generate_map()\n",
    "felinos.apply(add_marker, axis=1)\n",
    "mapa"
   ]
  },
  {
   "cell_type": "markdown",
   "id": "2f661c57-71da-48c4-85eb-40b09bed78b3",
   "metadata": {},
   "source": [
    "### Mostremos en el mapa los felinos vistos en un año específico"
   ]
  },
  {
   "cell_type": "code",
   "execution_count": null,
   "id": "4c915b21-56f0-4af4-8f9e-d22141d09762",
   "metadata": {},
   "outputs": [],
   "source": [
    "felinos.year.unique()"
   ]
  },
  {
   "cell_type": "markdown",
   "id": "f6751825-b06a-4909-a860-8aa9f423a337",
   "metadata": {},
   "source": [
    "Si queremos ver los datos ordenados, veamos cómo podemos utilizar las funciones de Pandas"
   ]
  },
  {
   "cell_type": "markdown",
   "id": "30d08ddd-0d3a-426b-98da-f78876dec36a",
   "metadata": {},
   "source": [
    "## 🎒 Ordenamiento"
   ]
  },
  {
   "cell_type": "markdown",
   "id": "a4119942-eafc-42fa-adc7-2006a7e29e48",
   "metadata": {},
   "source": [
    "### 📌 Ordenamiento por un criterio"
   ]
  },
  {
   "cell_type": "code",
   "execution_count": null,
   "id": "6332c338-995c-43e3-8637-61472f13cebb",
   "metadata": {},
   "outputs": [],
   "source": [
    "sorted_felinos = felinos.sort_values(by='year', ascending=False)\n",
    "sorted_felinos.year"
   ]
  },
  {
   "cell_type": "markdown",
   "id": "f8094635-e9f9-483b-8177-3150764df5a2",
   "metadata": {},
   "source": [
    "La función **sort_values** nos permite seleccionar varias opciones para ordenar,\n",
    "algunas de las más relevantes son:\n",
    "* **by**: columna o lista de nombres de columnas por el cual ordenar\n",
    "* **ascending**: por defecto de menor a mayor,  si queremos cambiar el orden, **ascending=False**\n",
    "* **inplace**: al igual que en muchas operaciones de pandas, la modificación puede ejecutarse solamente para ver el resultado, sin modificar el dataset original, con la opción **inplace=True**, se guarda el cambio en el momento en que se ejecuta.\n",
    "* Con la instrucción **help** podemos consultar en el momento las opciones posibles:"
   ]
  },
  {
   "cell_type": "code",
   "execution_count": null,
   "id": "ae1d112c-a565-4545-abe6-62ec0b218a4a",
   "metadata": {},
   "outputs": [],
   "source": [
    "help(felinos.sort_values)"
   ]
  },
  {
   "cell_type": "markdown",
   "id": "3bb5b3f1-d990-4550-aa3f-758667c337d7",
   "metadata": {},
   "source": [
    "### 📌 Ordenamiento por dos criterios\n",
    "Por ejemplo primero por **year** y luego por **month**:"
   ]
  },
  {
   "cell_type": "code",
   "execution_count": null,
   "id": "0bb0a673-b6f4-42bc-a3ee-bf7a5d2c0e44",
   "metadata": {},
   "outputs": [],
   "source": [
    "felinos.sort_values(by=['year','month'])[['genus','year','month']].tail(10)"
   ]
  },
  {
   "cell_type": "markdown",
   "id": "10ea206d-8b4c-464d-bfc1-a7ad07120b12",
   "metadata": {},
   "source": [
    "Ordenemos por dos criterios pero de forma descendente el segundo:"
   ]
  },
  {
   "cell_type": "code",
   "execution_count": null,
   "id": "ececa549-233e-44b2-b7d6-773583238129",
   "metadata": {
    "scrolled": true
   },
   "outputs": [],
   "source": [
    "felinos.sort_values(by=['year','month','day'],ascending =[True , False , True])[['genus','year','month', 'day']].tail(10)"
   ]
  },
  {
   "cell_type": "markdown",
   "id": "4d085822-4ce3-4530-a620-ad961fae3b7b",
   "metadata": {},
   "source": [
    "#### Ordenar para mostrar en un gráfico\n",
    "Habíamos hecho un gráfico simple de los diferentes felinos por provincia pero queremos que las barras se muestren ordenadas, entonces:\n",
    "* ordenamos los datos agrupados\n",
    "* luego hacemos el gráfico"
   ]
  },
  {
   "cell_type": "code",
   "execution_count": null,
   "id": "d89d0e6d-f52b-4396-8c44-11b50d45f3f4",
   "metadata": {},
   "outputs": [],
   "source": [
    "felinos.groupby(['genus'])['stateProvince'].nunique().sort_values(ascending=False).plot(kind='bar')"
   ]
  },
  {
   "cell_type": "markdown",
   "id": "605187da-f24f-49bf-8f12-d7924ac953ac",
   "metadata": {},
   "source": [
    "### Filtramos para graficar y mostrar en el mapa\n",
    "* Grafiquemos los felinos vistos a partir del año **2010**\n",
    "* **sorted_felinos**: es el dataframe con los datos ordenados por año"
   ]
  },
  {
   "cell_type": "code",
   "execution_count": null,
   "id": "cf9da71e-11e9-4acb-bdd2-f51df8b6d95f",
   "metadata": {},
   "outputs": [],
   "source": [
    "sorted_felinos.year.unique()"
   ]
  },
  {
   "cell_type": "code",
   "execution_count": null,
   "id": "9dfd61b0-2973-4c55-857f-bd0c886fdd65",
   "metadata": {},
   "outputs": [],
   "source": [
    "data_map  = sorted_felinos[sorted_felinos.year>2010]\n",
    "data_map.shape"
   ]
  },
  {
   "cell_type": "code",
   "execution_count": null,
   "id": "a00ff741-6b3e-47e5-9419-5486271d7fea",
   "metadata": {},
   "outputs": [],
   "source": [
    "data_map['year'].value_counts().plot(kind='bar')"
   ]
  },
  {
   "cell_type": "code",
   "execution_count": null,
   "id": "932215e2-a1e7-4b0c-a235-4240982ea694",
   "metadata": {},
   "outputs": [],
   "source": [
    "mapa = generate_map()\n",
    "data_map.apply(add_marker, axis=1)\n",
    "mapa"
   ]
  },
  {
   "cell_type": "markdown",
   "id": "62555dc4-0bc7-4838-acc5-d4a6d9a933d4",
   "metadata": {},
   "source": [
    "Usamos las funciones más arriba definidas para:\n",
    "* generar el mapa \n",
    "* definir los colores\n",
    "* generar los puntos"
   ]
  },
  {
   "cell_type": "markdown",
   "id": "be89a120-e548-4f55-94cf-2c31f62a3e51",
   "metadata": {},
   "source": [
    "Podemos graficar los felinos según los meses en que fueron vistos"
   ]
  },
  {
   "cell_type": "code",
   "execution_count": null,
   "id": "387e5255-d37f-4143-9d79-0796722db70a",
   "metadata": {},
   "outputs": [],
   "source": [
    "felinos.columns"
   ]
  },
  {
   "cell_type": "code",
   "execution_count": null,
   "id": "1f480de3-f6f3-44a4-819c-be4fbdaa5b2f",
   "metadata": {},
   "outputs": [],
   "source": [
    "list_month = felinos.month.unique()"
   ]
  },
  {
   "cell_type": "code",
   "execution_count": null,
   "id": "abf98e7d-d95e-48b7-a22b-f1781658212f",
   "metadata": {},
   "outputs": [],
   "source": [
    "list_month"
   ]
  },
  {
   "cell_type": "code",
   "execution_count": null,
   "id": "94ddf30d-e970-4a94-83ff-df0ae095f310",
   "metadata": {},
   "outputs": [],
   "source": [
    "month_selected = 11\n",
    "data_map = felinos[felinos.month==month_selected]\n",
    "mapa = generate_map()\n",
    "data_map.apply(add_marker, axis=1)\n",
    "mapa"
   ]
  },
  {
   "cell_type": "markdown",
   "id": "a5ac358f-93fc-43b8-8a6a-0ed6287da293",
   "metadata": {},
   "source": [
    "Veamos otros ejemplos, ahora con el dataset del **censo**"
   ]
  },
  {
   "cell_type": "code",
   "execution_count": null,
   "id": "d37a6a8b-9559-4339-95eb-93b7d3b644e0",
   "metadata": {},
   "outputs": [],
   "source": [
    "censo_2022 = pd.read_csv(file_route/'c2022_tp_c_resumen_adaptado.csv')"
   ]
  },
  {
   "cell_type": "code",
   "execution_count": null,
   "id": "46b5b172-6b61-4fdf-87c1-b57f1aa6c562",
   "metadata": {},
   "outputs": [],
   "source": [
    "censo_2022.head()"
   ]
  },
  {
   "cell_type": "markdown",
   "id": "abc37c82-f1fe-4d01-bf42-adc93e839389",
   "metadata": {},
   "source": [
    "Nos quedamos sin la primer fila, que tiene los datos totales de Argentina"
   ]
  },
  {
   "cell_type": "code",
   "execution_count": null,
   "id": "660f71ec-4bc1-4745-9a34-5ea29ac5dfe2",
   "metadata": {},
   "outputs": [],
   "source": [
    "censo_2022 = censo_2022.iloc[1:]\n",
    "censo_2022.head(3)"
   ]
  },
  {
   "cell_type": "markdown",
   "id": "1e0bd465-e2b4-449f-89d1-cfbaaa5c1cd2",
   "metadata": {},
   "source": [
    "Podemos ver los datos **ordenados** con la cantidad de población de cada jurisdicción"
   ]
  },
  {
   "cell_type": "code",
   "execution_count": null,
   "id": "318a68d9-c999-459b-ae0b-dd0fc878ea45",
   "metadata": {},
   "outputs": [],
   "source": [
    "censo_2022.sort_values(by='Total de población', ascending=False).tail(3)"
   ]
  },
  {
   "cell_type": "markdown",
   "id": "61ae3c73-68d0-47e6-852d-f44727f85ae7",
   "metadata": {},
   "source": [
    "### 👉 Queremos mostrar en el mapa puntos en las capitales de las provincias \n",
    "* generar los colores de los puntos según un rango  de población.\n",
    "* el dataset del **censo** no tiene datos de ubicación.\n",
    "* vamos a **consultar** al dataset de **ar.csv**.\n",
    "* ¿qué columnas son relevantes de cada dataset que nos permiten relacionar los datos que estamos buscando?"
   ]
  },
  {
   "cell_type": "code",
   "execution_count": null,
   "id": "ad012562-679c-4fe4-ba03-7db234310f39",
   "metadata": {},
   "outputs": [],
   "source": [
    "arg_data = pd.read_csv(file_route/'ar.csv')"
   ]
  },
  {
   "cell_type": "code",
   "execution_count": null,
   "id": "3b94cf26-e463-4f4d-b70f-9f5f6faca489",
   "metadata": {},
   "outputs": [],
   "source": [
    "censo_2022.columns"
   ]
  },
  {
   "cell_type": "markdown",
   "id": "527f08d9-afcd-4f1f-8ba7-3cb19111cd9e",
   "metadata": {},
   "source": [
    "#### Censo\n",
    "En el dataset **censo** en la columna:\n",
    "* **Jurisdicción** está el nombre que debemos buscar en el dataset **arg_data**\n"
   ]
  },
  {
   "cell_type": "code",
   "execution_count": null,
   "id": "925443c0-3119-417d-b733-826eb3a1b198",
   "metadata": {},
   "outputs": [],
   "source": [
    "arg_data.columns"
   ]
  },
  {
   "cell_type": "markdown",
   "id": "ac2c3bbf-10af-4686-a48f-3fcdc3058a32",
   "metadata": {},
   "source": [
    "#### Geolocalizacón de ciudades de Argentina\n",
    "En el dataset **arg_data** :\n",
    "* los valores de la columna **capital** indican:\n",
    "    * admin: es la ciudad capital de la provincia\n",
    "    * primary: la capital de Argentina\n",
    "* la columna **admin_name** contiene el nombre que tiene que coincidir con el que está en  **Jurisdicción**  de **censo**\n",
    "* las columnas **lat** y **lng** contienen los datos para ubicar en el mapa"
   ]
  },
  {
   "cell_type": "markdown",
   "id": "2340f6b6-f19d-4e0f-8bba-e867836324ba",
   "metadata": {},
   "source": [
    "Del dataset **arg_data**, nos quedamos solamente con las capitales y CABA"
   ]
  },
  {
   "cell_type": "code",
   "execution_count": null,
   "id": "b5a269b7-ae16-43c5-8750-3cca091ae850",
   "metadata": {},
   "outputs": [],
   "source": [
    "ref_admin = ['admin','primary']\n",
    "arg_data_cap = arg_data[arg_data.capital.isin(ref_admin)]\n",
    "arg_data_cap.tail(3)"
   ]
  },
  {
   "cell_type": "markdown",
   "id": "db4e613c-cefc-4870-8af1-6d020f67a338",
   "metadata": {},
   "source": [
    "#### Verificar las coincidencias\n",
    "* verificar si todos los nombres del dataset de **censo** están en **arg_data**"
   ]
  },
  {
   "cell_type": "code",
   "execution_count": null,
   "id": "977c9e05-154c-4a35-907e-e44b97a5ab21",
   "metadata": {},
   "outputs": [],
   "source": [
    "matches = censo_2022[censo_2022['Jurisdicción'].isin(arg_data_cap['admin_name'])]\n",
    "print(f\"cant de censo {censo_2022.shape[0]}\")\n",
    "print(f'cant de coincidencias {len(matches)}')"
   ]
  },
  {
   "cell_type": "markdown",
   "id": "81d44c4f-14b7-4177-9c51-d904267c7287",
   "metadata": {},
   "source": [
    "#### Encontrar los errores\n",
    "Queremos saber cuáles son las filas del dataset **censo** que no encontraron coincidencias en **arg_data**"
   ]
  },
  {
   "cell_type": "code",
   "execution_count": null,
   "id": "c7ec3456-f85f-476e-af31-b75c005a6476",
   "metadata": {},
   "outputs": [],
   "source": [
    "no_matches = censo_2022[~censo_2022['Jurisdicción'].isin(arg_data_cap['admin_name'])]\n",
    "no_matches\n"
   ]
  },
  {
   "cell_type": "markdown",
   "id": "46883e3b-5fda-4d30-bf87-f43132bb8142",
   "metadata": {},
   "source": [
    "Encontremos cómo figura en **arg_data** para realizar el reemplazo en **censo**"
   ]
  },
  {
   "cell_type": "code",
   "execution_count": null,
   "id": "316fdb58-2449-47cc-9148-d556d063d0bf",
   "metadata": {},
   "outputs": [],
   "source": [
    "arg_data_cap[arg_data_cap['admin_name'].str.contains('Ciudad')]"
   ]
  },
  {
   "cell_type": "markdown",
   "id": "c82d452d-fbbc-4766-a056-4ca8fa39d6e3",
   "metadata": {},
   "source": [
    "Realizamos los dos reemplazos:"
   ]
  },
  {
   "cell_type": "code",
   "execution_count": null,
   "id": "d7bea516-7b58-4171-ac80-1d2ca17858c1",
   "metadata": {},
   "outputs": [],
   "source": [
    "replaces_values = {'Rio Negro':'Río Negro','Ciudad Autónoma de Buenos Aires': 'Buenos Aires, Ciudad Autónoma de'}\n",
    "censo_2022['Jurisdicción'] =censo_2022['Jurisdicción'].replace(replaces_values)"
   ]
  },
  {
   "cell_type": "markdown",
   "id": "5b6b07db-993d-4311-b112-37f1713ffe72",
   "metadata": {},
   "source": [
    "Realizar estas modificaciones de esta forma puede dar un **warning**, asegurémonos que las modificaciones se van a realizar de forma segura"
   ]
  },
  {
   "cell_type": "code",
   "execution_count": null,
   "id": "a8976f01-b4d4-4211-88ca-7f21a8ed9c9d",
   "metadata": {},
   "outputs": [],
   "source": [
    "censo_2022= censo_2022.copy()\n",
    "replaces_values = {'Rio Negro':'Río Negro','Ciudad Autónoma de Buenos Aires': 'Buenos Aires, Ciudad Autónoma de'}\n",
    "censo_2022['Jurisdicción'] =censo_2022['Jurisdicción'].replace(replaces_values)"
   ]
  },
  {
   "cell_type": "code",
   "execution_count": null,
   "id": "925eff86-d65e-442d-b913-a0c393d767c3",
   "metadata": {},
   "outputs": [],
   "source": [
    "matches = censo_2022[censo_2022['Jurisdicción'].isin(arg_data_cap['admin_name'])]\n",
    "print(f\"cant de censo {censo_2022.shape[0]}\")\n",
    "print(f' cant de coincidencias {len(matches)}')"
   ]
  },
  {
   "cell_type": "markdown",
   "id": "8a9fbee3-04d8-48d1-b71c-a8317b1507cf",
   "metadata": {},
   "source": [
    "## 🎒 Agregar columnas de otro dataset\n",
    "* vamos a agregar al dataset **censo** las columnas con geolocalización.\n",
    "* veamos cómo agregar columnas en función de datos coincidentes en columnas de ambos dataset"
   ]
  },
  {
   "cell_type": "markdown",
   "id": "87ad15d1-c79d-494e-954f-0a2876a922cf",
   "metadata": {},
   "source": [
    "¿Cómo lo hicieron sin pandas?"
   ]
  },
  {
   "cell_type": "markdown",
   "id": "d42dbd82-b6da-4fec-987e-88d14701da02",
   "metadata": {},
   "source": [
    "Para unir datos de dos datasets o más, usaremos la función **merge** de pandas."
   ]
  },
  {
   "cell_type": "markdown",
   "id": "0e2aa2d0-1a24-4798-9112-980925f5e79a",
   "metadata": {},
   "source": [
    "## 🎒 Merge"
   ]
  },
  {
   "cell_type": "code",
   "execution_count": null,
   "id": "2716244a-9253-41d1-9388-be26d13b0c4d",
   "metadata": {},
   "outputs": [],
   "source": [
    "df_merged = censo_2022.merge(arg_data_cap, left_on='Jurisdicción', right_on='admin_name', how='left')\n",
    "df_merged.head(4)\n"
   ]
  },
  {
   "cell_type": "markdown",
   "id": "b8841689-c992-4a5e-a84e-115a43b1de9f",
   "metadata": {},
   "source": [
    "Vamos a ver cómo funciona y las opciones del **merge** con datos más simples"
   ]
  },
  {
   "cell_type": "code",
   "execution_count": null,
   "id": "5f607123-b7e5-4000-b862-f989b5ee7866",
   "metadata": {},
   "outputs": [],
   "source": [
    "\n",
    "# DataFrame 1: Información básica de personas\n",
    "data1 = {\n",
    "    'id': [1, 2, 3, 4],\n",
    "    'name': ['Alicia', 'Gabriel', 'Justina', 'Leandro'],\n",
    "    'department': ['Ing1', 'Objt1', 'Ing2', 'Objt2']\n",
    "}\n",
    "df1 = pd.DataFrame(data1)\n",
    "\n",
    "# DataFrame 2: Información adicional sobre personas\n",
    "data2 = {\n",
    "    'id': [3, 4, 5, 6],\n",
    "    'name': ['Justina', 'Leandro', 'Belén', 'Tomas'],\n",
    "    'ranking': [70000, 80000, 90000, 100000],\n",
    "    'prov': ['Entre Ríos', 'Formosa', 'Jujuy', 'Corrientes']\n",
    "}\n",
    "df2 = pd.DataFrame(data2)\n",
    "\n",
    "print(\"DataFrame 1:\")\n",
    "print(df1)\n",
    "print(\"\\nDataFrame 2:\")\n",
    "print(df2)"
   ]
  },
  {
   "cell_type": "markdown",
   "id": "1f260be5-ae28-4bb9-ae63-b696d02c827d",
   "metadata": {},
   "source": [
    "### Uso de merge\n",
    "Tenemos diferentes criterios para unir datasets, son similares a las utilizadas en  **sql**, veamos algunos:\n",
    "* Inner\n",
    "* Left\n",
    "* Right\n",
    "* [Documentación](https://pandas.pydata.org/pandas-docs/stable/reference/api/pandas.DataFrame.merge.html)\n",
    "### 📌 1.En el caso de que las columnas para buscar las coincidencias se llamen iguales\n",
    "* **Inner**: devuelve solo las filas que tienen valores coincidentes en ambas tablas.\n",
    "* **Left**: devuelve todas las filas del DataFrame izquierdo y las filas coincidentes del DataFrame derecho. Si no hay coincidencia, los valores del DataFrame derecho serán NaN.\n",
    "* **Right**:  devuelve todas las filas del DataFrame derecho y las filas coincidentes del DataFrame izquierdo. Si no hay coincidencia, los valores del DataFrame izquierdo serán NaN."
   ]
  },
  {
   "cell_type": "markdown",
   "id": "6672269d-edef-4015-a9f3-a7a3bf27a8ca",
   "metadata": {},
   "source": [
    "Veamos con los dataframes creados"
   ]
  },
  {
   "cell_type": "code",
   "execution_count": null,
   "id": "9e1bd1c4-a0df-4d44-8a7a-8d5cb5f8e225",
   "metadata": {},
   "outputs": [],
   "source": [
    "df1\n"
   ]
  },
  {
   "cell_type": "code",
   "execution_count": null,
   "id": "a8d52991-6e07-4c78-a346-e34ac8266213",
   "metadata": {},
   "outputs": [],
   "source": [
    "df2"
   ]
  },
  {
   "cell_type": "markdown",
   "id": "0a8b0402-c3e5-4d35-ae98-ee501c5761c3",
   "metadata": {},
   "source": [
    "#### Inner \n",
    "* **Inner**: devuelve solo las filas que tienen valores coincidentes en ambas tablas.\n"
   ]
  },
  {
   "cell_type": "code",
   "execution_count": null,
   "id": "ba6059bf-136c-4f77-b582-b1a9b81e8f81",
   "metadata": {},
   "outputs": [],
   "source": [
    "inner_merged = pd.merge(df1, df2, on='id', how='inner')\n",
    "print(\"\\nResultado de Inner Join:\")\n",
    "inner_merged\n"
   ]
  },
  {
   "cell_type": "markdown",
   "id": "c83083b7-7789-4eaa-9b90-2b2d80a1b6ac",
   "metadata": {},
   "source": [
    "Eliminar la columna utilizada para unir"
   ]
  },
  {
   "cell_type": "code",
   "execution_count": null,
   "id": "dfc50963-2bc8-4c64-b0f0-0db807bb524b",
   "metadata": {},
   "outputs": [],
   "source": [
    "inner_merged = pd.merge(df1, df2, on='id', how='inner').drop(columns = ['name_y'])\n",
    "print(\"\\nResultado de Inner Join sacando la columna usada para unir:\")\n",
    "inner_merged"
   ]
  },
  {
   "cell_type": "markdown",
   "id": "3ad42504-366a-453a-ad0d-a58e59f0242a",
   "metadata": {},
   "source": [
    "#### Left\n",
    "* **Left**: devuelve todas las filas del DataFrame izquierdo y las filas coincidentes del DataFrame derecho. Si no hay coincidencia, los valores del DataFrame derecho serán NaN."
   ]
  },
  {
   "cell_type": "code",
   "execution_count": null,
   "id": "e22b50d2-992d-4c73-b8f2-c5db482c4e06",
   "metadata": {},
   "outputs": [],
   "source": [
    "left_merged = pd.merge(df1, df2, on='id', how='left')\n",
    "print(\"\\nResultado de Left Join:\")\n",
    "left_merged\n"
   ]
  },
  {
   "cell_type": "markdown",
   "id": "43f6d61c-b99d-43e0-aa55-4e5211b557dc",
   "metadata": {},
   "source": [
    "#### Right\n",
    "* **Right**:  devuelve todas las filas del DataFrame derecho y las filas coincidentes del DataFrame izquierdo. Si no hay coincidencia, los valores del DataFrame izquierdo serán NaN."
   ]
  },
  {
   "cell_type": "code",
   "execution_count": null,
   "id": "c811b8fe-1090-4c7f-bc04-aabf9fde168e",
   "metadata": {},
   "outputs": [],
   "source": [
    "right_merged = pd.merge(df1, df2, on='id', how='right')\n",
    "print(\"\\nResultado Right Join:\")\n",
    "right_merged\n"
   ]
  },
  {
   "cell_type": "markdown",
   "id": "e6d02387-0286-4bb7-92f6-ed4bf98974f9",
   "metadata": {},
   "source": [
    "### 📌 2.En el caso de que las columnas para buscar las coincidencias se llaman diferentes"
   ]
  },
  {
   "cell_type": "markdown",
   "id": "84cade49-c2e0-4e1a-8d06-21fcac0e56cc",
   "metadata": {},
   "source": [
    "Definamos nuevamente los dataframes con nombres diferentes en las columnas que usaremos para unir"
   ]
  },
  {
   "cell_type": "code",
   "execution_count": null,
   "id": "8a839c05-493d-4626-bda2-3649a2302c47",
   "metadata": {},
   "outputs": [],
   "source": [
    "\n",
    "# DataFrame 1: Información básica de personas\n",
    "data1 = {\n",
    "    'id': [1, 2, 3, 4],\n",
    "    'name': ['Alicia', 'Gabriel', 'Justina', 'Leandro'],\n",
    "    'department': ['Ing1', 'Objt1', 'Ing2', 'Objt2']\n",
    "}\n",
    "df1 = pd.DataFrame(data1)\n",
    "\n",
    "# DataFrame 2: Información adicional sobre personas\n",
    "data2 = {\n",
    "    'pers_id': [3, 4, 5, 6],\n",
    "    'name': ['Justina', 'Leandro', 'Belén', 'Tomas'],\n",
    "    'ranking': [70000, 80000, 90000, 100000],\n",
    "    'prov': ['Entre Ríos', 'Formosa', 'Jujuy', 'Corrientes']\n",
    "}\n",
    "df2 = pd.DataFrame(data2)\n",
    "\n",
    "print(\"DataFrame 1:\")\n",
    "print(df1)\n",
    "print(\"\\nDataFrame 2:\")\n",
    "print(df2)\n"
   ]
  },
  {
   "cell_type": "markdown",
   "id": "52be0bba-fc50-425c-8528-6edcb8d10bd0",
   "metadata": {},
   "source": [
    "Las opciones que debemos utilizar para estos casos son:\n",
    "* **left_on='nombre'**: nombre de la columna del dataframe izquierdo.\n",
    "* **right_on='nombre'**: nombre de la columna del dataframe derecho."
   ]
  },
  {
   "cell_type": "code",
   "execution_count": null,
   "id": "a657ada5-9af8-4e90-95ca-78cdb34de61f",
   "metadata": {},
   "outputs": [],
   "source": [
    "\n",
    "# Inner Join with left_on and right_on\n",
    "inner_merged_lr = pd.merge(df1, df2, left_on='id', right_on='pers_id', how='inner')\n",
    "print(\"\\nResultado de Inner Join con left_on y right_on:\")\n",
    "print(inner_merged_lr)\n",
    "\n",
    "# Left Join with left_on and right_on\n",
    "left_merged_lr = pd.merge(df1, df2, left_on='id', right_on='pers_id', how='left')\n",
    "print(\"\\nResultado de Left Join con left_on y right_on:\")\n",
    "print(left_merged_lr)\n",
    "\n",
    "# Right Join with left_on and right_on\n",
    "right_merged_lr = pd.merge(df1, df2, left_on='id', right_on='pers_id', how='right')\n",
    "print(\"\\nResultado de Right Join con left_on y right_on:\")\n",
    "print(right_merged_lr)"
   ]
  },
  {
   "cell_type": "markdown",
   "id": "1594d4dd-079b-4766-8052-f266c9e34bf5",
   "metadata": {},
   "source": [
    "### Unir dos dataframes:\n",
    "* el del censo\n",
    "* el que contiene datos geolocalizados"
   ]
  },
  {
   "cell_type": "markdown",
   "id": "660f16fc-73db-4094-8235-fe7ff6ba06f8",
   "metadata": {},
   "source": [
    "* del dataframe  **arg_data** nos quedamos con las capitales y CABA: **arg_data_cap**\n",
    "* filtramos las columnas que nos interesan\n",
    "* luego hacemos el merge"
   ]
  },
  {
   "cell_type": "code",
   "execution_count": null,
   "id": "64e16d88-d25e-46f2-8569-304aa023452b",
   "metadata": {},
   "outputs": [],
   "source": [
    "arg_data_cap = arg_data_cap[['admin_name','lat','lng']].copy()\n",
    "arg_data_cap.head(3)"
   ]
  },
  {
   "cell_type": "code",
   "execution_count": null,
   "id": "1d1f1dc6-6320-479d-90ac-ede47e3f6ecf",
   "metadata": {
    "scrolled": true
   },
   "outputs": [],
   "source": [
    "df_merged = censo_2022.merge(arg_data_cap, left_on='Jurisdicción', right_on='admin_name', how='inner').drop(columns = ['admin_name'])\n",
    "df_merged.head(4)"
   ]
  },
  {
   "cell_type": "markdown",
   "id": "dc0ac929-817e-410b-85f8-f441c00a5ad8",
   "metadata": {},
   "source": [
    "Ya tenemos los datos unidos"
   ]
  },
  {
   "cell_type": "markdown",
   "id": "f5a5788a-e24a-4763-8aab-8f98f9d15142",
   "metadata": {},
   "source": [
    "### 📌 Agregar puntos en el mapa con color según criterio\n",
    "Queremos cambiar los colores de los puntos en el mapa según la población\n",
    "* ¿Cómo podemos definir los valores de los rangos a utilizar?\n",
    "* ¿Qué función de pandas nos daba este tipo de información?"
   ]
  },
  {
   "cell_type": "code",
   "execution_count": null,
   "id": "8a61a3a0-fa6f-430d-a32c-bc8b4af3f00b",
   "metadata": {},
   "outputs": [],
   "source": [
    "\n",
    "censo_2022.describe()"
   ]
  },
  {
   "cell_type": "markdown",
   "id": "7e46511f-2c47-447c-998e-ff8b6cb7557a",
   "metadata": {},
   "source": [
    "Para hacer el mapa tenemos que realizar los siguientes pasos:\n",
    "* generar al mapa base: **mapa = generate_map()**\n",
    "* definir una función para asignar color según rango de población: **define_color_censo**\n",
    "* definir una función, **add_marker** que realiza:\n",
    "    * agrega los puntos indicando las columnas donde está la geolocalización\n",
    "        * **lat**\n",
    "        * **lng**\n",
    "    * asigna el color usando la función **define_color_censo**\n",
    "    * agrega el texto cuando se selecciona un punto, se utilizará la columna **Jurisdicción**.\n",
    "* Aplicamos la función **add_marker** al dataframe: **apply**"
   ]
  },
  {
   "cell_type": "code",
   "execution_count": null,
   "id": "94378211-20d1-4f50-ae7a-cd637c5e25d7",
   "metadata": {},
   "outputs": [],
   "source": [
    "def define_color_censo(categoria):\n",
    "    desc = df_merged.describe()\n",
    "    percentile_25 = desc.loc['25%', 'Total de población']\n",
    "    percentile_50 = desc.loc['50%', 'Total de población']\n",
    "    percentile_75 = desc.loc['75%', 'Total de población']\n",
    "    if categoria <= percentile_25:\n",
    "        return 'blue'\n",
    "    elif categoria <= percentile_50:\n",
    "        return 'green'\n",
    "    elif categoria <= percentile_75:\n",
    "        return 'orange'\n",
    "    else:\n",
    "        return 'red'\n",
    "def add_marker(row):    \n",
    "    color = define_color_censo(row['Total de población'])\n",
    "    mark = folium.Marker(\n",
    "        [row['lat'], row['lng']],\n",
    "        popup=row['Jurisdicción'],\n",
    "        icon=folium.Icon(color=color)\n",
    "    )\n",
    "    #print(mark.get_name())\n",
    "    #print(mark.icon.render)\n",
    "    mark.add_to(map)\n",
    "map = generate_map()\n",
    "df_merged.apply(add_marker, axis=1)\n",
    "map"
   ]
  },
  {
   "cell_type": "markdown",
   "id": "6d5e1b33-3dd4-4291-bce2-7aaa8e06349a",
   "metadata": {},
   "source": [
    "## 🎒 Mostrar multipolígonos en mapas\n",
    "* Vimos cómo mostrar puntos ahora, veremos cómo mostrar áreas en el mapa.\n",
    "* Trabajaremos con el dataset **area_protegida** que contiene en el dataset con estos datos.\n",
    "* Utilizaremos **geopandas** para trabajar con los datos **MULTIPOLYGON**.\n",
    "* Utilizaremos **shapely** para convertir datos string en datos conocidos para geopandas."
   ]
  },
  {
   "cell_type": "code",
   "execution_count": null,
   "id": "81d3123e-37d2-4cf6-a3ca-378ac1ff1dec",
   "metadata": {},
   "outputs": [],
   "source": [
    "import geopandas as gpd\n",
    "from shapely import wkt"
   ]
  },
  {
   "cell_type": "markdown",
   "id": "e53f84d3-0f92-4605-a6cb-267086a26507",
   "metadata": {},
   "source": [
    "### 📌 Geopandas\n",
    "* Es una liberría que permite manejar datos espaciales.\n",
    "* instalar:\n",
    "  ```python\n",
    "  pip install geopandas\n",
    "  ```\n",
    "* Las dos estructuras principales extienden dos clases de pandas:\n",
    "    - geopandas.GeoDataFrame, subclase de pandas.DataFrame, \n",
    "    - geopandas.GeoSeries, subclase de pandas.Series,\n",
    "* Los datasets geoespaciales contienen información sobre ubicaciones geográficas.\n",
    "* Pueden ser:\n",
    "    * **puntos**: Representa ubicaciones individuales en un espacio 2D (o 3D).\n",
    "    * **líneas**:  Representa una serie de puntos conectados que forman una línea.\n",
    "    * **polígonos**: Representa áreas cerradas, definidas por una serie de puntos conectados que forman un contorno cerrado.\n",
    "    * **multipolígonos**:  Representa múltiples polígonos en una sola entidad.\n",
    "    * y más\n",
    "* Al leer el dataset crea la columna **geometry** que es donde geopandas almacena estas geometrías.\n",
    "* La columna geometry permite realizar operaciones geoespaciales como cálculos de distancias, uniones espaciales, intersecciones, etc.\n",
    "* Geopandas puede detectar automáticamente la columna con datos geométricos, en el caso de datasets que tienen información con formato:\n",
    "    * Shapefile\n",
    "    * GeoJSON\n",
    "    * otros formatos.\n",
    "\n",
    "Y la convierte en una columna geometry del tipo **Geometry**.\n",
    "* [Documentación](https://geopandas.org/en/stable/docs/user_guide/data_structures.html)"
   ]
  },
  {
   "cell_type": "markdown",
   "id": "d5d313d5-c35b-48c9-a8a9-d4e1a41f6803",
   "metadata": {},
   "source": [
    "Veamos un ejemplo de un dataset que tiene **multipolígonos**: Áreas protegidas"
   ]
  },
  {
   "cell_type": "code",
   "execution_count": null,
   "id": "b0b51c62-e736-4f24-9255-d0dd49152542",
   "metadata": {},
   "outputs": [],
   "source": [
    "geo_df = gpd.read_file(file_route/'area_protegida.csv')\n",
    "geo_df.info()"
   ]
  },
  {
   "cell_type": "code",
   "execution_count": null,
   "id": "6e16f67a-0ea5-4d07-9aa9-e6776a370a18",
   "metadata": {},
   "outputs": [],
   "source": [
    "geo_df.geom.head()"
   ]
  },
  {
   "cell_type": "markdown",
   "id": "b5394130-4b77-4f73-90d0-2ccf30f323a8",
   "metadata": {},
   "source": [
    "Con la librería shapely convertimos los strings de la columna **geom** a formato geometry utilizando **wkt** (well Known text). El texto tiene que poder interpretarse para convertirse a tipo de datos de geopandas."
   ]
  },
  {
   "cell_type": "code",
   "execution_count": null,
   "id": "9d70e192-1022-47ba-b3ac-a870a696f8ef",
   "metadata": {},
   "outputs": [],
   "source": [
    "geo_df['geometry'] = geo_df['geom'].apply(wkt.loads)"
   ]
  },
  {
   "cell_type": "code",
   "execution_count": null,
   "id": "168d0c7e-3929-47e4-a995-eb191d00dbda",
   "metadata": {},
   "outputs": [],
   "source": [
    "geo_df.info()"
   ]
  },
  {
   "cell_type": "markdown",
   "id": "aaadbdbc-2e47-4bc8-a0ba-1b74a2dbfdae",
   "metadata": {},
   "source": [
    "Vamos a graficar sólos dos tipos de área protegida:\n",
    "* Los tipos de reservas del dataset están en la columna **tap**:\n"
   ]
  },
  {
   "cell_type": "code",
   "execution_count": null,
   "id": "88bf1f3f-6cc9-4e8b-ab72-5e7735cea1e2",
   "metadata": {},
   "outputs": [],
   "source": [
    "geo_df.tap.unique()"
   ]
  },
  {
   "cell_type": "markdown",
   "id": "5b16daec-6f3d-4022-b093-12f040734a6c",
   "metadata": {},
   "source": [
    "* **1**: Parque\n",
    "* **2**: Reserva\n",
    "* **3**: Monunmento Natural\n",
    "* **0**: Información no disponible"
   ]
  },
  {
   "cell_type": "code",
   "execution_count": null,
   "id": "22a237c7-3637-40de-9514-2c25e69c3abe",
   "metadata": {},
   "outputs": [],
   "source": [
    "geo_df[geo_df.tap=='0']"
   ]
  },
  {
   "cell_type": "code",
   "execution_count": null,
   "id": "3a66cfc3-baeb-4d19-99c0-b1c10222bb94",
   "metadata": {},
   "outputs": [],
   "source": [
    "geo_df[geo_df.fna.str.contains('Puelo')]"
   ]
  },
  {
   "cell_type": "markdown",
   "id": "d4c25d58-2bda-411f-a468-b30b2e6c7939",
   "metadata": {},
   "source": [
    "Como ya vimos en varios ejemplos, los datos pueden contener errores, en algunos casos podemos arreglarlo, en otros casos, dependemos de un experto en el tema para definir la modificación"
   ]
  },
  {
   "cell_type": "markdown",
   "id": "b9b67e27-911e-4818-ba81-e4b8b232a638",
   "metadata": {},
   "source": [
    "Convertimos a **int** los datos de la columna **tap**"
   ]
  },
  {
   "cell_type": "code",
   "execution_count": null,
   "id": "f7669064-f00f-4c90-9898-6a727afa44eb",
   "metadata": {},
   "outputs": [],
   "source": [
    "geo_df.tap = geo_df.tap.astype('int')\n",
    "geo_df.tap.unique()"
   ]
  },
  {
   "cell_type": "code",
   "execution_count": null,
   "id": "2ec49d28-7348-4d3c-a627-c4bc1b49fd28",
   "metadata": {},
   "outputs": [],
   "source": [
    "geo_df.iloc[2:7]"
   ]
  },
  {
   "cell_type": "markdown",
   "id": "f66701eb-af65-4a44-bde2-e3210855af6b",
   "metadata": {},
   "source": [
    "Agreguemos al mapa las áreas correspondientes a:\n",
    "* 1: Parque\n",
    "* 2: Reserva"
   ]
  },
  {
   "cell_type": "code",
   "execution_count": null,
   "id": "aa186cd0-cac6-455b-a5ee-36956d97d9b3",
   "metadata": {},
   "outputs": [],
   "source": [
    "list_types = [1,2]\n",
    "geo_data_map = geo_df[geo_df.tap.isin(list_types)]\n",
    "geo_data_map\n"
   ]
  },
  {
   "cell_type": "code",
   "execution_count": null,
   "id": "810bef2e-ed34-4c4e-915a-cf9c10473139",
   "metadata": {},
   "outputs": [],
   "source": [
    "map = generate_map()\n",
    "def add_multipoint(row):\n",
    "    sim_geo = gpd.GeoSeries(row[\"geometry\"]).simplify(tolerance=0.001)\n",
    "    geo_j = sim_geo.to_json()\n",
    "    geo_j = folium.GeoJson(data=geo_j, style_function=lambda x: {\"fillColor\": \"orange\"})\n",
    "    folium.Popup(row[\"nam\"]).add_to(geo_j)\n",
    "    geo_j.add_to(map)"
   ]
  },
  {
   "cell_type": "markdown",
   "id": "6fbdf658-2e50-4f6b-bd30-6a88ab2d8e5d",
   "metadata": {},
   "source": [
    "Esta función realiza las siguientes acciones:\n",
    "* genera un objeto de tipo **GeoSeries** de GeoPandas usando [simplify](https://geopandas.org/en/stable/docs/reference/api/geopandas.GeoSeries.simplify.html).\n",
    "* convertie estos datos al formato json que sabe interpretar folium.\n",
    "* genera un objeto de tipo **GeoJson** en este caso con color **orange** para cada punto.\n",
    "* le agrega una identificación a cad apunto, usando la columna **nam** de cada fila que le pasamos con **apply**.\n",
    "* agrega al mapa cada área."
   ]
  },
  {
   "cell_type": "code",
   "execution_count": null,
   "id": "90e4429e-d286-478f-96db-bd97a8563294",
   "metadata": {},
   "outputs": [],
   "source": [
    "geo_data_map.apply(add_multipoint, axis=1)\n",
    "\n",
    "map"
   ]
  },
  {
   "cell_type": "markdown",
   "id": "a90e984d-11f4-49c8-a27d-c201a13f2b02",
   "metadata": {},
   "source": [
    "### Agreguemos más datos a nuestro mapa"
   ]
  },
  {
   "cell_type": "code",
   "execution_count": null,
   "id": "e7eae6bf-9ed0-47b3-a0f8-1e3a79746abb",
   "metadata": {},
   "outputs": [],
   "source": [
    "lakes_arg = gpd.read_file(file_route/'lagos_arg.csv')\n",
    "replace_col = {'Latitud en GD':'lat', 'Longitud en GD':'lng'}\n",
    "lakes_arg = lakes_arg.rename(columns=replace_col)\n",
    "lakes_arg.head(3)"
   ]
  },
  {
   "cell_type": "code",
   "execution_count": null,
   "id": "c7363143-b478-431d-a480-698eb8f4a91b",
   "metadata": {},
   "outputs": [],
   "source": [
    "def add_marker_lake(row):\n",
    "    folium.Marker(\n",
    "        [row['lat'], row['lng']],\n",
    "        popup=row['Nombre'],\n",
    "        icon=folium.Icon(color='orange')\n",
    "    ).add_to(map)"
   ]
  },
  {
   "cell_type": "code",
   "execution_count": null,
   "id": "587c3af2-ac0a-4c75-bdcb-7b0e45d2a427",
   "metadata": {},
   "outputs": [],
   "source": [
    "def get_color(categoria):\n",
    "    if categoria == 'Puma':\n",
    "        return 'blue'\n",
    "    elif categoria == 'Leopardus':\n",
    "        return 'green'\n",
    "    else:\n",
    "        return 'red'\n",
    "def add_marker_felinos(row):\n",
    "    color = get_color(row['genus'])\n",
    "    folium.Marker(\n",
    "        [row['decimalLatitude'], row['decimalLongitude']],\n",
    "        popup=row['genus'],\n",
    "        icon=folium.Icon(color=color)\n",
    "    ).add_to(map)"
   ]
  },
  {
   "cell_type": "markdown",
   "id": "058dc7ee-9bdf-40c5-9bcb-4df677e31d77",
   "metadata": {},
   "source": [
    "Ahora agregumos los felinos vistos, por ejemplo en el mes de **Noviembre**"
   ]
  },
  {
   "cell_type": "code",
   "execution_count": null,
   "id": "c6aea7c3-b047-4dff-8f98-d47a0f0f6a83",
   "metadata": {},
   "outputs": [],
   "source": [
    "data_map_felinos = felinos[felinos.month==11]"
   ]
  },
  {
   "cell_type": "code",
   "execution_count": null,
   "id": "0c75f567-a9b9-47e5-94de-f92d73abe8e7",
   "metadata": {
    "scrolled": true
   },
   "outputs": [],
   "source": [
    "map = generate_map()\n",
    "geo_data_map.apply(add_multipoint, axis=1)\n",
    "data_map_felinos.apply(add_marker_felinos, axis=1)\n",
    "lakes_arg.apply(add_marker_lake, axis=1)\n",
    "map"
   ]
  },
  {
   "cell_type": "markdown",
   "id": "a1f400d2-2afe-470c-9cdc-598d49a7152d",
   "metadata": {},
   "source": [
    "## 🎒 Mapas en Streamlit\n",
    "* Streamlit tiene una función para mostrar mapas usando **Mapbox**\n",
    "* Otra opción es usar folium a través de la librería **streamlit_folium**, de la cual usaremos:\n",
    "```python\n",
    "st_folium(map)\n",
    "```\n",
    "* instalar\n",
    "  ```python\n",
    " streamlit_folium\n",
    "```\n",
    "* importamos\n",
    "```python\n",
    "from streamlit_folium import  st_folium\n",
    "```\n",
    "* [Documentación](https://github.com/randyzwitch/streamlit-folium)."
   ]
  },
  {
   "cell_type": "markdown",
   "id": "288dff5a-5f81-4be4-a508-b345db85a073",
   "metadata": {},
   "source": [
    "Agregamos las capas que queremos mostrar utilizando las funciones para agregar los puntos y luego mostramos el mapa en Streamlit con **st_folium(mapa)**"
   ]
  },
  {
   "cell_type": "markdown",
   "id": "dc1f483d-188a-4964-adf7-c47f2ce2a27b",
   "metadata": {},
   "source": [
    "#### Iconos personalizados"
   ]
  },
  {
   "cell_type": "code",
   "execution_count": null,
   "id": "4b57817f-085f-49c3-a0cf-c03b1ef50640",
   "metadata": {},
   "outputs": [],
   "source": [
    "kw = {\"prefix\": \"fa\", \"color\": \"green\", \"icon\": \"arrow-up\"}\n",
    "\n",
    "angle = 180\n",
    "icon = folium.Icon(angle=angle, **kw)\n",
    "folium.Marker(location=[-25.12, -58.18], icon=icon, tooltip=str(angle)).add_to(m)\n",
    "\n",
    "angle = 45\n",
    "icon = folium.Icon(angle=angle, **kw)\n",
    "folium.Marker(location=[-25.17, -58.13], icon=icon, tooltip=str(angle)).add_to(m)\n",
    "\n",
    "angle = 90\n",
    "icon = folium.Icon(angle=angle, **kw)\n",
    "folium.Marker([-31.88, -58.30], icon=icon, tooltip=str(angle)).add_to(m)\n",
    "m"
   ]
  },
  {
   "cell_type": "markdown",
   "id": "40a146bc-f215-450b-85fd-848aea07607f",
   "metadata": {},
   "source": [
    "# Para probar en casa\n",
    "### Gráfico con librería seaborn\n",
    "* Es otra librería para visualización de datos.\n",
    "* Instalación:\n",
    "```python\n",
    "pip install seaborn\n",
    "```\n",
    "* [Documentación](https://seaborn.pydata.org/)"
   ]
  },
  {
   "cell_type": "code",
   "execution_count": null,
   "id": "74e2fc11-06a8-4b8f-bbc8-9de0715b78d4",
   "metadata": {},
   "outputs": [],
   "source": [
    "import seaborn as sns\n",
    "import matplotlib.pyplot as plt\n",
    "# Volver a calcular el número de localidades únicas para cada combinación de género y provincia\n",
    "num_localidades = felinos.groupby(['genus', 'stateProvince']).locality.nunique().reset_index()\n",
    "\n",
    "# Crear el gráfico de barras apiladas\n",
    "plt.figure(figsize=(12, 7))\n",
    "sns.barplot(x='stateProvince', y='locality', hue='genus', data=num_localidades, errorbar=None)\n",
    "plt.title('Número de Localidades Únicas por Género y Provincia')\n",
    "plt.ylabel('Número de Localidades Únicas')\n",
    "plt.xlabel('Provincia')\n",
    "plt.legend(title='Género')\n",
    "plt.xticks(rotation=45)\n",
    "plt.show()"
   ]
  },
  {
   "cell_type": "code",
   "execution_count": null,
   "id": "4834252c-8fe6-4c6f-9c4d-0b3c6264c842",
   "metadata": {},
   "outputs": [],
   "source": []
  }
 ],
 "metadata": {
  "kernelspec": {
   "display_name": "Python 3 (ipykernel)",
   "language": "python",
   "name": "python3"
  },
  "language_info": {
   "codemirror_mode": {
    "name": "ipython",
    "version": 3
   },
   "file_extension": ".py",
   "mimetype": "text/x-python",
   "name": "python",
   "nbconvert_exporter": "python",
   "pygments_lexer": "ipython3",
   "version": "3.10.12"
  }
 },
 "nbformat": 4,
 "nbformat_minor": 5
}
