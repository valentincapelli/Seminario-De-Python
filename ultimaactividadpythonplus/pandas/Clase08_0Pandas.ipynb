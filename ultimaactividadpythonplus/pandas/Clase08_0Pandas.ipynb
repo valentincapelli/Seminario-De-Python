{
 "cells": [
  {
   "cell_type": "markdown",
   "id": "03449fd0-d78b-4c77-9637-5fef45052dd0",
   "metadata": {
    "editable": true,
    "slideshow": {
     "slide_type": "slide"
    },
    "tags": []
   },
   "source": [
    "# Seminario de Lenguajes - Python\n",
    "\n",
    "## Cursada 2024\n",
    "### Introducción al análisis de datos\n",
    "* Pandas\n",
    "* Matplotlib\n"
   ]
  },
  {
   "cell_type": "markdown",
   "id": "bb640aee-2e5d-4eae-825c-32ba87cb59c3",
   "metadata": {
    "editable": true,
    "slideshow": {
     "slide_type": "slide"
    },
    "tags": []
   },
   "source": [
    "# Ciencia de datos:\n",
    "\n",
    "> En pocas palabras: se refiere al análisis significativo de datos aplicando  técnicas de programación sobre un área de conocimiento específico.\n",
    "\n",
    "<div>\n",
    "    <img src=\"imagenes/esquemadiapo2.png\" width=\"500\"/>\n",
    "</div>\n"
   ]
  },
  {
   "cell_type": "markdown",
   "id": "aae93acb-26ba-4dd9-9b25-3ffe0b547b1a",
   "metadata": {
    "editable": true,
    "slideshow": {
     "slide_type": "slide"
    },
    "tags": []
   },
   "source": [
    "## Manejo de archivo de datos\n",
    "* ¿Cuáles son las ventajas de utilizar Pandas sobre las estructuras de datos estándar de Python?\n"
   ]
  },
  {
   "cell_type": "markdown",
   "id": "cf096092-ff8b-4f7b-b078-608e8d7863b8",
   "metadata": {
    "editable": true,
    "slideshow": {
     "slide_type": "fragment"
    },
    "tags": []
   },
   "source": [
    "* ¿Cómo puede simplificar las operaciones realizadas con los módulos **csv** y **json**?  "
   ]
  },
  {
   "cell_type": "markdown",
   "id": "96c2ca73-8dd5-43f7-a74d-a37a029e7c11",
   "metadata": {
    "editable": true,
    "slideshow": {
     "slide_type": "fragment"
    },
    "tags": []
   },
   "source": [
    "* ¿Qué otros formatos de archivos conocen para almacenar datos?\n",
    "* ¿Cuáles son formatos abiertos?"
   ]
  },
  {
   "cell_type": "markdown",
   "id": "3b50ea91-0e83-4244-9233-2b235b9f94a8",
   "metadata": {
    "editable": true,
    "slideshow": {
     "slide_type": "slide"
    },
    "tags": []
   },
   "source": [
    "## Introducción a Pandas \n",
    "*    ¿Qué es Pandas y cuál es su importancia en el análisis de datos?\n",
    "*    ¿Cuáles son las principales estructuras de datos en Pandas?\n",
    "*    ¿Cómo importar y explorar un conjunto de datos usando Pandas?\n",
    "*    ¿Qué funcionalidades ofrece Pandas para conocer, filtrar y modificar los datos?\n",
    " "
   ]
  },
  {
   "cell_type": "markdown",
   "id": "6d1bf579-cfff-4eba-8aa0-5bc117614a86",
   "metadata": {
    "editable": true,
    "slideshow": {
     "slide_type": "slide"
    },
    "tags": []
   },
   "source": [
    "## 🎒 [**Pandas**](https://pandas.pydata.org/)\n",
    "* es una biblioteca de Python que proporciona estructuras de datos y herramientas de análisis de datos de alto rendimiento y fáciles de usar.\n",
    "* Esta orientada al análisis de datos porque permite manipular y analizar conjuntos de datos de manera eficiente."
   ]
  },
  {
   "cell_type": "code",
   "execution_count": 1,
   "id": "4533a0a3-69c2-4307-9869-239e909763e8",
   "metadata": {
    "editable": true,
    "slideshow": {
     "slide_type": "fragment"
    },
    "tags": []
   },
   "outputs": [
    {
     "ename": "SyntaxError",
     "evalue": "invalid syntax (2523181655.py, line 1)",
     "output_type": "error",
     "traceback": [
      "\u001b[1;36m  Cell \u001b[1;32mIn[1], line 1\u001b[1;36m\u001b[0m\n\u001b[1;33m    import pandas as....\u001b[0m\n\u001b[1;37m                    ^\u001b[0m\n\u001b[1;31mSyntaxError\u001b[0m\u001b[1;31m:\u001b[0m invalid syntax\n"
     ]
    }
   ],
   "source": [
    "import pandas as...."
   ]
  },
  {
   "cell_type": "code",
   "execution_count": 2,
   "id": "95572878-4752-46e2-ae8c-59be779279fa",
   "metadata": {
    "editable": true,
    "slideshow": {
     "slide_type": "fragment"
    },
    "tags": []
   },
   "outputs": [],
   "source": [
    "import pandas as pd\n"
   ]
  },
  {
   "cell_type": "markdown",
   "id": "ba0f5b51-e76e-447c-8fcf-108f76724f5f",
   "metadata": {
    "editable": true,
    "slideshow": {
     "slide_type": "slide"
    },
    "tags": []
   },
   "source": [
    "### 📌 Tipo de archivos y estructuras de datos en Pandas"
   ]
  },
  {
   "cell_type": "markdown",
   "id": "763e906d-2368-4ef0-a46a-188b00847ffa",
   "metadata": {
    "editable": true,
    "slideshow": {
     "slide_type": "fragment"
    },
    "tags": []
   },
   "source": [
    "¿Qué tipo de datos usaron con para reccorrer el contenido usando:\n",
    "* csv\n",
    "* json"
   ]
  },
  {
   "cell_type": "markdown",
   "id": "3617c492-f1b0-419b-8cbb-f9ba5e33b577",
   "metadata": {
    "editable": true,
    "slideshow": {
     "slide_type": "subslide"
    },
    "tags": []
   },
   "source": [
    "#### Veamos un ejemplo"
   ]
  },
  {
   "cell_type": "code",
   "execution_count": 3,
   "id": "70eda2d9-8430-410b-8bc4-354145fd7fd6",
   "metadata": {
    "editable": true,
    "slideshow": {
     "slide_type": ""
    },
    "tags": []
   },
   "outputs": [],
   "source": [
    "from pathlib import  Path\n",
    "file_route = Path('files')\n",
    "file_data = 'ar-airports.csv'\n",
    "df_airports = pd.read_csv(file_data)"
   ]
  },
  {
   "cell_type": "code",
   "execution_count": 4,
   "id": "845e9605-86da-4fe2-b387-9f225c22fe2d",
   "metadata": {
    "editable": true,
    "slideshow": {
     "slide_type": "fragment"
    },
    "tags": []
   },
   "outputs": [
    {
     "data": {
      "text/html": [
       "<div>\n",
       "<style scoped>\n",
       "    .dataframe tbody tr th:only-of-type {\n",
       "        vertical-align: middle;\n",
       "    }\n",
       "\n",
       "    .dataframe tbody tr th {\n",
       "        vertical-align: top;\n",
       "    }\n",
       "\n",
       "    .dataframe thead th {\n",
       "        text-align: right;\n",
       "    }\n",
       "</style>\n",
       "<table border=\"1\" class=\"dataframe\">\n",
       "  <thead>\n",
       "    <tr style=\"text-align: right;\">\n",
       "      <th></th>\n",
       "      <th>id</th>\n",
       "      <th>ident</th>\n",
       "      <th>type</th>\n",
       "      <th>name</th>\n",
       "      <th>latitude_deg</th>\n",
       "      <th>longitude_deg</th>\n",
       "      <th>elevation_ft</th>\n",
       "      <th>continent</th>\n",
       "      <th>country_name</th>\n",
       "      <th>iso_country</th>\n",
       "      <th>...</th>\n",
       "      <th>gps_code</th>\n",
       "      <th>iata_code</th>\n",
       "      <th>local_code</th>\n",
       "      <th>home_link</th>\n",
       "      <th>wikipedia_link</th>\n",
       "      <th>keywords</th>\n",
       "      <th>score</th>\n",
       "      <th>last_updated</th>\n",
       "      <th>elevation_name</th>\n",
       "      <th>prov_name</th>\n",
       "    </tr>\n",
       "  </thead>\n",
       "  <tbody>\n",
       "    <tr>\n",
       "      <th>0</th>\n",
       "      <td>5781</td>\n",
       "      <td>SAEZ</td>\n",
       "      <td>large_airport</td>\n",
       "      <td>Minister Pistarini International Airport</td>\n",
       "      <td>-34.822200</td>\n",
       "      <td>-58.535800</td>\n",
       "      <td>67.0</td>\n",
       "      <td>SA</td>\n",
       "      <td>Argentina</td>\n",
       "      <td>AR</td>\n",
       "      <td>...</td>\n",
       "      <td>SAEZ</td>\n",
       "      <td>EZE</td>\n",
       "      <td>EZE</td>\n",
       "      <td>http://www.aa2000.com.ar/index.php</td>\n",
       "      <td>https://en.wikipedia.org/wiki/Ministro_Pistari...</td>\n",
       "      <td>BUE, Ezeiza</td>\n",
       "      <td>1275</td>\n",
       "      <td>2022-10-27T15:05:29+00:00</td>\n",
       "      <td>Bajo</td>\n",
       "      <td>Buenos Aires Province</td>\n",
       "    </tr>\n",
       "    <tr>\n",
       "      <th>1</th>\n",
       "      <td>5771</td>\n",
       "      <td>SABE</td>\n",
       "      <td>large_airport</td>\n",
       "      <td>Jorge Newbery Airpark</td>\n",
       "      <td>-34.559200</td>\n",
       "      <td>-58.415600</td>\n",
       "      <td>18.0</td>\n",
       "      <td>SA</td>\n",
       "      <td>Argentina</td>\n",
       "      <td>AR</td>\n",
       "      <td>...</td>\n",
       "      <td>SABE</td>\n",
       "      <td>AEP</td>\n",
       "      <td>AER</td>\n",
       "      <td>NaN</td>\n",
       "      <td>https://en.wikipedia.org/wiki/Aeroparque_Jorge...</td>\n",
       "      <td>NaN</td>\n",
       "      <td>1050</td>\n",
       "      <td>2021-10-07T15:55:36+00:00</td>\n",
       "      <td>Bajo</td>\n",
       "      <td>Buenos Aires, Ciudad Autónoma de</td>\n",
       "    </tr>\n",
       "    <tr>\n",
       "      <th>2</th>\n",
       "      <td>5835</td>\n",
       "      <td>SAWH</td>\n",
       "      <td>medium_airport</td>\n",
       "      <td>Malvinas Argentinas Airport</td>\n",
       "      <td>-54.843300</td>\n",
       "      <td>-68.295800</td>\n",
       "      <td>102.0</td>\n",
       "      <td>SA</td>\n",
       "      <td>Argentina</td>\n",
       "      <td>AR</td>\n",
       "      <td>...</td>\n",
       "      <td>SAWH</td>\n",
       "      <td>USH</td>\n",
       "      <td>USU</td>\n",
       "      <td>NaN</td>\n",
       "      <td>https://en.wikipedia.org/wiki/Ushuaia_Internat...</td>\n",
       "      <td>NaN</td>\n",
       "      <td>750</td>\n",
       "      <td>2021-10-07T11:21:29+00:00</td>\n",
       "      <td>Bajo</td>\n",
       "      <td>Tierra del Fuego, Antártida e Islas del Atlánt...</td>\n",
       "    </tr>\n",
       "    <tr>\n",
       "      <th>3</th>\n",
       "      <td>5831</td>\n",
       "      <td>SAWC</td>\n",
       "      <td>medium_airport</td>\n",
       "      <td>El Calafate - Commander Armando Tola Internati...</td>\n",
       "      <td>-50.280300</td>\n",
       "      <td>-72.053101</td>\n",
       "      <td>669.0</td>\n",
       "      <td>SA</td>\n",
       "      <td>Argentina</td>\n",
       "      <td>AR</td>\n",
       "      <td>...</td>\n",
       "      <td>SAWC</td>\n",
       "      <td>FTE</td>\n",
       "      <td>ECA</td>\n",
       "      <td>http://www.aeropuertoelcalafate.com/en/</td>\n",
       "      <td>https://en.wikipedia.org/wiki/Comandante_Arman...</td>\n",
       "      <td>NaN</td>\n",
       "      <td>500</td>\n",
       "      <td>2022-01-12T18:23:15+00:00</td>\n",
       "      <td>Medio</td>\n",
       "      <td>Santa Cruz Province</td>\n",
       "    </tr>\n",
       "    <tr>\n",
       "      <th>4</th>\n",
       "      <td>5806</td>\n",
       "      <td>SARI</td>\n",
       "      <td>medium_airport</td>\n",
       "      <td>Cataratas Del Iguazú International Airport</td>\n",
       "      <td>-25.737301</td>\n",
       "      <td>-54.473400</td>\n",
       "      <td>916.0</td>\n",
       "      <td>SA</td>\n",
       "      <td>Argentina</td>\n",
       "      <td>AR</td>\n",
       "      <td>...</td>\n",
       "      <td>SARI</td>\n",
       "      <td>IGR</td>\n",
       "      <td>IGU</td>\n",
       "      <td>http://www.aa2000.com.ar/iguazu</td>\n",
       "      <td>https://en.wikipedia.org/wiki/Cataratas_del_Ig...</td>\n",
       "      <td>Iguaçu</td>\n",
       "      <td>750</td>\n",
       "      <td>2018-09-13T12:34:47+00:00</td>\n",
       "      <td>Alto</td>\n",
       "      <td>Misiones Province</td>\n",
       "    </tr>\n",
       "    <tr>\n",
       "      <th>...</th>\n",
       "      <td>...</td>\n",
       "      <td>...</td>\n",
       "      <td>...</td>\n",
       "      <td>...</td>\n",
       "      <td>...</td>\n",
       "      <td>...</td>\n",
       "      <td>...</td>\n",
       "      <td>...</td>\n",
       "      <td>...</td>\n",
       "      <td>...</td>\n",
       "      <td>...</td>\n",
       "      <td>...</td>\n",
       "      <td>...</td>\n",
       "      <td>...</td>\n",
       "      <td>...</td>\n",
       "      <td>...</td>\n",
       "      <td>...</td>\n",
       "      <td>...</td>\n",
       "      <td>...</td>\n",
       "      <td>...</td>\n",
       "      <td>...</td>\n",
       "    </tr>\n",
       "    <tr>\n",
       "      <th>938</th>\n",
       "      <td>333824</td>\n",
       "      <td>AR-0654</td>\n",
       "      <td>closed</td>\n",
       "      <td>Agrodistribuidora Airstrip</td>\n",
       "      <td>-29.220089</td>\n",
       "      <td>-61.760298</td>\n",
       "      <td>220.0</td>\n",
       "      <td>SA</td>\n",
       "      <td>Argentina</td>\n",
       "      <td>AR</td>\n",
       "      <td>...</td>\n",
       "      <td>NaN</td>\n",
       "      <td>NaN</td>\n",
       "      <td>NaN</td>\n",
       "      <td>NaN</td>\n",
       "      <td>NaN</td>\n",
       "      <td>NaN</td>\n",
       "      <td>0</td>\n",
       "      <td>2020-04-12T12:30:36+00:00</td>\n",
       "      <td>Medio</td>\n",
       "      <td>Santa Fe Province</td>\n",
       "    </tr>\n",
       "    <tr>\n",
       "      <th>939</th>\n",
       "      <td>42893</td>\n",
       "      <td>AR-0471</td>\n",
       "      <td>heliport</td>\n",
       "      <td>Dayry Partners Americas Manufacturing Argentin...</td>\n",
       "      <td>-32.440000</td>\n",
       "      <td>-63.228900</td>\n",
       "      <td>639.0</td>\n",
       "      <td>SA</td>\n",
       "      <td>Argentina</td>\n",
       "      <td>AR</td>\n",
       "      <td>...</td>\n",
       "      <td>NaN</td>\n",
       "      <td>NaN</td>\n",
       "      <td>HNE</td>\n",
       "      <td>NaN</td>\n",
       "      <td>NaN</td>\n",
       "      <td>NaN</td>\n",
       "      <td>0</td>\n",
       "      <td>2009-10-20T11:13:21+00:00</td>\n",
       "      <td>Medio</td>\n",
       "      <td>Córdoba</td>\n",
       "    </tr>\n",
       "    <tr>\n",
       "      <th>940</th>\n",
       "      <td>333815</td>\n",
       "      <td>AR-0652</td>\n",
       "      <td>closed</td>\n",
       "      <td>Villa Unión Airport</td>\n",
       "      <td>-29.422180</td>\n",
       "      <td>-62.789526</td>\n",
       "      <td>248.0</td>\n",
       "      <td>SA</td>\n",
       "      <td>Argentina</td>\n",
       "      <td>AR</td>\n",
       "      <td>...</td>\n",
       "      <td>NaN</td>\n",
       "      <td>NaN</td>\n",
       "      <td>NaN</td>\n",
       "      <td>NaN</td>\n",
       "      <td>NaN</td>\n",
       "      <td>NaN</td>\n",
       "      <td>0</td>\n",
       "      <td>2020-04-10T04:01:54+00:00</td>\n",
       "      <td>Medio</td>\n",
       "      <td>Santiago del Estero Province</td>\n",
       "    </tr>\n",
       "    <tr>\n",
       "      <th>941</th>\n",
       "      <td>42903</td>\n",
       "      <td>AR-0481</td>\n",
       "      <td>heliport</td>\n",
       "      <td>Roca Heliport</td>\n",
       "      <td>-32.060000</td>\n",
       "      <td>-64.779400</td>\n",
       "      <td>3444.0</td>\n",
       "      <td>SA</td>\n",
       "      <td>Argentina</td>\n",
       "      <td>AR</td>\n",
       "      <td>...</td>\n",
       "      <td>NaN</td>\n",
       "      <td>NaN</td>\n",
       "      <td>HYC</td>\n",
       "      <td>NaN</td>\n",
       "      <td>NaN</td>\n",
       "      <td>NaN</td>\n",
       "      <td>0</td>\n",
       "      <td>2009-10-20T11:13:21+00:00</td>\n",
       "      <td>Alto</td>\n",
       "      <td>Córdoba Province</td>\n",
       "    </tr>\n",
       "    <tr>\n",
       "      <th>942</th>\n",
       "      <td>42905</td>\n",
       "      <td>AR-0483</td>\n",
       "      <td>heliport</td>\n",
       "      <td>Austral S.A. Heliport</td>\n",
       "      <td>-52.738600</td>\n",
       "      <td>-68.572500</td>\n",
       "      <td>290.0</td>\n",
       "      <td>SA</td>\n",
       "      <td>Argentina</td>\n",
       "      <td>AR</td>\n",
       "      <td>...</td>\n",
       "      <td>NaN</td>\n",
       "      <td>NaN</td>\n",
       "      <td>HCP</td>\n",
       "      <td>NaN</td>\n",
       "      <td>NaN</td>\n",
       "      <td>NaN</td>\n",
       "      <td>0</td>\n",
       "      <td>2021-10-07T11:46:03+00:00</td>\n",
       "      <td>Medio</td>\n",
       "      <td>Tierra del Fuego Province</td>\n",
       "    </tr>\n",
       "  </tbody>\n",
       "</table>\n",
       "<p>943 rows × 25 columns</p>\n",
       "</div>"
      ],
      "text/plain": [
       "         id    ident            type  \\\n",
       "0      5781     SAEZ   large_airport   \n",
       "1      5771     SABE   large_airport   \n",
       "2      5835     SAWH  medium_airport   \n",
       "3      5831     SAWC  medium_airport   \n",
       "4      5806     SARI  medium_airport   \n",
       "..      ...      ...             ...   \n",
       "938  333824  AR-0654          closed   \n",
       "939   42893  AR-0471        heliport   \n",
       "940  333815  AR-0652          closed   \n",
       "941   42903  AR-0481        heliport   \n",
       "942   42905  AR-0483        heliport   \n",
       "\n",
       "                                                  name  latitude_deg  \\\n",
       "0             Minister Pistarini International Airport    -34.822200   \n",
       "1                                Jorge Newbery Airpark    -34.559200   \n",
       "2                          Malvinas Argentinas Airport    -54.843300   \n",
       "3    El Calafate - Commander Armando Tola Internati...    -50.280300   \n",
       "4           Cataratas Del Iguazú International Airport    -25.737301   \n",
       "..                                                 ...           ...   \n",
       "938                         Agrodistribuidora Airstrip    -29.220089   \n",
       "939  Dayry Partners Americas Manufacturing Argentin...    -32.440000   \n",
       "940                                Villa Unión Airport    -29.422180   \n",
       "941                                      Roca Heliport    -32.060000   \n",
       "942                              Austral S.A. Heliport    -52.738600   \n",
       "\n",
       "     longitude_deg  elevation_ft continent country_name iso_country  ...  \\\n",
       "0       -58.535800          67.0        SA    Argentina          AR  ...   \n",
       "1       -58.415600          18.0        SA    Argentina          AR  ...   \n",
       "2       -68.295800         102.0        SA    Argentina          AR  ...   \n",
       "3       -72.053101         669.0        SA    Argentina          AR  ...   \n",
       "4       -54.473400         916.0        SA    Argentina          AR  ...   \n",
       "..             ...           ...       ...          ...         ...  ...   \n",
       "938     -61.760298         220.0        SA    Argentina          AR  ...   \n",
       "939     -63.228900         639.0        SA    Argentina          AR  ...   \n",
       "940     -62.789526         248.0        SA    Argentina          AR  ...   \n",
       "941     -64.779400        3444.0        SA    Argentina          AR  ...   \n",
       "942     -68.572500         290.0        SA    Argentina          AR  ...   \n",
       "\n",
       "    gps_code iata_code local_code                                home_link  \\\n",
       "0       SAEZ       EZE        EZE       http://www.aa2000.com.ar/index.php   \n",
       "1       SABE       AEP        AER                                      NaN   \n",
       "2       SAWH       USH        USU                                      NaN   \n",
       "3       SAWC       FTE        ECA  http://www.aeropuertoelcalafate.com/en/   \n",
       "4       SARI       IGR        IGU          http://www.aa2000.com.ar/iguazu   \n",
       "..       ...       ...        ...                                      ...   \n",
       "938      NaN       NaN        NaN                                      NaN   \n",
       "939      NaN       NaN        HNE                                      NaN   \n",
       "940      NaN       NaN        NaN                                      NaN   \n",
       "941      NaN       NaN        HYC                                      NaN   \n",
       "942      NaN       NaN        HCP                                      NaN   \n",
       "\n",
       "                                        wikipedia_link     keywords score  \\\n",
       "0    https://en.wikipedia.org/wiki/Ministro_Pistari...  BUE, Ezeiza  1275   \n",
       "1    https://en.wikipedia.org/wiki/Aeroparque_Jorge...          NaN  1050   \n",
       "2    https://en.wikipedia.org/wiki/Ushuaia_Internat...          NaN   750   \n",
       "3    https://en.wikipedia.org/wiki/Comandante_Arman...          NaN   500   \n",
       "4    https://en.wikipedia.org/wiki/Cataratas_del_Ig...       Iguaçu   750   \n",
       "..                                                 ...          ...   ...   \n",
       "938                                                NaN          NaN     0   \n",
       "939                                                NaN          NaN     0   \n",
       "940                                                NaN          NaN     0   \n",
       "941                                                NaN          NaN     0   \n",
       "942                                                NaN          NaN     0   \n",
       "\n",
       "                  last_updated elevation_name  \\\n",
       "0    2022-10-27T15:05:29+00:00           Bajo   \n",
       "1    2021-10-07T15:55:36+00:00           Bajo   \n",
       "2    2021-10-07T11:21:29+00:00           Bajo   \n",
       "3    2022-01-12T18:23:15+00:00          Medio   \n",
       "4    2018-09-13T12:34:47+00:00           Alto   \n",
       "..                         ...            ...   \n",
       "938  2020-04-12T12:30:36+00:00          Medio   \n",
       "939  2009-10-20T11:13:21+00:00          Medio   \n",
       "940  2020-04-10T04:01:54+00:00          Medio   \n",
       "941  2009-10-20T11:13:21+00:00           Alto   \n",
       "942  2021-10-07T11:46:03+00:00          Medio   \n",
       "\n",
       "                                             prov_name  \n",
       "0                                Buenos Aires Province  \n",
       "1                     Buenos Aires, Ciudad Autónoma de  \n",
       "2    Tierra del Fuego, Antártida e Islas del Atlánt...  \n",
       "3                                  Santa Cruz Province  \n",
       "4                                    Misiones Province  \n",
       "..                                                 ...  \n",
       "938                                  Santa Fe Province  \n",
       "939                                            Córdoba  \n",
       "940                       Santiago del Estero Province  \n",
       "941                                   Córdoba Province  \n",
       "942                          Tierra del Fuego Province  \n",
       "\n",
       "[943 rows x 25 columns]"
      ]
     },
     "execution_count": 4,
     "metadata": {},
     "output_type": "execute_result"
    }
   ],
   "source": [
    "df_airports"
   ]
  },
  {
   "cell_type": "code",
   "execution_count": null,
   "id": "3a5b7d8b-04e6-40aa-9f6a-1b7c4575ab4e",
   "metadata": {},
   "outputs": [],
   "source": []
  },
  {
   "cell_type": "markdown",
   "id": "5cfd18c3-a439-47e7-8ac9-05484082a4a0",
   "metadata": {
    "editable": true,
    "slideshow": {
     "slide_type": "subslide"
    },
    "tags": []
   },
   "source": [
    "¿Qué tipo de datos es la variable utilizada?"
   ]
  },
  {
   "cell_type": "code",
   "execution_count": 8,
   "id": "f1d23931-9cc6-4d7a-9a1c-9e4aea6d6500",
   "metadata": {
    "editable": true,
    "slideshow": {
     "slide_type": "fragment"
    },
    "tags": []
   },
   "outputs": [
    {
     "data": {
      "text/plain": [
       "pandas.core.frame.DataFrame"
      ]
     },
     "execution_count": 8,
     "metadata": {},
     "output_type": "execute_result"
    }
   ],
   "source": [
    "type(df_airports)"
   ]
  },
  {
   "cell_type": "code",
   "execution_count": null,
   "id": "c7ba3254-5e06-459a-a8ac-782406a515c0",
   "metadata": {},
   "outputs": [],
   "source": []
  },
  {
   "cell_type": "markdown",
   "id": "defeb1a3-44cb-4029-be71-4982799574f3",
   "metadata": {
    "editable": true,
    "slideshow": {
     "slide_type": "subslide"
    },
    "tags": []
   },
   "source": [
    "### Las principales [estructuras de datos](https://pandas.pydata.org/docs/getting_started/intro_tutorials/01_table_oriented.html) en Pandas \n",
    "* **Series**: es un arreglo unidimensional de datos etiquetados.\n",
    "* **DataFrame**: es una estructura de datos tabular bidimensional compuesta por filas y columnas."
   ]
  },
  {
   "cell_type": "markdown",
   "id": "8eeaf5a5-85e3-46a0-a9c0-cf8782d66cae",
   "metadata": {
    "editable": true,
    "slideshow": {
     "slide_type": "fragment"
    },
    "tags": []
   },
   "source": [
    "<div style=\"display: flex;\">\n",
    "    <div style=\"flex: 50%; padding: 5px;\">\n",
    "        <img src=\"imagenes/dataframe.png\" style=\"width: 70%;\">\n",
    "    </div>\n",
    "    <div style=\"flex: 50%; padding: 5px;\">\n",
    "        <img src=\"imagenes/series.png\" style=\"width: 70%;\">\n",
    "    </div>\n",
    "</div>\n"
   ]
  },
  {
   "cell_type": "markdown",
   "id": "7b0fb3ec-2733-4650-b2a8-ba28be88faa1",
   "metadata": {
    "editable": true,
    "slideshow": {
     "slide_type": "subslide"
    },
    "tags": []
   },
   "source": [
    "### Tipo de archivos y formas de abrir:\n",
    "* **pd.read_csv()**:  para leer archivos CSV (Comma Separated Values).\n",
    "* **pd.read_excel()**:  para leer archivos de Excel.\n",
    "* **pd.read_json()**:  para leer archivos JSON.\n",
    "* **pd.read_html()**:  para leer tablas HTML de una página web.\n",
    "* **pd.read_sql()**:  para leer datos de una base de datos SQL.\n",
    "* **pd.read_hdf()**:  para leer archivos HDF5 (Hierarchical Data Format version 5).\n",
    "* [Muchos mas](https://pandas.pydata.org/docs/user_guide/io.html)"
   ]
  },
  {
   "cell_type": "markdown",
   "id": "6c05a6bb-0948-46e9-bafd-2d689a385fc0",
   "metadata": {
    "editable": true,
    "slideshow": {
     "slide_type": "slide"
    },
    "tags": []
   },
   "source": [
    "### 📌 Conociendo nuestros datos"
   ]
  },
  {
   "cell_type": "markdown",
   "id": "1ae38e5c-3723-4911-9e0b-1642647dd365",
   "metadata": {
    "editable": true,
    "slideshow": {
     "slide_type": "subslide"
    },
    "tags": []
   },
   "source": [
    "Ver los primeros o últimos\n",
    "```python\n",
    "df.head(number)\n",
    "df.tail(number)\n",
    "```"
   ]
  },
  {
   "cell_type": "code",
   "execution_count": 10,
   "id": "ec3f4dde-4d91-4b04-9836-19bfcefb00f9",
   "metadata": {
    "editable": true,
    "slideshow": {
     "slide_type": "fragment"
    },
    "tags": []
   },
   "outputs": [
    {
     "data": {
      "text/html": [
       "<div>\n",
       "<style scoped>\n",
       "    .dataframe tbody tr th:only-of-type {\n",
       "        vertical-align: middle;\n",
       "    }\n",
       "\n",
       "    .dataframe tbody tr th {\n",
       "        vertical-align: top;\n",
       "    }\n",
       "\n",
       "    .dataframe thead th {\n",
       "        text-align: right;\n",
       "    }\n",
       "</style>\n",
       "<table border=\"1\" class=\"dataframe\">\n",
       "  <thead>\n",
       "    <tr style=\"text-align: right;\">\n",
       "      <th></th>\n",
       "      <th>id</th>\n",
       "      <th>ident</th>\n",
       "      <th>type</th>\n",
       "      <th>name</th>\n",
       "      <th>latitude_deg</th>\n",
       "      <th>longitude_deg</th>\n",
       "      <th>elevation_ft</th>\n",
       "      <th>continent</th>\n",
       "      <th>country_name</th>\n",
       "      <th>iso_country</th>\n",
       "      <th>...</th>\n",
       "      <th>gps_code</th>\n",
       "      <th>iata_code</th>\n",
       "      <th>local_code</th>\n",
       "      <th>home_link</th>\n",
       "      <th>wikipedia_link</th>\n",
       "      <th>keywords</th>\n",
       "      <th>score</th>\n",
       "      <th>last_updated</th>\n",
       "      <th>elevation_name</th>\n",
       "      <th>prov_name</th>\n",
       "    </tr>\n",
       "  </thead>\n",
       "  <tbody>\n",
       "    <tr>\n",
       "      <th>938</th>\n",
       "      <td>333824</td>\n",
       "      <td>AR-0654</td>\n",
       "      <td>closed</td>\n",
       "      <td>Agrodistribuidora Airstrip</td>\n",
       "      <td>-29.220089</td>\n",
       "      <td>-61.760298</td>\n",
       "      <td>220.0</td>\n",
       "      <td>SA</td>\n",
       "      <td>Argentina</td>\n",
       "      <td>AR</td>\n",
       "      <td>...</td>\n",
       "      <td>NaN</td>\n",
       "      <td>NaN</td>\n",
       "      <td>NaN</td>\n",
       "      <td>NaN</td>\n",
       "      <td>NaN</td>\n",
       "      <td>NaN</td>\n",
       "      <td>0</td>\n",
       "      <td>2020-04-12T12:30:36+00:00</td>\n",
       "      <td>Medio</td>\n",
       "      <td>Santa Fe Province</td>\n",
       "    </tr>\n",
       "    <tr>\n",
       "      <th>939</th>\n",
       "      <td>42893</td>\n",
       "      <td>AR-0471</td>\n",
       "      <td>heliport</td>\n",
       "      <td>Dayry Partners Americas Manufacturing Argentin...</td>\n",
       "      <td>-32.440000</td>\n",
       "      <td>-63.228900</td>\n",
       "      <td>639.0</td>\n",
       "      <td>SA</td>\n",
       "      <td>Argentina</td>\n",
       "      <td>AR</td>\n",
       "      <td>...</td>\n",
       "      <td>NaN</td>\n",
       "      <td>NaN</td>\n",
       "      <td>HNE</td>\n",
       "      <td>NaN</td>\n",
       "      <td>NaN</td>\n",
       "      <td>NaN</td>\n",
       "      <td>0</td>\n",
       "      <td>2009-10-20T11:13:21+00:00</td>\n",
       "      <td>Medio</td>\n",
       "      <td>Córdoba</td>\n",
       "    </tr>\n",
       "    <tr>\n",
       "      <th>940</th>\n",
       "      <td>333815</td>\n",
       "      <td>AR-0652</td>\n",
       "      <td>closed</td>\n",
       "      <td>Villa Unión Airport</td>\n",
       "      <td>-29.422180</td>\n",
       "      <td>-62.789526</td>\n",
       "      <td>248.0</td>\n",
       "      <td>SA</td>\n",
       "      <td>Argentina</td>\n",
       "      <td>AR</td>\n",
       "      <td>...</td>\n",
       "      <td>NaN</td>\n",
       "      <td>NaN</td>\n",
       "      <td>NaN</td>\n",
       "      <td>NaN</td>\n",
       "      <td>NaN</td>\n",
       "      <td>NaN</td>\n",
       "      <td>0</td>\n",
       "      <td>2020-04-10T04:01:54+00:00</td>\n",
       "      <td>Medio</td>\n",
       "      <td>Santiago del Estero Province</td>\n",
       "    </tr>\n",
       "    <tr>\n",
       "      <th>941</th>\n",
       "      <td>42903</td>\n",
       "      <td>AR-0481</td>\n",
       "      <td>heliport</td>\n",
       "      <td>Roca Heliport</td>\n",
       "      <td>-32.060000</td>\n",
       "      <td>-64.779400</td>\n",
       "      <td>3444.0</td>\n",
       "      <td>SA</td>\n",
       "      <td>Argentina</td>\n",
       "      <td>AR</td>\n",
       "      <td>...</td>\n",
       "      <td>NaN</td>\n",
       "      <td>NaN</td>\n",
       "      <td>HYC</td>\n",
       "      <td>NaN</td>\n",
       "      <td>NaN</td>\n",
       "      <td>NaN</td>\n",
       "      <td>0</td>\n",
       "      <td>2009-10-20T11:13:21+00:00</td>\n",
       "      <td>Alto</td>\n",
       "      <td>Córdoba Province</td>\n",
       "    </tr>\n",
       "    <tr>\n",
       "      <th>942</th>\n",
       "      <td>42905</td>\n",
       "      <td>AR-0483</td>\n",
       "      <td>heliport</td>\n",
       "      <td>Austral S.A. Heliport</td>\n",
       "      <td>-52.738600</td>\n",
       "      <td>-68.572500</td>\n",
       "      <td>290.0</td>\n",
       "      <td>SA</td>\n",
       "      <td>Argentina</td>\n",
       "      <td>AR</td>\n",
       "      <td>...</td>\n",
       "      <td>NaN</td>\n",
       "      <td>NaN</td>\n",
       "      <td>HCP</td>\n",
       "      <td>NaN</td>\n",
       "      <td>NaN</td>\n",
       "      <td>NaN</td>\n",
       "      <td>0</td>\n",
       "      <td>2021-10-07T11:46:03+00:00</td>\n",
       "      <td>Medio</td>\n",
       "      <td>Tierra del Fuego Province</td>\n",
       "    </tr>\n",
       "  </tbody>\n",
       "</table>\n",
       "<p>5 rows × 25 columns</p>\n",
       "</div>"
      ],
      "text/plain": [
       "         id    ident      type  \\\n",
       "938  333824  AR-0654    closed   \n",
       "939   42893  AR-0471  heliport   \n",
       "940  333815  AR-0652    closed   \n",
       "941   42903  AR-0481  heliport   \n",
       "942   42905  AR-0483  heliport   \n",
       "\n",
       "                                                  name  latitude_deg  \\\n",
       "938                         Agrodistribuidora Airstrip    -29.220089   \n",
       "939  Dayry Partners Americas Manufacturing Argentin...    -32.440000   \n",
       "940                                Villa Unión Airport    -29.422180   \n",
       "941                                      Roca Heliport    -32.060000   \n",
       "942                              Austral S.A. Heliport    -52.738600   \n",
       "\n",
       "     longitude_deg  elevation_ft continent country_name iso_country  ...  \\\n",
       "938     -61.760298         220.0        SA    Argentina          AR  ...   \n",
       "939     -63.228900         639.0        SA    Argentina          AR  ...   \n",
       "940     -62.789526         248.0        SA    Argentina          AR  ...   \n",
       "941     -64.779400        3444.0        SA    Argentina          AR  ...   \n",
       "942     -68.572500         290.0        SA    Argentina          AR  ...   \n",
       "\n",
       "    gps_code iata_code local_code home_link  wikipedia_link keywords score  \\\n",
       "938      NaN       NaN        NaN       NaN             NaN      NaN     0   \n",
       "939      NaN       NaN        HNE       NaN             NaN      NaN     0   \n",
       "940      NaN       NaN        NaN       NaN             NaN      NaN     0   \n",
       "941      NaN       NaN        HYC       NaN             NaN      NaN     0   \n",
       "942      NaN       NaN        HCP       NaN             NaN      NaN     0   \n",
       "\n",
       "                  last_updated elevation_name                     prov_name  \n",
       "938  2020-04-12T12:30:36+00:00          Medio             Santa Fe Province  \n",
       "939  2009-10-20T11:13:21+00:00          Medio                       Córdoba  \n",
       "940  2020-04-10T04:01:54+00:00          Medio  Santiago del Estero Province  \n",
       "941  2009-10-20T11:13:21+00:00           Alto              Córdoba Province  \n",
       "942  2021-10-07T11:46:03+00:00          Medio     Tierra del Fuego Province  \n",
       "\n",
       "[5 rows x 25 columns]"
      ]
     },
     "execution_count": 10,
     "metadata": {},
     "output_type": "execute_result"
    }
   ],
   "source": [
    "df_airports.tail(5)"
   ]
  },
  {
   "cell_type": "markdown",
   "id": "9a634104-8cf3-434d-9c22-240301ad0f1f",
   "metadata": {
    "editable": true,
    "slideshow": {
     "slide_type": "subslide"
    },
    "tags": []
   },
   "source": [
    "#### Filas y columnas\n"
   ]
  },
  {
   "cell_type": "code",
   "execution_count": 11,
   "id": "4b9a3432-ee43-46e3-939a-73e2c38a2fea",
   "metadata": {
    "editable": true,
    "slideshow": {
     "slide_type": "fragment"
    },
    "tags": []
   },
   "outputs": [
    {
     "data": {
      "text/plain": [
       "(943, 25)"
      ]
     },
     "execution_count": 11,
     "metadata": {},
     "output_type": "execute_result"
    }
   ],
   "source": [
    "df_airports.shape"
   ]
  },
  {
   "cell_type": "markdown",
   "id": "bef356c0-03d6-4e64-9975-965aa21cdaf6",
   "metadata": {
    "editable": true,
    "slideshow": {
     "slide_type": "subslide"
    },
    "tags": []
   },
   "source": [
    "#### Nombres de las columnas\n",
    "Si trabajamos con un archivo csv, ¿en dónde se encuentran los nombres de las columnas?"
   ]
  },
  {
   "cell_type": "code",
   "execution_count": 12,
   "id": "db21bb97-265c-42fc-b3c6-1332b9169293",
   "metadata": {
    "editable": true,
    "slideshow": {
     "slide_type": "fragment"
    },
    "tags": []
   },
   "outputs": [
    {
     "data": {
      "text/plain": [
       "Index(['id', 'ident', 'type', 'name', 'latitude_deg', 'longitude_deg',\n",
       "       'elevation_ft', 'continent', 'country_name', 'iso_country',\n",
       "       'region_name', 'iso_region', 'local_region', 'municipality',\n",
       "       'scheduled_service', 'gps_code', 'iata_code', 'local_code', 'home_link',\n",
       "       'wikipedia_link', 'keywords', 'score', 'last_updated', 'elevation_name',\n",
       "       'prov_name'],\n",
       "      dtype='object')"
      ]
     },
     "execution_count": 12,
     "metadata": {},
     "output_type": "execute_result"
    }
   ],
   "source": [
    "df_airports.columns"
   ]
  },
  {
   "cell_type": "markdown",
   "id": "dbc79e69-8ba5-4c20-95f6-d8228c471766",
   "metadata": {
    "editable": true,
    "slideshow": {
     "slide_type": "subslide"
    },
    "tags": []
   },
   "source": [
    "#### Información de nuestros datos\n",
    "* ¿Qué otra información nos puede servir, por ejemplo si vamos a buscar datos en la columna **municipality** del archivo de aeropuertos?\n",
    "* ¿Recuerdan que problemas tenía esta columna?"
   ]
  },
  {
   "cell_type": "code",
   "execution_count": 13,
   "id": "871a5fae-96bc-47c7-927b-c94f866d2ebe",
   "metadata": {
    "editable": true,
    "slideshow": {
     "slide_type": "fragment"
    },
    "tags": []
   },
   "outputs": [
    {
     "name": "stdout",
     "output_type": "stream",
     "text": [
      "<class 'pandas.core.frame.DataFrame'>\n",
      "RangeIndex: 943 entries, 0 to 942\n",
      "Data columns (total 25 columns):\n",
      " #   Column             Non-Null Count  Dtype  \n",
      "---  ------             --------------  -----  \n",
      " 0   id                 943 non-null    int64  \n",
      " 1   ident              943 non-null    object \n",
      " 2   type               943 non-null    object \n",
      " 3   name               943 non-null    object \n",
      " 4   latitude_deg       943 non-null    float64\n",
      " 5   longitude_deg      943 non-null    float64\n",
      " 6   elevation_ft       908 non-null    float64\n",
      " 7   continent          943 non-null    object \n",
      " 8   country_name       943 non-null    object \n",
      " 9   iso_country        943 non-null    object \n",
      " 10  region_name        943 non-null    object \n",
      " 11  iso_region         943 non-null    object \n",
      " 12  local_region       943 non-null    object \n",
      " 13  municipality       927 non-null    object \n",
      " 14  scheduled_service  943 non-null    int64  \n",
      " 15  gps_code           225 non-null    object \n",
      " 16  iata_code          103 non-null    object \n",
      " 17  local_code         761 non-null    object \n",
      " 18  home_link          14 non-null     object \n",
      " 19  wikipedia_link     80 non-null     object \n",
      " 20  keywords           108 non-null    object \n",
      " 21  score              943 non-null    int64  \n",
      " 22  last_updated       943 non-null    object \n",
      " 23  elevation_name     943 non-null    object \n",
      " 24  prov_name          943 non-null    object \n",
      "dtypes: float64(3), int64(3), object(19)\n",
      "memory usage: 184.3+ KB\n"
     ]
    }
   ],
   "source": [
    "df_airports.info()"
   ]
  },
  {
   "cell_type": "markdown",
   "id": "06977fda-1c37-4e24-b738-6ab0e31fb752",
   "metadata": {
    "editable": true,
    "slideshow": {
     "slide_type": "subslide"
    },
    "tags": []
   },
   "source": [
    "¿Cómo podemos obtener los valores de algunos cálculos estadísticos básicos, sobre las columnas con datos numéricos?"
   ]
  },
  {
   "cell_type": "code",
   "execution_count": 14,
   "id": "b7901eba-ee5e-4b67-ab24-7f7e3764b17a",
   "metadata": {
    "editable": true,
    "slideshow": {
     "slide_type": "fragment"
    },
    "tags": []
   },
   "outputs": [
    {
     "data": {
      "text/html": [
       "<div>\n",
       "<style scoped>\n",
       "    .dataframe tbody tr th:only-of-type {\n",
       "        vertical-align: middle;\n",
       "    }\n",
       "\n",
       "    .dataframe tbody tr th {\n",
       "        vertical-align: top;\n",
       "    }\n",
       "\n",
       "    .dataframe thead th {\n",
       "        text-align: right;\n",
       "    }\n",
       "</style>\n",
       "<table border=\"1\" class=\"dataframe\">\n",
       "  <thead>\n",
       "    <tr style=\"text-align: right;\">\n",
       "      <th></th>\n",
       "      <th>id</th>\n",
       "      <th>latitude_deg</th>\n",
       "      <th>longitude_deg</th>\n",
       "      <th>elevation_ft</th>\n",
       "      <th>scheduled_service</th>\n",
       "      <th>score</th>\n",
       "    </tr>\n",
       "  </thead>\n",
       "  <tbody>\n",
       "    <tr>\n",
       "      <th>count</th>\n",
       "      <td>943.000000</td>\n",
       "      <td>943.000000</td>\n",
       "      <td>943.000000</td>\n",
       "      <td>908.000000</td>\n",
       "      <td>943.000000</td>\n",
       "      <td>943.000000</td>\n",
       "    </tr>\n",
       "    <tr>\n",
       "      <th>mean</th>\n",
       "      <td>111712.347826</td>\n",
       "      <td>-35.353376</td>\n",
       "      <td>-62.841775</td>\n",
       "      <td>801.696035</td>\n",
       "      <td>0.057264</td>\n",
       "      <td>84.835631</td>\n",
       "    </tr>\n",
       "    <tr>\n",
       "      <th>std</th>\n",
       "      <td>132693.926971</td>\n",
       "      <td>6.767282</td>\n",
       "      <td>4.577427</td>\n",
       "      <td>1296.457558</td>\n",
       "      <td>0.232470</td>\n",
       "      <td>156.737910</td>\n",
       "    </tr>\n",
       "    <tr>\n",
       "      <th>min</th>\n",
       "      <td>13.000000</td>\n",
       "      <td>-54.843300</td>\n",
       "      <td>-72.885820</td>\n",
       "      <td>6.000000</td>\n",
       "      <td>0.000000</td>\n",
       "      <td>0.000000</td>\n",
       "    </tr>\n",
       "    <tr>\n",
       "      <th>25%</th>\n",
       "      <td>38751.500000</td>\n",
       "      <td>-38.005134</td>\n",
       "      <td>-65.490899</td>\n",
       "      <td>131.750000</td>\n",
       "      <td>0.000000</td>\n",
       "      <td>50.000000</td>\n",
       "    </tr>\n",
       "    <tr>\n",
       "      <th>50%</th>\n",
       "      <td>38992.000000</td>\n",
       "      <td>-34.443300</td>\n",
       "      <td>-62.169300</td>\n",
       "      <td>316.000000</td>\n",
       "      <td>0.000000</td>\n",
       "      <td>50.000000</td>\n",
       "    </tr>\n",
       "    <tr>\n",
       "      <th>75%</th>\n",
       "      <td>313935.000000</td>\n",
       "      <td>-31.480550</td>\n",
       "      <td>-59.445800</td>\n",
       "      <td>903.000000</td>\n",
       "      <td>0.000000</td>\n",
       "      <td>50.000000</td>\n",
       "    </tr>\n",
       "    <tr>\n",
       "      <th>max</th>\n",
       "      <td>523295.000000</td>\n",
       "      <td>0.001300</td>\n",
       "      <td>-0.001300</td>\n",
       "      <td>13000.000000</td>\n",
       "      <td>1.000000</td>\n",
       "      <td>1275.000000</td>\n",
       "    </tr>\n",
       "  </tbody>\n",
       "</table>\n",
       "</div>"
      ],
      "text/plain": [
       "                  id  latitude_deg  longitude_deg  elevation_ft  \\\n",
       "count     943.000000    943.000000     943.000000    908.000000   \n",
       "mean   111712.347826    -35.353376     -62.841775    801.696035   \n",
       "std    132693.926971      6.767282       4.577427   1296.457558   \n",
       "min        13.000000    -54.843300     -72.885820      6.000000   \n",
       "25%     38751.500000    -38.005134     -65.490899    131.750000   \n",
       "50%     38992.000000    -34.443300     -62.169300    316.000000   \n",
       "75%    313935.000000    -31.480550     -59.445800    903.000000   \n",
       "max    523295.000000      0.001300      -0.001300  13000.000000   \n",
       "\n",
       "       scheduled_service        score  \n",
       "count         943.000000   943.000000  \n",
       "mean            0.057264    84.835631  \n",
       "std             0.232470   156.737910  \n",
       "min             0.000000     0.000000  \n",
       "25%             0.000000    50.000000  \n",
       "50%             0.000000    50.000000  \n",
       "75%             0.000000    50.000000  \n",
       "max             1.000000  1275.000000  "
      ]
     },
     "execution_count": 14,
     "metadata": {},
     "output_type": "execute_result"
    }
   ],
   "source": [
    "df_airports.describe()"
   ]
  },
  {
   "cell_type": "markdown",
   "id": "364e72d0-3f44-42e6-9a63-9d7d94797d6e",
   "metadata": {
    "editable": true,
    "slideshow": {
     "slide_type": "fragment"
    },
    "tags": []
   },
   "source": [
    "¿Qué es cada cálculo?\n",
    "* cantidad de valores no nulos\n",
    "* mínimo\n",
    "* media\n",
    "* desviación estándar: cuánto varían los valores en relación con la media.\n",
    "* máximo\n",
    "* 25%(primer cuartil): indica el valor por debajo del cual cae el 25% de los datos.\n",
    "* 50%(mediana): es el valor que divide la serie en dos mitades iguales.\n",
    "* 75%(tercer cuartil): indica el valor por debajo del cual cae el 75% de los datos."
   ]
  },
  {
   "cell_type": "code",
   "execution_count": 15,
   "id": "8ba373dd-322e-4430-96a2-a4b75cf2b103",
   "metadata": {
    "editable": true,
    "slideshow": {
     "slide_type": "subslide"
    },
    "tags": []
   },
   "outputs": [
    {
     "data": {
      "text/plain": [
       "id                     int64\n",
       "ident                 object\n",
       "type                  object\n",
       "name                  object\n",
       "latitude_deg         float64\n",
       "longitude_deg        float64\n",
       "elevation_ft         float64\n",
       "continent             object\n",
       "country_name          object\n",
       "iso_country           object\n",
       "region_name           object\n",
       "iso_region            object\n",
       "local_region          object\n",
       "municipality          object\n",
       "scheduled_service      int64\n",
       "gps_code              object\n",
       "iata_code             object\n",
       "local_code            object\n",
       "home_link             object\n",
       "wikipedia_link        object\n",
       "keywords              object\n",
       "score                  int64\n",
       "last_updated          object\n",
       "elevation_name        object\n",
       "prov_name             object\n",
       "dtype: object"
      ]
     },
     "execution_count": 15,
     "metadata": {},
     "output_type": "execute_result"
    }
   ],
   "source": [
    "df_airports.dtypes"
   ]
  },
  {
   "cell_type": "markdown",
   "id": "84c1b1d1-01a3-4f00-9d1d-72ffc21e4cd8",
   "metadata": {
    "editable": true,
    "slideshow": {
     "slide_type": "subslide"
    },
    "tags": []
   },
   "source": [
    "* **info**: cantidad de valores nulos por columnas y tipo de datos que pandas le asignó.\n",
    "* **describe**: cálculos sobre las columnas que contienen datos numéricos.\n",
    "* **dtypes**: solamente los tipos de datos asignados por pandas.\n",
    "* [Info tipos de datos](https://pandas.pydata.org/pandas-docs/stable/user_guide/basics.html#basics-dtypes)"
   ]
  },
  {
   "cell_type": "markdown",
   "id": "322ce5aa-b163-4625-811d-48a6ac684ade",
   "metadata": {
    "editable": true,
    "slideshow": {
     "slide_type": "subslide"
    },
    "tags": []
   },
   "source": [
    "¿Cuánta memoria estamos usando con nuestro dataset?"
   ]
  },
  {
   "cell_type": "code",
   "execution_count": 16,
   "id": "028609fa-5731-4a33-a04f-3ce387d4d902",
   "metadata": {
    "editable": true,
    "slideshow": {
     "slide_type": "fragment"
    },
    "tags": []
   },
   "outputs": [
    {
     "name": "stdout",
     "output_type": "stream",
     "text": [
      "<class 'pandas.core.frame.DataFrame'>\n",
      "RangeIndex: 943 entries, 0 to 942\n",
      "Columns: 25 entries, id to prov_name\n",
      "dtypes: float64(3), int64(3), object(19)\n",
      "memory usage: 1.1 MB\n"
     ]
    }
   ],
   "source": [
    "df_airports.info(verbose=False, memory_usage='deep')"
   ]
  },
  {
   "cell_type": "markdown",
   "id": "70d6002c-36e8-4260-af80-aac7c13949b7",
   "metadata": {
    "editable": true,
    "slideshow": {
     "slide_type": "subslide"
    },
    "tags": []
   },
   "source": [
    "#### Quiero saber la cantidad de aeropuertos que hay de cada tipo"
   ]
  },
  {
   "cell_type": "markdown",
   "id": "ec3e6a54-c84f-46cc-beb5-98b90f1f7c7b",
   "metadata": {
    "editable": true,
    "slideshow": {
     "slide_type": "fragment"
    },
    "tags": []
   },
   "source": [
    "#### 1. Consulto los nombres de las columnas para saber donde está esa información"
   ]
  },
  {
   "cell_type": "code",
   "execution_count": 17,
   "id": "d0f0705e-79b3-45a1-8818-70bef1e8b455",
   "metadata": {
    "editable": true,
    "slideshow": {
     "slide_type": "fragment"
    },
    "tags": []
   },
   "outputs": [
    {
     "data": {
      "text/plain": [
       "Index(['id', 'ident', 'type', 'name', 'latitude_deg', 'longitude_deg',\n",
       "       'elevation_ft', 'continent', 'country_name', 'iso_country',\n",
       "       'region_name', 'iso_region', 'local_region', 'municipality',\n",
       "       'scheduled_service', 'gps_code', 'iata_code', 'local_code', 'home_link',\n",
       "       'wikipedia_link', 'keywords', 'score', 'last_updated', 'elevation_name',\n",
       "       'prov_name'],\n",
       "      dtype='object')"
      ]
     },
     "execution_count": 17,
     "metadata": {},
     "output_type": "execute_result"
    }
   ],
   "source": [
    "df_airports.columns "
   ]
  },
  {
   "cell_type": "markdown",
   "id": "438189f6-8ae0-4fbc-8a3b-1ec7e94a9aa4",
   "metadata": {
    "editable": true,
    "slideshow": {
     "slide_type": "subslide"
    },
    "tags": []
   },
   "source": [
    "#### 2. Consulto cuáles son los valores únicos de la columna **type**\n"
   ]
  },
  {
   "cell_type": "code",
   "execution_count": 18,
   "id": "20599c9a-6320-49f3-b433-f0562e41ed6e",
   "metadata": {
    "editable": true,
    "slideshow": {
     "slide_type": "fragment"
    },
    "tags": []
   },
   "outputs": [
    {
     "data": {
      "text/plain": [
       "array(['large_airport', 'medium_airport', 'closed', 'small_airport',\n",
       "       'heliport', 'balloonport'], dtype=object)"
      ]
     },
     "execution_count": 18,
     "metadata": {},
     "output_type": "execute_result"
    }
   ],
   "source": [
    "df_airports.type.unique()"
   ]
  },
  {
   "cell_type": "markdown",
   "id": "d05b2fad-5142-4c99-88de-29e0185c93ef",
   "metadata": {
    "editable": true,
    "slideshow": {
     "slide_type": "subslide"
    },
    "tags": []
   },
   "source": [
    "#### 3. Calculo cuántos hay de cada tipo"
   ]
  },
  {
   "cell_type": "code",
   "execution_count": 19,
   "id": "21f00fe3-74f1-4160-a85a-eb534343d311",
   "metadata": {
    "editable": true,
    "slideshow": {
     "slide_type": "fragment"
    },
    "tags": []
   },
   "outputs": [
    {
     "data": {
      "text/plain": [
       "type\n",
       "small_airport     687\n",
       "heliport          144\n",
       "medium_airport     68\n",
       "closed             41\n",
       "large_airport       2\n",
       "balloonport         1\n",
       "Name: count, dtype: int64"
      ]
     },
     "execution_count": 19,
     "metadata": {},
     "output_type": "execute_result"
    }
   ],
   "source": [
    "df_airports.type.value_counts()"
   ]
  },
  {
   "cell_type": "markdown",
   "id": "a7bd1279-f81b-4e49-8ddf-f526f915a1cf",
   "metadata": {
    "editable": true,
    "slideshow": {
     "slide_type": "subslide"
    },
    "tags": []
   },
   "source": [
    "#### Trabajando con datos de una sola columna\n",
    " * Queremos guardarnos los nombres de todos los aeropuertos "
   ]
  },
  {
   "cell_type": "code",
   "execution_count": 20,
   "id": "92396f78-788b-4982-862b-0da14a68dfc7",
   "metadata": {
    "editable": true,
    "slideshow": {
     "slide_type": "fragment"
    },
    "tags": []
   },
   "outputs": [],
   "source": [
    "df_names = df_airports.name"
   ]
  },
  {
   "cell_type": "code",
   "execution_count": 21,
   "id": "9c88d819-dd36-4e38-baa8-fad641711a1b",
   "metadata": {
    "editable": true,
    "slideshow": {
     "slide_type": "fragment"
    },
    "tags": []
   },
   "outputs": [
    {
     "data": {
      "text/plain": [
       "pandas.core.series.Series"
      ]
     },
     "execution_count": 21,
     "metadata": {},
     "output_type": "execute_result"
    }
   ],
   "source": [
    "type(df_names)"
   ]
  },
  {
   "cell_type": "markdown",
   "id": "bb567704-6aea-4843-baae-9d171ea2b457",
   "metadata": {
    "editable": true,
    "slideshow": {
     "slide_type": "subslide"
    },
    "tags": []
   },
   "source": [
    "¿Pero es lo mismo un Dataframe que una variable de tipo Series?"
   ]
  },
  {
   "cell_type": "markdown",
   "id": "46a201f9-5d6c-4af2-8f4b-abd4941a9963",
   "metadata": {
    "editable": true,
    "slideshow": {
     "slide_type": "fragment"
    },
    "tags": []
   },
   "source": [
    "### 📌 Series\n",
    "* Tipo de dato unidimensional, es como un arreglo con etiquetas de índice.\n",
    "* Los tipos de operaciones pueden variar con respecto a un Dataframe:\n",
    "    * modificación de columnas (cambiar orden)\n",
    "    * modificaciones de columnas o filas (agregar, eliminar)\n",
    "    * agrupación de de datos\n",
    "    * otros...\n",
    "* [Info](https://pandas.pydata.org/pandas-docs/stable/reference/api/pandas.Series.html)"
   ]
  },
  {
   "cell_type": "markdown",
   "id": "b7eecd14-e20b-47ce-a52b-818bda42059b",
   "metadata": {
    "editable": true,
    "slideshow": {
     "slide_type": "slide"
    },
    "tags": []
   },
   "source": [
    "### 📌 Acceso a datos por índice o etiquetas"
   ]
  },
  {
   "cell_type": "code",
   "execution_count": 22,
   "id": "3925c6f9-4d9a-441a-a35f-92a5c5daaafa",
   "metadata": {
    "editable": true,
    "slideshow": {
     "slide_type": "fragment"
    },
    "tags": []
   },
   "outputs": [
    {
     "data": {
      "text/plain": [
       "id                                                                5781\n",
       "ident                                                             SAEZ\n",
       "type                                                     large_airport\n",
       "name                          Minister Pistarini International Airport\n",
       "latitude_deg                                                  -34.8222\n",
       "longitude_deg                                                 -58.5358\n",
       "elevation_ft                                                      67.0\n",
       "continent                                                           SA\n",
       "country_name                                                 Argentina\n",
       "iso_country                                                         AR\n",
       "region_name                                      Buenos Aires Province\n",
       "iso_region                                                        AR-B\n",
       "local_region                                                         B\n",
       "municipality                                     Buenos Aires (Ezeiza)\n",
       "scheduled_service                                                    1\n",
       "gps_code                                                          SAEZ\n",
       "iata_code                                                          EZE\n",
       "local_code                                                         EZE\n",
       "home_link                           http://www.aa2000.com.ar/index.php\n",
       "wikipedia_link       https://en.wikipedia.org/wiki/Ministro_Pistari...\n",
       "keywords                                                   BUE, Ezeiza\n",
       "score                                                             1275\n",
       "last_updated                                 2022-10-27T15:05:29+00:00\n",
       "elevation_name                                                    Bajo\n",
       "prov_name                                        Buenos Aires Province\n",
       "Name: 0, dtype: object"
      ]
     },
     "execution_count": 22,
     "metadata": {},
     "output_type": "execute_result"
    }
   ],
   "source": [
    "df_airports.iloc[0]"
   ]
  },
  {
   "cell_type": "code",
   "execution_count": 23,
   "id": "9e1ce4f6-a801-4514-b1fe-263151d08246",
   "metadata": {
    "editable": true,
    "slideshow": {
     "slide_type": "fragment"
    },
    "tags": []
   },
   "outputs": [
    {
     "data": {
      "text/plain": [
       "id                                                                5781\n",
       "ident                                                             SAEZ\n",
       "type                                                     large_airport\n",
       "name                          Minister Pistarini International Airport\n",
       "latitude_deg                                                  -34.8222\n",
       "longitude_deg                                                 -58.5358\n",
       "elevation_ft                                                      67.0\n",
       "continent                                                           SA\n",
       "country_name                                                 Argentina\n",
       "iso_country                                                         AR\n",
       "region_name                                      Buenos Aires Province\n",
       "iso_region                                                        AR-B\n",
       "local_region                                                         B\n",
       "municipality                                     Buenos Aires (Ezeiza)\n",
       "scheduled_service                                                    1\n",
       "gps_code                                                          SAEZ\n",
       "iata_code                                                          EZE\n",
       "local_code                                                         EZE\n",
       "home_link                           http://www.aa2000.com.ar/index.php\n",
       "wikipedia_link       https://en.wikipedia.org/wiki/Ministro_Pistari...\n",
       "keywords                                                   BUE, Ezeiza\n",
       "score                                                             1275\n",
       "last_updated                                 2022-10-27T15:05:29+00:00\n",
       "elevation_name                                                    Bajo\n",
       "prov_name                                        Buenos Aires Province\n",
       "Name: 0, dtype: object"
      ]
     },
     "execution_count": 23,
     "metadata": {},
     "output_type": "execute_result"
    }
   ],
   "source": [
    "df_airports.loc[0]"
   ]
  },
  {
   "cell_type": "markdown",
   "id": "e41a63f9-c131-4314-b079-2d388dd0a123",
   "metadata": {
    "editable": true,
    "slideshow": {
     "slide_type": "fragment"
    },
    "tags": []
   },
   "source": [
    "* **loc**: por label, en este caso el índice en un número\n",
    "* **iloc**: por índice entero, es el número de la fila."
   ]
  },
  {
   "cell_type": "markdown",
   "id": "b611aa81-eac3-4d52-a4b4-93bb92e46842",
   "metadata": {
    "editable": true,
    "slideshow": {
     "slide_type": "slide"
    },
    "tags": []
   },
   "source": [
    "## 🎒 Manipulación de Datos con Pandas\n",
    "* ¿Cómo seleccionar, filtrar y transformar datos?\n",
    "* ¿Cuáles son las operaciones comunes para manipular y procesar datos?\n",
    "\n"
   ]
  },
  {
   "cell_type": "markdown",
   "id": "168339f5-66e2-4b48-a09a-31cb100ecf89",
   "metadata": {
    "editable": true,
    "slideshow": {
     "slide_type": "subslide"
    },
    "tags": []
   },
   "source": [
    "### 📌 Filtrado de datos "
   ]
  },
  {
   "cell_type": "markdown",
   "id": "ed3e937f-8c50-4488-90f1-196291087290",
   "metadata": {
    "editable": true,
    "slideshow": {
     "slide_type": "fragment"
    },
    "tags": []
   },
   "source": [
    "* Filas que coincidan con con un valor específico de una columna.\n",
    "* Filas que cumplan condición con operadores booleanos.\n",
    "* Selección de columnas específicas.\n",
    "* Filas que coincidan con algún string o elemento de una lista."
   ]
  },
  {
   "cell_type": "markdown",
   "id": "3e6197c5-5891-4ab2-89da-53d591332741",
   "metadata": {
    "editable": true,
    "slideshow": {
     "slide_type": "subslide"
    },
    "tags": []
   },
   "source": [
    "Queremos encontrar:\n",
    "* los aeropuertos que coincidan con un tipo de aeropuerto dado.\n",
    "* los aeropuertos que se encuentren en valores o rangos correspondientes a la elevanción.\n",
    "* los aeropuertos de tipo: large, medium, small.\n"
   ]
  },
  {
   "cell_type": "markdown",
   "id": "d22aab47-9746-43f4-bacf-f0501c3ac595",
   "metadata": {
    "editable": true,
    "slideshow": {
     "slide_type": "subslide"
    },
    "tags": []
   },
   "source": [
    "#### Los aeropuertos que coincidan con un tipo de aeropuerto dado."
   ]
  },
  {
   "cell_type": "code",
   "execution_count": 24,
   "id": "5da7b181-02f3-44b7-a6e5-81db81a35bc0",
   "metadata": {
    "editable": true,
    "slideshow": {
     "slide_type": "fragment"
    },
    "tags": []
   },
   "outputs": [
    {
     "data": {
      "text/html": [
       "<div>\n",
       "<style scoped>\n",
       "    .dataframe tbody tr th:only-of-type {\n",
       "        vertical-align: middle;\n",
       "    }\n",
       "\n",
       "    .dataframe tbody tr th {\n",
       "        vertical-align: top;\n",
       "    }\n",
       "\n",
       "    .dataframe thead th {\n",
       "        text-align: right;\n",
       "    }\n",
       "</style>\n",
       "<table border=\"1\" class=\"dataframe\">\n",
       "  <thead>\n",
       "    <tr style=\"text-align: right;\">\n",
       "      <th></th>\n",
       "      <th>id</th>\n",
       "      <th>ident</th>\n",
       "      <th>type</th>\n",
       "      <th>name</th>\n",
       "      <th>latitude_deg</th>\n",
       "      <th>longitude_deg</th>\n",
       "      <th>elevation_ft</th>\n",
       "      <th>continent</th>\n",
       "      <th>country_name</th>\n",
       "      <th>iso_country</th>\n",
       "      <th>...</th>\n",
       "      <th>gps_code</th>\n",
       "      <th>iata_code</th>\n",
       "      <th>local_code</th>\n",
       "      <th>home_link</th>\n",
       "      <th>wikipedia_link</th>\n",
       "      <th>keywords</th>\n",
       "      <th>score</th>\n",
       "      <th>last_updated</th>\n",
       "      <th>elevation_name</th>\n",
       "      <th>prov_name</th>\n",
       "    </tr>\n",
       "  </thead>\n",
       "  <tbody>\n",
       "    <tr>\n",
       "      <th>2</th>\n",
       "      <td>5835</td>\n",
       "      <td>SAWH</td>\n",
       "      <td>medium_airport</td>\n",
       "      <td>Malvinas Argentinas Airport</td>\n",
       "      <td>-54.843300</td>\n",
       "      <td>-68.295800</td>\n",
       "      <td>102.0</td>\n",
       "      <td>SA</td>\n",
       "      <td>Argentina</td>\n",
       "      <td>AR</td>\n",
       "      <td>...</td>\n",
       "      <td>SAWH</td>\n",
       "      <td>USH</td>\n",
       "      <td>USU</td>\n",
       "      <td>NaN</td>\n",
       "      <td>https://en.wikipedia.org/wiki/Ushuaia_Internat...</td>\n",
       "      <td>NaN</td>\n",
       "      <td>750</td>\n",
       "      <td>2021-10-07T11:21:29+00:00</td>\n",
       "      <td>Bajo</td>\n",
       "      <td>Tierra del Fuego, Antártida e Islas del Atlánt...</td>\n",
       "    </tr>\n",
       "    <tr>\n",
       "      <th>3</th>\n",
       "      <td>5831</td>\n",
       "      <td>SAWC</td>\n",
       "      <td>medium_airport</td>\n",
       "      <td>El Calafate - Commander Armando Tola Internati...</td>\n",
       "      <td>-50.280300</td>\n",
       "      <td>-72.053101</td>\n",
       "      <td>669.0</td>\n",
       "      <td>SA</td>\n",
       "      <td>Argentina</td>\n",
       "      <td>AR</td>\n",
       "      <td>...</td>\n",
       "      <td>SAWC</td>\n",
       "      <td>FTE</td>\n",
       "      <td>ECA</td>\n",
       "      <td>http://www.aeropuertoelcalafate.com/en/</td>\n",
       "      <td>https://en.wikipedia.org/wiki/Comandante_Arman...</td>\n",
       "      <td>NaN</td>\n",
       "      <td>500</td>\n",
       "      <td>2022-01-12T18:23:15+00:00</td>\n",
       "      <td>Medio</td>\n",
       "      <td>Santa Cruz Province</td>\n",
       "    </tr>\n",
       "    <tr>\n",
       "      <th>4</th>\n",
       "      <td>5806</td>\n",
       "      <td>SARI</td>\n",
       "      <td>medium_airport</td>\n",
       "      <td>Cataratas Del Iguazú International Airport</td>\n",
       "      <td>-25.737301</td>\n",
       "      <td>-54.473400</td>\n",
       "      <td>916.0</td>\n",
       "      <td>SA</td>\n",
       "      <td>Argentina</td>\n",
       "      <td>AR</td>\n",
       "      <td>...</td>\n",
       "      <td>SARI</td>\n",
       "      <td>IGR</td>\n",
       "      <td>IGU</td>\n",
       "      <td>http://www.aa2000.com.ar/iguazu</td>\n",
       "      <td>https://en.wikipedia.org/wiki/Cataratas_del_Ig...</td>\n",
       "      <td>Iguaçu</td>\n",
       "      <td>750</td>\n",
       "      <td>2018-09-13T12:34:47+00:00</td>\n",
       "      <td>Alto</td>\n",
       "      <td>Misiones Province</td>\n",
       "    </tr>\n",
       "  </tbody>\n",
       "</table>\n",
       "<p>3 rows × 25 columns</p>\n",
       "</div>"
      ],
      "text/plain": [
       "     id ident            type  \\\n",
       "2  5835  SAWH  medium_airport   \n",
       "3  5831  SAWC  medium_airport   \n",
       "4  5806  SARI  medium_airport   \n",
       "\n",
       "                                                name  latitude_deg  \\\n",
       "2                        Malvinas Argentinas Airport    -54.843300   \n",
       "3  El Calafate - Commander Armando Tola Internati...    -50.280300   \n",
       "4         Cataratas Del Iguazú International Airport    -25.737301   \n",
       "\n",
       "   longitude_deg  elevation_ft continent country_name iso_country  ...  \\\n",
       "2     -68.295800         102.0        SA    Argentina          AR  ...   \n",
       "3     -72.053101         669.0        SA    Argentina          AR  ...   \n",
       "4     -54.473400         916.0        SA    Argentina          AR  ...   \n",
       "\n",
       "  gps_code iata_code local_code                                home_link  \\\n",
       "2     SAWH       USH        USU                                      NaN   \n",
       "3     SAWC       FTE        ECA  http://www.aeropuertoelcalafate.com/en/   \n",
       "4     SARI       IGR        IGU          http://www.aa2000.com.ar/iguazu   \n",
       "\n",
       "                                      wikipedia_link keywords score  \\\n",
       "2  https://en.wikipedia.org/wiki/Ushuaia_Internat...      NaN   750   \n",
       "3  https://en.wikipedia.org/wiki/Comandante_Arman...      NaN   500   \n",
       "4  https://en.wikipedia.org/wiki/Cataratas_del_Ig...   Iguaçu   750   \n",
       "\n",
       "                last_updated elevation_name  \\\n",
       "2  2021-10-07T11:21:29+00:00           Bajo   \n",
       "3  2022-01-12T18:23:15+00:00          Medio   \n",
       "4  2018-09-13T12:34:47+00:00           Alto   \n",
       "\n",
       "                                           prov_name  \n",
       "2  Tierra del Fuego, Antártida e Islas del Atlánt...  \n",
       "3                                Santa Cruz Province  \n",
       "4                                  Misiones Province  \n",
       "\n",
       "[3 rows x 25 columns]"
      ]
     },
     "execution_count": 24,
     "metadata": {},
     "output_type": "execute_result"
    }
   ],
   "source": [
    "df_airports[df_airports.type=='medium_airport'].head(3)"
   ]
  },
  {
   "cell_type": "markdown",
   "id": "17e115db-36b4-4a5c-ac8e-eac54755e73a",
   "metadata": {
    "editable": true,
    "slideshow": {
     "slide_type": "subslide"
    },
    "tags": []
   },
   "source": [
    "¿Por qué usamos dos veces la variable **df_airports**?"
   ]
  },
  {
   "cell_type": "code",
   "execution_count": 25,
   "id": "ad7cc830-76db-4dad-9999-d027da92d948",
   "metadata": {
    "editable": true,
    "slideshow": {
     "slide_type": "fragment"
    },
    "tags": []
   },
   "outputs": [
    {
     "data": {
      "text/plain": [
       "0      False\n",
       "1      False\n",
       "2       True\n",
       "3       True\n",
       "4       True\n",
       "       ...  \n",
       "938    False\n",
       "939    False\n",
       "940    False\n",
       "941    False\n",
       "942    False\n",
       "Name: type, Length: 943, dtype: bool"
      ]
     },
     "execution_count": 25,
     "metadata": {},
     "output_type": "execute_result"
    }
   ],
   "source": [
    "df_airports.type=='medium_airport'"
   ]
  },
  {
   "cell_type": "markdown",
   "id": "c0796c12-acca-4e03-b8ea-60b5434358e4",
   "metadata": {
    "editable": true,
    "slideshow": {
     "slide_type": "fragment"
    },
    "tags": []
   },
   "source": [
    "* Nos devuelve un array de booleanos, es en realidad una máscara.\n",
    "* Luego se aplica esa máscara a las filas del Dataframe."
   ]
  },
  {
   "cell_type": "code",
   "execution_count": 26,
   "id": "024f97e6-1f57-4470-befc-0224d149e0a6",
   "metadata": {
    "editable": true,
    "slideshow": {
     "slide_type": "subslide"
    },
    "tags": []
   },
   "outputs": [
    {
     "data": {
      "text/html": [
       "<div>\n",
       "<style scoped>\n",
       "    .dataframe tbody tr th:only-of-type {\n",
       "        vertical-align: middle;\n",
       "    }\n",
       "\n",
       "    .dataframe tbody tr th {\n",
       "        vertical-align: top;\n",
       "    }\n",
       "\n",
       "    .dataframe thead th {\n",
       "        text-align: right;\n",
       "    }\n",
       "</style>\n",
       "<table border=\"1\" class=\"dataframe\">\n",
       "  <thead>\n",
       "    <tr style=\"text-align: right;\">\n",
       "      <th></th>\n",
       "      <th>id</th>\n",
       "      <th>ident</th>\n",
       "      <th>type</th>\n",
       "      <th>name</th>\n",
       "      <th>latitude_deg</th>\n",
       "      <th>longitude_deg</th>\n",
       "      <th>elevation_ft</th>\n",
       "      <th>continent</th>\n",
       "      <th>country_name</th>\n",
       "      <th>iso_country</th>\n",
       "      <th>...</th>\n",
       "      <th>gps_code</th>\n",
       "      <th>iata_code</th>\n",
       "      <th>local_code</th>\n",
       "      <th>home_link</th>\n",
       "      <th>wikipedia_link</th>\n",
       "      <th>keywords</th>\n",
       "      <th>score</th>\n",
       "      <th>last_updated</th>\n",
       "      <th>elevation_name</th>\n",
       "      <th>prov_name</th>\n",
       "    </tr>\n",
       "  </thead>\n",
       "  <tbody>\n",
       "    <tr>\n",
       "      <th>2</th>\n",
       "      <td>5835</td>\n",
       "      <td>SAWH</td>\n",
       "      <td>medium_airport</td>\n",
       "      <td>Malvinas Argentinas Airport</td>\n",
       "      <td>-54.843300</td>\n",
       "      <td>-68.295800</td>\n",
       "      <td>102.0</td>\n",
       "      <td>SA</td>\n",
       "      <td>Argentina</td>\n",
       "      <td>AR</td>\n",
       "      <td>...</td>\n",
       "      <td>SAWH</td>\n",
       "      <td>USH</td>\n",
       "      <td>USU</td>\n",
       "      <td>NaN</td>\n",
       "      <td>https://en.wikipedia.org/wiki/Ushuaia_Internat...</td>\n",
       "      <td>NaN</td>\n",
       "      <td>750</td>\n",
       "      <td>2021-10-07T11:21:29+00:00</td>\n",
       "      <td>Bajo</td>\n",
       "      <td>Tierra del Fuego, Antártida e Islas del Atlánt...</td>\n",
       "    </tr>\n",
       "    <tr>\n",
       "      <th>3</th>\n",
       "      <td>5831</td>\n",
       "      <td>SAWC</td>\n",
       "      <td>medium_airport</td>\n",
       "      <td>El Calafate - Commander Armando Tola Internati...</td>\n",
       "      <td>-50.280300</td>\n",
       "      <td>-72.053101</td>\n",
       "      <td>669.0</td>\n",
       "      <td>SA</td>\n",
       "      <td>Argentina</td>\n",
       "      <td>AR</td>\n",
       "      <td>...</td>\n",
       "      <td>SAWC</td>\n",
       "      <td>FTE</td>\n",
       "      <td>ECA</td>\n",
       "      <td>http://www.aeropuertoelcalafate.com/en/</td>\n",
       "      <td>https://en.wikipedia.org/wiki/Comandante_Arman...</td>\n",
       "      <td>NaN</td>\n",
       "      <td>500</td>\n",
       "      <td>2022-01-12T18:23:15+00:00</td>\n",
       "      <td>Medio</td>\n",
       "      <td>Santa Cruz Province</td>\n",
       "    </tr>\n",
       "    <tr>\n",
       "      <th>4</th>\n",
       "      <td>5806</td>\n",
       "      <td>SARI</td>\n",
       "      <td>medium_airport</td>\n",
       "      <td>Cataratas Del Iguazú International Airport</td>\n",
       "      <td>-25.737301</td>\n",
       "      <td>-54.473400</td>\n",
       "      <td>916.0</td>\n",
       "      <td>SA</td>\n",
       "      <td>Argentina</td>\n",
       "      <td>AR</td>\n",
       "      <td>...</td>\n",
       "      <td>SARI</td>\n",
       "      <td>IGR</td>\n",
       "      <td>IGU</td>\n",
       "      <td>http://www.aa2000.com.ar/iguazu</td>\n",
       "      <td>https://en.wikipedia.org/wiki/Cataratas_del_Ig...</td>\n",
       "      <td>Iguaçu</td>\n",
       "      <td>750</td>\n",
       "      <td>2018-09-13T12:34:47+00:00</td>\n",
       "      <td>Alto</td>\n",
       "      <td>Misiones Province</td>\n",
       "    </tr>\n",
       "  </tbody>\n",
       "</table>\n",
       "<p>3 rows × 25 columns</p>\n",
       "</div>"
      ],
      "text/plain": [
       "     id ident            type  \\\n",
       "2  5835  SAWH  medium_airport   \n",
       "3  5831  SAWC  medium_airport   \n",
       "4  5806  SARI  medium_airport   \n",
       "\n",
       "                                                name  latitude_deg  \\\n",
       "2                        Malvinas Argentinas Airport    -54.843300   \n",
       "3  El Calafate - Commander Armando Tola Internati...    -50.280300   \n",
       "4         Cataratas Del Iguazú International Airport    -25.737301   \n",
       "\n",
       "   longitude_deg  elevation_ft continent country_name iso_country  ...  \\\n",
       "2     -68.295800         102.0        SA    Argentina          AR  ...   \n",
       "3     -72.053101         669.0        SA    Argentina          AR  ...   \n",
       "4     -54.473400         916.0        SA    Argentina          AR  ...   \n",
       "\n",
       "  gps_code iata_code local_code                                home_link  \\\n",
       "2     SAWH       USH        USU                                      NaN   \n",
       "3     SAWC       FTE        ECA  http://www.aeropuertoelcalafate.com/en/   \n",
       "4     SARI       IGR        IGU          http://www.aa2000.com.ar/iguazu   \n",
       "\n",
       "                                      wikipedia_link keywords score  \\\n",
       "2  https://en.wikipedia.org/wiki/Ushuaia_Internat...      NaN   750   \n",
       "3  https://en.wikipedia.org/wiki/Comandante_Arman...      NaN   500   \n",
       "4  https://en.wikipedia.org/wiki/Cataratas_del_Ig...   Iguaçu   750   \n",
       "\n",
       "                last_updated elevation_name  \\\n",
       "2  2021-10-07T11:21:29+00:00           Bajo   \n",
       "3  2022-01-12T18:23:15+00:00          Medio   \n",
       "4  2018-09-13T12:34:47+00:00           Alto   \n",
       "\n",
       "                                           prov_name  \n",
       "2  Tierra del Fuego, Antártida e Islas del Atlánt...  \n",
       "3                                Santa Cruz Province  \n",
       "4                                  Misiones Province  \n",
       "\n",
       "[3 rows x 25 columns]"
      ]
     },
     "execution_count": 26,
     "metadata": {},
     "output_type": "execute_result"
    }
   ],
   "source": [
    "mask = df_airports.type=='medium_airport'\n",
    "df_airports[mask].head(3)"
   ]
  },
  {
   "cell_type": "markdown",
   "id": "695cf026-c793-4af9-ba57-a2a257da3d5a",
   "metadata": {
    "editable": true,
    "slideshow": {
     "slide_type": "subslide"
    },
    "tags": []
   },
   "source": [
    "#### Los aeropuertos que se encuentren en valores o rangos correspondientes a la elevanción."
   ]
  },
  {
   "cell_type": "code",
   "execution_count": 27,
   "id": "b05b9c22-c0a7-47f4-9f59-7e6567a3eeb6",
   "metadata": {
    "editable": true,
    "slideshow": {
     "slide_type": "fragment"
    },
    "tags": []
   },
   "outputs": [
    {
     "data": {
      "text/html": [
       "<div>\n",
       "<style scoped>\n",
       "    .dataframe tbody tr th:only-of-type {\n",
       "        vertical-align: middle;\n",
       "    }\n",
       "\n",
       "    .dataframe tbody tr th {\n",
       "        vertical-align: top;\n",
       "    }\n",
       "\n",
       "    .dataframe thead th {\n",
       "        text-align: right;\n",
       "    }\n",
       "</style>\n",
       "<table border=\"1\" class=\"dataframe\">\n",
       "  <thead>\n",
       "    <tr style=\"text-align: right;\">\n",
       "      <th></th>\n",
       "      <th>id</th>\n",
       "      <th>ident</th>\n",
       "      <th>type</th>\n",
       "      <th>name</th>\n",
       "      <th>latitude_deg</th>\n",
       "      <th>longitude_deg</th>\n",
       "      <th>elevation_ft</th>\n",
       "      <th>continent</th>\n",
       "      <th>country_name</th>\n",
       "      <th>iso_country</th>\n",
       "      <th>...</th>\n",
       "      <th>gps_code</th>\n",
       "      <th>iata_code</th>\n",
       "      <th>local_code</th>\n",
       "      <th>home_link</th>\n",
       "      <th>wikipedia_link</th>\n",
       "      <th>keywords</th>\n",
       "      <th>score</th>\n",
       "      <th>last_updated</th>\n",
       "      <th>elevation_name</th>\n",
       "      <th>prov_name</th>\n",
       "    </tr>\n",
       "  </thead>\n",
       "  <tbody>\n",
       "    <tr>\n",
       "      <th>0</th>\n",
       "      <td>5781</td>\n",
       "      <td>SAEZ</td>\n",
       "      <td>large_airport</td>\n",
       "      <td>Minister Pistarini International Airport</td>\n",
       "      <td>-34.8222</td>\n",
       "      <td>-58.5358</td>\n",
       "      <td>67.0</td>\n",
       "      <td>SA</td>\n",
       "      <td>Argentina</td>\n",
       "      <td>AR</td>\n",
       "      <td>...</td>\n",
       "      <td>SAEZ</td>\n",
       "      <td>EZE</td>\n",
       "      <td>EZE</td>\n",
       "      <td>http://www.aa2000.com.ar/index.php</td>\n",
       "      <td>https://en.wikipedia.org/wiki/Ministro_Pistari...</td>\n",
       "      <td>BUE, Ezeiza</td>\n",
       "      <td>1275</td>\n",
       "      <td>2022-10-27T15:05:29+00:00</td>\n",
       "      <td>Bajo</td>\n",
       "      <td>Buenos Aires Province</td>\n",
       "    </tr>\n",
       "    <tr>\n",
       "      <th>1</th>\n",
       "      <td>5771</td>\n",
       "      <td>SABE</td>\n",
       "      <td>large_airport</td>\n",
       "      <td>Jorge Newbery Airpark</td>\n",
       "      <td>-34.5592</td>\n",
       "      <td>-58.4156</td>\n",
       "      <td>18.0</td>\n",
       "      <td>SA</td>\n",
       "      <td>Argentina</td>\n",
       "      <td>AR</td>\n",
       "      <td>...</td>\n",
       "      <td>SABE</td>\n",
       "      <td>AEP</td>\n",
       "      <td>AER</td>\n",
       "      <td>NaN</td>\n",
       "      <td>https://en.wikipedia.org/wiki/Aeroparque_Jorge...</td>\n",
       "      <td>NaN</td>\n",
       "      <td>1050</td>\n",
       "      <td>2021-10-07T15:55:36+00:00</td>\n",
       "      <td>Bajo</td>\n",
       "      <td>Buenos Aires, Ciudad Autónoma de</td>\n",
       "    </tr>\n",
       "    <tr>\n",
       "      <th>2</th>\n",
       "      <td>5835</td>\n",
       "      <td>SAWH</td>\n",
       "      <td>medium_airport</td>\n",
       "      <td>Malvinas Argentinas Airport</td>\n",
       "      <td>-54.8433</td>\n",
       "      <td>-68.2958</td>\n",
       "      <td>102.0</td>\n",
       "      <td>SA</td>\n",
       "      <td>Argentina</td>\n",
       "      <td>AR</td>\n",
       "      <td>...</td>\n",
       "      <td>SAWH</td>\n",
       "      <td>USH</td>\n",
       "      <td>USU</td>\n",
       "      <td>NaN</td>\n",
       "      <td>https://en.wikipedia.org/wiki/Ushuaia_Internat...</td>\n",
       "      <td>NaN</td>\n",
       "      <td>750</td>\n",
       "      <td>2021-10-07T11:21:29+00:00</td>\n",
       "      <td>Bajo</td>\n",
       "      <td>Tierra del Fuego, Antártida e Islas del Atlánt...</td>\n",
       "    </tr>\n",
       "  </tbody>\n",
       "</table>\n",
       "<p>3 rows × 25 columns</p>\n",
       "</div>"
      ],
      "text/plain": [
       "     id ident            type                                      name  \\\n",
       "0  5781  SAEZ   large_airport  Minister Pistarini International Airport   \n",
       "1  5771  SABE   large_airport                     Jorge Newbery Airpark   \n",
       "2  5835  SAWH  medium_airport               Malvinas Argentinas Airport   \n",
       "\n",
       "   latitude_deg  longitude_deg  elevation_ft continent country_name  \\\n",
       "0      -34.8222       -58.5358          67.0        SA    Argentina   \n",
       "1      -34.5592       -58.4156          18.0        SA    Argentina   \n",
       "2      -54.8433       -68.2958         102.0        SA    Argentina   \n",
       "\n",
       "  iso_country  ... gps_code iata_code local_code  \\\n",
       "0          AR  ...     SAEZ       EZE        EZE   \n",
       "1          AR  ...     SABE       AEP        AER   \n",
       "2          AR  ...     SAWH       USH        USU   \n",
       "\n",
       "                            home_link  \\\n",
       "0  http://www.aa2000.com.ar/index.php   \n",
       "1                                 NaN   \n",
       "2                                 NaN   \n",
       "\n",
       "                                      wikipedia_link     keywords score  \\\n",
       "0  https://en.wikipedia.org/wiki/Ministro_Pistari...  BUE, Ezeiza  1275   \n",
       "1  https://en.wikipedia.org/wiki/Aeroparque_Jorge...          NaN  1050   \n",
       "2  https://en.wikipedia.org/wiki/Ushuaia_Internat...          NaN   750   \n",
       "\n",
       "                last_updated elevation_name  \\\n",
       "0  2022-10-27T15:05:29+00:00           Bajo   \n",
       "1  2021-10-07T15:55:36+00:00           Bajo   \n",
       "2  2021-10-07T11:21:29+00:00           Bajo   \n",
       "\n",
       "                                           prov_name  \n",
       "0                              Buenos Aires Province  \n",
       "1                   Buenos Aires, Ciudad Autónoma de  \n",
       "2  Tierra del Fuego, Antártida e Islas del Atlánt...  \n",
       "\n",
       "[3 rows x 25 columns]"
      ]
     },
     "execution_count": 27,
     "metadata": {},
     "output_type": "execute_result"
    }
   ],
   "source": [
    "df_airports[df_airports.elevation_ft<131].head(3)"
   ]
  },
  {
   "cell_type": "code",
   "execution_count": 28,
   "id": "3292a907-9b8b-447c-a5e4-840e0288cb22",
   "metadata": {
    "editable": true,
    "slideshow": {
     "slide_type": "fragment"
    },
    "tags": []
   },
   "outputs": [
    {
     "data": {
      "text/html": [
       "<div>\n",
       "<style scoped>\n",
       "    .dataframe tbody tr th:only-of-type {\n",
       "        vertical-align: middle;\n",
       "    }\n",
       "\n",
       "    .dataframe tbody tr th {\n",
       "        vertical-align: top;\n",
       "    }\n",
       "\n",
       "    .dataframe thead th {\n",
       "        text-align: right;\n",
       "    }\n",
       "</style>\n",
       "<table border=\"1\" class=\"dataframe\">\n",
       "  <thead>\n",
       "    <tr style=\"text-align: right;\">\n",
       "      <th></th>\n",
       "      <th>id</th>\n",
       "      <th>ident</th>\n",
       "      <th>type</th>\n",
       "      <th>name</th>\n",
       "      <th>latitude_deg</th>\n",
       "      <th>longitude_deg</th>\n",
       "      <th>elevation_ft</th>\n",
       "      <th>continent</th>\n",
       "      <th>country_name</th>\n",
       "      <th>iso_country</th>\n",
       "      <th>...</th>\n",
       "      <th>gps_code</th>\n",
       "      <th>iata_code</th>\n",
       "      <th>local_code</th>\n",
       "      <th>home_link</th>\n",
       "      <th>wikipedia_link</th>\n",
       "      <th>keywords</th>\n",
       "      <th>score</th>\n",
       "      <th>last_updated</th>\n",
       "      <th>elevation_name</th>\n",
       "      <th>prov_name</th>\n",
       "    </tr>\n",
       "  </thead>\n",
       "  <tbody>\n",
       "    <tr>\n",
       "      <th>3</th>\n",
       "      <td>5831</td>\n",
       "      <td>SAWC</td>\n",
       "      <td>medium_airport</td>\n",
       "      <td>El Calafate - Commander Armando Tola Internati...</td>\n",
       "      <td>-50.2803</td>\n",
       "      <td>-72.053101</td>\n",
       "      <td>669.0</td>\n",
       "      <td>SA</td>\n",
       "      <td>Argentina</td>\n",
       "      <td>AR</td>\n",
       "      <td>...</td>\n",
       "      <td>SAWC</td>\n",
       "      <td>FTE</td>\n",
       "      <td>ECA</td>\n",
       "      <td>http://www.aeropuertoelcalafate.com/en/</td>\n",
       "      <td>https://en.wikipedia.org/wiki/Comandante_Arman...</td>\n",
       "      <td>NaN</td>\n",
       "      <td>500</td>\n",
       "      <td>2022-01-12T18:23:15+00:00</td>\n",
       "      <td>Medio</td>\n",
       "      <td>Santa Cruz Province</td>\n",
       "    </tr>\n",
       "    <tr>\n",
       "      <th>13</th>\n",
       "      <td>5822</td>\n",
       "      <td>SAVC</td>\n",
       "      <td>medium_airport</td>\n",
       "      <td>General E. Mosconi Airport</td>\n",
       "      <td>-45.7853</td>\n",
       "      <td>-67.465500</td>\n",
       "      <td>189.0</td>\n",
       "      <td>SA</td>\n",
       "      <td>Argentina</td>\n",
       "      <td>AR</td>\n",
       "      <td>...</td>\n",
       "      <td>SAVC</td>\n",
       "      <td>CRD</td>\n",
       "      <td>CRV</td>\n",
       "      <td>NaN</td>\n",
       "      <td>NaN</td>\n",
       "      <td>NaN</td>\n",
       "      <td>750</td>\n",
       "      <td>2011-07-03T01:19:56+00:00</td>\n",
       "      <td>Medio</td>\n",
       "      <td>Chubut</td>\n",
       "    </tr>\n",
       "    <tr>\n",
       "      <th>14</th>\n",
       "      <td>5827</td>\n",
       "      <td>SAVT</td>\n",
       "      <td>medium_airport</td>\n",
       "      <td>Almirante Marco Andres Zar Airport</td>\n",
       "      <td>-43.2105</td>\n",
       "      <td>-65.270300</td>\n",
       "      <td>141.0</td>\n",
       "      <td>SA</td>\n",
       "      <td>Argentina</td>\n",
       "      <td>AR</td>\n",
       "      <td>...</td>\n",
       "      <td>SAVT</td>\n",
       "      <td>REL</td>\n",
       "      <td>TRE</td>\n",
       "      <td>NaN</td>\n",
       "      <td>https://en.wikipedia.org/wiki/Almirante_Marco_...</td>\n",
       "      <td>Trelew Airport</td>\n",
       "      <td>750</td>\n",
       "      <td>2011-07-03T03:21:25+00:00</td>\n",
       "      <td>Medio</td>\n",
       "      <td>Chubut</td>\n",
       "    </tr>\n",
       "  </tbody>\n",
       "</table>\n",
       "<p>3 rows × 25 columns</p>\n",
       "</div>"
      ],
      "text/plain": [
       "      id ident            type  \\\n",
       "3   5831  SAWC  medium_airport   \n",
       "13  5822  SAVC  medium_airport   \n",
       "14  5827  SAVT  medium_airport   \n",
       "\n",
       "                                                 name  latitude_deg  \\\n",
       "3   El Calafate - Commander Armando Tola Internati...      -50.2803   \n",
       "13                         General E. Mosconi Airport      -45.7853   \n",
       "14                 Almirante Marco Andres Zar Airport      -43.2105   \n",
       "\n",
       "    longitude_deg  elevation_ft continent country_name iso_country  ...  \\\n",
       "3      -72.053101         669.0        SA    Argentina          AR  ...   \n",
       "13     -67.465500         189.0        SA    Argentina          AR  ...   \n",
       "14     -65.270300         141.0        SA    Argentina          AR  ...   \n",
       "\n",
       "   gps_code iata_code local_code                                home_link  \\\n",
       "3      SAWC       FTE        ECA  http://www.aeropuertoelcalafate.com/en/   \n",
       "13     SAVC       CRD        CRV                                      NaN   \n",
       "14     SAVT       REL        TRE                                      NaN   \n",
       "\n",
       "                                       wikipedia_link        keywords score  \\\n",
       "3   https://en.wikipedia.org/wiki/Comandante_Arman...             NaN   500   \n",
       "13                                                NaN             NaN   750   \n",
       "14  https://en.wikipedia.org/wiki/Almirante_Marco_...  Trelew Airport   750   \n",
       "\n",
       "                 last_updated elevation_name            prov_name  \n",
       "3   2022-01-12T18:23:15+00:00          Medio  Santa Cruz Province  \n",
       "13  2011-07-03T01:19:56+00:00          Medio               Chubut  \n",
       "14  2011-07-03T03:21:25+00:00          Medio               Chubut  \n",
       "\n",
       "[3 rows x 25 columns]"
      ]
     },
     "execution_count": 28,
     "metadata": {},
     "output_type": "execute_result"
    }
   ],
   "source": [
    "df_airports[(df_airports.elevation_ft>131) & (df_airports.elevation_ft<903)].head(3)"
   ]
  },
  {
   "cell_type": "markdown",
   "id": "ce3e4734-ee07-4a8f-918d-088440ad4afd",
   "metadata": {
    "editable": true,
    "slideshow": {
     "slide_type": "fragment"
    },
    "tags": []
   },
   "source": [
    "¿Son los mismos operadores booleanos usados en Python?"
   ]
  },
  {
   "cell_type": "markdown",
   "id": "2da0e082-7805-4a75-affa-62fdc58ce949",
   "metadata": {
    "editable": true,
    "slideshow": {
     "slide_type": "subslide"
    },
    "tags": []
   },
   "source": [
    "### 📌 Operadores booleanos\n",
    "|Operador|Python|pandas|\n",
    "|----------|---------|--------|\n",
    "|**and**|cond1 and cond2|(cond1) & (cond2)|\n",
    "|**or**|cond1 or cond2|(cond1) | (cond2)|\n",
    "|**not**|not cond|∼cond|"
   ]
  },
  {
   "cell_type": "markdown",
   "id": "9e1c1f3c-2893-4c76-a74a-d198b08b31e7",
   "metadata": {
    "editable": true,
    "slideshow": {
     "slide_type": "subslide"
    },
    "tags": []
   },
   "source": [
    "### 🚨 Desafío\n",
    "Utilizando pandas encontrar los lagos según los siguientes criterios:\n",
    "* Lagos con una superficie menor o igual a 17 km² \n",
    "* Lagos con una superficie mayor que 17 km² y menor o igual a 59 km²\n",
    "* Lagos con una superficie mayor a 59 km² "
   ]
  },
  {
   "cell_type": "markdown",
   "id": "3d43fa0d-8579-4a4b-ab24-ce214045daed",
   "metadata": {
    "editable": true,
    "slideshow": {
     "slide_type": "subslide"
    },
    "tags": []
   },
   "source": [
    "#### Filtrado de los aeropuertos de tipo: large, medium, small"
   ]
  },
  {
   "cell_type": "code",
   "execution_count": 29,
   "id": "fcc1277c-7354-4299-a89a-6909619fd1ae",
   "metadata": {
    "editable": true,
    "slideshow": {
     "slide_type": "fragment"
    },
    "tags": []
   },
   "outputs": [
    {
     "data": {
      "text/plain": [
       "array(['large_airport', 'medium_airport', 'closed', 'small_airport',\n",
       "       'heliport', 'balloonport'], dtype=object)"
      ]
     },
     "execution_count": 29,
     "metadata": {},
     "output_type": "execute_result"
    }
   ],
   "source": [
    "df_airports.type.unique()"
   ]
  },
  {
   "cell_type": "markdown",
   "id": "14cf0b28-d3b6-4a11-94a3-1114dcdf0c27",
   "metadata": {
    "editable": true,
    "slideshow": {
     "slide_type": "fragment"
    },
    "tags": []
   },
   "source": [
    "Hay dos posibles formas\n",
    "* Filtrar los aeropuertos que contengan el string **airport**, ya que los demás no contienen ese string.\n",
    "* Filtrar con una lista que contenga las categorías que estamos buscando."
   ]
  },
  {
   "cell_type": "markdown",
   "id": "5c8dafeb-d7fc-41ed-9e85-eb1791940ca1",
   "metadata": {
    "editable": true,
    "slideshow": {
     "slide_type": "subslide"
    },
    "tags": []
   },
   "source": [
    "##### Filtrar indicando el string **airport**, ya que los demás no lo contienen."
   ]
  },
  {
   "cell_type": "code",
   "execution_count": 30,
   "id": "1bf41012-73e5-4c3f-8f67-b7b6ed3f558c",
   "metadata": {
    "editable": true,
    "slideshow": {
     "slide_type": "fragment"
    },
    "tags": []
   },
   "outputs": [
    {
     "data": {
      "text/html": [
       "<div>\n",
       "<style scoped>\n",
       "    .dataframe tbody tr th:only-of-type {\n",
       "        vertical-align: middle;\n",
       "    }\n",
       "\n",
       "    .dataframe tbody tr th {\n",
       "        vertical-align: top;\n",
       "    }\n",
       "\n",
       "    .dataframe thead th {\n",
       "        text-align: right;\n",
       "    }\n",
       "</style>\n",
       "<table border=\"1\" class=\"dataframe\">\n",
       "  <thead>\n",
       "    <tr style=\"text-align: right;\">\n",
       "      <th></th>\n",
       "      <th>id</th>\n",
       "      <th>ident</th>\n",
       "      <th>type</th>\n",
       "      <th>name</th>\n",
       "      <th>latitude_deg</th>\n",
       "      <th>longitude_deg</th>\n",
       "      <th>elevation_ft</th>\n",
       "      <th>continent</th>\n",
       "      <th>country_name</th>\n",
       "      <th>iso_country</th>\n",
       "      <th>...</th>\n",
       "      <th>gps_code</th>\n",
       "      <th>iata_code</th>\n",
       "      <th>local_code</th>\n",
       "      <th>home_link</th>\n",
       "      <th>wikipedia_link</th>\n",
       "      <th>keywords</th>\n",
       "      <th>score</th>\n",
       "      <th>last_updated</th>\n",
       "      <th>elevation_name</th>\n",
       "      <th>prov_name</th>\n",
       "    </tr>\n",
       "  </thead>\n",
       "  <tbody>\n",
       "    <tr>\n",
       "      <th>0</th>\n",
       "      <td>5781</td>\n",
       "      <td>SAEZ</td>\n",
       "      <td>large_airport</td>\n",
       "      <td>Minister Pistarini International Airport</td>\n",
       "      <td>-34.8222</td>\n",
       "      <td>-58.5358</td>\n",
       "      <td>67.0</td>\n",
       "      <td>SA</td>\n",
       "      <td>Argentina</td>\n",
       "      <td>AR</td>\n",
       "      <td>...</td>\n",
       "      <td>SAEZ</td>\n",
       "      <td>EZE</td>\n",
       "      <td>EZE</td>\n",
       "      <td>http://www.aa2000.com.ar/index.php</td>\n",
       "      <td>https://en.wikipedia.org/wiki/Ministro_Pistari...</td>\n",
       "      <td>BUE, Ezeiza</td>\n",
       "      <td>1275</td>\n",
       "      <td>2022-10-27T15:05:29+00:00</td>\n",
       "      <td>Bajo</td>\n",
       "      <td>Buenos Aires Province</td>\n",
       "    </tr>\n",
       "    <tr>\n",
       "      <th>1</th>\n",
       "      <td>5771</td>\n",
       "      <td>SABE</td>\n",
       "      <td>large_airport</td>\n",
       "      <td>Jorge Newbery Airpark</td>\n",
       "      <td>-34.5592</td>\n",
       "      <td>-58.4156</td>\n",
       "      <td>18.0</td>\n",
       "      <td>SA</td>\n",
       "      <td>Argentina</td>\n",
       "      <td>AR</td>\n",
       "      <td>...</td>\n",
       "      <td>SABE</td>\n",
       "      <td>AEP</td>\n",
       "      <td>AER</td>\n",
       "      <td>NaN</td>\n",
       "      <td>https://en.wikipedia.org/wiki/Aeroparque_Jorge...</td>\n",
       "      <td>NaN</td>\n",
       "      <td>1050</td>\n",
       "      <td>2021-10-07T15:55:36+00:00</td>\n",
       "      <td>Bajo</td>\n",
       "      <td>Buenos Aires, Ciudad Autónoma de</td>\n",
       "    </tr>\n",
       "    <tr>\n",
       "      <th>2</th>\n",
       "      <td>5835</td>\n",
       "      <td>SAWH</td>\n",
       "      <td>medium_airport</td>\n",
       "      <td>Malvinas Argentinas Airport</td>\n",
       "      <td>-54.8433</td>\n",
       "      <td>-68.2958</td>\n",
       "      <td>102.0</td>\n",
       "      <td>SA</td>\n",
       "      <td>Argentina</td>\n",
       "      <td>AR</td>\n",
       "      <td>...</td>\n",
       "      <td>SAWH</td>\n",
       "      <td>USH</td>\n",
       "      <td>USU</td>\n",
       "      <td>NaN</td>\n",
       "      <td>https://en.wikipedia.org/wiki/Ushuaia_Internat...</td>\n",
       "      <td>NaN</td>\n",
       "      <td>750</td>\n",
       "      <td>2021-10-07T11:21:29+00:00</td>\n",
       "      <td>Bajo</td>\n",
       "      <td>Tierra del Fuego, Antártida e Islas del Atlánt...</td>\n",
       "    </tr>\n",
       "  </tbody>\n",
       "</table>\n",
       "<p>3 rows × 25 columns</p>\n",
       "</div>"
      ],
      "text/plain": [
       "     id ident            type                                      name  \\\n",
       "0  5781  SAEZ   large_airport  Minister Pistarini International Airport   \n",
       "1  5771  SABE   large_airport                     Jorge Newbery Airpark   \n",
       "2  5835  SAWH  medium_airport               Malvinas Argentinas Airport   \n",
       "\n",
       "   latitude_deg  longitude_deg  elevation_ft continent country_name  \\\n",
       "0      -34.8222       -58.5358          67.0        SA    Argentina   \n",
       "1      -34.5592       -58.4156          18.0        SA    Argentina   \n",
       "2      -54.8433       -68.2958         102.0        SA    Argentina   \n",
       "\n",
       "  iso_country  ... gps_code iata_code local_code  \\\n",
       "0          AR  ...     SAEZ       EZE        EZE   \n",
       "1          AR  ...     SABE       AEP        AER   \n",
       "2          AR  ...     SAWH       USH        USU   \n",
       "\n",
       "                            home_link  \\\n",
       "0  http://www.aa2000.com.ar/index.php   \n",
       "1                                 NaN   \n",
       "2                                 NaN   \n",
       "\n",
       "                                      wikipedia_link     keywords score  \\\n",
       "0  https://en.wikipedia.org/wiki/Ministro_Pistari...  BUE, Ezeiza  1275   \n",
       "1  https://en.wikipedia.org/wiki/Aeroparque_Jorge...          NaN  1050   \n",
       "2  https://en.wikipedia.org/wiki/Ushuaia_Internat...          NaN   750   \n",
       "\n",
       "                last_updated elevation_name  \\\n",
       "0  2022-10-27T15:05:29+00:00           Bajo   \n",
       "1  2021-10-07T15:55:36+00:00           Bajo   \n",
       "2  2021-10-07T11:21:29+00:00           Bajo   \n",
       "\n",
       "                                           prov_name  \n",
       "0                              Buenos Aires Province  \n",
       "1                   Buenos Aires, Ciudad Autónoma de  \n",
       "2  Tierra del Fuego, Antártida e Islas del Atlánt...  \n",
       "\n",
       "[3 rows x 25 columns]"
      ]
     },
     "execution_count": 30,
     "metadata": {},
     "output_type": "execute_result"
    }
   ],
   "source": [
    "df_airports[df_airports.type.str.contains('airport')].head(3)"
   ]
  },
  {
   "cell_type": "markdown",
   "id": "08316055-faee-4f97-bbc0-e5002408b0fc",
   "metadata": {
    "editable": true,
    "slideshow": {
     "slide_type": "subslide"
    },
    "tags": []
   },
   "source": [
    "```python\n",
    "df.column.str.contains('string')\n",
    "```\n",
    "Permite filtrar las filas que en la  **columna** se encuentre el string dado"
   ]
  },
  {
   "cell_type": "markdown",
   "id": "c1b982cb-fbcc-48e0-9172-ba94cd61a9d2",
   "metadata": {
    "editable": true,
    "slideshow": {
     "slide_type": "subslide"
    },
    "tags": []
   },
   "source": [
    "##### Filtrar con una lista que contenga las categorías que estamos buscando."
   ]
  },
  {
   "cell_type": "code",
   "execution_count": 31,
   "id": "39573c4c-0c83-493b-b3ad-112b4986647f",
   "metadata": {
    "editable": true,
    "slideshow": {
     "slide_type": "fragment"
    },
    "tags": []
   },
   "outputs": [
    {
     "data": {
      "text/plain": [
       "array(['large_airport', 'medium_airport', 'closed', 'small_airport',\n",
       "       'heliport', 'balloonport'], dtype=object)"
      ]
     },
     "execution_count": 31,
     "metadata": {},
     "output_type": "execute_result"
    }
   ],
   "source": [
    "df_airports.type.unique()"
   ]
  },
  {
   "cell_type": "code",
   "execution_count": 32,
   "id": "6c5166a5-1258-4842-bcca-776e6932099f",
   "metadata": {
    "editable": true,
    "slideshow": {
     "slide_type": "fragment"
    },
    "tags": []
   },
   "outputs": [],
   "source": [
    "airports_int = ['large_airport', 'medium_airport',  'small_airport']\n"
   ]
  },
  {
   "cell_type": "code",
   "execution_count": 35,
   "id": "f4faa826-67a8-40db-85a0-f50ceb37cd85",
   "metadata": {
    "editable": true,
    "slideshow": {
     "slide_type": "fragment"
    },
    "tags": []
   },
   "outputs": [],
   "source": [
    "df_airports_int = df_airports[df_airports.type.isin(airports_int)].head(3)\n"
   ]
  },
  {
   "cell_type": "code",
   "execution_count": 36,
   "id": "ca928ce3-e5bd-459a-9b14-d583adceb2db",
   "metadata": {
    "editable": true,
    "slideshow": {
     "slide_type": "fragment"
    },
    "tags": []
   },
   "outputs": [
    {
     "data": {
      "text/html": [
       "<div>\n",
       "<style scoped>\n",
       "    .dataframe tbody tr th:only-of-type {\n",
       "        vertical-align: middle;\n",
       "    }\n",
       "\n",
       "    .dataframe tbody tr th {\n",
       "        vertical-align: top;\n",
       "    }\n",
       "\n",
       "    .dataframe thead th {\n",
       "        text-align: right;\n",
       "    }\n",
       "</style>\n",
       "<table border=\"1\" class=\"dataframe\">\n",
       "  <thead>\n",
       "    <tr style=\"text-align: right;\">\n",
       "      <th></th>\n",
       "      <th>id</th>\n",
       "      <th>ident</th>\n",
       "      <th>type</th>\n",
       "      <th>name</th>\n",
       "      <th>latitude_deg</th>\n",
       "      <th>longitude_deg</th>\n",
       "      <th>elevation_ft</th>\n",
       "      <th>continent</th>\n",
       "      <th>country_name</th>\n",
       "      <th>iso_country</th>\n",
       "      <th>...</th>\n",
       "      <th>gps_code</th>\n",
       "      <th>iata_code</th>\n",
       "      <th>local_code</th>\n",
       "      <th>home_link</th>\n",
       "      <th>wikipedia_link</th>\n",
       "      <th>keywords</th>\n",
       "      <th>score</th>\n",
       "      <th>last_updated</th>\n",
       "      <th>elevation_name</th>\n",
       "      <th>prov_name</th>\n",
       "    </tr>\n",
       "  </thead>\n",
       "  <tbody>\n",
       "    <tr>\n",
       "      <th>0</th>\n",
       "      <td>5781</td>\n",
       "      <td>SAEZ</td>\n",
       "      <td>large_airport</td>\n",
       "      <td>Minister Pistarini International Airport</td>\n",
       "      <td>-34.8222</td>\n",
       "      <td>-58.5358</td>\n",
       "      <td>67.0</td>\n",
       "      <td>SA</td>\n",
       "      <td>Argentina</td>\n",
       "      <td>AR</td>\n",
       "      <td>...</td>\n",
       "      <td>SAEZ</td>\n",
       "      <td>EZE</td>\n",
       "      <td>EZE</td>\n",
       "      <td>http://www.aa2000.com.ar/index.php</td>\n",
       "      <td>https://en.wikipedia.org/wiki/Ministro_Pistari...</td>\n",
       "      <td>BUE, Ezeiza</td>\n",
       "      <td>1275</td>\n",
       "      <td>2022-10-27T15:05:29+00:00</td>\n",
       "      <td>Bajo</td>\n",
       "      <td>Buenos Aires Province</td>\n",
       "    </tr>\n",
       "    <tr>\n",
       "      <th>1</th>\n",
       "      <td>5771</td>\n",
       "      <td>SABE</td>\n",
       "      <td>large_airport</td>\n",
       "      <td>Jorge Newbery Airpark</td>\n",
       "      <td>-34.5592</td>\n",
       "      <td>-58.4156</td>\n",
       "      <td>18.0</td>\n",
       "      <td>SA</td>\n",
       "      <td>Argentina</td>\n",
       "      <td>AR</td>\n",
       "      <td>...</td>\n",
       "      <td>SABE</td>\n",
       "      <td>AEP</td>\n",
       "      <td>AER</td>\n",
       "      <td>NaN</td>\n",
       "      <td>https://en.wikipedia.org/wiki/Aeroparque_Jorge...</td>\n",
       "      <td>NaN</td>\n",
       "      <td>1050</td>\n",
       "      <td>2021-10-07T15:55:36+00:00</td>\n",
       "      <td>Bajo</td>\n",
       "      <td>Buenos Aires, Ciudad Autónoma de</td>\n",
       "    </tr>\n",
       "    <tr>\n",
       "      <th>2</th>\n",
       "      <td>5835</td>\n",
       "      <td>SAWH</td>\n",
       "      <td>medium_airport</td>\n",
       "      <td>Malvinas Argentinas Airport</td>\n",
       "      <td>-54.8433</td>\n",
       "      <td>-68.2958</td>\n",
       "      <td>102.0</td>\n",
       "      <td>SA</td>\n",
       "      <td>Argentina</td>\n",
       "      <td>AR</td>\n",
       "      <td>...</td>\n",
       "      <td>SAWH</td>\n",
       "      <td>USH</td>\n",
       "      <td>USU</td>\n",
       "      <td>NaN</td>\n",
       "      <td>https://en.wikipedia.org/wiki/Ushuaia_Internat...</td>\n",
       "      <td>NaN</td>\n",
       "      <td>750</td>\n",
       "      <td>2021-10-07T11:21:29+00:00</td>\n",
       "      <td>Bajo</td>\n",
       "      <td>Tierra del Fuego, Antártida e Islas del Atlánt...</td>\n",
       "    </tr>\n",
       "  </tbody>\n",
       "</table>\n",
       "<p>3 rows × 25 columns</p>\n",
       "</div>"
      ],
      "text/plain": [
       "     id ident            type                                      name  \\\n",
       "0  5781  SAEZ   large_airport  Minister Pistarini International Airport   \n",
       "1  5771  SABE   large_airport                     Jorge Newbery Airpark   \n",
       "2  5835  SAWH  medium_airport               Malvinas Argentinas Airport   \n",
       "\n",
       "   latitude_deg  longitude_deg  elevation_ft continent country_name  \\\n",
       "0      -34.8222       -58.5358          67.0        SA    Argentina   \n",
       "1      -34.5592       -58.4156          18.0        SA    Argentina   \n",
       "2      -54.8433       -68.2958         102.0        SA    Argentina   \n",
       "\n",
       "  iso_country  ... gps_code iata_code local_code  \\\n",
       "0          AR  ...     SAEZ       EZE        EZE   \n",
       "1          AR  ...     SABE       AEP        AER   \n",
       "2          AR  ...     SAWH       USH        USU   \n",
       "\n",
       "                            home_link  \\\n",
       "0  http://www.aa2000.com.ar/index.php   \n",
       "1                                 NaN   \n",
       "2                                 NaN   \n",
       "\n",
       "                                      wikipedia_link     keywords score  \\\n",
       "0  https://en.wikipedia.org/wiki/Ministro_Pistari...  BUE, Ezeiza  1275   \n",
       "1  https://en.wikipedia.org/wiki/Aeroparque_Jorge...          NaN  1050   \n",
       "2  https://en.wikipedia.org/wiki/Ushuaia_Internat...          NaN   750   \n",
       "\n",
       "                last_updated elevation_name  \\\n",
       "0  2022-10-27T15:05:29+00:00           Bajo   \n",
       "1  2021-10-07T15:55:36+00:00           Bajo   \n",
       "2  2021-10-07T11:21:29+00:00           Bajo   \n",
       "\n",
       "                                           prov_name  \n",
       "0                              Buenos Aires Province  \n",
       "1                   Buenos Aires, Ciudad Autónoma de  \n",
       "2  Tierra del Fuego, Antártida e Islas del Atlánt...  \n",
       "\n",
       "[3 rows x 25 columns]"
      ]
     },
     "execution_count": 36,
     "metadata": {},
     "output_type": "execute_result"
    }
   ],
   "source": [
    "df_airports_int"
   ]
  },
  {
   "cell_type": "markdown",
   "id": "61c37615-e108-4e01-8cf9-0d82cfd70791",
   "metadata": {
    "editable": true,
    "slideshow": {
     "slide_type": "subslide"
    },
    "tags": []
   },
   "source": [
    "```python\n",
    "df.columna.isin(lista)\n",
    "```\n",
    "Permite filtrar las filas cuyo contenido de la **columna** dada sea algunos de los elementos de la **lista** pasada como parámetro."
   ]
  },
  {
   "cell_type": "markdown",
   "id": "c2b4f91f-69e2-4e70-a28d-991d9bd8c72f",
   "metadata": {
    "editable": true,
    "slideshow": {
     "slide_type": "subslide"
    },
    "tags": []
   },
   "source": [
    "🚨 Encontrar los valores de los aeropuertos con las elevaciones 220, 290 o 639."
   ]
  },
  {
   "cell_type": "code",
   "execution_count": 37,
   "id": "2bfa700c-9216-4abc-94d6-3d1dfb814d0d",
   "metadata": {
    "editable": true,
    "slideshow": {
     "slide_type": "skip"
    },
    "tags": []
   },
   "outputs": [
    {
     "data": {
      "text/html": [
       "<div>\n",
       "<style scoped>\n",
       "    .dataframe tbody tr th:only-of-type {\n",
       "        vertical-align: middle;\n",
       "    }\n",
       "\n",
       "    .dataframe tbody tr th {\n",
       "        vertical-align: top;\n",
       "    }\n",
       "\n",
       "    .dataframe thead th {\n",
       "        text-align: right;\n",
       "    }\n",
       "</style>\n",
       "<table border=\"1\" class=\"dataframe\">\n",
       "  <thead>\n",
       "    <tr style=\"text-align: right;\">\n",
       "      <th></th>\n",
       "      <th>id</th>\n",
       "      <th>ident</th>\n",
       "      <th>type</th>\n",
       "      <th>name</th>\n",
       "      <th>latitude_deg</th>\n",
       "      <th>longitude_deg</th>\n",
       "      <th>elevation_ft</th>\n",
       "      <th>continent</th>\n",
       "      <th>country_name</th>\n",
       "      <th>iso_country</th>\n",
       "      <th>...</th>\n",
       "      <th>gps_code</th>\n",
       "      <th>iata_code</th>\n",
       "      <th>local_code</th>\n",
       "      <th>home_link</th>\n",
       "      <th>wikipedia_link</th>\n",
       "      <th>keywords</th>\n",
       "      <th>score</th>\n",
       "      <th>last_updated</th>\n",
       "      <th>elevation_name</th>\n",
       "      <th>prov_name</th>\n",
       "    </tr>\n",
       "  </thead>\n",
       "  <tbody>\n",
       "    <tr>\n",
       "      <th>338</th>\n",
       "      <td>348465</td>\n",
       "      <td>AR-0699</td>\n",
       "      <td>small_airport</td>\n",
       "      <td>Mazaredo Airport</td>\n",
       "      <td>-47.077130</td>\n",
       "      <td>-66.693640</td>\n",
       "      <td>220.0</td>\n",
       "      <td>SA</td>\n",
       "      <td>Argentina</td>\n",
       "      <td>AR</td>\n",
       "      <td>...</td>\n",
       "      <td>NaN</td>\n",
       "      <td>NaN</td>\n",
       "      <td>NaN</td>\n",
       "      <td>NaN</td>\n",
       "      <td>NaN</td>\n",
       "      <td>NaN</td>\n",
       "      <td>50</td>\n",
       "      <td>2021-10-07T13:34:20+00:00</td>\n",
       "      <td>Medio</td>\n",
       "      <td>Santa Cruz Province</td>\n",
       "    </tr>\n",
       "    <tr>\n",
       "      <th>357</th>\n",
       "      <td>318252</td>\n",
       "      <td>AR-0524</td>\n",
       "      <td>small_airport</td>\n",
       "      <td>Bernardo's Airport</td>\n",
       "      <td>-32.250600</td>\n",
       "      <td>-61.651900</td>\n",
       "      <td>290.0</td>\n",
       "      <td>SA</td>\n",
       "      <td>Argentina</td>\n",
       "      <td>AR</td>\n",
       "      <td>...</td>\n",
       "      <td>NaN</td>\n",
       "      <td>NaN</td>\n",
       "      <td>TDB</td>\n",
       "      <td>NaN</td>\n",
       "      <td>NaN</td>\n",
       "      <td>NaN</td>\n",
       "      <td>50</td>\n",
       "      <td>2016-06-03T17:44:42+00:00</td>\n",
       "      <td>Medio</td>\n",
       "      <td>Santa Fe</td>\n",
       "    </tr>\n",
       "    <tr>\n",
       "      <th>938</th>\n",
       "      <td>333824</td>\n",
       "      <td>AR-0654</td>\n",
       "      <td>closed</td>\n",
       "      <td>Agrodistribuidora Airstrip</td>\n",
       "      <td>-29.220089</td>\n",
       "      <td>-61.760298</td>\n",
       "      <td>220.0</td>\n",
       "      <td>SA</td>\n",
       "      <td>Argentina</td>\n",
       "      <td>AR</td>\n",
       "      <td>...</td>\n",
       "      <td>NaN</td>\n",
       "      <td>NaN</td>\n",
       "      <td>NaN</td>\n",
       "      <td>NaN</td>\n",
       "      <td>NaN</td>\n",
       "      <td>NaN</td>\n",
       "      <td>0</td>\n",
       "      <td>2020-04-12T12:30:36+00:00</td>\n",
       "      <td>Medio</td>\n",
       "      <td>Santa Fe Province</td>\n",
       "    </tr>\n",
       "    <tr>\n",
       "      <th>939</th>\n",
       "      <td>42893</td>\n",
       "      <td>AR-0471</td>\n",
       "      <td>heliport</td>\n",
       "      <td>Dayry Partners Americas Manufacturing Argentin...</td>\n",
       "      <td>-32.440000</td>\n",
       "      <td>-63.228900</td>\n",
       "      <td>639.0</td>\n",
       "      <td>SA</td>\n",
       "      <td>Argentina</td>\n",
       "      <td>AR</td>\n",
       "      <td>...</td>\n",
       "      <td>NaN</td>\n",
       "      <td>NaN</td>\n",
       "      <td>HNE</td>\n",
       "      <td>NaN</td>\n",
       "      <td>NaN</td>\n",
       "      <td>NaN</td>\n",
       "      <td>0</td>\n",
       "      <td>2009-10-20T11:13:21+00:00</td>\n",
       "      <td>Medio</td>\n",
       "      <td>Córdoba</td>\n",
       "    </tr>\n",
       "    <tr>\n",
       "      <th>942</th>\n",
       "      <td>42905</td>\n",
       "      <td>AR-0483</td>\n",
       "      <td>heliport</td>\n",
       "      <td>Austral S.A. Heliport</td>\n",
       "      <td>-52.738600</td>\n",
       "      <td>-68.572500</td>\n",
       "      <td>290.0</td>\n",
       "      <td>SA</td>\n",
       "      <td>Argentina</td>\n",
       "      <td>AR</td>\n",
       "      <td>...</td>\n",
       "      <td>NaN</td>\n",
       "      <td>NaN</td>\n",
       "      <td>HCP</td>\n",
       "      <td>NaN</td>\n",
       "      <td>NaN</td>\n",
       "      <td>NaN</td>\n",
       "      <td>0</td>\n",
       "      <td>2021-10-07T11:46:03+00:00</td>\n",
       "      <td>Medio</td>\n",
       "      <td>Tierra del Fuego Province</td>\n",
       "    </tr>\n",
       "  </tbody>\n",
       "</table>\n",
       "<p>5 rows × 25 columns</p>\n",
       "</div>"
      ],
      "text/plain": [
       "         id    ident           type  \\\n",
       "338  348465  AR-0699  small_airport   \n",
       "357  318252  AR-0524  small_airport   \n",
       "938  333824  AR-0654         closed   \n",
       "939   42893  AR-0471       heliport   \n",
       "942   42905  AR-0483       heliport   \n",
       "\n",
       "                                                  name  latitude_deg  \\\n",
       "338                                   Mazaredo Airport    -47.077130   \n",
       "357                                 Bernardo's Airport    -32.250600   \n",
       "938                         Agrodistribuidora Airstrip    -29.220089   \n",
       "939  Dayry Partners Americas Manufacturing Argentin...    -32.440000   \n",
       "942                              Austral S.A. Heliport    -52.738600   \n",
       "\n",
       "     longitude_deg  elevation_ft continent country_name iso_country  ...  \\\n",
       "338     -66.693640         220.0        SA    Argentina          AR  ...   \n",
       "357     -61.651900         290.0        SA    Argentina          AR  ...   \n",
       "938     -61.760298         220.0        SA    Argentina          AR  ...   \n",
       "939     -63.228900         639.0        SA    Argentina          AR  ...   \n",
       "942     -68.572500         290.0        SA    Argentina          AR  ...   \n",
       "\n",
       "    gps_code iata_code local_code home_link  wikipedia_link keywords score  \\\n",
       "338      NaN       NaN        NaN       NaN             NaN      NaN    50   \n",
       "357      NaN       NaN        TDB       NaN             NaN      NaN    50   \n",
       "938      NaN       NaN        NaN       NaN             NaN      NaN     0   \n",
       "939      NaN       NaN        HNE       NaN             NaN      NaN     0   \n",
       "942      NaN       NaN        HCP       NaN             NaN      NaN     0   \n",
       "\n",
       "                  last_updated elevation_name                  prov_name  \n",
       "338  2021-10-07T13:34:20+00:00          Medio        Santa Cruz Province  \n",
       "357  2016-06-03T17:44:42+00:00          Medio                   Santa Fe  \n",
       "938  2020-04-12T12:30:36+00:00          Medio          Santa Fe Province  \n",
       "939  2009-10-20T11:13:21+00:00          Medio                    Córdoba  \n",
       "942  2021-10-07T11:46:03+00:00          Medio  Tierra del Fuego Province  \n",
       "\n",
       "[5 rows x 25 columns]"
      ]
     },
     "execution_count": 37,
     "metadata": {},
     "output_type": "execute_result"
    }
   ],
   "source": [
    "elevations_ask = [220, 290,639]\n",
    "df_airports[df_airports.elevation_ft.isin(elevations_ask)]"
   ]
  },
  {
   "cell_type": "markdown",
   "id": "833c4892-7f1e-4b3a-8182-543e835b1d26",
   "metadata": {
    "editable": true,
    "slideshow": {
     "slide_type": "slide"
    },
    "tags": []
   },
   "source": [
    "# 🎒 Gráficos con Matplotlib"
   ]
  },
  {
   "cell_type": "markdown",
   "id": "0115b1d5-92c3-4e45-9349-526636df22c4",
   "metadata": {
    "editable": true,
    "slideshow": {
     "slide_type": "fragment"
    },
    "tags": []
   },
   "source": [
    "¿Qué tipos de gráficos conocen?"
   ]
  },
  {
   "cell_type": "markdown",
   "id": "f8f0e7bf-24c5-46f1-9a97-a6f8a6164c36",
   "metadata": {
    "editable": true,
    "slideshow": {
     "slide_type": "fragment"
    },
    "tags": []
   },
   "source": [
    "Con Matplotlib se pueden realizar\n",
    "* Barra\n",
    "* Línea\n",
    "* Torta\n",
    "* Scatter\n",
    "* Histograma\n",
    "* Boxplot\n",
    "* 3D\n",
    "* [y muchos más](https://matplotlib.org/stable/plot_types/index.html)"
   ]
  },
  {
   "cell_type": "markdown",
   "id": "8159d912-bd1c-4d45-89e3-b78cf95739bf",
   "metadata": {
    "editable": true,
    "slideshow": {
     "slide_type": "subslide"
    },
    "tags": []
   },
   "source": [
    "Primero importamos:"
   ]
  },
  {
   "cell_type": "code",
   "execution_count": null,
   "id": "5628270e-d1e1-4c82-8f7f-c50aa70e0502",
   "metadata": {
    "editable": true,
    "slideshow": {
     "slide_type": "fragment"
    },
    "tags": []
   },
   "outputs": [],
   "source": [
    "import matplotlib.pyplot as plt"
   ]
  },
  {
   "cell_type": "markdown",
   "id": "50684042-5c90-483e-a8dd-22753084be50",
   "metadata": {
    "editable": true,
    "slideshow": {
     "slide_type": "subslide"
    },
    "tags": []
   },
   "source": [
    "### Generar gráficos simples\n",
    "Graficar los tipos de aeropuertos según el tipo\n",
    "* barra\n",
    "* torta"
   ]
  },
  {
   "cell_type": "markdown",
   "id": "0cefeda9-8758-4adc-9035-9cb231dcaa28",
   "metadata": {
    "editable": true,
    "slideshow": {
     "slide_type": "subslide"
    },
    "tags": []
   },
   "source": [
    "#### Utilizando plot directamente con los valores contados"
   ]
  },
  {
   "cell_type": "code",
   "execution_count": null,
   "id": "9de5ff1d-a752-4c06-91ef-751065e86f04",
   "metadata": {
    "editable": true,
    "slideshow": {
     "slide_type": "fragment"
    },
    "tags": []
   },
   "outputs": [],
   "source": [
    "conteo_tipos = df_airports_int.type.value_counts()"
   ]
  },
  {
   "cell_type": "markdown",
   "id": "59abdf73-f841-4e3b-a8bc-0596ff607f52",
   "metadata": {
    "editable": true,
    "slideshow": {
     "slide_type": "fragment"
    },
    "tags": []
   },
   "source": [
    "### Crear el gráfico de barra"
   ]
  },
  {
   "cell_type": "code",
   "execution_count": null,
   "id": "15165b7b-dcc6-4f4c-8573-bca2a3958e74",
   "metadata": {
    "editable": true,
    "slideshow": {
     "slide_type": "subslide"
    },
    "tags": []
   },
   "outputs": [],
   "source": [
    "conteo_tipos.plot(kind='bar', xlabel='Tipo de aeropuerto', ylabel='Cantidad', title='Cantidad de aeropuertos por tipo')\n",
    "plt.show()"
   ]
  },
  {
   "cell_type": "markdown",
   "id": "e72c8a9d-9f9b-406a-9aa1-54ff81fb85e0",
   "metadata": {
    "editable": true,
    "slideshow": {
     "slide_type": "subslide"
    },
    "tags": []
   },
   "source": [
    "### Crear el gráfico de torta"
   ]
  },
  {
   "cell_type": "code",
   "execution_count": null,
   "id": "a656480e-c304-4345-a4ca-8111814824d3",
   "metadata": {
    "editable": true,
    "slideshow": {
     "slide_type": "fragment"
    },
    "tags": []
   },
   "outputs": [],
   "source": [
    "\n",
    "conteo_tipos.plot(kind='pie', autopct='%1.1f%%', title='Proporción de aeropuertos por tipo')\n",
    "\n",
    "# Mostrar el gráfico de torta\n",
    "plt.show()"
   ]
  },
  {
   "cell_type": "markdown",
   "id": "fc0cfb35-785c-4f7a-83ae-2445b40dbb96",
   "metadata": {
    "editable": true,
    "slideshow": {
     "slide_type": "subslide"
    },
    "tags": []
   },
   "source": [
    "#### Utilizando las funciones de Matplotlib "
   ]
  },
  {
   "cell_type": "code",
   "execution_count": null,
   "id": "fd82c03a-c9af-435c-bf98-e8bdff8e1d12",
   "metadata": {
    "editable": true,
    "slideshow": {
     "slide_type": "fragment"
    },
    "tags": []
   },
   "outputs": [],
   "source": [
    "values = df_airports_int.type.value_counts().values\n",
    "labels = df_airports_int.type.value_counts().index"
   ]
  },
  {
   "cell_type": "markdown",
   "id": "eb2be4dd-e1a5-40ee-b363-8b3e16f6ab0c",
   "metadata": {
    "editable": true,
    "slideshow": {
     "slide_type": "subslide"
    },
    "tags": []
   },
   "source": [
    "## 📌 Crear el gráfico de barras"
   ]
  },
  {
   "cell_type": "code",
   "execution_count": null,
   "id": "422f27fa-51ae-405e-bfb5-f72892dc5cd6",
   "metadata": {
    "editable": true,
    "slideshow": {
     "slide_type": "fragment"
    },
    "tags": []
   },
   "outputs": [],
   "source": [
    "plt.bar(labels,values)\n",
    "# Agregar etiquetas y título\n",
    "plt.xlabel('Tipo de aeropuerto')\n",
    "plt.ylabel('Cantidad')\n",
    "plt.title('Cantidad de aeropuertos por tipo')\n",
    "\n",
    "# Rotar etiquetas en el eje x para mejor legibilidad\n",
    "plt.xticks(rotation=45)\n",
    "# Mostrar el gráfico de barras\n",
    "plt.show()"
   ]
  },
  {
   "cell_type": "code",
   "execution_count": null,
   "id": "adb8c29f-e3cd-42ee-8bae-9aee77f43733",
   "metadata": {
    "editable": true,
    "slideshow": {
     "slide_type": ""
    },
    "tags": []
   },
   "outputs": [],
   "source": []
  },
  {
   "cell_type": "markdown",
   "id": "4a59574f-b46b-4572-8c3b-6f604d52cd35",
   "metadata": {
    "editable": true,
    "slideshow": {
     "slide_type": "subslide"
    },
    "tags": []
   },
   "source": [
    "## 📌Crear el gráfico de torta"
   ]
  },
  {
   "cell_type": "code",
   "execution_count": null,
   "id": "5c892ca5-1c53-44fb-9b63-174c6081e669",
   "metadata": {
    "editable": true,
    "slideshow": {
     "slide_type": "fragment"
    },
    "tags": []
   },
   "outputs": [],
   "source": [
    "\n",
    "plt.pie(values, labels=labels, autopct='%1.1f%%')\n",
    "\n",
    "# Agregar título\n",
    "plt.title('Proporción de aeropuertos por tipo')\n",
    "\n",
    "# Mostrar el gráfico de torta\n",
    "plt.show()\n"
   ]
  },
  {
   "cell_type": "code",
   "execution_count": null,
   "id": "919feb88-6eed-4db7-92b4-e3050dc7cf8b",
   "metadata": {
    "editable": true,
    "slideshow": {
     "slide_type": "subslide"
    },
    "tags": []
   },
   "outputs": [],
   "source": [
    "\n",
    "import squarify    # pip install squarify (se necesita instalar para generar gráficos treemap)\n",
    "\n",
    "squarify.plot(sizes=values, label=labels, alpha=.7 )\n",
    "plt.axis('off')\n",
    "plt.show()"
   ]
  },
  {
   "cell_type": "code",
   "execution_count": null,
   "id": "7965dcf7-49b7-458d-8ace-b92e3eea432d",
   "metadata": {
    "editable": true,
    "slideshow": {
     "slide_type": ""
    },
    "tags": []
   },
   "outputs": [],
   "source": []
  },
  {
   "cell_type": "markdown",
   "id": "a6b74136-96e7-4894-bdf8-201d71b4ebc2",
   "metadata": {
    "editable": true,
    "slideshow": {
     "slide_type": "subslide"
    },
    "tags": []
   },
   "source": [
    "# Para pensar en casa\n",
    "* ¿Cómo manejar valores faltantes y duplicados en un conjunto de datos?\n",
    "* ¿Cómo agregamos columnas, y cómo podemos hacerlo aplicando una función?\n",
    "* ¿Qué técnicas ofrece Pandas para realizar agregaciones y agrupaciones de datos?\n",
    "* Nuestros datos y gráficos interactuando con Streamlit."
   ]
  },
  {
   "cell_type": "markdown",
   "id": "a232849a-6c34-485a-aeca-ff20d1a0a493",
   "metadata": {
    "collapsed": true,
    "editable": true,
    "jupyter": {
     "outputs_hidden": true
    },
    "slideshow": {
     "slide_type": ""
    },
    "tags": []
   },
   "source": [
    "# Seguimos la próxima ..."
   ]
  },
  {
   "cell_type": "code",
   "execution_count": null,
   "id": "b85ed35c-b5c4-4823-a012-c3621a698a98",
   "metadata": {
    "editable": true,
    "slideshow": {
     "slide_type": ""
    },
    "tags": []
   },
   "outputs": [],
   "source": []
  }
 ],
 "metadata": {
  "kernelspec": {
   "display_name": "Python 3 (ipykernel)",
   "language": "python",
   "name": "python3"
  },
  "language_info": {
   "codemirror_mode": {
    "name": "ipython",
    "version": 3
   },
   "file_extension": ".py",
   "mimetype": "text/x-python",
   "name": "python",
   "nbconvert_exporter": "python",
   "pygments_lexer": "ipython3",
   "version": "3.11.2"
  },
  "rise": {
   "autolaunch": true,
   "enable_chalkboard": true,
   "scroll": true,
   "theme": "sky"
  }
 },
 "nbformat": 4,
 "nbformat_minor": 5
}
