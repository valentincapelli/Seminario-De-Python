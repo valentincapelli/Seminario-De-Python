{
 "cells": [
  {
   "cell_type": "markdown",
   "id": "6bc4fa7a-d895-437f-8377-2913478834f0",
   "metadata": {},
   "source": [
    "# Seminario de Lenguajes - Python\n",
    "\n",
    "## Cursada 2024\n",
    "### Continuamos con el análisis de datos\n",
    "* Pandas\n",
    "* Matplotlib\n",
    "* Mostramos todo en Streamlit\n"
   ]
  },
  {
   "cell_type": "markdown",
   "id": "2773a904-fffb-4a52-bcf6-2cbc81a30ab1",
   "metadata": {},
   "source": [
    "## 💢 ¿Qué vimos en la clase anterior?\n",
    "En la clase pasada estuvimos viendo algunos conceptos sobre:\n",
    "* Tipos de datos básicos de Pandas:"
   ]
  },
  {
   "cell_type": "markdown",
   "id": "25d78878-1f4b-426e-b075-5d254467a8e2",
   "metadata": {},
   "source": [
    "* Series\n",
    "* Dataframe"
   ]
  },
  {
   "cell_type": "markdown",
   "id": "f969cd50-08d1-4905-b82a-118298acc35b",
   "metadata": {},
   "source": [
    "### Conocer el dataset:\n",
    "* primeras o últimas filas\n",
    "* cantidad de filas y columnas\n",
    "* info de los datos y cálculos básicos estadísticos"
   ]
  },
  {
   "cell_type": "markdown",
   "id": "432df85e-fd7d-4de0-9da3-4493599f9766",
   "metadata": {},
   "source": [
    "* primeras: **head()**\n",
    "* últimas: **tail()**\n",
    "* filas y columnas: **shape**\n",
    "* columnas: **columns**\n",
    "* información de tipos de datos y cantidad de datos nulos: **info()**\n",
    "* cálculos básicos de estadística: **describe()**\n"
   ]
  },
  {
   "cell_type": "markdown",
   "id": "543fc6b1-1ffa-4a46-9069-ef2b368b2e34",
   "metadata": {},
   "source": [
    "### Acceso a los datos: posición numérica y por etiqueta"
   ]
  },
  {
   "cell_type": "markdown",
   "id": "05a3e6f8-9083-4cea-801b-7004718d5355",
   "metadata": {},
   "source": [
    "* posición numérica: **iloc**\n",
    "* identificación por etiqueta: **loc**"
   ]
  },
  {
   "cell_type": "markdown",
   "id": "c258619f-d613-4c58-8d5d-bbe8a3486900",
   "metadata": {},
   "source": [
    "### Manipulación de Datos\n",
    "* Filtrando los datos\n",
    "* Modificación de nombres de columnas"
   ]
  },
  {
   "cell_type": "code",
   "execution_count": 1,
   "id": "c1fad440-6d81-49ce-9060-f512afdb22e4",
   "metadata": {},
   "outputs": [],
   "source": [
    "import pandas as pd\n",
    "from pathlib import Path"
   ]
  },
  {
   "cell_type": "code",
   "execution_count": 2,
   "id": "2ca40ac6-b051-43f9-aeff-f5d529d4eff7",
   "metadata": {},
   "outputs": [],
   "source": [
    "file_route = Path('files')\n",
    "file_data = 'ar-airports.csv'\n",
    "df_airports = pd.read_csv(file_data)"
   ]
  },
  {
   "cell_type": "markdown",
   "id": "ab3fa114-e381-465a-80b1-87700487b85b",
   "metadata": {},
   "source": [
    "### Reemplazos de valores en las celdas"
   ]
  },
  {
   "cell_type": "code",
   "execution_count": 3,
   "id": "650fd839-cebc-431c-a811-c272edc97295",
   "metadata": {},
   "outputs": [
    {
     "data": {
      "text/plain": [
       "2     Tierra del Fuego Province\n",
       "18    Tierra del Fuego Province\n",
       "41    Tierra del Fuego Province\n",
       "Name: region_name, dtype: object"
      ]
     },
     "execution_count": 3,
     "metadata": {},
     "output_type": "execute_result"
    }
   ],
   "source": [
    "df_airports[df_airports.region_name.str.contains('Tierra del Fuego')]['region_name'].head(3)"
   ]
  },
  {
   "cell_type": "markdown",
   "id": "fe919b5c-8baf-4f2b-b30d-9b1e38e04d41",
   "metadata": {},
   "source": [
    "¿Cómo reemplazamos?"
   ]
  },
  {
   "cell_type": "code",
   "execution_count": 4,
   "id": "06002c6f-4eb9-46c3-a8e5-a35a773e8cd6",
   "metadata": {},
   "outputs": [],
   "source": [
    "df_airports.region_name.replace('Tierra del Fuego Province', 'Tierra del Fuego, Antártida e Islas del Atlántico Sur', inplace=True)"
   ]
  },
  {
   "cell_type": "code",
   "execution_count": 5,
   "id": "9e6a6451-46e9-4b08-ab0a-bebd8e4495f7",
   "metadata": {},
   "outputs": [
    {
     "data": {
      "text/plain": [
       "2     Tierra del Fuego, Antártida e Islas del Atlánt...\n",
       "18    Tierra del Fuego, Antártida e Islas del Atlánt...\n",
       "41    Tierra del Fuego, Antártida e Islas del Atlánt...\n",
       "Name: region_name, dtype: object"
      ]
     },
     "execution_count": 5,
     "metadata": {},
     "output_type": "execute_result"
    }
   ],
   "source": [
    "df_airports[df_airports.region_name.str.contains('Tierra del Fuego')]['region_name'].head(3)"
   ]
  },
  {
   "cell_type": "markdown",
   "id": "7cb87cb0-9cb0-4831-b074-7677dbb22c7a",
   "metadata": {},
   "source": [
    "¿Qué significa **inplace==True**?"
   ]
  },
  {
   "cell_type": "markdown",
   "id": "234b8234-cc57-446d-ae60-56371dab4f82",
   "metadata": {},
   "source": [
    "Realicemos una modificación de\n",
    "* **'Río Negro Province'** -> **'Río Negro'**"
   ]
  },
  {
   "cell_type": "code",
   "execution_count": 6,
   "id": "8a68470f-e836-44d6-aff2-efa196e2554f",
   "metadata": {},
   "outputs": [
    {
     "data": {
      "text/plain": [
       "6     Río Negro Province\n",
       "9     Río Negro Province\n",
       "38    Río Negro Province\n",
       "Name: region_name, dtype: object"
      ]
     },
     "execution_count": 6,
     "metadata": {},
     "output_type": "execute_result"
    }
   ],
   "source": [
    "df_airports[df_airports.region_name.str.contains('Negro')]['region_name'].head(3)"
   ]
  },
  {
   "cell_type": "code",
   "execution_count": 7,
   "id": "437ff67f-ec8c-4b7e-bf15-3e16f67920b4",
   "metadata": {},
   "outputs": [
    {
     "data": {
      "text/plain": [
       "0                                  Buenos Aires Province\n",
       "1                         Buenos Aires (Autonomous City)\n",
       "2      Tierra del Fuego, Antártida e Islas del Atlánt...\n",
       "3                                    Santa Cruz Province\n",
       "4                                      Misiones Province\n",
       "                             ...                        \n",
       "938                                    Santa Fe Province\n",
       "939                                     Córdoba Province\n",
       "940                         Santiago del Estero Province\n",
       "941                                     Córdoba Province\n",
       "942    Tierra del Fuego, Antártida e Islas del Atlánt...\n",
       "Name: region_name, Length: 943, dtype: object"
      ]
     },
     "execution_count": 7,
     "metadata": {},
     "output_type": "execute_result"
    }
   ],
   "source": [
    "df_airports.region_name.replace('Río Negro Province', 'Río Negro')\n",
    "    "
   ]
  },
  {
   "cell_type": "markdown",
   "id": "d5dcd812-a45d-42a3-b45a-ce664a581e2a",
   "metadata": {},
   "source": [
    "¿Se realizó el cambio?"
   ]
  },
  {
   "cell_type": "code",
   "execution_count": 8,
   "id": "52279d50-379f-4e18-800f-a6bb51760f8f",
   "metadata": {},
   "outputs": [
    {
     "data": {
      "text/plain": [
       "6     Río Negro Province\n",
       "9     Río Negro Province\n",
       "38    Río Negro Province\n",
       "Name: region_name, dtype: object"
      ]
     },
     "execution_count": 8,
     "metadata": {},
     "output_type": "execute_result"
    }
   ],
   "source": [
    "df_airports[df_airports.region_name.str.contains('Negro')]['region_name'].head(3)"
   ]
  },
  {
   "cell_type": "markdown",
   "id": "e91f2310-d524-4ccb-abea-14d6be4f21c2",
   "metadata": {},
   "source": [
    "**inplace** hace el reemplazo sin tener que guardar el dataframe modificado en una nueva variable."
   ]
  },
  {
   "cell_type": "markdown",
   "id": "3f54bf07-5c64-4d3f-b6ce-cf862b39c4aa",
   "metadata": {},
   "source": [
    "## 🎒 Renombrar las columnas"
   ]
  },
  {
   "cell_type": "markdown",
   "id": "efcfcd34-60e8-4a42-a86d-7411dc4fa36f",
   "metadata": {},
   "source": [
    "Renombrar la columna:\n",
    "* **'name'** -> **'Nombre'**\n",
    "\n",
    "Trabajemos con un dataframe más reducido."
   ]
  },
  {
   "cell_type": "code",
   "execution_count": 10,
   "id": "886cf1b4-f233-4698-aaca-793b1386bc6c",
   "metadata": {},
   "outputs": [],
   "source": [
    "df_reduced =  df_airports[['type','name']]"
   ]
  },
  {
   "cell_type": "markdown",
   "id": "3b0f9944-1ddb-4655-a404-63572d011a3c",
   "metadata": {},
   "source": [
    "¿Por qué usamos doble **[** **]** ?"
   ]
  },
  {
   "cell_type": "code",
   "execution_count": 11,
   "id": "d4f3703a-991c-4f89-b724-2a511321ad09",
   "metadata": {},
   "outputs": [
    {
     "data": {
      "text/html": [
       "<div>\n",
       "<style scoped>\n",
       "    .dataframe tbody tr th:only-of-type {\n",
       "        vertical-align: middle;\n",
       "    }\n",
       "\n",
       "    .dataframe tbody tr th {\n",
       "        vertical-align: top;\n",
       "    }\n",
       "\n",
       "    .dataframe thead th {\n",
       "        text-align: right;\n",
       "    }\n",
       "</style>\n",
       "<table border=\"1\" class=\"dataframe\">\n",
       "  <thead>\n",
       "    <tr style=\"text-align: right;\">\n",
       "      <th></th>\n",
       "      <th>type</th>\n",
       "      <th>Nombre</th>\n",
       "    </tr>\n",
       "  </thead>\n",
       "  <tbody>\n",
       "    <tr>\n",
       "      <th>0</th>\n",
       "      <td>large_airport</td>\n",
       "      <td>Minister Pistarini International Airport</td>\n",
       "    </tr>\n",
       "    <tr>\n",
       "      <th>1</th>\n",
       "      <td>large_airport</td>\n",
       "      <td>Jorge Newbery Airpark</td>\n",
       "    </tr>\n",
       "    <tr>\n",
       "      <th>2</th>\n",
       "      <td>medium_airport</td>\n",
       "      <td>Malvinas Argentinas Airport</td>\n",
       "    </tr>\n",
       "  </tbody>\n",
       "</table>\n",
       "</div>"
      ],
      "text/plain": [
       "             type                                    Nombre\n",
       "0   large_airport  Minister Pistarini International Airport\n",
       "1   large_airport                     Jorge Newbery Airpark\n",
       "2  medium_airport               Malvinas Argentinas Airport"
      ]
     },
     "execution_count": 11,
     "metadata": {},
     "output_type": "execute_result"
    }
   ],
   "source": [
    "df_reduced.rename(columns={'name': 'Nombre'}).head(3)"
   ]
  },
  {
   "cell_type": "code",
   "execution_count": 12,
   "id": "c9c0065a-8e67-4278-93ee-6b175fa9b1c3",
   "metadata": {},
   "outputs": [
    {
     "data": {
      "text/plain": [
       "Index(['type', 'name'], dtype='object')"
      ]
     },
     "execution_count": 12,
     "metadata": {},
     "output_type": "execute_result"
    }
   ],
   "source": [
    "df_reduced.columns"
   ]
  },
  {
   "cell_type": "markdown",
   "id": "3f3c7bc2-40c8-48e5-aec9-5292b44eaa18",
   "metadata": {},
   "source": [
    "Usamos **inplace** si estamos seguros de los cambios que vamos a realizar"
   ]
  },
  {
   "cell_type": "code",
   "execution_count": 13,
   "id": "d01d35d8-58f0-4c03-bc70-00e6a9688b36",
   "metadata": {},
   "outputs": [
    {
     "name": "stderr",
     "output_type": "stream",
     "text": [
      "C:\\Users\\Valentin\\AppData\\Local\\Temp\\ipykernel_16392\\2852262235.py:1: SettingWithCopyWarning: \n",
      "A value is trying to be set on a copy of a slice from a DataFrame\n",
      "\n",
      "See the caveats in the documentation: https://pandas.pydata.org/pandas-docs/stable/user_guide/indexing.html#returning-a-view-versus-a-copy\n",
      "  df_reduced.rename(columns={'name': 'Nombre'}, inplace=True)\n"
     ]
    }
   ],
   "source": [
    "df_reduced.rename(columns={'name': 'Nombre'}, inplace=True)"
   ]
  },
  {
   "cell_type": "code",
   "execution_count": 14,
   "id": "6b1ce667-917e-4c8f-bfc4-e06cb1fda27d",
   "metadata": {},
   "outputs": [
    {
     "data": {
      "text/html": [
       "<div>\n",
       "<style scoped>\n",
       "    .dataframe tbody tr th:only-of-type {\n",
       "        vertical-align: middle;\n",
       "    }\n",
       "\n",
       "    .dataframe tbody tr th {\n",
       "        vertical-align: top;\n",
       "    }\n",
       "\n",
       "    .dataframe thead th {\n",
       "        text-align: right;\n",
       "    }\n",
       "</style>\n",
       "<table border=\"1\" class=\"dataframe\">\n",
       "  <thead>\n",
       "    <tr style=\"text-align: right;\">\n",
       "      <th></th>\n",
       "      <th>type</th>\n",
       "      <th>Nombre</th>\n",
       "    </tr>\n",
       "  </thead>\n",
       "  <tbody>\n",
       "    <tr>\n",
       "      <th>0</th>\n",
       "      <td>large_airport</td>\n",
       "      <td>Minister Pistarini International Airport</td>\n",
       "    </tr>\n",
       "    <tr>\n",
       "      <th>1</th>\n",
       "      <td>large_airport</td>\n",
       "      <td>Jorge Newbery Airpark</td>\n",
       "    </tr>\n",
       "    <tr>\n",
       "      <th>2</th>\n",
       "      <td>medium_airport</td>\n",
       "      <td>Malvinas Argentinas Airport</td>\n",
       "    </tr>\n",
       "    <tr>\n",
       "      <th>3</th>\n",
       "      <td>medium_airport</td>\n",
       "      <td>El Calafate - Commander Armando Tola Internati...</td>\n",
       "    </tr>\n",
       "    <tr>\n",
       "      <th>4</th>\n",
       "      <td>medium_airport</td>\n",
       "      <td>Cataratas Del Iguazú International Airport</td>\n",
       "    </tr>\n",
       "    <tr>\n",
       "      <th>...</th>\n",
       "      <td>...</td>\n",
       "      <td>...</td>\n",
       "    </tr>\n",
       "    <tr>\n",
       "      <th>938</th>\n",
       "      <td>closed</td>\n",
       "      <td>Agrodistribuidora Airstrip</td>\n",
       "    </tr>\n",
       "    <tr>\n",
       "      <th>939</th>\n",
       "      <td>heliport</td>\n",
       "      <td>Dayry Partners Americas Manufacturing Argentin...</td>\n",
       "    </tr>\n",
       "    <tr>\n",
       "      <th>940</th>\n",
       "      <td>closed</td>\n",
       "      <td>Villa Unión Airport</td>\n",
       "    </tr>\n",
       "    <tr>\n",
       "      <th>941</th>\n",
       "      <td>heliport</td>\n",
       "      <td>Roca Heliport</td>\n",
       "    </tr>\n",
       "    <tr>\n",
       "      <th>942</th>\n",
       "      <td>heliport</td>\n",
       "      <td>Austral S.A. Heliport</td>\n",
       "    </tr>\n",
       "  </tbody>\n",
       "</table>\n",
       "<p>943 rows × 2 columns</p>\n",
       "</div>"
      ],
      "text/plain": [
       "               type                                             Nombre\n",
       "0     large_airport           Minister Pistarini International Airport\n",
       "1     large_airport                              Jorge Newbery Airpark\n",
       "2    medium_airport                        Malvinas Argentinas Airport\n",
       "3    medium_airport  El Calafate - Commander Armando Tola Internati...\n",
       "4    medium_airport         Cataratas Del Iguazú International Airport\n",
       "..              ...                                                ...\n",
       "938          closed                         Agrodistribuidora Airstrip\n",
       "939        heliport  Dayry Partners Americas Manufacturing Argentin...\n",
       "940          closed                                Villa Unión Airport\n",
       "941        heliport                                      Roca Heliport\n",
       "942        heliport                              Austral S.A. Heliport\n",
       "\n",
       "[943 rows x 2 columns]"
      ]
     },
     "execution_count": 14,
     "metadata": {},
     "output_type": "execute_result"
    }
   ],
   "source": [
    "df_reduced"
   ]
  },
  {
   "cell_type": "markdown",
   "id": "9f64c0d0-75af-426d-baac-552459ddede7",
   "metadata": {},
   "source": [
    "Este [**warning**](https://pandas.pydata.org/pandas-docs/stable/user_guide/indexing.html#returning-a-view-versus-a-copy) nos indica que Pandas no puede asegurar que resultados sean los esperados, ¿cómo podemos asegurar que no haya problemas?"
   ]
  },
  {
   "cell_type": "markdown",
   "id": "80637322-6739-4a4e-b909-4a399405c482",
   "metadata": {},
   "source": [
    "### 📌 Opción 1: Hacer una copia explícita, usando **copy()**"
   ]
  },
  {
   "cell_type": "code",
   "execution_count": 15,
   "id": "15ab429e-e161-48a9-87ae-1acd9a3c50d0",
   "metadata": {},
   "outputs": [
    {
     "data": {
      "text/html": [
       "<div>\n",
       "<style scoped>\n",
       "    .dataframe tbody tr th:only-of-type {\n",
       "        vertical-align: middle;\n",
       "    }\n",
       "\n",
       "    .dataframe tbody tr th {\n",
       "        vertical-align: top;\n",
       "    }\n",
       "\n",
       "    .dataframe thead th {\n",
       "        text-align: right;\n",
       "    }\n",
       "</style>\n",
       "<table border=\"1\" class=\"dataframe\">\n",
       "  <thead>\n",
       "    <tr style=\"text-align: right;\">\n",
       "      <th></th>\n",
       "      <th>type</th>\n",
       "      <th>Nombre</th>\n",
       "    </tr>\n",
       "  </thead>\n",
       "  <tbody>\n",
       "    <tr>\n",
       "      <th>0</th>\n",
       "      <td>large_airport</td>\n",
       "      <td>Minister Pistarini International Airport</td>\n",
       "    </tr>\n",
       "    <tr>\n",
       "      <th>1</th>\n",
       "      <td>large_airport</td>\n",
       "      <td>Jorge Newbery Airpark</td>\n",
       "    </tr>\n",
       "    <tr>\n",
       "      <th>2</th>\n",
       "      <td>medium_airport</td>\n",
       "      <td>Malvinas Argentinas Airport</td>\n",
       "    </tr>\n",
       "  </tbody>\n",
       "</table>\n",
       "</div>"
      ],
      "text/plain": [
       "             type                                    Nombre\n",
       "0   large_airport  Minister Pistarini International Airport\n",
       "1   large_airport                     Jorge Newbery Airpark\n",
       "2  medium_airport               Malvinas Argentinas Airport"
      ]
     },
     "execution_count": 15,
     "metadata": {},
     "output_type": "execute_result"
    }
   ],
   "source": [
    "df_reduced_copy = df_airports[['type', 'name']].copy()\n",
    "df_reduced_copy.rename(columns={'name': 'Nombre'}, inplace=True)\n",
    "\n",
    "df_reduced_copy.head(3)\n"
   ]
  },
  {
   "cell_type": "markdown",
   "id": "e688aaf3-1767-4e2c-8cea-ddcf6d838276",
   "metadata": {},
   "source": [
    "\n",
    "### 📌 Opción 2: Asignar el resultado a una variable nueva"
   ]
  },
  {
   "cell_type": "code",
   "execution_count": 17,
   "id": "3cc83c68-9db1-46c9-bf93-b25c7341262a",
   "metadata": {},
   "outputs": [
    {
     "data": {
      "text/html": [
       "<div>\n",
       "<style scoped>\n",
       "    .dataframe tbody tr th:only-of-type {\n",
       "        vertical-align: middle;\n",
       "    }\n",
       "\n",
       "    .dataframe tbody tr th {\n",
       "        vertical-align: top;\n",
       "    }\n",
       "\n",
       "    .dataframe thead th {\n",
       "        text-align: right;\n",
       "    }\n",
       "</style>\n",
       "<table border=\"1\" class=\"dataframe\">\n",
       "  <thead>\n",
       "    <tr style=\"text-align: right;\">\n",
       "      <th></th>\n",
       "      <th>Tipo</th>\n",
       "      <th>name</th>\n",
       "    </tr>\n",
       "  </thead>\n",
       "  <tbody>\n",
       "    <tr>\n",
       "      <th>0</th>\n",
       "      <td>large_airport</td>\n",
       "      <td>Minister Pistarini International Airport</td>\n",
       "    </tr>\n",
       "    <tr>\n",
       "      <th>1</th>\n",
       "      <td>large_airport</td>\n",
       "      <td>Jorge Newbery Airpark</td>\n",
       "    </tr>\n",
       "    <tr>\n",
       "      <th>2</th>\n",
       "      <td>medium_airport</td>\n",
       "      <td>Malvinas Argentinas Airport</td>\n",
       "    </tr>\n",
       "  </tbody>\n",
       "</table>\n",
       "</div>"
      ],
      "text/plain": [
       "             Tipo                                      name\n",
       "0   large_airport  Minister Pistarini International Airport\n",
       "1   large_airport                     Jorge Newbery Airpark\n",
       "2  medium_airport               Malvinas Argentinas Airport"
      ]
     },
     "execution_count": 17,
     "metadata": {},
     "output_type": "execute_result"
    }
   ],
   "source": [
    "df_reduced_var = df_airports[['type','name']]\n",
    "df_reduced_var = df_reduced_var.rename(columns={'type': 'Tipo'})\n",
    "df_reduced_var.head(3)"
   ]
  },
  {
   "cell_type": "markdown",
   "id": "2503fc50-5244-4675-a979-f63ec15028c8",
   "metadata": {},
   "source": [
    "### ¿Y si queremos renombrar varias columnas?"
   ]
  },
  {
   "cell_type": "code",
   "execution_count": 20,
   "id": "ca355c93-a7cf-4fa2-a02f-4ab7d48613e4",
   "metadata": {},
   "outputs": [
    {
     "data": {
      "text/html": [
       "<div>\n",
       "<style scoped>\n",
       "    .dataframe tbody tr th:only-of-type {\n",
       "        vertical-align: middle;\n",
       "    }\n",
       "\n",
       "    .dataframe tbody tr th {\n",
       "        vertical-align: top;\n",
       "    }\n",
       "\n",
       "    .dataframe thead th {\n",
       "        text-align: right;\n",
       "    }\n",
       "</style>\n",
       "<table border=\"1\" class=\"dataframe\">\n",
       "  <thead>\n",
       "    <tr style=\"text-align: right;\">\n",
       "      <th></th>\n",
       "      <th>type</th>\n",
       "      <th>Nombre</th>\n",
       "      <th>Latitud</th>\n",
       "      <th>Longitud</th>\n",
       "    </tr>\n",
       "  </thead>\n",
       "  <tbody>\n",
       "    <tr>\n",
       "      <th>0</th>\n",
       "      <td>large_airport</td>\n",
       "      <td>Minister Pistarini International Airport</td>\n",
       "      <td>-34.8222</td>\n",
       "      <td>-58.5358</td>\n",
       "    </tr>\n",
       "    <tr>\n",
       "      <th>1</th>\n",
       "      <td>large_airport</td>\n",
       "      <td>Jorge Newbery Airpark</td>\n",
       "      <td>-34.5592</td>\n",
       "      <td>-58.4156</td>\n",
       "    </tr>\n",
       "    <tr>\n",
       "      <th>2</th>\n",
       "      <td>medium_airport</td>\n",
       "      <td>Malvinas Argentinas Airport</td>\n",
       "      <td>-54.8433</td>\n",
       "      <td>-68.2958</td>\n",
       "    </tr>\n",
       "  </tbody>\n",
       "</table>\n",
       "</div>"
      ],
      "text/plain": [
       "             type                                    Nombre  Latitud  Longitud\n",
       "0   large_airport  Minister Pistarini International Airport -34.8222  -58.5358\n",
       "1   large_airport                     Jorge Newbery Airpark -34.5592  -58.4156\n",
       "2  medium_airport               Malvinas Argentinas Airport -54.8433  -68.2958"
      ]
     },
     "execution_count": 20,
     "metadata": {},
     "output_type": "execute_result"
    }
   ],
   "source": [
    "df_reduced_var = df_airports[['type', 'name', 'latitude_deg', 'longitude_deg']]\n",
    "replace_columns = {'name':'Nombre', 'latitude_deg': 'Latitud', 'longitude_deg': 'Longitud'}\n",
    "df_reduced_var.rename(columns=replace_columns).head(3)"
   ]
  },
  {
   "cell_type": "markdown",
   "id": "092ee298-d8d5-4615-afab-c278a1b831dc",
   "metadata": {},
   "source": [
    "### Y si queremos renombrar todas las columnas:\n"
   ]
  },
  {
   "cell_type": "code",
   "execution_count": 21,
   "id": "a52fff09-5dcb-4148-9708-c2de66efc854",
   "metadata": {},
   "outputs": [
    {
     "ename": "ValueError",
     "evalue": "Length mismatch: Expected axis has 4 elements, new values have 3 elements",
     "output_type": "error",
     "traceback": [
      "\u001b[1;31m---------------------------------------------------------------------------\u001b[0m",
      "\u001b[1;31mValueError\u001b[0m                                Traceback (most recent call last)",
      "Cell \u001b[1;32mIn[21], line 1\u001b[0m\n\u001b[1;32m----> 1\u001b[0m \u001b[43mdf_reduced_var\u001b[49m\u001b[38;5;241;43m.\u001b[39;49m\u001b[43mcolumns\u001b[49m \u001b[38;5;241m=\u001b[39m [\u001b[38;5;124m'\u001b[39m\u001b[38;5;124mTipo\u001b[39m\u001b[38;5;124m'\u001b[39m,\u001b[38;5;124m'\u001b[39m\u001b[38;5;124mNombre\u001b[39m\u001b[38;5;124m'\u001b[39m,\u001b[38;5;124m'\u001b[39m\u001b[38;5;124mLatitud\u001b[39m\u001b[38;5;124m'\u001b[39m]\n\u001b[0;32m      2\u001b[0m                                 \u001b[38;5;66;03m#, 'Longitud']\u001b[39;00m\n",
      "File \u001b[1;32mc:\\Users\\Valentin\\.pyenv\\pyenv-win\\versions\\3.11.2\\Lib\\site-packages\\pandas\\core\\generic.py:6313\u001b[0m, in \u001b[0;36mNDFrame.__setattr__\u001b[1;34m(self, name, value)\u001b[0m\n\u001b[0;32m   6311\u001b[0m \u001b[38;5;28;01mtry\u001b[39;00m:\n\u001b[0;32m   6312\u001b[0m     \u001b[38;5;28mobject\u001b[39m\u001b[38;5;241m.\u001b[39m\u001b[38;5;21m__getattribute__\u001b[39m(\u001b[38;5;28mself\u001b[39m, name)\n\u001b[1;32m-> 6313\u001b[0m     \u001b[38;5;28;01mreturn\u001b[39;00m \u001b[38;5;28;43mobject\u001b[39;49m\u001b[38;5;241;43m.\u001b[39;49m\u001b[38;5;21;43m__setattr__\u001b[39;49m\u001b[43m(\u001b[49m\u001b[38;5;28;43mself\u001b[39;49m\u001b[43m,\u001b[49m\u001b[43m \u001b[49m\u001b[43mname\u001b[49m\u001b[43m,\u001b[49m\u001b[43m \u001b[49m\u001b[43mvalue\u001b[49m\u001b[43m)\u001b[49m\n\u001b[0;32m   6314\u001b[0m \u001b[38;5;28;01mexcept\u001b[39;00m \u001b[38;5;167;01mAttributeError\u001b[39;00m:\n\u001b[0;32m   6315\u001b[0m     \u001b[38;5;28;01mpass\u001b[39;00m\n",
      "File \u001b[1;32mproperties.pyx:69\u001b[0m, in \u001b[0;36mpandas._libs.properties.AxisProperty.__set__\u001b[1;34m()\u001b[0m\n",
      "File \u001b[1;32mc:\\Users\\Valentin\\.pyenv\\pyenv-win\\versions\\3.11.2\\Lib\\site-packages\\pandas\\core\\generic.py:814\u001b[0m, in \u001b[0;36mNDFrame._set_axis\u001b[1;34m(self, axis, labels)\u001b[0m\n\u001b[0;32m    809\u001b[0m \u001b[38;5;250m\u001b[39m\u001b[38;5;124;03m\"\"\"\u001b[39;00m\n\u001b[0;32m    810\u001b[0m \u001b[38;5;124;03mThis is called from the cython code when we set the `index` attribute\u001b[39;00m\n\u001b[0;32m    811\u001b[0m \u001b[38;5;124;03mdirectly, e.g. `series.index = [1, 2, 3]`.\u001b[39;00m\n\u001b[0;32m    812\u001b[0m \u001b[38;5;124;03m\"\"\"\u001b[39;00m\n\u001b[0;32m    813\u001b[0m labels \u001b[38;5;241m=\u001b[39m ensure_index(labels)\n\u001b[1;32m--> 814\u001b[0m \u001b[38;5;28;43mself\u001b[39;49m\u001b[38;5;241;43m.\u001b[39;49m\u001b[43m_mgr\u001b[49m\u001b[38;5;241;43m.\u001b[39;49m\u001b[43mset_axis\u001b[49m\u001b[43m(\u001b[49m\u001b[43maxis\u001b[49m\u001b[43m,\u001b[49m\u001b[43m \u001b[49m\u001b[43mlabels\u001b[49m\u001b[43m)\u001b[49m\n\u001b[0;32m    815\u001b[0m \u001b[38;5;28mself\u001b[39m\u001b[38;5;241m.\u001b[39m_clear_item_cache()\n",
      "File \u001b[1;32mc:\\Users\\Valentin\\.pyenv\\pyenv-win\\versions\\3.11.2\\Lib\\site-packages\\pandas\\core\\internals\\managers.py:238\u001b[0m, in \u001b[0;36mBaseBlockManager.set_axis\u001b[1;34m(self, axis, new_labels)\u001b[0m\n\u001b[0;32m    236\u001b[0m \u001b[38;5;28;01mdef\u001b[39;00m \u001b[38;5;21mset_axis\u001b[39m(\u001b[38;5;28mself\u001b[39m, axis: AxisInt, new_labels: Index) \u001b[38;5;241m-\u001b[39m\u001b[38;5;241m>\u001b[39m \u001b[38;5;28;01mNone\u001b[39;00m:\n\u001b[0;32m    237\u001b[0m     \u001b[38;5;66;03m# Caller is responsible for ensuring we have an Index object.\u001b[39;00m\n\u001b[1;32m--> 238\u001b[0m     \u001b[38;5;28;43mself\u001b[39;49m\u001b[38;5;241;43m.\u001b[39;49m\u001b[43m_validate_set_axis\u001b[49m\u001b[43m(\u001b[49m\u001b[43maxis\u001b[49m\u001b[43m,\u001b[49m\u001b[43m \u001b[49m\u001b[43mnew_labels\u001b[49m\u001b[43m)\u001b[49m\n\u001b[0;32m    239\u001b[0m     \u001b[38;5;28mself\u001b[39m\u001b[38;5;241m.\u001b[39maxes[axis] \u001b[38;5;241m=\u001b[39m new_labels\n",
      "File \u001b[1;32mc:\\Users\\Valentin\\.pyenv\\pyenv-win\\versions\\3.11.2\\Lib\\site-packages\\pandas\\core\\internals\\base.py:98\u001b[0m, in \u001b[0;36mDataManager._validate_set_axis\u001b[1;34m(self, axis, new_labels)\u001b[0m\n\u001b[0;32m     95\u001b[0m     \u001b[38;5;28;01mpass\u001b[39;00m\n\u001b[0;32m     97\u001b[0m \u001b[38;5;28;01melif\u001b[39;00m new_len \u001b[38;5;241m!=\u001b[39m old_len:\n\u001b[1;32m---> 98\u001b[0m     \u001b[38;5;28;01mraise\u001b[39;00m \u001b[38;5;167;01mValueError\u001b[39;00m(\n\u001b[0;32m     99\u001b[0m         \u001b[38;5;124mf\u001b[39m\u001b[38;5;124m\"\u001b[39m\u001b[38;5;124mLength mismatch: Expected axis has \u001b[39m\u001b[38;5;132;01m{\u001b[39;00mold_len\u001b[38;5;132;01m}\u001b[39;00m\u001b[38;5;124m elements, new \u001b[39m\u001b[38;5;124m\"\u001b[39m\n\u001b[0;32m    100\u001b[0m         \u001b[38;5;124mf\u001b[39m\u001b[38;5;124m\"\u001b[39m\u001b[38;5;124mvalues have \u001b[39m\u001b[38;5;132;01m{\u001b[39;00mnew_len\u001b[38;5;132;01m}\u001b[39;00m\u001b[38;5;124m elements\u001b[39m\u001b[38;5;124m\"\u001b[39m\n\u001b[0;32m    101\u001b[0m     )\n",
      "\u001b[1;31mValueError\u001b[0m: Length mismatch: Expected axis has 4 elements, new values have 3 elements"
     ]
    }
   ],
   "source": [
    "df_reduced_var.columns = ['Tipo','Nombre','Latitud']\n",
    "                                #, 'Longitud']"
   ]
  },
  {
   "cell_type": "markdown",
   "id": "3e29eb4d-2c5c-4f5d-8923-bc97da155435",
   "metadata": {},
   "source": [
    "La cantidad de elementos de la **lista** debe coincidir con la cantidad de **columnas**"
   ]
  },
  {
   "cell_type": "code",
   "execution_count": 22,
   "id": "ac0d1579-6c32-4d8c-9ca5-80ab66884af4",
   "metadata": {},
   "outputs": [
    {
     "data": {
      "text/html": [
       "<div>\n",
       "<style scoped>\n",
       "    .dataframe tbody tr th:only-of-type {\n",
       "        vertical-align: middle;\n",
       "    }\n",
       "\n",
       "    .dataframe tbody tr th {\n",
       "        vertical-align: top;\n",
       "    }\n",
       "\n",
       "    .dataframe thead th {\n",
       "        text-align: right;\n",
       "    }\n",
       "</style>\n",
       "<table border=\"1\" class=\"dataframe\">\n",
       "  <thead>\n",
       "    <tr style=\"text-align: right;\">\n",
       "      <th></th>\n",
       "      <th>Tipo</th>\n",
       "      <th>Nombre</th>\n",
       "      <th>Latitud</th>\n",
       "      <th>Longitud</th>\n",
       "    </tr>\n",
       "  </thead>\n",
       "  <tbody>\n",
       "    <tr>\n",
       "      <th>0</th>\n",
       "      <td>large_airport</td>\n",
       "      <td>Minister Pistarini International Airport</td>\n",
       "      <td>-34.8222</td>\n",
       "      <td>-58.5358</td>\n",
       "    </tr>\n",
       "    <tr>\n",
       "      <th>1</th>\n",
       "      <td>large_airport</td>\n",
       "      <td>Jorge Newbery Airpark</td>\n",
       "      <td>-34.5592</td>\n",
       "      <td>-58.4156</td>\n",
       "    </tr>\n",
       "    <tr>\n",
       "      <th>2</th>\n",
       "      <td>medium_airport</td>\n",
       "      <td>Malvinas Argentinas Airport</td>\n",
       "      <td>-54.8433</td>\n",
       "      <td>-68.2958</td>\n",
       "    </tr>\n",
       "  </tbody>\n",
       "</table>\n",
       "</div>"
      ],
      "text/plain": [
       "             Tipo                                    Nombre  Latitud  Longitud\n",
       "0   large_airport  Minister Pistarini International Airport -34.8222  -58.5358\n",
       "1   large_airport                     Jorge Newbery Airpark -34.5592  -58.4156\n",
       "2  medium_airport               Malvinas Argentinas Airport -54.8433  -68.2958"
      ]
     },
     "execution_count": 22,
     "metadata": {},
     "output_type": "execute_result"
    }
   ],
   "source": [
    "df_reduced_var.columns = ['Tipo','Nombre','Latitud', 'Longitud']\n",
    "df_reduced_var.head(3)"
   ]
  },
  {
   "cell_type": "markdown",
   "id": "1fcaabcb-a509-4a5b-8baf-b11c62da958a",
   "metadata": {},
   "source": [
    "## 🎒 Modificación de tipo de datos\n",
    "#### ¿Y si queremos cambiar el tipo de dato para una columna?"
   ]
  },
  {
   "cell_type": "markdown",
   "id": "6dd65e6e-f5af-4054-9e91-4eec5d70e594",
   "metadata": {},
   "source": [
    "Veamos la columna **last_updated**"
   ]
  },
  {
   "cell_type": "code",
   "execution_count": 23,
   "id": "6d55866a-a304-4895-a737-8f4fa056ebcf",
   "metadata": {},
   "outputs": [
    {
     "data": {
      "text/plain": [
       "0      2022-10-27T15:05:29+00:00\n",
       "1      2021-10-07T15:55:36+00:00\n",
       "2      2021-10-07T11:21:29+00:00\n",
       "3      2022-01-12T18:23:15+00:00\n",
       "4      2018-09-13T12:34:47+00:00\n",
       "                 ...            \n",
       "938    2020-04-12T12:30:36+00:00\n",
       "939    2009-10-20T11:13:21+00:00\n",
       "940    2020-04-10T04:01:54+00:00\n",
       "941    2009-10-20T11:13:21+00:00\n",
       "942    2021-10-07T11:46:03+00:00\n",
       "Name: last_updated, Length: 943, dtype: object"
      ]
     },
     "execution_count": 23,
     "metadata": {},
     "output_type": "execute_result"
    }
   ],
   "source": [
    "df_airports.last_updated"
   ]
  },
  {
   "cell_type": "markdown",
   "id": "449a3335-1838-4d96-839f-cb3f92cf0b46",
   "metadata": {},
   "source": [
    "* Contiene datos de fechas, Pandas le asignó **object**, un tipo de datos general.\n",
    "* Queremos verificar los años en que se realizaron actualizaciones.\n",
    "    * ¿Con qué tipos de datos trabajamos en Python las fechas?"
   ]
  },
  {
   "cell_type": "code",
   "execution_count": null,
   "id": "16172e05-f081-4e1a-952a-2f0b3b0c4ab8",
   "metadata": {},
   "outputs": [],
   "source": [
    "date_updated = pd.to_datetime(df_airports.last_updated)\n",
    "date_updated "
   ]
  },
  {
   "cell_type": "code",
   "execution_count": 24,
   "id": "2cd23df1-e214-44f0-8946-2cdd47d68024",
   "metadata": {},
   "outputs": [
    {
     "ename": "NameError",
     "evalue": "name 'date_updated' is not defined",
     "output_type": "error",
     "traceback": [
      "\u001b[1;31m---------------------------------------------------------------------------\u001b[0m",
      "\u001b[1;31mNameError\u001b[0m                                 Traceback (most recent call last)",
      "Cell \u001b[1;32mIn[24], line 1\u001b[0m\n\u001b[1;32m----> 1\u001b[0m \u001b[43mdate_updated\u001b[49m\u001b[38;5;241m.\u001b[39mdt\u001b[38;5;241m.\u001b[39myear\u001b[38;5;241m.\u001b[39munique()\n",
      "\u001b[1;31mNameError\u001b[0m: name 'date_updated' is not defined"
     ]
    }
   ],
   "source": [
    "date_updated.dt.year.unique()"
   ]
  },
  {
   "cell_type": "markdown",
   "id": "4d7a4896-5596-471b-998c-e1de7a681c6f",
   "metadata": {},
   "source": [
    "El atributo **.dt** en Pandas se usa para acceder a las propiedades de los datos datetime, como: \n",
    "* años\n",
    "* meses\n",
    "* días\n",
    "* horas\n",
    "* minutos, etc.\n",
    "* En este caso, **.dt.year** se utiliza para obtener el año de cada fecha en la variable que contiene fechas."
   ]
  },
  {
   "cell_type": "markdown",
   "id": "d32ba315-d067-44e5-84b9-32368d3ffe9c",
   "metadata": {},
   "source": [
    "En el ejemplo anterior:\n",
    "```python\n",
    "date_updated = pd.to_datetime(df_airports.last_updated)\n",
    "```\n",
    "Estamos trabajando con una variable **Series**, no con los datos propios del dataframe."
   ]
  },
  {
   "cell_type": "markdown",
   "id": "27fe333f-3b54-48a9-b5fc-7e967c47b94b",
   "metadata": {},
   "source": [
    "### 📌Modifiquemos el tipo de dato de la columna del dataframe"
   ]
  },
  {
   "cell_type": "code",
   "execution_count": 25,
   "id": "1751c138-afcc-4ff8-b131-a260a7b8e87c",
   "metadata": {},
   "outputs": [
    {
     "data": {
      "text/html": [
       "<div>\n",
       "<style scoped>\n",
       "    .dataframe tbody tr th:only-of-type {\n",
       "        vertical-align: middle;\n",
       "    }\n",
       "\n",
       "    .dataframe tbody tr th {\n",
       "        vertical-align: top;\n",
       "    }\n",
       "\n",
       "    .dataframe thead th {\n",
       "        text-align: right;\n",
       "    }\n",
       "</style>\n",
       "<table border=\"1\" class=\"dataframe\">\n",
       "  <thead>\n",
       "    <tr style=\"text-align: right;\">\n",
       "      <th></th>\n",
       "      <th>name</th>\n",
       "      <th>last_updated</th>\n",
       "    </tr>\n",
       "  </thead>\n",
       "  <tbody>\n",
       "    <tr>\n",
       "      <th>0</th>\n",
       "      <td>Minister Pistarini International Airport</td>\n",
       "      <td>2022-10-27 15:05:29+00:00</td>\n",
       "    </tr>\n",
       "    <tr>\n",
       "      <th>1</th>\n",
       "      <td>Jorge Newbery Airpark</td>\n",
       "      <td>2021-10-07 15:55:36+00:00</td>\n",
       "    </tr>\n",
       "    <tr>\n",
       "      <th>2</th>\n",
       "      <td>Malvinas Argentinas Airport</td>\n",
       "      <td>2021-10-07 11:21:29+00:00</td>\n",
       "    </tr>\n",
       "  </tbody>\n",
       "</table>\n",
       "</div>"
      ],
      "text/plain": [
       "                                       name              last_updated\n",
       "0  Minister Pistarini International Airport 2022-10-27 15:05:29+00:00\n",
       "1                     Jorge Newbery Airpark 2021-10-07 15:55:36+00:00\n",
       "2               Malvinas Argentinas Airport 2021-10-07 11:21:29+00:00"
      ]
     },
     "execution_count": 25,
     "metadata": {},
     "output_type": "execute_result"
    }
   ],
   "source": [
    "df_airports.last_updated = pd.to_datetime(df_airports.last_updated)\n",
    "df_airports[['name', 'last_updated']].head(3)"
   ]
  },
  {
   "cell_type": "code",
   "execution_count": 26,
   "id": "3c3877ae-2363-4546-884b-6eba61f15902",
   "metadata": {},
   "outputs": [
    {
     "data": {
      "text/plain": [
       "0   2022-10-27 15:05:29+00:00\n",
       "1   2021-10-07 15:55:36+00:00\n",
       "2   2021-10-07 11:21:29+00:00\n",
       "Name: last_updated, dtype: datetime64[ns, UTC]"
      ]
     },
     "execution_count": 26,
     "metadata": {},
     "output_type": "execute_result"
    }
   ],
   "source": [
    "df_airports.last_updated.head(3)"
   ]
  },
  {
   "cell_type": "code",
   "execution_count": 27,
   "id": "840f3635-282a-483b-a905-067afca991ec",
   "metadata": {},
   "outputs": [
    {
     "data": {
      "text/plain": [
       "array([10,  1,  9,  2,  7,  4,  3,  5,  6, 11,  8, 12])"
      ]
     },
     "execution_count": 27,
     "metadata": {},
     "output_type": "execute_result"
    }
   ],
   "source": [
    "df_airports.last_updated.dt.month.unique()"
   ]
  },
  {
   "cell_type": "markdown",
   "id": "90f8832e-2a62-41e6-a93a-d0c94fe28e7b",
   "metadata": {},
   "source": [
    "Se modificó una columna con tipo de dato **object** a **datetime** de Pandas usando:\n",
    "* pd.to_datetime(columna)\n",
    "\n",
    "¿Qué otras opciones tenemos?"
   ]
  },
  {
   "cell_type": "code",
   "execution_count": 28,
   "id": "a46c30e3-f393-4546-ada7-69a36d83eae1",
   "metadata": {},
   "outputs": [
    {
     "ename": "AttributeError",
     "evalue": "module 'pandas' has no attribute 'to_'",
     "output_type": "error",
     "traceback": [
      "\u001b[1;31m---------------------------------------------------------------------------\u001b[0m",
      "\u001b[1;31mAttributeError\u001b[0m                            Traceback (most recent call last)",
      "Cell \u001b[1;32mIn[28], line 1\u001b[0m\n\u001b[1;32m----> 1\u001b[0m \u001b[43mpd\u001b[49m\u001b[38;5;241;43m.\u001b[39;49m\u001b[43mto_\u001b[49m\n",
      "\u001b[1;31mAttributeError\u001b[0m: module 'pandas' has no attribute 'to_'"
     ]
    }
   ],
   "source": [
    "pd.to_"
   ]
  },
  {
   "cell_type": "markdown",
   "id": "ebff5bcf-3d9c-44fc-b64f-33e92c8e2697",
   "metadata": {},
   "source": [
    "¿Y si queremos realizar otro tipo de modificación? Veamos la columna **elevation__ft**:"
   ]
  },
  {
   "cell_type": "code",
   "execution_count": 29,
   "id": "7f838187-8535-44d6-8316-a35b0eac12bf",
   "metadata": {},
   "outputs": [
    {
     "data": {
      "text/plain": [
       "0        67.0\n",
       "1        18.0\n",
       "2       102.0\n",
       "3       669.0\n",
       "4       916.0\n",
       "        ...  \n",
       "938     220.0\n",
       "939     639.0\n",
       "940     248.0\n",
       "941    3444.0\n",
       "942     290.0\n",
       "Name: elevation_ft, Length: 943, dtype: float64"
      ]
     },
     "execution_count": 29,
     "metadata": {},
     "output_type": "execute_result"
    }
   ],
   "source": [
    "df_airports.elevation_ft"
   ]
  },
  {
   "cell_type": "markdown",
   "id": "936b3dfe-67bd-4fd7-981a-39b37ffcde26",
   "metadata": {},
   "source": [
    "* ¿A qué tipo de dato se podría cambiar?\n",
    "* ¿Por qué haríamos el cambio?"
   ]
  },
  {
   "cell_type": "markdown",
   "id": "f6f69929-fa01-49b1-9af7-8517df2b5528",
   "metadata": {},
   "source": [
    "Para cambiar a tipos de datos como int, float ...usamos\n",
    "```python\n",
    "df.column.astype(..: int, float, bool, str\n",
    "```\n",
    "Veamos el código y qué pasa:"
   ]
  },
  {
   "cell_type": "code",
   "execution_count": 30,
   "id": "53c356d9-ad57-4a5b-9777-c5f467ceeae4",
   "metadata": {},
   "outputs": [
    {
     "ename": "IntCastingNaNError",
     "evalue": "Cannot convert non-finite values (NA or inf) to integer",
     "output_type": "error",
     "traceback": [
      "\u001b[1;31m---------------------------------------------------------------------------\u001b[0m",
      "\u001b[1;31mIntCastingNaNError\u001b[0m                        Traceback (most recent call last)",
      "Cell \u001b[1;32mIn[30], line 1\u001b[0m\n\u001b[1;32m----> 1\u001b[0m \u001b[43mdf_airports\u001b[49m\u001b[38;5;241;43m.\u001b[39;49m\u001b[43melevation_ft\u001b[49m\u001b[38;5;241;43m.\u001b[39;49m\u001b[43mastype\u001b[49m\u001b[43m(\u001b[49m\u001b[38;5;28;43mint\u001b[39;49m\u001b[43m)\u001b[49m\n",
      "File \u001b[1;32mc:\\Users\\Valentin\\.pyenv\\pyenv-win\\versions\\3.11.2\\Lib\\site-packages\\pandas\\core\\generic.py:6643\u001b[0m, in \u001b[0;36mNDFrame.astype\u001b[1;34m(self, dtype, copy, errors)\u001b[0m\n\u001b[0;32m   6637\u001b[0m     results \u001b[38;5;241m=\u001b[39m [\n\u001b[0;32m   6638\u001b[0m         ser\u001b[38;5;241m.\u001b[39mastype(dtype, copy\u001b[38;5;241m=\u001b[39mcopy, errors\u001b[38;5;241m=\u001b[39merrors) \u001b[38;5;28;01mfor\u001b[39;00m _, ser \u001b[38;5;129;01min\u001b[39;00m \u001b[38;5;28mself\u001b[39m\u001b[38;5;241m.\u001b[39mitems()\n\u001b[0;32m   6639\u001b[0m     ]\n\u001b[0;32m   6641\u001b[0m \u001b[38;5;28;01melse\u001b[39;00m:\n\u001b[0;32m   6642\u001b[0m     \u001b[38;5;66;03m# else, only a single dtype is given\u001b[39;00m\n\u001b[1;32m-> 6643\u001b[0m     new_data \u001b[38;5;241m=\u001b[39m \u001b[38;5;28;43mself\u001b[39;49m\u001b[38;5;241;43m.\u001b[39;49m\u001b[43m_mgr\u001b[49m\u001b[38;5;241;43m.\u001b[39;49m\u001b[43mastype\u001b[49m\u001b[43m(\u001b[49m\u001b[43mdtype\u001b[49m\u001b[38;5;241;43m=\u001b[39;49m\u001b[43mdtype\u001b[49m\u001b[43m,\u001b[49m\u001b[43m \u001b[49m\u001b[43mcopy\u001b[49m\u001b[38;5;241;43m=\u001b[39;49m\u001b[43mcopy\u001b[49m\u001b[43m,\u001b[49m\u001b[43m \u001b[49m\u001b[43merrors\u001b[49m\u001b[38;5;241;43m=\u001b[39;49m\u001b[43merrors\u001b[49m\u001b[43m)\u001b[49m\n\u001b[0;32m   6644\u001b[0m     res \u001b[38;5;241m=\u001b[39m \u001b[38;5;28mself\u001b[39m\u001b[38;5;241m.\u001b[39m_constructor_from_mgr(new_data, axes\u001b[38;5;241m=\u001b[39mnew_data\u001b[38;5;241m.\u001b[39maxes)\n\u001b[0;32m   6645\u001b[0m     \u001b[38;5;28;01mreturn\u001b[39;00m res\u001b[38;5;241m.\u001b[39m__finalize__(\u001b[38;5;28mself\u001b[39m, method\u001b[38;5;241m=\u001b[39m\u001b[38;5;124m\"\u001b[39m\u001b[38;5;124mastype\u001b[39m\u001b[38;5;124m\"\u001b[39m)\n",
      "File \u001b[1;32mc:\\Users\\Valentin\\.pyenv\\pyenv-win\\versions\\3.11.2\\Lib\\site-packages\\pandas\\core\\internals\\managers.py:430\u001b[0m, in \u001b[0;36mBaseBlockManager.astype\u001b[1;34m(self, dtype, copy, errors)\u001b[0m\n\u001b[0;32m    427\u001b[0m \u001b[38;5;28;01melif\u001b[39;00m using_copy_on_write():\n\u001b[0;32m    428\u001b[0m     copy \u001b[38;5;241m=\u001b[39m \u001b[38;5;28;01mFalse\u001b[39;00m\n\u001b[1;32m--> 430\u001b[0m \u001b[38;5;28;01mreturn\u001b[39;00m \u001b[38;5;28;43mself\u001b[39;49m\u001b[38;5;241;43m.\u001b[39;49m\u001b[43mapply\u001b[49m\u001b[43m(\u001b[49m\n\u001b[0;32m    431\u001b[0m \u001b[43m    \u001b[49m\u001b[38;5;124;43m\"\u001b[39;49m\u001b[38;5;124;43mastype\u001b[39;49m\u001b[38;5;124;43m\"\u001b[39;49m\u001b[43m,\u001b[49m\n\u001b[0;32m    432\u001b[0m \u001b[43m    \u001b[49m\u001b[43mdtype\u001b[49m\u001b[38;5;241;43m=\u001b[39;49m\u001b[43mdtype\u001b[49m\u001b[43m,\u001b[49m\n\u001b[0;32m    433\u001b[0m \u001b[43m    \u001b[49m\u001b[43mcopy\u001b[49m\u001b[38;5;241;43m=\u001b[39;49m\u001b[43mcopy\u001b[49m\u001b[43m,\u001b[49m\n\u001b[0;32m    434\u001b[0m \u001b[43m    \u001b[49m\u001b[43merrors\u001b[49m\u001b[38;5;241;43m=\u001b[39;49m\u001b[43merrors\u001b[49m\u001b[43m,\u001b[49m\n\u001b[0;32m    435\u001b[0m \u001b[43m    \u001b[49m\u001b[43musing_cow\u001b[49m\u001b[38;5;241;43m=\u001b[39;49m\u001b[43musing_copy_on_write\u001b[49m\u001b[43m(\u001b[49m\u001b[43m)\u001b[49m\u001b[43m,\u001b[49m\n\u001b[0;32m    436\u001b[0m \u001b[43m\u001b[49m\u001b[43m)\u001b[49m\n",
      "File \u001b[1;32mc:\\Users\\Valentin\\.pyenv\\pyenv-win\\versions\\3.11.2\\Lib\\site-packages\\pandas\\core\\internals\\managers.py:363\u001b[0m, in \u001b[0;36mBaseBlockManager.apply\u001b[1;34m(self, f, align_keys, **kwargs)\u001b[0m\n\u001b[0;32m    361\u001b[0m         applied \u001b[38;5;241m=\u001b[39m b\u001b[38;5;241m.\u001b[39mapply(f, \u001b[38;5;241m*\u001b[39m\u001b[38;5;241m*\u001b[39mkwargs)\n\u001b[0;32m    362\u001b[0m     \u001b[38;5;28;01melse\u001b[39;00m:\n\u001b[1;32m--> 363\u001b[0m         applied \u001b[38;5;241m=\u001b[39m \u001b[38;5;28;43mgetattr\u001b[39;49m\u001b[43m(\u001b[49m\u001b[43mb\u001b[49m\u001b[43m,\u001b[49m\u001b[43m \u001b[49m\u001b[43mf\u001b[49m\u001b[43m)\u001b[49m\u001b[43m(\u001b[49m\u001b[38;5;241;43m*\u001b[39;49m\u001b[38;5;241;43m*\u001b[39;49m\u001b[43mkwargs\u001b[49m\u001b[43m)\u001b[49m\n\u001b[0;32m    364\u001b[0m     result_blocks \u001b[38;5;241m=\u001b[39m extend_blocks(applied, result_blocks)\n\u001b[0;32m    366\u001b[0m out \u001b[38;5;241m=\u001b[39m \u001b[38;5;28mtype\u001b[39m(\u001b[38;5;28mself\u001b[39m)\u001b[38;5;241m.\u001b[39mfrom_blocks(result_blocks, \u001b[38;5;28mself\u001b[39m\u001b[38;5;241m.\u001b[39maxes)\n",
      "File \u001b[1;32mc:\\Users\\Valentin\\.pyenv\\pyenv-win\\versions\\3.11.2\\Lib\\site-packages\\pandas\\core\\internals\\blocks.py:758\u001b[0m, in \u001b[0;36mBlock.astype\u001b[1;34m(self, dtype, copy, errors, using_cow, squeeze)\u001b[0m\n\u001b[0;32m    755\u001b[0m         \u001b[38;5;28;01mraise\u001b[39;00m \u001b[38;5;167;01mValueError\u001b[39;00m(\u001b[38;5;124m\"\u001b[39m\u001b[38;5;124mCan not squeeze with more than one column.\u001b[39m\u001b[38;5;124m\"\u001b[39m)\n\u001b[0;32m    756\u001b[0m     values \u001b[38;5;241m=\u001b[39m values[\u001b[38;5;241m0\u001b[39m, :]  \u001b[38;5;66;03m# type: ignore[call-overload]\u001b[39;00m\n\u001b[1;32m--> 758\u001b[0m new_values \u001b[38;5;241m=\u001b[39m \u001b[43mastype_array_safe\u001b[49m\u001b[43m(\u001b[49m\u001b[43mvalues\u001b[49m\u001b[43m,\u001b[49m\u001b[43m \u001b[49m\u001b[43mdtype\u001b[49m\u001b[43m,\u001b[49m\u001b[43m \u001b[49m\u001b[43mcopy\u001b[49m\u001b[38;5;241;43m=\u001b[39;49m\u001b[43mcopy\u001b[49m\u001b[43m,\u001b[49m\u001b[43m \u001b[49m\u001b[43merrors\u001b[49m\u001b[38;5;241;43m=\u001b[39;49m\u001b[43merrors\u001b[49m\u001b[43m)\u001b[49m\n\u001b[0;32m    760\u001b[0m new_values \u001b[38;5;241m=\u001b[39m maybe_coerce_values(new_values)\n\u001b[0;32m    762\u001b[0m refs \u001b[38;5;241m=\u001b[39m \u001b[38;5;28;01mNone\u001b[39;00m\n",
      "File \u001b[1;32mc:\\Users\\Valentin\\.pyenv\\pyenv-win\\versions\\3.11.2\\Lib\\site-packages\\pandas\\core\\dtypes\\astype.py:237\u001b[0m, in \u001b[0;36mastype_array_safe\u001b[1;34m(values, dtype, copy, errors)\u001b[0m\n\u001b[0;32m    234\u001b[0m     dtype \u001b[38;5;241m=\u001b[39m dtype\u001b[38;5;241m.\u001b[39mnumpy_dtype\n\u001b[0;32m    236\u001b[0m \u001b[38;5;28;01mtry\u001b[39;00m:\n\u001b[1;32m--> 237\u001b[0m     new_values \u001b[38;5;241m=\u001b[39m \u001b[43mastype_array\u001b[49m\u001b[43m(\u001b[49m\u001b[43mvalues\u001b[49m\u001b[43m,\u001b[49m\u001b[43m \u001b[49m\u001b[43mdtype\u001b[49m\u001b[43m,\u001b[49m\u001b[43m \u001b[49m\u001b[43mcopy\u001b[49m\u001b[38;5;241;43m=\u001b[39;49m\u001b[43mcopy\u001b[49m\u001b[43m)\u001b[49m\n\u001b[0;32m    238\u001b[0m \u001b[38;5;28;01mexcept\u001b[39;00m (\u001b[38;5;167;01mValueError\u001b[39;00m, \u001b[38;5;167;01mTypeError\u001b[39;00m):\n\u001b[0;32m    239\u001b[0m     \u001b[38;5;66;03m# e.g. _astype_nansafe can fail on object-dtype of strings\u001b[39;00m\n\u001b[0;32m    240\u001b[0m     \u001b[38;5;66;03m#  trying to convert to float\u001b[39;00m\n\u001b[0;32m    241\u001b[0m     \u001b[38;5;28;01mif\u001b[39;00m errors \u001b[38;5;241m==\u001b[39m \u001b[38;5;124m\"\u001b[39m\u001b[38;5;124mignore\u001b[39m\u001b[38;5;124m\"\u001b[39m:\n",
      "File \u001b[1;32mc:\\Users\\Valentin\\.pyenv\\pyenv-win\\versions\\3.11.2\\Lib\\site-packages\\pandas\\core\\dtypes\\astype.py:182\u001b[0m, in \u001b[0;36mastype_array\u001b[1;34m(values, dtype, copy)\u001b[0m\n\u001b[0;32m    179\u001b[0m     values \u001b[38;5;241m=\u001b[39m values\u001b[38;5;241m.\u001b[39mastype(dtype, copy\u001b[38;5;241m=\u001b[39mcopy)\n\u001b[0;32m    181\u001b[0m \u001b[38;5;28;01melse\u001b[39;00m:\n\u001b[1;32m--> 182\u001b[0m     values \u001b[38;5;241m=\u001b[39m \u001b[43m_astype_nansafe\u001b[49m\u001b[43m(\u001b[49m\u001b[43mvalues\u001b[49m\u001b[43m,\u001b[49m\u001b[43m \u001b[49m\u001b[43mdtype\u001b[49m\u001b[43m,\u001b[49m\u001b[43m \u001b[49m\u001b[43mcopy\u001b[49m\u001b[38;5;241;43m=\u001b[39;49m\u001b[43mcopy\u001b[49m\u001b[43m)\u001b[49m\n\u001b[0;32m    184\u001b[0m \u001b[38;5;66;03m# in pandas we don't store numpy str dtypes, so convert to object\u001b[39;00m\n\u001b[0;32m    185\u001b[0m \u001b[38;5;28;01mif\u001b[39;00m \u001b[38;5;28misinstance\u001b[39m(dtype, np\u001b[38;5;241m.\u001b[39mdtype) \u001b[38;5;129;01mand\u001b[39;00m \u001b[38;5;28missubclass\u001b[39m(values\u001b[38;5;241m.\u001b[39mdtype\u001b[38;5;241m.\u001b[39mtype, \u001b[38;5;28mstr\u001b[39m):\n",
      "File \u001b[1;32mc:\\Users\\Valentin\\.pyenv\\pyenv-win\\versions\\3.11.2\\Lib\\site-packages\\pandas\\core\\dtypes\\astype.py:101\u001b[0m, in \u001b[0;36m_astype_nansafe\u001b[1;34m(arr, dtype, copy, skipna)\u001b[0m\n\u001b[0;32m     96\u001b[0m     \u001b[38;5;28;01mreturn\u001b[39;00m lib\u001b[38;5;241m.\u001b[39mensure_string_array(\n\u001b[0;32m     97\u001b[0m         arr, skipna\u001b[38;5;241m=\u001b[39mskipna, convert_na_value\u001b[38;5;241m=\u001b[39m\u001b[38;5;28;01mFalse\u001b[39;00m\n\u001b[0;32m     98\u001b[0m     )\u001b[38;5;241m.\u001b[39mreshape(shape)\n\u001b[0;32m    100\u001b[0m \u001b[38;5;28;01melif\u001b[39;00m np\u001b[38;5;241m.\u001b[39missubdtype(arr\u001b[38;5;241m.\u001b[39mdtype, np\u001b[38;5;241m.\u001b[39mfloating) \u001b[38;5;129;01mand\u001b[39;00m dtype\u001b[38;5;241m.\u001b[39mkind \u001b[38;5;129;01min\u001b[39;00m \u001b[38;5;124m\"\u001b[39m\u001b[38;5;124miu\u001b[39m\u001b[38;5;124m\"\u001b[39m:\n\u001b[1;32m--> 101\u001b[0m     \u001b[38;5;28;01mreturn\u001b[39;00m \u001b[43m_astype_float_to_int_nansafe\u001b[49m\u001b[43m(\u001b[49m\u001b[43marr\u001b[49m\u001b[43m,\u001b[49m\u001b[43m \u001b[49m\u001b[43mdtype\u001b[49m\u001b[43m,\u001b[49m\u001b[43m \u001b[49m\u001b[43mcopy\u001b[49m\u001b[43m)\u001b[49m\n\u001b[0;32m    103\u001b[0m \u001b[38;5;28;01melif\u001b[39;00m arr\u001b[38;5;241m.\u001b[39mdtype \u001b[38;5;241m==\u001b[39m \u001b[38;5;28mobject\u001b[39m:\n\u001b[0;32m    104\u001b[0m     \u001b[38;5;66;03m# if we have a datetime/timedelta array of objects\u001b[39;00m\n\u001b[0;32m    105\u001b[0m     \u001b[38;5;66;03m# then coerce to datetime64[ns] and use DatetimeArray.astype\u001b[39;00m\n\u001b[0;32m    107\u001b[0m     \u001b[38;5;28;01mif\u001b[39;00m lib\u001b[38;5;241m.\u001b[39mis_np_dtype(dtype, \u001b[38;5;124m\"\u001b[39m\u001b[38;5;124mM\u001b[39m\u001b[38;5;124m\"\u001b[39m):\n",
      "File \u001b[1;32mc:\\Users\\Valentin\\.pyenv\\pyenv-win\\versions\\3.11.2\\Lib\\site-packages\\pandas\\core\\dtypes\\astype.py:145\u001b[0m, in \u001b[0;36m_astype_float_to_int_nansafe\u001b[1;34m(values, dtype, copy)\u001b[0m\n\u001b[0;32m    141\u001b[0m \u001b[38;5;250m\u001b[39m\u001b[38;5;124;03m\"\"\"\u001b[39;00m\n\u001b[0;32m    142\u001b[0m \u001b[38;5;124;03mastype with a check preventing converting NaN to an meaningless integer value.\u001b[39;00m\n\u001b[0;32m    143\u001b[0m \u001b[38;5;124;03m\"\"\"\u001b[39;00m\n\u001b[0;32m    144\u001b[0m \u001b[38;5;28;01mif\u001b[39;00m \u001b[38;5;129;01mnot\u001b[39;00m np\u001b[38;5;241m.\u001b[39misfinite(values)\u001b[38;5;241m.\u001b[39mall():\n\u001b[1;32m--> 145\u001b[0m     \u001b[38;5;28;01mraise\u001b[39;00m IntCastingNaNError(\n\u001b[0;32m    146\u001b[0m         \u001b[38;5;124m\"\u001b[39m\u001b[38;5;124mCannot convert non-finite values (NA or inf) to integer\u001b[39m\u001b[38;5;124m\"\u001b[39m\n\u001b[0;32m    147\u001b[0m     )\n\u001b[0;32m    148\u001b[0m \u001b[38;5;28;01mif\u001b[39;00m dtype\u001b[38;5;241m.\u001b[39mkind \u001b[38;5;241m==\u001b[39m \u001b[38;5;124m\"\u001b[39m\u001b[38;5;124mu\u001b[39m\u001b[38;5;124m\"\u001b[39m:\n\u001b[0;32m    149\u001b[0m     \u001b[38;5;66;03m# GH#45151\u001b[39;00m\n\u001b[0;32m    150\u001b[0m     \u001b[38;5;28;01mif\u001b[39;00m \u001b[38;5;129;01mnot\u001b[39;00m (values \u001b[38;5;241m>\u001b[39m\u001b[38;5;241m=\u001b[39m \u001b[38;5;241m0\u001b[39m)\u001b[38;5;241m.\u001b[39mall():\n",
      "\u001b[1;31mIntCastingNaNError\u001b[0m: Cannot convert non-finite values (NA or inf) to integer"
     ]
    }
   ],
   "source": [
    "df_airports.elevation_ft.astype(int)"
   ]
  },
  {
   "cell_type": "markdown",
   "id": "6f1d872a-eec5-4c8e-8ab4-b27ec2a615e5",
   "metadata": {},
   "source": [
    "* El problema es que tenemos valores nulos o infinitos, (Nan o Inf).\n",
    "* Podemos asignarles un valor, por ejemplo 0, pero generará análisis erróneos cuando se involucre este valor.\n",
    "* Podemos optar por:\n",
    "    * eliminar las filas que tienen **non-finite values (NA or inf)**, ojo verificar que no perdemos información.\n",
    "    * en el caso que se necesite trabajar con estos valores, nos podemos quedar con un subconjunto del dataset sin las filas que contienen valores nulos. \n",
    "    * si no necesitamos evaluar los datos de esta columna, no la modificamos y trabajamos con todo el dataset ."
   ]
  },
  {
   "cell_type": "markdown",
   "id": "9e6520f2-424b-48af-9620-46c53d59b267",
   "metadata": {},
   "source": [
    "Veamos la opción de sacar las filas que contienen valores nulos:\n",
    "```python\n",
    "df.dropna()\n",
    "```\n",
    "Nos permite eliminar estos casos del dataframe."
   ]
  },
  {
   "cell_type": "code",
   "execution_count": 31,
   "id": "a86c5188-2d0d-42a2-a2f0-5bfe707f43d7",
   "metadata": {},
   "outputs": [
    {
     "data": {
      "text/html": [
       "<div>\n",
       "<style scoped>\n",
       "    .dataframe tbody tr th:only-of-type {\n",
       "        vertical-align: middle;\n",
       "    }\n",
       "\n",
       "    .dataframe tbody tr th {\n",
       "        vertical-align: top;\n",
       "    }\n",
       "\n",
       "    .dataframe thead th {\n",
       "        text-align: right;\n",
       "    }\n",
       "</style>\n",
       "<table border=\"1\" class=\"dataframe\">\n",
       "  <thead>\n",
       "    <tr style=\"text-align: right;\">\n",
       "      <th></th>\n",
       "      <th>id</th>\n",
       "      <th>ident</th>\n",
       "      <th>type</th>\n",
       "      <th>name</th>\n",
       "      <th>latitude_deg</th>\n",
       "      <th>longitude_deg</th>\n",
       "      <th>elevation_ft</th>\n",
       "      <th>continent</th>\n",
       "      <th>country_name</th>\n",
       "      <th>iso_country</th>\n",
       "      <th>...</th>\n",
       "      <th>gps_code</th>\n",
       "      <th>iata_code</th>\n",
       "      <th>local_code</th>\n",
       "      <th>home_link</th>\n",
       "      <th>wikipedia_link</th>\n",
       "      <th>keywords</th>\n",
       "      <th>score</th>\n",
       "      <th>last_updated</th>\n",
       "      <th>elevation_name</th>\n",
       "      <th>prov_name</th>\n",
       "    </tr>\n",
       "  </thead>\n",
       "  <tbody>\n",
       "    <tr>\n",
       "      <th>0</th>\n",
       "      <td>5781</td>\n",
       "      <td>SAEZ</td>\n",
       "      <td>large_airport</td>\n",
       "      <td>Minister Pistarini International Airport</td>\n",
       "      <td>-34.822200</td>\n",
       "      <td>-58.5358</td>\n",
       "      <td>67.0</td>\n",
       "      <td>SA</td>\n",
       "      <td>Argentina</td>\n",
       "      <td>AR</td>\n",
       "      <td>...</td>\n",
       "      <td>SAEZ</td>\n",
       "      <td>EZE</td>\n",
       "      <td>EZE</td>\n",
       "      <td>http://www.aa2000.com.ar/index.php</td>\n",
       "      <td>https://en.wikipedia.org/wiki/Ministro_Pistari...</td>\n",
       "      <td>BUE, Ezeiza</td>\n",
       "      <td>1275</td>\n",
       "      <td>2022-10-27 15:05:29+00:00</td>\n",
       "      <td>Bajo</td>\n",
       "      <td>Buenos Aires Province</td>\n",
       "    </tr>\n",
       "    <tr>\n",
       "      <th>4</th>\n",
       "      <td>5806</td>\n",
       "      <td>SARI</td>\n",
       "      <td>medium_airport</td>\n",
       "      <td>Cataratas Del Iguazú International Airport</td>\n",
       "      <td>-25.737301</td>\n",
       "      <td>-54.4734</td>\n",
       "      <td>916.0</td>\n",
       "      <td>SA</td>\n",
       "      <td>Argentina</td>\n",
       "      <td>AR</td>\n",
       "      <td>...</td>\n",
       "      <td>SARI</td>\n",
       "      <td>IGR</td>\n",
       "      <td>IGU</td>\n",
       "      <td>http://www.aa2000.com.ar/iguazu</td>\n",
       "      <td>https://en.wikipedia.org/wiki/Cataratas_del_Ig...</td>\n",
       "      <td>Iguaçu</td>\n",
       "      <td>750</td>\n",
       "      <td>2018-09-13 12:34:47+00:00</td>\n",
       "      <td>Alto</td>\n",
       "      <td>Misiones Province</td>\n",
       "    </tr>\n",
       "    <tr>\n",
       "      <th>19</th>\n",
       "      <td>5840</td>\n",
       "      <td>SAZB</td>\n",
       "      <td>medium_airport</td>\n",
       "      <td>Comandante Espora Airport</td>\n",
       "      <td>-38.725000</td>\n",
       "      <td>-62.1693</td>\n",
       "      <td>246.0</td>\n",
       "      <td>SA</td>\n",
       "      <td>Argentina</td>\n",
       "      <td>AR</td>\n",
       "      <td>...</td>\n",
       "      <td>SAZB</td>\n",
       "      <td>BHI</td>\n",
       "      <td>BCA</td>\n",
       "      <td>https://www.aeropuertobahiablanca.com/</td>\n",
       "      <td>https://en.wikipedia.org/wiki/Comandante_Espor...</td>\n",
       "      <td>Bahía Blanca Airport</td>\n",
       "      <td>750</td>\n",
       "      <td>2018-09-16 04:14:57+00:00</td>\n",
       "      <td>Medio</td>\n",
       "      <td>Buenos Aires Province</td>\n",
       "    </tr>\n",
       "  </tbody>\n",
       "</table>\n",
       "<p>3 rows × 25 columns</p>\n",
       "</div>"
      ],
      "text/plain": [
       "      id ident            type                                        name  \\\n",
       "0   5781  SAEZ   large_airport    Minister Pistarini International Airport   \n",
       "4   5806  SARI  medium_airport  Cataratas Del Iguazú International Airport   \n",
       "19  5840  SAZB  medium_airport                   Comandante Espora Airport   \n",
       "\n",
       "    latitude_deg  longitude_deg  elevation_ft continent country_name  \\\n",
       "0     -34.822200       -58.5358          67.0        SA    Argentina   \n",
       "4     -25.737301       -54.4734         916.0        SA    Argentina   \n",
       "19    -38.725000       -62.1693         246.0        SA    Argentina   \n",
       "\n",
       "   iso_country  ... gps_code iata_code local_code  \\\n",
       "0           AR  ...     SAEZ       EZE        EZE   \n",
       "4           AR  ...     SARI       IGR        IGU   \n",
       "19          AR  ...     SAZB       BHI        BCA   \n",
       "\n",
       "                                 home_link  \\\n",
       "0       http://www.aa2000.com.ar/index.php   \n",
       "4          http://www.aa2000.com.ar/iguazu   \n",
       "19  https://www.aeropuertobahiablanca.com/   \n",
       "\n",
       "                                       wikipedia_link              keywords  \\\n",
       "0   https://en.wikipedia.org/wiki/Ministro_Pistari...           BUE, Ezeiza   \n",
       "4   https://en.wikipedia.org/wiki/Cataratas_del_Ig...                Iguaçu   \n",
       "19  https://en.wikipedia.org/wiki/Comandante_Espor...  Bahía Blanca Airport   \n",
       "\n",
       "   score              last_updated elevation_name              prov_name  \n",
       "0   1275 2022-10-27 15:05:29+00:00           Bajo  Buenos Aires Province  \n",
       "4    750 2018-09-13 12:34:47+00:00           Alto      Misiones Province  \n",
       "19   750 2018-09-16 04:14:57+00:00          Medio  Buenos Aires Province  \n",
       "\n",
       "[3 rows x 25 columns]"
      ]
     },
     "execution_count": 31,
     "metadata": {},
     "output_type": "execute_result"
    }
   ],
   "source": [
    "df_airports.dropna()"
   ]
  },
  {
   "cell_type": "markdown",
   "id": "294a8e06-c019-4375-88e4-baae100473c8",
   "metadata": {},
   "source": [
    "### Quedaron sólo 3 filas!!!!"
   ]
  },
  {
   "cell_type": "markdown",
   "id": "f64c9d41-ebf0-4e0a-8063-ccb57fa62e2a",
   "metadata": {},
   "source": [
    "### 📌 Eliminación de datos nulos\n",
    "En realidad no se eliminaron porque no modificamos de forma definitiva el Dataframe.\n",
    "```python\n",
    "df.dropna()\n",
    "```\n",
    "Elimina **todas** filas que contengan en **algunas** de las columnas valores nulos, y vimos que algunas columnas tienen muchos como:"
   ]
  },
  {
   "cell_type": "code",
   "execution_count": 32,
   "id": "79054aec-0414-46d9-a5db-0acb5d68340c",
   "metadata": {},
   "outputs": [
    {
     "name": "stdout",
     "output_type": "stream",
     "text": [
      "<class 'pandas.core.frame.DataFrame'>\n",
      "RangeIndex: 943 entries, 0 to 942\n",
      "Data columns (total 25 columns):\n",
      " #   Column             Non-Null Count  Dtype              \n",
      "---  ------             --------------  -----              \n",
      " 0   id                 943 non-null    int64              \n",
      " 1   ident              943 non-null    object             \n",
      " 2   type               943 non-null    object             \n",
      " 3   name               943 non-null    object             \n",
      " 4   latitude_deg       943 non-null    float64            \n",
      " 5   longitude_deg      943 non-null    float64            \n",
      " 6   elevation_ft       908 non-null    float64            \n",
      " 7   continent          943 non-null    object             \n",
      " 8   country_name       943 non-null    object             \n",
      " 9   iso_country        943 non-null    object             \n",
      " 10  region_name        943 non-null    object             \n",
      " 11  iso_region         943 non-null    object             \n",
      " 12  local_region       943 non-null    object             \n",
      " 13  municipality       927 non-null    object             \n",
      " 14  scheduled_service  943 non-null    int64              \n",
      " 15  gps_code           225 non-null    object             \n",
      " 16  iata_code          103 non-null    object             \n",
      " 17  local_code         761 non-null    object             \n",
      " 18  home_link          14 non-null     object             \n",
      " 19  wikipedia_link     80 non-null     object             \n",
      " 20  keywords           108 non-null    object             \n",
      " 21  score              943 non-null    int64              \n",
      " 22  last_updated       943 non-null    datetime64[ns, UTC]\n",
      " 23  elevation_name     943 non-null    object             \n",
      " 24  prov_name          943 non-null    object             \n",
      "dtypes: datetime64[ns, UTC](1), float64(3), int64(3), object(18)\n",
      "memory usage: 184.3+ KB\n"
     ]
    }
   ],
   "source": [
    "df_airports.info()"
   ]
  },
  {
   "cell_type": "markdown",
   "id": "bb54dbf4-e090-4643-be95-b7a749e320af",
   "metadata": {},
   "source": [
    "Para eliminar las filas que contienen valores nulos **sólo de una columna**:"
   ]
  },
  {
   "cell_type": "code",
   "execution_count": 34,
   "id": "f1109e88-4e0e-43e5-8240-6553f17a9630",
   "metadata": {},
   "outputs": [],
   "source": [
    "df_airports_mod = df_airports.dropna(subset=['elevation_ft']).copy()\n"
   ]
  },
  {
   "cell_type": "markdown",
   "id": "fb6024cd-5c0e-4766-b92a-bb30a4896cfd",
   "metadata": {},
   "source": [
    "Para no perder los datos originales, realizamos una **copia** sacando los valores nulos de la columna **elevation_ft**"
   ]
  },
  {
   "cell_type": "code",
   "execution_count": 35,
   "id": "4ae4a0e6-6a1b-47b8-bed3-ffa4bbbfce04",
   "metadata": {},
   "outputs": [
    {
     "data": {
      "text/html": [
       "<div>\n",
       "<style scoped>\n",
       "    .dataframe tbody tr th:only-of-type {\n",
       "        vertical-align: middle;\n",
       "    }\n",
       "\n",
       "    .dataframe tbody tr th {\n",
       "        vertical-align: top;\n",
       "    }\n",
       "\n",
       "    .dataframe thead th {\n",
       "        text-align: right;\n",
       "    }\n",
       "</style>\n",
       "<table border=\"1\" class=\"dataframe\">\n",
       "  <thead>\n",
       "    <tr style=\"text-align: right;\">\n",
       "      <th></th>\n",
       "      <th>name</th>\n",
       "      <th>elevation_ft</th>\n",
       "    </tr>\n",
       "  </thead>\n",
       "  <tbody>\n",
       "    <tr>\n",
       "      <th>0</th>\n",
       "      <td>Minister Pistarini International Airport</td>\n",
       "      <td>67</td>\n",
       "    </tr>\n",
       "    <tr>\n",
       "      <th>1</th>\n",
       "      <td>Jorge Newbery Airpark</td>\n",
       "      <td>18</td>\n",
       "    </tr>\n",
       "    <tr>\n",
       "      <th>2</th>\n",
       "      <td>Malvinas Argentinas Airport</td>\n",
       "      <td>102</td>\n",
       "    </tr>\n",
       "  </tbody>\n",
       "</table>\n",
       "</div>"
      ],
      "text/plain": [
       "                                       name  elevation_ft\n",
       "0  Minister Pistarini International Airport            67\n",
       "1                     Jorge Newbery Airpark            18\n",
       "2               Malvinas Argentinas Airport           102"
      ]
     },
     "execution_count": 35,
     "metadata": {},
     "output_type": "execute_result"
    }
   ],
   "source": [
    "df_airports_mod['elevation_ft'] = df_airports_mod.elevation_ft.astype(int)\n",
    "df_airports_mod[['name','elevation_ft']].head(3)"
   ]
  },
  {
   "cell_type": "markdown",
   "id": "5585e4e9-e085-46b8-b798-627193bbc3be",
   "metadata": {},
   "source": [
    "¿Cuántos valores nulos hay en cada columna ahora?"
   ]
  },
  {
   "cell_type": "code",
   "execution_count": 36,
   "id": "4a5a8b89-2e23-4595-86e2-76f87be0a3cd",
   "metadata": {},
   "outputs": [
    {
     "name": "stdout",
     "output_type": "stream",
     "text": [
      "<class 'pandas.core.frame.DataFrame'>\n",
      "Index: 908 entries, 0 to 942\n",
      "Data columns (total 25 columns):\n",
      " #   Column             Non-Null Count  Dtype              \n",
      "---  ------             --------------  -----              \n",
      " 0   id                 908 non-null    int64              \n",
      " 1   ident              908 non-null    object             \n",
      " 2   type               908 non-null    object             \n",
      " 3   name               908 non-null    object             \n",
      " 4   latitude_deg       908 non-null    float64            \n",
      " 5   longitude_deg      908 non-null    float64            \n",
      " 6   elevation_ft       908 non-null    int32              \n",
      " 7   continent          908 non-null    object             \n",
      " 8   country_name       908 non-null    object             \n",
      " 9   iso_country        908 non-null    object             \n",
      " 10  region_name        908 non-null    object             \n",
      " 11  iso_region         908 non-null    object             \n",
      " 12  local_region       908 non-null    object             \n",
      " 13  municipality       900 non-null    object             \n",
      " 14  scheduled_service  908 non-null    int64              \n",
      " 15  gps_code           223 non-null    object             \n",
      " 16  iata_code          103 non-null    object             \n",
      " 17  local_code         756 non-null    object             \n",
      " 18  home_link          14 non-null     object             \n",
      " 19  wikipedia_link     79 non-null     object             \n",
      " 20  keywords           108 non-null    object             \n",
      " 21  score              908 non-null    int64              \n",
      " 22  last_updated       908 non-null    datetime64[ns, UTC]\n",
      " 23  elevation_name     908 non-null    object             \n",
      " 24  prov_name          908 non-null    object             \n",
      "dtypes: datetime64[ns, UTC](1), float64(2), int32(1), int64(3), object(18)\n",
      "memory usage: 984.0 KB\n"
     ]
    }
   ],
   "source": [
    "df_airports_mod.info(memory_usage='deep')"
   ]
  },
  {
   "cell_type": "code",
   "execution_count": 37,
   "id": "5f176665-4fd6-4699-8c0a-a072fd3e2e95",
   "metadata": {},
   "outputs": [
    {
     "name": "stdout",
     "output_type": "stream",
     "text": [
      "<class 'pandas.core.frame.DataFrame'>\n",
      "RangeIndex: 943 entries, 0 to 942\n",
      "Data columns (total 25 columns):\n",
      " #   Column             Non-Null Count  Dtype              \n",
      "---  ------             --------------  -----              \n",
      " 0   id                 943 non-null    int64              \n",
      " 1   ident              943 non-null    object             \n",
      " 2   type               943 non-null    object             \n",
      " 3   name               943 non-null    object             \n",
      " 4   latitude_deg       943 non-null    float64            \n",
      " 5   longitude_deg      943 non-null    float64            \n",
      " 6   elevation_ft       908 non-null    float64            \n",
      " 7   continent          943 non-null    object             \n",
      " 8   country_name       943 non-null    object             \n",
      " 9   iso_country        943 non-null    object             \n",
      " 10  region_name        943 non-null    object             \n",
      " 11  iso_region         943 non-null    object             \n",
      " 12  local_region       943 non-null    object             \n",
      " 13  municipality       927 non-null    object             \n",
      " 14  scheduled_service  943 non-null    int64              \n",
      " 15  gps_code           225 non-null    object             \n",
      " 16  iata_code          103 non-null    object             \n",
      " 17  local_code         761 non-null    object             \n",
      " 18  home_link          14 non-null     object             \n",
      " 19  wikipedia_link     80 non-null     object             \n",
      " 20  keywords           108 non-null    object             \n",
      " 21  score              943 non-null    int64              \n",
      " 22  last_updated       943 non-null    datetime64[ns, UTC]\n",
      " 23  elevation_name     943 non-null    object             \n",
      " 24  prov_name          943 non-null    object             \n",
      "dtypes: datetime64[ns, UTC](1), float64(3), int64(3), object(18)\n",
      "memory usage: 1017.2 KB\n"
     ]
    }
   ],
   "source": [
    "df_airports.info(memory_usage='deep')"
   ]
  },
  {
   "cell_type": "markdown",
   "id": "10f6e091-b075-4378-94d4-5043ad4b255f",
   "metadata": {},
   "source": [
    "### 📌 Cálculos mátemáticos que nos pueden interesar...\n",
    "* mean\n",
    "* min\n",
    "* max\n",
    "* sum "
   ]
  },
  {
   "cell_type": "code",
   "execution_count": 38,
   "id": "bb6fbc44-e19a-4212-995f-919a6ceebb8e",
   "metadata": {},
   "outputs": [
    {
     "data": {
      "text/plain": [
       "6"
      ]
     },
     "execution_count": 38,
     "metadata": {},
     "output_type": "execute_result"
    }
   ],
   "source": [
    "df_airports_mod.elevation_ft.min()"
   ]
  },
  {
   "cell_type": "markdown",
   "id": "0f4dfba9-2c85-4c42-b0da-8c4adddc4698",
   "metadata": {},
   "source": [
    "Queremos encontrar los aeropuertos cuya elevación sea menor al promedio.\n"
   ]
  },
  {
   "cell_type": "code",
   "execution_count": 39,
   "id": "7332c5ed-2695-46e5-916c-74c80b5e0ecb",
   "metadata": {},
   "outputs": [
    {
     "data": {
      "text/html": [
       "<div>\n",
       "<style scoped>\n",
       "    .dataframe tbody tr th:only-of-type {\n",
       "        vertical-align: middle;\n",
       "    }\n",
       "\n",
       "    .dataframe tbody tr th {\n",
       "        vertical-align: top;\n",
       "    }\n",
       "\n",
       "    .dataframe thead th {\n",
       "        text-align: right;\n",
       "    }\n",
       "</style>\n",
       "<table border=\"1\" class=\"dataframe\">\n",
       "  <thead>\n",
       "    <tr style=\"text-align: right;\">\n",
       "      <th></th>\n",
       "      <th>name</th>\n",
       "      <th>elevation_ft</th>\n",
       "    </tr>\n",
       "  </thead>\n",
       "  <tbody>\n",
       "    <tr>\n",
       "      <th>0</th>\n",
       "      <td>Minister Pistarini International Airport</td>\n",
       "      <td>67</td>\n",
       "    </tr>\n",
       "    <tr>\n",
       "      <th>1</th>\n",
       "      <td>Jorge Newbery Airpark</td>\n",
       "      <td>18</td>\n",
       "    </tr>\n",
       "    <tr>\n",
       "      <th>2</th>\n",
       "      <td>Malvinas Argentinas Airport</td>\n",
       "      <td>102</td>\n",
       "    </tr>\n",
       "  </tbody>\n",
       "</table>\n",
       "</div>"
      ],
      "text/plain": [
       "                                       name  elevation_ft\n",
       "0  Minister Pistarini International Airport            67\n",
       "1                     Jorge Newbery Airpark            18\n",
       "2               Malvinas Argentinas Airport           102"
      ]
     },
     "execution_count": 39,
     "metadata": {},
     "output_type": "execute_result"
    }
   ],
   "source": [
    "df_airports_mod[df_airports_mod.elevation_ft<df_airports.elevation_ft.mean()][['name','elevation_ft']].head(3)"
   ]
  },
  {
   "cell_type": "markdown",
   "id": "91766ef0-c79a-4a41-a97f-beeee91ecf47",
   "metadata": {},
   "source": [
    "¿Por qué usamos dos veces la variable del **dataframe**?"
   ]
  },
  {
   "cell_type": "markdown",
   "id": "0a14e348-4190-4dcd-aaeb-c00381b21501",
   "metadata": {},
   "source": [
    "## 🎒 Crear nuestro dataframe"
   ]
  },
  {
   "cell_type": "code",
   "execution_count": 48,
   "id": "85c45bb6-e7cd-4617-a73f-a6abc3615a97",
   "metadata": {},
   "outputs": [],
   "source": [
    "recognized_women_info = {\n",
    "    'Cecilia Berdichevsky': {'Area': 'Informática', 'Fecha_nacimiento': '1960-05-10'},\n",
    "    'Noemí García': {'Area': 'Informática', 'Fecha_nacimiento': '1965-11-30'},\n",
    "    'Cecilia Grierson': {'Area': 'Ciencia', 'Fecha_nacimiento': '1859-11-22'},\n",
    "    'Julieta Lanteri': {'Area': 'Ciencia', 'Fecha_nacimiento': '1873-11-22'},\n",
    "    'Jeanette Campbell': {'Area': 'Deporte', 'Fecha_nacimiento': '1965-03-20'},\n",
    "    'Mary Terán': {'Area': 'Deporte', 'Fecha_nacimiento': '1936-01-23'},\n",
    "    'Patricia Sosa': {'Area': 'Música', 'Fecha_nacimiento': '1956-01-23'},\n",
    "    'Fabiana Cantilo': {'Area': 'Música', 'Fecha_nacimiento': '1959-03-03'}\n",
    "}"
   ]
  },
  {
   "cell_type": "markdown",
   "id": "28b39a50-5ef8-4216-811c-0a08f9c039eb",
   "metadata": {},
   "source": [
    "* Convertir el diccionario a DataFrame"
   ]
  },
  {
   "cell_type": "code",
   "execution_count": 49,
   "id": "64ac8507-4ec4-4d9e-802f-8670b09d82bd",
   "metadata": {},
   "outputs": [
    {
     "data": {
      "text/html": [
       "<div>\n",
       "<style scoped>\n",
       "    .dataframe tbody tr th:only-of-type {\n",
       "        vertical-align: middle;\n",
       "    }\n",
       "\n",
       "    .dataframe tbody tr th {\n",
       "        vertical-align: top;\n",
       "    }\n",
       "\n",
       "    .dataframe thead th {\n",
       "        text-align: right;\n",
       "    }\n",
       "</style>\n",
       "<table border=\"1\" class=\"dataframe\">\n",
       "  <thead>\n",
       "    <tr style=\"text-align: right;\">\n",
       "      <th></th>\n",
       "      <th>Area</th>\n",
       "      <th>Fecha_nacimiento</th>\n",
       "    </tr>\n",
       "  </thead>\n",
       "  <tbody>\n",
       "    <tr>\n",
       "      <th>Cecilia Berdichevsky</th>\n",
       "      <td>Informática</td>\n",
       "      <td>1960-05-10</td>\n",
       "    </tr>\n",
       "    <tr>\n",
       "      <th>Noemí García</th>\n",
       "      <td>Informática</td>\n",
       "      <td>1965-11-30</td>\n",
       "    </tr>\n",
       "    <tr>\n",
       "      <th>Cecilia Grierson</th>\n",
       "      <td>Ciencia</td>\n",
       "      <td>1859-11-22</td>\n",
       "    </tr>\n",
       "    <tr>\n",
       "      <th>Julieta Lanteri</th>\n",
       "      <td>Ciencia</td>\n",
       "      <td>1873-11-22</td>\n",
       "    </tr>\n",
       "    <tr>\n",
       "      <th>Jeanette Campbell</th>\n",
       "      <td>Deporte</td>\n",
       "      <td>1965-03-20</td>\n",
       "    </tr>\n",
       "    <tr>\n",
       "      <th>Mary Terán</th>\n",
       "      <td>Deporte</td>\n",
       "      <td>1936-01-23</td>\n",
       "    </tr>\n",
       "    <tr>\n",
       "      <th>Patricia Sosa</th>\n",
       "      <td>Música</td>\n",
       "      <td>1956-01-23</td>\n",
       "    </tr>\n",
       "    <tr>\n",
       "      <th>Fabiana Cantilo</th>\n",
       "      <td>Música</td>\n",
       "      <td>1959-03-03</td>\n",
       "    </tr>\n",
       "  </tbody>\n",
       "</table>\n",
       "</div>"
      ],
      "text/plain": [
       "                             Area Fecha_nacimiento\n",
       "Cecilia Berdichevsky  Informática       1960-05-10\n",
       "Noemí García          Informática       1965-11-30\n",
       "Cecilia Grierson          Ciencia       1859-11-22\n",
       "Julieta Lanteri           Ciencia       1873-11-22\n",
       "Jeanette Campbell         Deporte       1965-03-20\n",
       "Mary Terán                Deporte       1936-01-23\n",
       "Patricia Sosa              Música       1956-01-23\n",
       "Fabiana Cantilo            Música       1959-03-03"
      ]
     },
     "execution_count": 49,
     "metadata": {},
     "output_type": "execute_result"
    }
   ],
   "source": [
    "women_df = pd.DataFrame.from_dict(recognized_women_info, orient='index')\n",
    "\n",
    "women_df"
   ]
  },
  {
   "cell_type": "markdown",
   "id": "7fbd6387-067c-45e7-8907-240eb5a2f814",
   "metadata": {},
   "source": [
    "**orient=index**: indica que las claves del diccionario deben sen interpretadas como índice del dataframe que se está"
   ]
  },
  {
   "cell_type": "markdown",
   "id": "83655ba8-a196-4eac-92fb-8c5a8ba5f5bf",
   "metadata": {},
   "source": [
    "* Convertir el índice en columna como parte del Dataframe"
   ]
  },
  {
   "cell_type": "code",
   "execution_count": 50,
   "id": "a29da63b-d73c-4f0c-a83a-a7a8ecd290ec",
   "metadata": {},
   "outputs": [
    {
     "data": {
      "text/html": [
       "<div>\n",
       "<style scoped>\n",
       "    .dataframe tbody tr th:only-of-type {\n",
       "        vertical-align: middle;\n",
       "    }\n",
       "\n",
       "    .dataframe tbody tr th {\n",
       "        vertical-align: top;\n",
       "    }\n",
       "\n",
       "    .dataframe thead th {\n",
       "        text-align: right;\n",
       "    }\n",
       "</style>\n",
       "<table border=\"1\" class=\"dataframe\">\n",
       "  <thead>\n",
       "    <tr style=\"text-align: right;\">\n",
       "      <th></th>\n",
       "      <th>Nombre</th>\n",
       "      <th>Area</th>\n",
       "      <th>Fecha_nacimiento</th>\n",
       "    </tr>\n",
       "    <tr>\n",
       "      <th>index</th>\n",
       "      <th></th>\n",
       "      <th></th>\n",
       "      <th></th>\n",
       "    </tr>\n",
       "  </thead>\n",
       "  <tbody>\n",
       "    <tr>\n",
       "      <th>0</th>\n",
       "      <td>Cecilia Berdichevsky</td>\n",
       "      <td>Informática</td>\n",
       "      <td>1960-05-10</td>\n",
       "    </tr>\n",
       "    <tr>\n",
       "      <th>1</th>\n",
       "      <td>Noemí García</td>\n",
       "      <td>Informática</td>\n",
       "      <td>1965-11-30</td>\n",
       "    </tr>\n",
       "    <tr>\n",
       "      <th>2</th>\n",
       "      <td>Cecilia Grierson</td>\n",
       "      <td>Ciencia</td>\n",
       "      <td>1859-11-22</td>\n",
       "    </tr>\n",
       "    <tr>\n",
       "      <th>3</th>\n",
       "      <td>Julieta Lanteri</td>\n",
       "      <td>Ciencia</td>\n",
       "      <td>1873-11-22</td>\n",
       "    </tr>\n",
       "    <tr>\n",
       "      <th>4</th>\n",
       "      <td>Jeanette Campbell</td>\n",
       "      <td>Deporte</td>\n",
       "      <td>1965-03-20</td>\n",
       "    </tr>\n",
       "    <tr>\n",
       "      <th>5</th>\n",
       "      <td>Mary Terán</td>\n",
       "      <td>Deporte</td>\n",
       "      <td>1936-01-23</td>\n",
       "    </tr>\n",
       "    <tr>\n",
       "      <th>6</th>\n",
       "      <td>Patricia Sosa</td>\n",
       "      <td>Música</td>\n",
       "      <td>1956-01-23</td>\n",
       "    </tr>\n",
       "    <tr>\n",
       "      <th>7</th>\n",
       "      <td>Fabiana Cantilo</td>\n",
       "      <td>Música</td>\n",
       "      <td>1959-03-03</td>\n",
       "    </tr>\n",
       "  </tbody>\n",
       "</table>\n",
       "</div>"
      ],
      "text/plain": [
       "                     Nombre         Area Fecha_nacimiento\n",
       "index                                                    \n",
       "0      Cecilia Berdichevsky  Informática       1960-05-10\n",
       "1              Noemí García  Informática       1965-11-30\n",
       "2          Cecilia Grierson      Ciencia       1859-11-22\n",
       "3           Julieta Lanteri      Ciencia       1873-11-22\n",
       "4         Jeanette Campbell      Deporte       1965-03-20\n",
       "5                Mary Terán      Deporte       1936-01-23\n",
       "6             Patricia Sosa       Música       1956-01-23\n",
       "7           Fabiana Cantilo       Música       1959-03-03"
      ]
     },
     "execution_count": 50,
     "metadata": {},
     "output_type": "execute_result"
    }
   ],
   "source": [
    "women_df.reset_index(inplace=True)\n",
    "women_df.rename(columns={'index': 'Nombre'}, inplace=True)\n",
    "women_df.index.name = 'index'\n",
    "women_df"
   ]
  },
  {
   "cell_type": "code",
   "execution_count": 51,
   "id": "2febf4b8-f58b-4656-a6d2-81581d7ff3ff",
   "metadata": {},
   "outputs": [
    {
     "name": "stdout",
     "output_type": "stream",
     "text": [
      "<class 'pandas.core.frame.DataFrame'>\n",
      "RangeIndex: 8 entries, 0 to 7\n",
      "Data columns (total 3 columns):\n",
      " #   Column            Non-Null Count  Dtype \n",
      "---  ------            --------------  ----- \n",
      " 0   Nombre            8 non-null      object\n",
      " 1   Area              8 non-null      object\n",
      " 2   Fecha_nacimiento  8 non-null      object\n",
      "dtypes: object(3)\n",
      "memory usage: 324.0+ bytes\n"
     ]
    }
   ],
   "source": [
    "women_df.info()\n"
   ]
  },
  {
   "cell_type": "markdown",
   "id": "47d8c527-4eb2-499e-8ec6-58fa26c25357",
   "metadata": {},
   "source": [
    "Accedemos a filas por número de fila y por etiquetas"
   ]
  },
  {
   "cell_type": "code",
   "execution_count": 52,
   "id": "05085adc-66f5-4c60-9c0a-d72577f42249",
   "metadata": {},
   "outputs": [
    {
     "data": {
      "text/plain": [
       "Nombre              Cecilia Grierson\n",
       "Area                         Ciencia\n",
       "Fecha_nacimiento          1859-11-22\n",
       "Name: 2, dtype: object"
      ]
     },
     "execution_count": 52,
     "metadata": {},
     "output_type": "execute_result"
    }
   ],
   "source": [
    "women_df.iloc[2]"
   ]
  },
  {
   "cell_type": "code",
   "execution_count": 53,
   "id": "fe285861-2bf3-4eee-88a8-6e1a25f8fbda",
   "metadata": {},
   "outputs": [
    {
     "data": {
      "text/plain": [
       "Nombre              Cecilia Grierson\n",
       "Area                         Ciencia\n",
       "Fecha_nacimiento          1859-11-22\n",
       "Name: 2, dtype: object"
      ]
     },
     "execution_count": 53,
     "metadata": {},
     "output_type": "execute_result"
    }
   ],
   "source": [
    "women_df.loc[2]"
   ]
  },
  {
   "cell_type": "markdown",
   "id": "4fda11fc-c6cc-4c84-ac26-09a8378126de",
   "metadata": {},
   "source": [
    "#### Generamos el Dataframe con etiquetas diferentes a números"
   ]
  },
  {
   "cell_type": "code",
   "execution_count": 54,
   "id": "42358713-5325-4193-acb0-c0a468d06ad0",
   "metadata": {},
   "outputs": [
    {
     "data": {
      "text/html": [
       "<div>\n",
       "<style scoped>\n",
       "    .dataframe tbody tr th:only-of-type {\n",
       "        vertical-align: middle;\n",
       "    }\n",
       "\n",
       "    .dataframe tbody tr th {\n",
       "        vertical-align: top;\n",
       "    }\n",
       "\n",
       "    .dataframe thead th {\n",
       "        text-align: right;\n",
       "    }\n",
       "</style>\n",
       "<table border=\"1\" class=\"dataframe\">\n",
       "  <thead>\n",
       "    <tr style=\"text-align: right;\">\n",
       "      <th></th>\n",
       "      <th>Nombre</th>\n",
       "      <th>Area</th>\n",
       "      <th>Fecha_nacimiento</th>\n",
       "    </tr>\n",
       "  </thead>\n",
       "  <tbody>\n",
       "    <tr>\n",
       "      <th>w1</th>\n",
       "      <td>Cecilia Berdichevsky</td>\n",
       "      <td>Informática</td>\n",
       "      <td>1960-05-10</td>\n",
       "    </tr>\n",
       "    <tr>\n",
       "      <th>w2</th>\n",
       "      <td>Noemí García</td>\n",
       "      <td>Informática</td>\n",
       "      <td>1965-11-30</td>\n",
       "    </tr>\n",
       "    <tr>\n",
       "      <th>w3</th>\n",
       "      <td>Cecilia Grierson</td>\n",
       "      <td>Ciencia</td>\n",
       "      <td>1859-11-22</td>\n",
       "    </tr>\n",
       "    <tr>\n",
       "      <th>w4</th>\n",
       "      <td>Julieta Lanteri</td>\n",
       "      <td>Ciencia</td>\n",
       "      <td>1873-11-22</td>\n",
       "    </tr>\n",
       "    <tr>\n",
       "      <th>w5</th>\n",
       "      <td>Jeanette Campbell</td>\n",
       "      <td>Deporte</td>\n",
       "      <td>1965-03-20</td>\n",
       "    </tr>\n",
       "    <tr>\n",
       "      <th>w6</th>\n",
       "      <td>Mary Terán</td>\n",
       "      <td>Deporte</td>\n",
       "      <td>1936-01-23</td>\n",
       "    </tr>\n",
       "    <tr>\n",
       "      <th>w7</th>\n",
       "      <td>Patricia Sosa</td>\n",
       "      <td>Música</td>\n",
       "      <td>1956-01-23</td>\n",
       "    </tr>\n",
       "    <tr>\n",
       "      <th>w8</th>\n",
       "      <td>Fabiana Cantilo</td>\n",
       "      <td>Música</td>\n",
       "      <td>1959-03-03</td>\n",
       "    </tr>\n",
       "  </tbody>\n",
       "</table>\n",
       "</div>"
      ],
      "text/plain": [
       "                  Nombre         Area Fecha_nacimiento\n",
       "w1  Cecilia Berdichevsky  Informática       1960-05-10\n",
       "w2          Noemí García  Informática       1965-11-30\n",
       "w3      Cecilia Grierson      Ciencia       1859-11-22\n",
       "w4       Julieta Lanteri      Ciencia       1873-11-22\n",
       "w5     Jeanette Campbell      Deporte       1965-03-20\n",
       "w6            Mary Terán      Deporte       1936-01-23\n",
       "w7         Patricia Sosa       Música       1956-01-23\n",
       "w8       Fabiana Cantilo       Música       1959-03-03"
      ]
     },
     "execution_count": 54,
     "metadata": {},
     "output_type": "execute_result"
    }
   ],
   "source": [
    "index_list = ['w' + str(i) for i in range(1, len(recognized_women_info) + 1)]\n",
    "women_df = pd.DataFrame.from_dict(recognized_women_info, orient='index')\n",
    "women_df.reset_index(inplace=True)\n",
    "women_df.rename(columns={'index': 'Nombre'}, inplace=True)\n",
    "women_df.index = index_list\n",
    "women_df"
   ]
  },
  {
   "cell_type": "markdown",
   "id": "16e84322-405d-4033-987f-d169325a844b",
   "metadata": {},
   "source": [
    "#### Ahora el acceso con **iloc** y **loc** cambia"
   ]
  },
  {
   "cell_type": "code",
   "execution_count": 55,
   "id": "5e08f1b5-00ce-46e8-944d-e44ff2a6d6dd",
   "metadata": {},
   "outputs": [
    {
     "data": {
      "text/plain": [
       "Nombre              Cecilia Berdichevsky\n",
       "Area                         Informática\n",
       "Fecha_nacimiento              1960-05-10\n",
       "Name: w1, dtype: object"
      ]
     },
     "execution_count": 55,
     "metadata": {},
     "output_type": "execute_result"
    }
   ],
   "source": [
    "women_df.iloc[0]"
   ]
  },
  {
   "cell_type": "code",
   "execution_count": 57,
   "id": "565179d8-3fda-457c-82c3-2bc313f99cd4",
   "metadata": {},
   "outputs": [
    {
     "ename": "KeyError",
     "evalue": "0",
     "output_type": "error",
     "traceback": [
      "\u001b[1;31m---------------------------------------------------------------------------\u001b[0m",
      "\u001b[1;31mKeyError\u001b[0m                                  Traceback (most recent call last)",
      "File \u001b[1;32mc:\\Users\\Valentin\\.pyenv\\pyenv-win\\versions\\3.11.2\\Lib\\site-packages\\pandas\\core\\indexes\\base.py:3805\u001b[0m, in \u001b[0;36mIndex.get_loc\u001b[1;34m(self, key)\u001b[0m\n\u001b[0;32m   3804\u001b[0m \u001b[38;5;28;01mtry\u001b[39;00m:\n\u001b[1;32m-> 3805\u001b[0m     \u001b[38;5;28;01mreturn\u001b[39;00m \u001b[38;5;28;43mself\u001b[39;49m\u001b[38;5;241;43m.\u001b[39;49m\u001b[43m_engine\u001b[49m\u001b[38;5;241;43m.\u001b[39;49m\u001b[43mget_loc\u001b[49m\u001b[43m(\u001b[49m\u001b[43mcasted_key\u001b[49m\u001b[43m)\u001b[49m\n\u001b[0;32m   3806\u001b[0m \u001b[38;5;28;01mexcept\u001b[39;00m \u001b[38;5;167;01mKeyError\u001b[39;00m \u001b[38;5;28;01mas\u001b[39;00m err:\n",
      "File \u001b[1;32mindex.pyx:167\u001b[0m, in \u001b[0;36mpandas._libs.index.IndexEngine.get_loc\u001b[1;34m()\u001b[0m\n",
      "File \u001b[1;32mindex.pyx:196\u001b[0m, in \u001b[0;36mpandas._libs.index.IndexEngine.get_loc\u001b[1;34m()\u001b[0m\n",
      "File \u001b[1;32mpandas\\\\_libs\\\\hashtable_class_helper.pxi:7081\u001b[0m, in \u001b[0;36mpandas._libs.hashtable.PyObjectHashTable.get_item\u001b[1;34m()\u001b[0m\n",
      "File \u001b[1;32mpandas\\\\_libs\\\\hashtable_class_helper.pxi:7089\u001b[0m, in \u001b[0;36mpandas._libs.hashtable.PyObjectHashTable.get_item\u001b[1;34m()\u001b[0m\n",
      "\u001b[1;31mKeyError\u001b[0m: 0",
      "\nThe above exception was the direct cause of the following exception:\n",
      "\u001b[1;31mKeyError\u001b[0m                                  Traceback (most recent call last)",
      "Cell \u001b[1;32mIn[57], line 1\u001b[0m\n\u001b[1;32m----> 1\u001b[0m \u001b[43mwomen_df\u001b[49m\u001b[38;5;241;43m.\u001b[39;49m\u001b[43mloc\u001b[49m\u001b[43m[\u001b[49m\u001b[38;5;241;43m0\u001b[39;49m\u001b[43m]\u001b[49m\n",
      "File \u001b[1;32mc:\\Users\\Valentin\\.pyenv\\pyenv-win\\versions\\3.11.2\\Lib\\site-packages\\pandas\\core\\indexing.py:1191\u001b[0m, in \u001b[0;36m_LocationIndexer.__getitem__\u001b[1;34m(self, key)\u001b[0m\n\u001b[0;32m   1189\u001b[0m maybe_callable \u001b[38;5;241m=\u001b[39m com\u001b[38;5;241m.\u001b[39mapply_if_callable(key, \u001b[38;5;28mself\u001b[39m\u001b[38;5;241m.\u001b[39mobj)\n\u001b[0;32m   1190\u001b[0m maybe_callable \u001b[38;5;241m=\u001b[39m \u001b[38;5;28mself\u001b[39m\u001b[38;5;241m.\u001b[39m_check_deprecated_callable_usage(key, maybe_callable)\n\u001b[1;32m-> 1191\u001b[0m \u001b[38;5;28;01mreturn\u001b[39;00m \u001b[38;5;28;43mself\u001b[39;49m\u001b[38;5;241;43m.\u001b[39;49m\u001b[43m_getitem_axis\u001b[49m\u001b[43m(\u001b[49m\u001b[43mmaybe_callable\u001b[49m\u001b[43m,\u001b[49m\u001b[43m \u001b[49m\u001b[43maxis\u001b[49m\u001b[38;5;241;43m=\u001b[39;49m\u001b[43maxis\u001b[49m\u001b[43m)\u001b[49m\n",
      "File \u001b[1;32mc:\\Users\\Valentin\\.pyenv\\pyenv-win\\versions\\3.11.2\\Lib\\site-packages\\pandas\\core\\indexing.py:1431\u001b[0m, in \u001b[0;36m_LocIndexer._getitem_axis\u001b[1;34m(self, key, axis)\u001b[0m\n\u001b[0;32m   1429\u001b[0m \u001b[38;5;66;03m# fall thru to straight lookup\u001b[39;00m\n\u001b[0;32m   1430\u001b[0m \u001b[38;5;28mself\u001b[39m\u001b[38;5;241m.\u001b[39m_validate_key(key, axis)\n\u001b[1;32m-> 1431\u001b[0m \u001b[38;5;28;01mreturn\u001b[39;00m \u001b[38;5;28;43mself\u001b[39;49m\u001b[38;5;241;43m.\u001b[39;49m\u001b[43m_get_label\u001b[49m\u001b[43m(\u001b[49m\u001b[43mkey\u001b[49m\u001b[43m,\u001b[49m\u001b[43m \u001b[49m\u001b[43maxis\u001b[49m\u001b[38;5;241;43m=\u001b[39;49m\u001b[43maxis\u001b[49m\u001b[43m)\u001b[49m\n",
      "File \u001b[1;32mc:\\Users\\Valentin\\.pyenv\\pyenv-win\\versions\\3.11.2\\Lib\\site-packages\\pandas\\core\\indexing.py:1381\u001b[0m, in \u001b[0;36m_LocIndexer._get_label\u001b[1;34m(self, label, axis)\u001b[0m\n\u001b[0;32m   1379\u001b[0m \u001b[38;5;28;01mdef\u001b[39;00m \u001b[38;5;21m_get_label\u001b[39m(\u001b[38;5;28mself\u001b[39m, label, axis: AxisInt):\n\u001b[0;32m   1380\u001b[0m     \u001b[38;5;66;03m# GH#5567 this will fail if the label is not present in the axis.\u001b[39;00m\n\u001b[1;32m-> 1381\u001b[0m     \u001b[38;5;28;01mreturn\u001b[39;00m \u001b[38;5;28;43mself\u001b[39;49m\u001b[38;5;241;43m.\u001b[39;49m\u001b[43mobj\u001b[49m\u001b[38;5;241;43m.\u001b[39;49m\u001b[43mxs\u001b[49m\u001b[43m(\u001b[49m\u001b[43mlabel\u001b[49m\u001b[43m,\u001b[49m\u001b[43m \u001b[49m\u001b[43maxis\u001b[49m\u001b[38;5;241;43m=\u001b[39;49m\u001b[43maxis\u001b[49m\u001b[43m)\u001b[49m\n",
      "File \u001b[1;32mc:\\Users\\Valentin\\.pyenv\\pyenv-win\\versions\\3.11.2\\Lib\\site-packages\\pandas\\core\\generic.py:4301\u001b[0m, in \u001b[0;36mNDFrame.xs\u001b[1;34m(self, key, axis, level, drop_level)\u001b[0m\n\u001b[0;32m   4299\u001b[0m             new_index \u001b[38;5;241m=\u001b[39m index[loc]\n\u001b[0;32m   4300\u001b[0m \u001b[38;5;28;01melse\u001b[39;00m:\n\u001b[1;32m-> 4301\u001b[0m     loc \u001b[38;5;241m=\u001b[39m \u001b[43mindex\u001b[49m\u001b[38;5;241;43m.\u001b[39;49m\u001b[43mget_loc\u001b[49m\u001b[43m(\u001b[49m\u001b[43mkey\u001b[49m\u001b[43m)\u001b[49m\n\u001b[0;32m   4303\u001b[0m     \u001b[38;5;28;01mif\u001b[39;00m \u001b[38;5;28misinstance\u001b[39m(loc, np\u001b[38;5;241m.\u001b[39mndarray):\n\u001b[0;32m   4304\u001b[0m         \u001b[38;5;28;01mif\u001b[39;00m loc\u001b[38;5;241m.\u001b[39mdtype \u001b[38;5;241m==\u001b[39m np\u001b[38;5;241m.\u001b[39mbool_:\n",
      "File \u001b[1;32mc:\\Users\\Valentin\\.pyenv\\pyenv-win\\versions\\3.11.2\\Lib\\site-packages\\pandas\\core\\indexes\\base.py:3812\u001b[0m, in \u001b[0;36mIndex.get_loc\u001b[1;34m(self, key)\u001b[0m\n\u001b[0;32m   3807\u001b[0m     \u001b[38;5;28;01mif\u001b[39;00m \u001b[38;5;28misinstance\u001b[39m(casted_key, \u001b[38;5;28mslice\u001b[39m) \u001b[38;5;129;01mor\u001b[39;00m (\n\u001b[0;32m   3808\u001b[0m         \u001b[38;5;28misinstance\u001b[39m(casted_key, abc\u001b[38;5;241m.\u001b[39mIterable)\n\u001b[0;32m   3809\u001b[0m         \u001b[38;5;129;01mand\u001b[39;00m \u001b[38;5;28many\u001b[39m(\u001b[38;5;28misinstance\u001b[39m(x, \u001b[38;5;28mslice\u001b[39m) \u001b[38;5;28;01mfor\u001b[39;00m x \u001b[38;5;129;01min\u001b[39;00m casted_key)\n\u001b[0;32m   3810\u001b[0m     ):\n\u001b[0;32m   3811\u001b[0m         \u001b[38;5;28;01mraise\u001b[39;00m InvalidIndexError(key)\n\u001b[1;32m-> 3812\u001b[0m     \u001b[38;5;28;01mraise\u001b[39;00m \u001b[38;5;167;01mKeyError\u001b[39;00m(key) \u001b[38;5;28;01mfrom\u001b[39;00m \u001b[38;5;21;01merr\u001b[39;00m\n\u001b[0;32m   3813\u001b[0m \u001b[38;5;28;01mexcept\u001b[39;00m \u001b[38;5;167;01mTypeError\u001b[39;00m:\n\u001b[0;32m   3814\u001b[0m     \u001b[38;5;66;03m# If we have a listlike key, _check_indexing_error will raise\u001b[39;00m\n\u001b[0;32m   3815\u001b[0m     \u001b[38;5;66;03m#  InvalidIndexError. Otherwise we fall through and re-raise\u001b[39;00m\n\u001b[0;32m   3816\u001b[0m     \u001b[38;5;66;03m#  the TypeError.\u001b[39;00m\n\u001b[0;32m   3817\u001b[0m     \u001b[38;5;28mself\u001b[39m\u001b[38;5;241m.\u001b[39m_check_indexing_error(key)\n",
      "\u001b[1;31mKeyError\u001b[0m: 0"
     ]
    }
   ],
   "source": [
    "women_df.loc[0]"
   ]
  },
  {
   "cell_type": "markdown",
   "id": "ae402e68-9b52-46c9-96b7-1de3afb0532d",
   "metadata": {},
   "source": [
    "Da error porque **0** no es un índice válido"
   ]
  },
  {
   "cell_type": "code",
   "execution_count": 58,
   "id": "48bdd37e-859c-4482-8b3d-e760c09f500a",
   "metadata": {},
   "outputs": [
    {
     "data": {
      "text/plain": [
       "Index(['w1', 'w2', 'w3', 'w4', 'w5', 'w6', 'w7', 'w8'], dtype='object')"
      ]
     },
     "execution_count": 58,
     "metadata": {},
     "output_type": "execute_result"
    }
   ],
   "source": [
    "women_df.index"
   ]
  },
  {
   "cell_type": "code",
   "execution_count": 60,
   "id": "7a108d10-f423-4501-b36b-c62489c2261f",
   "metadata": {},
   "outputs": [
    {
     "data": {
      "text/plain": [
       "Nombre              Cecilia Berdichevsky\n",
       "Area                         Informática\n",
       "Fecha_nacimiento              1960-05-10\n",
       "Name: w1, dtype: object"
      ]
     },
     "execution_count": 60,
     "metadata": {},
     "output_type": "execute_result"
    }
   ],
   "source": [
    "women_df.loc['w1']"
   ]
  },
  {
   "cell_type": "markdown",
   "id": "085ca7c1-713a-469c-88d3-9719863c2b8f",
   "metadata": {},
   "source": [
    "### 🚨 Desafío para resolver en casa\n",
    "* Reemplazar en el dataset de Conectividad las celdas que contengan el carácter '-' con la palabra 'NO' usando Pandas"
   ]
  },
  {
   "cell_type": "markdown",
   "id": "3e7499b9-373f-4254-abe5-e73d4e59039a",
   "metadata": {},
   "source": [
    "## 🎒 Agregar columna con datos de otras columnas\n",
    "Queremos que agregar una columna **height** que contenga los valores:\n",
    "* bajo\n",
    "* medio\n",
    "* alto\n",
    "  \n",
    "según los rangos de valores de la columna **elevation_ft**"
   ]
  },
  {
   "cell_type": "markdown",
   "id": "36b4b93f-f58c-4d6d-a3f9-87d9d6786707",
   "metadata": {},
   "source": [
    "Tenemos que **recorrer** el dataset y asignar el valor correspondiente, podemos hacerlo, recorriendo...usando **iterrrows**"
   ]
  },
  {
   "cell_type": "code",
   "execution_count": 61,
   "id": "41f975b0-9f96-4eef-9379-91f622344a49",
   "metadata": {},
   "outputs": [
    {
     "data": {
      "text/html": [
       "<div>\n",
       "<style scoped>\n",
       "    .dataframe tbody tr th:only-of-type {\n",
       "        vertical-align: middle;\n",
       "    }\n",
       "\n",
       "    .dataframe tbody tr th {\n",
       "        vertical-align: top;\n",
       "    }\n",
       "\n",
       "    .dataframe thead th {\n",
       "        text-align: right;\n",
       "    }\n",
       "</style>\n",
       "<table border=\"1\" class=\"dataframe\">\n",
       "  <thead>\n",
       "    <tr style=\"text-align: right;\">\n",
       "      <th></th>\n",
       "      <th>name</th>\n",
       "      <th>elevation_ft</th>\n",
       "      <th>height</th>\n",
       "    </tr>\n",
       "  </thead>\n",
       "  <tbody>\n",
       "    <tr>\n",
       "      <th>0</th>\n",
       "      <td>Minister Pistarini International Airport</td>\n",
       "      <td>67.0</td>\n",
       "      <td>bajo</td>\n",
       "    </tr>\n",
       "    <tr>\n",
       "      <th>1</th>\n",
       "      <td>Jorge Newbery Airpark</td>\n",
       "      <td>18.0</td>\n",
       "      <td>bajo</td>\n",
       "    </tr>\n",
       "    <tr>\n",
       "      <th>2</th>\n",
       "      <td>Malvinas Argentinas Airport</td>\n",
       "      <td>102.0</td>\n",
       "      <td>bajo</td>\n",
       "    </tr>\n",
       "    <tr>\n",
       "      <th>3</th>\n",
       "      <td>El Calafate - Commander Armando Tola Internati...</td>\n",
       "      <td>669.0</td>\n",
       "      <td>medio</td>\n",
       "    </tr>\n",
       "  </tbody>\n",
       "</table>\n",
       "</div>"
      ],
      "text/plain": [
       "                                                name  elevation_ft height\n",
       "0           Minister Pistarini International Airport          67.0   bajo\n",
       "1                              Jorge Newbery Airpark          18.0   bajo\n",
       "2                        Malvinas Argentinas Airport         102.0   bajo\n",
       "3  El Calafate - Commander Armando Tola Internati...         669.0  medio"
      ]
     },
     "execution_count": 61,
     "metadata": {},
     "output_type": "execute_result"
    }
   ],
   "source": [
    "df_airports_height = df_airports.copy()\n",
    "heights = []\n",
    "for index, row in df_airports_height.iterrows():\n",
    "    value = row['elevation_ft']\n",
    "    if value < 131:\n",
    "        height = 'bajo'\n",
    "    elif value < 903:\n",
    "        height ='medio'\n",
    "    else:\n",
    "        height = 'alto'\n",
    "    \n",
    "    # Añadir el resultado a la lista\n",
    "    heights.append(height)\n",
    "df_airports_height['height'] = heights\n",
    "df_airports_height[['name','elevation_ft','height']].head(4)"
   ]
  },
  {
   "cell_type": "markdown",
   "id": "527925b2-eaed-4b4c-a585-9980221951e2",
   "metadata": {},
   "source": [
    "¿Cómo nos queda el dataset con respecto a los valores nulos de cada columna?"
   ]
  },
  {
   "cell_type": "code",
   "execution_count": 62,
   "id": "b3305c8a-ba2f-4887-b1dc-f923c33542f9",
   "metadata": {},
   "outputs": [
    {
     "ename": "NameError",
     "evalue": "name 'df_airports_altura' is not defined",
     "output_type": "error",
     "traceback": [
      "\u001b[1;31m---------------------------------------------------------------------------\u001b[0m",
      "\u001b[1;31mNameError\u001b[0m                                 Traceback (most recent call last)",
      "Cell \u001b[1;32mIn[62], line 1\u001b[0m\n\u001b[1;32m----> 1\u001b[0m \u001b[43mdf_airports_altura\u001b[49m\u001b[38;5;241m.\u001b[39minfo()\n",
      "\u001b[1;31mNameError\u001b[0m: name 'df_airports_altura' is not defined"
     ]
    }
   ],
   "source": [
    "df_airports_altura.info()"
   ]
  },
  {
   "cell_type": "markdown",
   "id": "5228d623-4bb8-4fd1-ab2b-6f854256b087",
   "metadata": {},
   "source": [
    "Pero si hay algo que nos gusta de Pandas es no tener que **recorrer** manualmente, entonces ¿cómo hacemos?"
   ]
  },
  {
   "cell_type": "code",
   "execution_count": 63,
   "id": "746a5fde-1269-4351-88f6-424720a8b878",
   "metadata": {},
   "outputs": [],
   "source": [
    "df_airports_height = df_airports.copy()\n",
    "\n",
    "def define_height(value):\n",
    "    if value < 131:\n",
    "        return 'bajo'\n",
    "    elif value < 903:\n",
    "        return 'medio'\n",
    "    else:\n",
    "        return 'alto'"
   ]
  },
  {
   "cell_type": "code",
   "execution_count": 64,
   "id": "c4d99cf1-faf0-4c50-845f-b4c082c6fc83",
   "metadata": {},
   "outputs": [
    {
     "data": {
      "text/html": [
       "<div>\n",
       "<style scoped>\n",
       "    .dataframe tbody tr th:only-of-type {\n",
       "        vertical-align: middle;\n",
       "    }\n",
       "\n",
       "    .dataframe tbody tr th {\n",
       "        vertical-align: top;\n",
       "    }\n",
       "\n",
       "    .dataframe thead th {\n",
       "        text-align: right;\n",
       "    }\n",
       "</style>\n",
       "<table border=\"1\" class=\"dataframe\">\n",
       "  <thead>\n",
       "    <tr style=\"text-align: right;\">\n",
       "      <th></th>\n",
       "      <th>name</th>\n",
       "      <th>elevation_ft</th>\n",
       "      <th>height</th>\n",
       "    </tr>\n",
       "  </thead>\n",
       "  <tbody>\n",
       "    <tr>\n",
       "      <th>0</th>\n",
       "      <td>Minister Pistarini International Airport</td>\n",
       "      <td>67.0</td>\n",
       "      <td>bajo</td>\n",
       "    </tr>\n",
       "    <tr>\n",
       "      <th>1</th>\n",
       "      <td>Jorge Newbery Airpark</td>\n",
       "      <td>18.0</td>\n",
       "      <td>bajo</td>\n",
       "    </tr>\n",
       "    <tr>\n",
       "      <th>2</th>\n",
       "      <td>Malvinas Argentinas Airport</td>\n",
       "      <td>102.0</td>\n",
       "      <td>bajo</td>\n",
       "    </tr>\n",
       "    <tr>\n",
       "      <th>3</th>\n",
       "      <td>El Calafate - Commander Armando Tola Internati...</td>\n",
       "      <td>669.0</td>\n",
       "      <td>medio</td>\n",
       "    </tr>\n",
       "  </tbody>\n",
       "</table>\n",
       "</div>"
      ],
      "text/plain": [
       "                                                name  elevation_ft height\n",
       "0           Minister Pistarini International Airport          67.0   bajo\n",
       "1                              Jorge Newbery Airpark          18.0   bajo\n",
       "2                        Malvinas Argentinas Airport         102.0   bajo\n",
       "3  El Calafate - Commander Armando Tola Internati...         669.0  medio"
      ]
     },
     "execution_count": 64,
     "metadata": {},
     "output_type": "execute_result"
    }
   ],
   "source": [
    "df_airports_height['height'] = df_airports_height['elevation_ft'].apply(define_height)\n",
    "df_airports_height[['name','elevation_ft','height']].head(4)"
   ]
  },
  {
   "cell_type": "markdown",
   "id": "5e7bdf43-eecc-4948-bfa9-38ceaf0f075e",
   "metadata": {},
   "source": [
    "[**Apply**](https://pandas.pydata.org/pandas-docs/stable/reference/api/pandas.DataFrame.apply.html) de Pandas permite aplicar una función a todas las filas de una columna"
   ]
  },
  {
   "cell_type": "code",
   "execution_count": null,
   "id": "e5183ab2-8bc9-49c3-8380-9154b6c36dee",
   "metadata": {},
   "outputs": [],
   "source": [
    "df_airports_height.head(4)"
   ]
  },
  {
   "cell_type": "markdown",
   "id": "ca3420c8-ee95-4a3b-9ef8-0a10a4f04c5b",
   "metadata": {},
   "source": [
    "De esta forma en lugar de usar **iterrows**, utilizamos **apply** con una función definida que genera el dato necesario. "
   ]
  },
  {
   "cell_type": "markdown",
   "id": "f34c0787-a7cd-48db-978e-4276268516c7",
   "metadata": {},
   "source": [
    "### 🚨 Desafío para resolver en casa\n",
    "Mejorar los cambios en el caso de valores **nan** y el cambio de tipo de datos\n",
    "### ¿Qué pasó en estos casos?:\n",
    "```python\n",
    "df_airports_height.iloc[926]\n",
    "```\n",
    "* ¿Está bien el valor correspondiete a la columna **'altura'**?\n",
    "* Investigar:\n",
    "    * la conversión al tipo de datos: pd.Int64Dtype()\n",
    "    * la función **pd.isna** para consultar si un valor es **nan**\n",
    "### Cuando se convirtió a int, ¿se perdieron decimales?\n",
    "* ¿Cómo podemos verifircarlo? Investigar:\n",
    "    * **value.is_integer**\n",
    "\n",
    "Abajo les dejo dos consultas de los errores que se generaron"
   ]
  },
  {
   "cell_type": "code",
   "execution_count": 65,
   "id": "6e3f0a2b-c53f-4ade-bfd7-922802b35d70",
   "metadata": {},
   "outputs": [
    {
     "data": {
      "text/plain": [
       "id                                      354551\n",
       "ident                                  AR-0732\n",
       "type                                  heliport\n",
       "name                          Hospital helipad\n",
       "latitude_deg                        -32.911775\n",
       "longitude_deg                       -60.681374\n",
       "elevation_ft                               NaN\n",
       "continent                                   SA\n",
       "country_name                         Argentina\n",
       "iso_country                                 AR\n",
       "region_name                  Santa Fe Province\n",
       "iso_region                                AR-S\n",
       "local_region                                 S\n",
       "municipality                           Rosario\n",
       "scheduled_service                            0\n",
       "gps_code                                   NaN\n",
       "iata_code                                  NaN\n",
       "local_code                                 NaN\n",
       "home_link                                  NaN\n",
       "wikipedia_link                             NaN\n",
       "keywords                                   NaN\n",
       "score                                        0\n",
       "last_updated         2022-05-23 16:43:22+00:00\n",
       "elevation_name                     Desconocido\n",
       "prov_name                             Santa Fe\n",
       "height                                    alto\n",
       "Name: 926, dtype: object"
      ]
     },
     "execution_count": 65,
     "metadata": {},
     "output_type": "execute_result"
    }
   ],
   "source": [
    "df_airports_height.iloc[926]"
   ]
  },
  {
   "cell_type": "code",
   "execution_count": 66,
   "id": "66bfabff-a88a-4368-a10a-b53bc4b6304e",
   "metadata": {},
   "outputs": [
    {
     "data": {
      "text/html": [
       "<div>\n",
       "<style scoped>\n",
       "    .dataframe tbody tr th:only-of-type {\n",
       "        vertical-align: middle;\n",
       "    }\n",
       "\n",
       "    .dataframe tbody tr th {\n",
       "        vertical-align: top;\n",
       "    }\n",
       "\n",
       "    .dataframe thead th {\n",
       "        text-align: right;\n",
       "    }\n",
       "</style>\n",
       "<table border=\"1\" class=\"dataframe\">\n",
       "  <thead>\n",
       "    <tr style=\"text-align: right;\">\n",
       "      <th></th>\n",
       "      <th>name</th>\n",
       "      <th>elevation_ft</th>\n",
       "      <th>height</th>\n",
       "    </tr>\n",
       "  </thead>\n",
       "  <tbody>\n",
       "    <tr>\n",
       "      <th>170</th>\n",
       "      <td>Gan Gan Field</td>\n",
       "      <td>NaN</td>\n",
       "      <td>alto</td>\n",
       "    </tr>\n",
       "    <tr>\n",
       "      <th>171</th>\n",
       "      <td>Telsen</td>\n",
       "      <td>NaN</td>\n",
       "      <td>alto</td>\n",
       "    </tr>\n",
       "    <tr>\n",
       "      <th>172</th>\n",
       "      <td>Gastre Field</td>\n",
       "      <td>NaN</td>\n",
       "      <td>alto</td>\n",
       "    </tr>\n",
       "  </tbody>\n",
       "</table>\n",
       "</div>"
      ],
      "text/plain": [
       "              name  elevation_ft height\n",
       "170  Gan Gan Field           NaN   alto\n",
       "171         Telsen           NaN   alto\n",
       "172   Gastre Field           NaN   alto"
      ]
     },
     "execution_count": 66,
     "metadata": {},
     "output_type": "execute_result"
    }
   ],
   "source": [
    "df_airports_height[df_airports_height.elevation_ft.isnull()][['name','elevation_ft','height']].head(3)"
   ]
  },
  {
   "cell_type": "markdown",
   "id": "b3c8b7f8-eac0-4c7f-b12c-15039cafd885",
   "metadata": {},
   "source": [
    "### Agregar columna en función de dos columnas del Dataframe\n",
    "Queremos hacer la definición de los datos de la nueva columna en función de dos **columnas**"
   ]
  },
  {
   "cell_type": "markdown",
   "id": "1c5af8ba-cc1b-4fc8-9ea4-75e3e12f93c6",
   "metadata": {},
   "source": [
    "Hacemos una copia del dataframe y nos quedamos solamente con:\n",
    "* 'large_airport'\n",
    "* 'medium_airport'\n",
    "* 'small_airport'"
   ]
  },
  {
   "cell_type": "code",
   "execution_count": null,
   "id": "a1ba4fee-38c6-4c10-bd34-ccdf276b4b72",
   "metadata": {},
   "outputs": [],
   "source": [
    "columnas = ['large_airport', 'medium_airport', 'small_airport']\n",
    "df_airports_height = df_airports[df_airports.type.isin(columnas)].copy()"
   ]
  },
  {
   "cell_type": "code",
   "execution_count": 70,
   "id": "01af1a86-3871-43e7-adea-401c833f4c68",
   "metadata": {},
   "outputs": [
    {
     "data": {
      "text/plain": [
       "array(['large_airport', 'medium_airport', 'closed', 'small_airport',\n",
       "       'heliport', 'balloonport'], dtype=object)"
      ]
     },
     "execution_count": 70,
     "metadata": {},
     "output_type": "execute_result"
    }
   ],
   "source": [
    "df_airports_height.type.unique()"
   ]
  },
  {
   "cell_type": "code",
   "execution_count": 74,
   "id": "c100bcdf-20eb-4da5-b886-e58a1d5ab63e",
   "metadata": {},
   "outputs": [
    {
     "ename": "NameError",
     "evalue": "name 'columnas' is not defined",
     "output_type": "error",
     "traceback": [
      "\u001b[1;31m---------------------------------------------------------------------------\u001b[0m",
      "\u001b[1;31mNameError\u001b[0m                                 Traceback (most recent call last)",
      "Cell \u001b[1;32mIn[74], line 1\u001b[0m\n\u001b[1;32m----> 1\u001b[0m df_airports_height \u001b[38;5;241m=\u001b[39m df_airports[df_airports\u001b[38;5;241m.\u001b[39mtype\u001b[38;5;241m.\u001b[39misin(\u001b[43mcolumnas\u001b[49m)]\u001b[38;5;241m.\u001b[39mcopy()\n\u001b[0;32m      2\u001b[0m \u001b[38;5;28;01mdef\u001b[39;00m \u001b[38;5;21mdefine_height\u001b[39m(value):\n\u001b[0;32m      3\u001b[0m     \u001b[38;5;28;01mmatch\u001b[39;00m value:\n",
      "\u001b[1;31mNameError\u001b[0m: name 'columnas' is not defined"
     ]
    }
   ],
   "source": [
    "df_airports_height = df_airports[df_airports.type.isin(columnas)].copy()\n",
    "def define_height(value):\n",
    "    match value:\n",
    "        case _ if value <= 131:\n",
    "            return \"bajo\"\n",
    "        case _ if value <= 903:\n",
    "            return \"medio\"\n",
    "        case _:\n",
    "            return \"alto\"\n",
    "def type_height(value, type_airport):\n",
    "    text_value = define_height(value)\n",
    "    match value:\n",
    "        case _ if type_airport == 'large_airport':\n",
    "            return 'large_'+text_value \n",
    "        case _ if type_airport =='medium_airport':\n",
    "            return 'medium_'+text_value \n",
    "        case _:\n",
    "            return 'small_'+text_value\n"
   ]
  },
  {
   "cell_type": "code",
   "execution_count": 72,
   "id": "0ec79210-0646-49f2-96e3-c5396f37ad62",
   "metadata": {},
   "outputs": [
    {
     "ename": "NameError",
     "evalue": "name 'type_height' is not defined",
     "output_type": "error",
     "traceback": [
      "\u001b[1;31m---------------------------------------------------------------------------\u001b[0m",
      "\u001b[1;31mNameError\u001b[0m                                 Traceback (most recent call last)",
      "Cell \u001b[1;32mIn[72], line 1\u001b[0m\n\u001b[1;32m----> 1\u001b[0m df_airports_height[\u001b[38;5;124m'\u001b[39m\u001b[38;5;124mheight\u001b[39m\u001b[38;5;124m'\u001b[39m] \u001b[38;5;241m=\u001b[39m \u001b[43mdf_airports_height\u001b[49m\u001b[38;5;241;43m.\u001b[39;49m\u001b[43mapply\u001b[49m\u001b[43m(\u001b[49m\u001b[38;5;28;43;01mlambda\u001b[39;49;00m\u001b[43m \u001b[49m\u001b[43mx\u001b[49m\u001b[43m:\u001b[49m\u001b[43m \u001b[49m\u001b[43mtype_height\u001b[49m\u001b[43m(\u001b[49m\u001b[43mx\u001b[49m\u001b[38;5;241;43m.\u001b[39;49m\u001b[43melevation_ft\u001b[49m\u001b[43m,\u001b[49m\u001b[43m \u001b[49m\u001b[43mx\u001b[49m\u001b[38;5;241;43m.\u001b[39;49m\u001b[43mtype\u001b[49m\u001b[43m)\u001b[49m\u001b[43m,\u001b[49m\u001b[43m \u001b[49m\u001b[43maxis\u001b[49m\u001b[38;5;241;43m=\u001b[39;49m\u001b[38;5;241;43m1\u001b[39;49m\u001b[43m)\u001b[49m\n",
      "File \u001b[1;32mc:\\Users\\Valentin\\.pyenv\\pyenv-win\\versions\\3.11.2\\Lib\\site-packages\\pandas\\core\\frame.py:10374\u001b[0m, in \u001b[0;36mDataFrame.apply\u001b[1;34m(self, func, axis, raw, result_type, args, by_row, engine, engine_kwargs, **kwargs)\u001b[0m\n\u001b[0;32m  10360\u001b[0m \u001b[38;5;28;01mfrom\u001b[39;00m \u001b[38;5;21;01mpandas\u001b[39;00m\u001b[38;5;21;01m.\u001b[39;00m\u001b[38;5;21;01mcore\u001b[39;00m\u001b[38;5;21;01m.\u001b[39;00m\u001b[38;5;21;01mapply\u001b[39;00m \u001b[38;5;28;01mimport\u001b[39;00m frame_apply\n\u001b[0;32m  10362\u001b[0m op \u001b[38;5;241m=\u001b[39m frame_apply(\n\u001b[0;32m  10363\u001b[0m     \u001b[38;5;28mself\u001b[39m,\n\u001b[0;32m  10364\u001b[0m     func\u001b[38;5;241m=\u001b[39mfunc,\n\u001b[1;32m   (...)\u001b[0m\n\u001b[0;32m  10372\u001b[0m     kwargs\u001b[38;5;241m=\u001b[39mkwargs,\n\u001b[0;32m  10373\u001b[0m )\n\u001b[1;32m> 10374\u001b[0m \u001b[38;5;28;01mreturn\u001b[39;00m \u001b[43mop\u001b[49m\u001b[38;5;241;43m.\u001b[39;49m\u001b[43mapply\u001b[49m\u001b[43m(\u001b[49m\u001b[43m)\u001b[49m\u001b[38;5;241m.\u001b[39m__finalize__(\u001b[38;5;28mself\u001b[39m, method\u001b[38;5;241m=\u001b[39m\u001b[38;5;124m\"\u001b[39m\u001b[38;5;124mapply\u001b[39m\u001b[38;5;124m\"\u001b[39m)\n",
      "File \u001b[1;32mc:\\Users\\Valentin\\.pyenv\\pyenv-win\\versions\\3.11.2\\Lib\\site-packages\\pandas\\core\\apply.py:916\u001b[0m, in \u001b[0;36mFrameApply.apply\u001b[1;34m(self)\u001b[0m\n\u001b[0;32m    913\u001b[0m \u001b[38;5;28;01melif\u001b[39;00m \u001b[38;5;28mself\u001b[39m\u001b[38;5;241m.\u001b[39mraw:\n\u001b[0;32m    914\u001b[0m     \u001b[38;5;28;01mreturn\u001b[39;00m \u001b[38;5;28mself\u001b[39m\u001b[38;5;241m.\u001b[39mapply_raw(engine\u001b[38;5;241m=\u001b[39m\u001b[38;5;28mself\u001b[39m\u001b[38;5;241m.\u001b[39mengine, engine_kwargs\u001b[38;5;241m=\u001b[39m\u001b[38;5;28mself\u001b[39m\u001b[38;5;241m.\u001b[39mengine_kwargs)\n\u001b[1;32m--> 916\u001b[0m \u001b[38;5;28;01mreturn\u001b[39;00m \u001b[38;5;28;43mself\u001b[39;49m\u001b[38;5;241;43m.\u001b[39;49m\u001b[43mapply_standard\u001b[49m\u001b[43m(\u001b[49m\u001b[43m)\u001b[49m\n",
      "File \u001b[1;32mc:\\Users\\Valentin\\.pyenv\\pyenv-win\\versions\\3.11.2\\Lib\\site-packages\\pandas\\core\\apply.py:1063\u001b[0m, in \u001b[0;36mFrameApply.apply_standard\u001b[1;34m(self)\u001b[0m\n\u001b[0;32m   1061\u001b[0m \u001b[38;5;28;01mdef\u001b[39;00m \u001b[38;5;21mapply_standard\u001b[39m(\u001b[38;5;28mself\u001b[39m):\n\u001b[0;32m   1062\u001b[0m     \u001b[38;5;28;01mif\u001b[39;00m \u001b[38;5;28mself\u001b[39m\u001b[38;5;241m.\u001b[39mengine \u001b[38;5;241m==\u001b[39m \u001b[38;5;124m\"\u001b[39m\u001b[38;5;124mpython\u001b[39m\u001b[38;5;124m\"\u001b[39m:\n\u001b[1;32m-> 1063\u001b[0m         results, res_index \u001b[38;5;241m=\u001b[39m \u001b[38;5;28;43mself\u001b[39;49m\u001b[38;5;241;43m.\u001b[39;49m\u001b[43mapply_series_generator\u001b[49m\u001b[43m(\u001b[49m\u001b[43m)\u001b[49m\n\u001b[0;32m   1064\u001b[0m     \u001b[38;5;28;01melse\u001b[39;00m:\n\u001b[0;32m   1065\u001b[0m         results, res_index \u001b[38;5;241m=\u001b[39m \u001b[38;5;28mself\u001b[39m\u001b[38;5;241m.\u001b[39mapply_series_numba()\n",
      "File \u001b[1;32mc:\\Users\\Valentin\\.pyenv\\pyenv-win\\versions\\3.11.2\\Lib\\site-packages\\pandas\\core\\apply.py:1081\u001b[0m, in \u001b[0;36mFrameApply.apply_series_generator\u001b[1;34m(self)\u001b[0m\n\u001b[0;32m   1078\u001b[0m \u001b[38;5;28;01mwith\u001b[39;00m option_context(\u001b[38;5;124m\"\u001b[39m\u001b[38;5;124mmode.chained_assignment\u001b[39m\u001b[38;5;124m\"\u001b[39m, \u001b[38;5;28;01mNone\u001b[39;00m):\n\u001b[0;32m   1079\u001b[0m     \u001b[38;5;28;01mfor\u001b[39;00m i, v \u001b[38;5;129;01min\u001b[39;00m \u001b[38;5;28menumerate\u001b[39m(series_gen):\n\u001b[0;32m   1080\u001b[0m         \u001b[38;5;66;03m# ignore SettingWithCopy here in case the user mutates\u001b[39;00m\n\u001b[1;32m-> 1081\u001b[0m         results[i] \u001b[38;5;241m=\u001b[39m \u001b[38;5;28;43mself\u001b[39;49m\u001b[38;5;241;43m.\u001b[39;49m\u001b[43mfunc\u001b[49m\u001b[43m(\u001b[49m\u001b[43mv\u001b[49m\u001b[43m,\u001b[49m\u001b[43m \u001b[49m\u001b[38;5;241;43m*\u001b[39;49m\u001b[38;5;28;43mself\u001b[39;49m\u001b[38;5;241;43m.\u001b[39;49m\u001b[43margs\u001b[49m\u001b[43m,\u001b[49m\u001b[43m \u001b[49m\u001b[38;5;241;43m*\u001b[39;49m\u001b[38;5;241;43m*\u001b[39;49m\u001b[38;5;28;43mself\u001b[39;49m\u001b[38;5;241;43m.\u001b[39;49m\u001b[43mkwargs\u001b[49m\u001b[43m)\u001b[49m\n\u001b[0;32m   1082\u001b[0m         \u001b[38;5;28;01mif\u001b[39;00m \u001b[38;5;28misinstance\u001b[39m(results[i], ABCSeries):\n\u001b[0;32m   1083\u001b[0m             \u001b[38;5;66;03m# If we have a view on v, we need to make a copy because\u001b[39;00m\n\u001b[0;32m   1084\u001b[0m             \u001b[38;5;66;03m#  series_generator will swap out the underlying data\u001b[39;00m\n\u001b[0;32m   1085\u001b[0m             results[i] \u001b[38;5;241m=\u001b[39m results[i]\u001b[38;5;241m.\u001b[39mcopy(deep\u001b[38;5;241m=\u001b[39m\u001b[38;5;28;01mFalse\u001b[39;00m)\n",
      "Cell \u001b[1;32mIn[72], line 1\u001b[0m, in \u001b[0;36m<lambda>\u001b[1;34m(x)\u001b[0m\n\u001b[1;32m----> 1\u001b[0m df_airports_height[\u001b[38;5;124m'\u001b[39m\u001b[38;5;124mheight\u001b[39m\u001b[38;5;124m'\u001b[39m] \u001b[38;5;241m=\u001b[39m df_airports_height\u001b[38;5;241m.\u001b[39mapply(\u001b[38;5;28;01mlambda\u001b[39;00m x: \u001b[43mtype_height\u001b[49m(x\u001b[38;5;241m.\u001b[39melevation_ft, x\u001b[38;5;241m.\u001b[39mtype), axis\u001b[38;5;241m=\u001b[39m\u001b[38;5;241m1\u001b[39m)\n",
      "\u001b[1;31mNameError\u001b[0m: name 'type_height' is not defined"
     ]
    }
   ],
   "source": [
    "df_airports_height['height'] = df_airports_height.apply(lambda x: type_height(x.elevation_ft, x.type), axis=1)"
   ]
  },
  {
   "cell_type": "code",
   "execution_count": null,
   "id": "637cbfd7-d239-4e30-94c4-13be75cb1c10",
   "metadata": {},
   "outputs": [],
   "source": [
    "df_airports_height[['name','type','elevation_ft','height']].head(4)"
   ]
  },
  {
   "cell_type": "markdown",
   "id": "985b613a-0c72-49b2-b4bc-c9c6697b4b98",
   "metadata": {},
   "source": [
    "**apply** en este caso, no se especifica que se aplique a una sola columna porque necesitamos acceder a **dos columnas**.\n",
    "```python\n",
    " df_airports_height.apply(lambda x: type_height(x.elevation_ft, x.type), axis=1)\n",
    "```\n",
    "* **axis=1**: indica que se aplique la función a cada fila\n",
    "* **axis=0**, la opción por **defecto** lo hace sobre una columna"
   ]
  },
  {
   "cell_type": "markdown",
   "id": "342f1530-b078-4c9e-bd42-6fc1bb1503ba",
   "metadata": {},
   "source": [
    "## Nuestros datos y gráficos en Streamlit"
   ]
  },
  {
   "cell_type": "markdown",
   "id": "23c1db77-ef54-42fa-82b4-fe49a2ac4296",
   "metadata": {},
   "source": [
    "* Vamos a trabajar con un archivo que cuenta con un registro de avistajes de felinos en nuestro país\n",
    "* Descargado del sitio de [gbif](https://www.gbif.org/) y adaptado para poder trabajar estos datos"
   ]
  },
  {
   "cell_type": "code",
   "execution_count": null,
   "id": "96dfc164-0f85-4bcc-a17f-5c6dc64e9814",
   "metadata": {},
   "outputs": [],
   "source": [
    "felinos = pd.read_csv(file_route/'felinos_filtrado.csv')"
   ]
  },
  {
   "cell_type": "markdown",
   "id": "4137b23f-7d8b-4687-a55c-99b532f6f967",
   "metadata": {},
   "source": [
    "Veamos que datos tiene"
   ]
  },
  {
   "cell_type": "code",
   "execution_count": null,
   "id": "f6776b42-ff55-4e59-8204-f7aa6ab7e759",
   "metadata": {},
   "outputs": [],
   "source": [
    "felinos.columns"
   ]
  },
  {
   "cell_type": "code",
   "execution_count": null,
   "id": "105c397f-e6f0-4ddd-8304-e79d2f33f6f2",
   "metadata": {},
   "outputs": [],
   "source": [
    "felinos.head(3)"
   ]
  },
  {
   "cell_type": "code",
   "execution_count": null,
   "id": "40c69cb7-877a-42a7-a263-c5d81dfa6ed1",
   "metadata": {},
   "outputs": [],
   "source": [
    "felinos.info()"
   ]
  },
  {
   "cell_type": "markdown",
   "id": "b8e538bf-e45e-41f7-adcb-87f79f8aba37",
   "metadata": {},
   "source": [
    "Queremos conocer en qué cantidad de provincias se avistaron los  **diferentes** felinos"
   ]
  },
  {
   "cell_type": "code",
   "execution_count": null,
   "id": "cf48be56-fa94-4ba3-acbe-15813d73bc7f",
   "metadata": {},
   "outputs": [],
   "source": [
    "felinos.genus.unique()"
   ]
  },
  {
   "cell_type": "code",
   "execution_count": null,
   "id": "6986e63d-c958-46dc-b41b-5325923a8ae0",
   "metadata": {},
   "outputs": [],
   "source": [
    "felinos.stateProvince.unique()"
   ]
  },
  {
   "cell_type": "markdown",
   "id": "62ab3cd9-2eaf-4981-ab3f-ed70c4c9533a",
   "metadata": {},
   "source": [
    "Arreglemos algunos problemas"
   ]
  },
  {
   "cell_type": "code",
   "execution_count": null,
   "id": "8f0923cb-6621-430a-bed1-79b7bd2dfc24",
   "metadata": {},
   "outputs": [],
   "source": [
    "felinos.stateProvince = felinos.stateProvince.replace('Neuquen','Neuquén')"
   ]
  },
  {
   "cell_type": "code",
   "execution_count": null,
   "id": "26081ab8-d207-4d4e-b9ea-72d5631ac76a",
   "metadata": {},
   "outputs": [],
   "source": [
    "felinos.stateProvince.unique()"
   ]
  },
  {
   "cell_type": "markdown",
   "id": "f6a8f09f-629d-4a9d-9d3f-1165920c8a5e",
   "metadata": {},
   "source": [
    "Necesito saber por cada tipo de felino, dato que tengo en **genus**, en cuántas provincias **diferentes** está."
   ]
  },
  {
   "cell_type": "markdown",
   "id": "276d0940-e0d3-4830-bc9f-140317e777d9",
   "metadata": {},
   "source": [
    "## 🎒 Agrupamientos"
   ]
  },
  {
   "cell_type": "code",
   "execution_count": null,
   "id": "04827f7b-67ab-413c-ada0-99987950ec30",
   "metadata": {},
   "outputs": [],
   "source": [
    "felinos.groupby('genus')"
   ]
  },
  {
   "cell_type": "markdown",
   "id": "d886246b-5833-48bb-8542-932779eb5371",
   "metadata": {},
   "source": [
    "**groupby** permite agrupar por una columna o más, pero necesita ir acompañado de alguna operación de agregación o transformación para poder visualizar el resultado correspondiente."
   ]
  },
  {
   "cell_type": "code",
   "execution_count": null,
   "id": "dd5e943c-1b25-4996-be55-ecbe59243656",
   "metadata": {},
   "outputs": [],
   "source": [
    "felinos.groupby('genus')['stateProvince'].unique()"
   ]
  },
  {
   "cell_type": "code",
   "execution_count": null,
   "id": "7d0d2dcd-4902-4d1c-88a1-7f87cb6b0408",
   "metadata": {},
   "outputs": [],
   "source": [
    "felinos.groupby('genus')['stateProvince'].nunique()"
   ]
  },
  {
   "cell_type": "markdown",
   "id": "3218d901-e234-4cb7-a758-d556848f2ee9",
   "metadata": {},
   "source": [
    "* **unique** indica los valores únicos de la agrupación que hicimos en función de la columna que indicamos\n",
    "* **nunique** indica la cantidad de esa columna, en este caso las provincias. Podemos visualizar las cantidades de cada columna, no sólo de la provincia."
   ]
  },
  {
   "cell_type": "code",
   "execution_count": null,
   "id": "1209ceef-95a9-4054-88d9-1a435df6bdf7",
   "metadata": {},
   "outputs": [],
   "source": [
    "felinos.groupby('genus').nunique()"
   ]
  },
  {
   "cell_type": "markdown",
   "id": "caf89e98-a2c6-485e-9405-2838253ce9b8",
   "metadata": {},
   "source": [
    "O podemos obtener qué cantidad de **diferentes tipos** de felinos se vieron en cada **provincia**."
   ]
  },
  {
   "cell_type": "code",
   "execution_count": null,
   "id": "b74cf087-d8a4-448d-9989-c56a254f9658",
   "metadata": {},
   "outputs": [],
   "source": [
    "felinos.groupby('stateProvince')['genus'].nunique()"
   ]
  },
  {
   "cell_type": "markdown",
   "id": "ba71372e-e025-4240-ad08-64271769bec7",
   "metadata": {},
   "source": [
    "### Métodos de agregación\n",
    "Dijimos que **groupby** tiene que estar acompañado de alguna operación de agregación, algunas de las que se puede utilizar son:\n",
    "* sum(): Suma los valores de cada grupo.\n",
    "* count(): Cuenta el número de elementos en cada grupo.\n",
    "* mean(): Calcula la media de los valores en cada grupo."
   ]
  },
  {
   "cell_type": "markdown",
   "id": "3d36653c-76ba-4f98-8c75-6696e8f06057",
   "metadata": {},
   "source": [
    "Ejemplos usando **count** , que cuenta la cantidad según los valores de columna **genus**."
   ]
  },
  {
   "cell_type": "code",
   "execution_count": null,
   "id": "e0e87283-d812-4379-8a62-631b031494c6",
   "metadata": {},
   "outputs": [],
   "source": [
    "felinos.groupby('genus')['kingdom'].count()"
   ]
  },
  {
   "cell_type": "markdown",
   "id": "a1ab237b-9747-48e0-9c3d-dbc6e353fd82",
   "metadata": {},
   "source": [
    "También podemos agrupar por dos columnas, y realizar la operación sobre una tercera columna que nos interesa, en este caso:\n",
    "* agrupamos por **genus** primero.\n",
    "* después por cada tipo de genus agrupa por **provincia**.\n",
    "* y luego muestra la cantidad de valores únicos por localidad.\n",
    "* Es decir la cantidad de localidades diferentes de cada provincia que está en el Dataframe, donde se vieron los tipos diferentes de felinos."
   ]
  },
  {
   "cell_type": "code",
   "execution_count": null,
   "id": "04de28dc-2762-49c3-95b9-3bbe9d1db7ad",
   "metadata": {},
   "outputs": [],
   "source": [
    "felinos.groupby(['genus','stateProvince']).locality.nunique()\n"
   ]
  },
  {
   "cell_type": "markdown",
   "id": "a664423c-c440-44b5-8a03-7ab84fb13666",
   "metadata": {},
   "source": [
    "## 🎒 Graficamos\n"
   ]
  },
  {
   "cell_type": "markdown",
   "id": "a177f287-0366-49f0-95bd-3cd2b6c723b0",
   "metadata": {},
   "source": [
    "Vamos a ver algo más de Matplotlib y la librería Plotly"
   ]
  },
  {
   "cell_type": "markdown",
   "id": "daf43141-8e10-4f26-b88a-49e83c7b500e",
   "metadata": {},
   "source": [
    "### 📌 Matplotlib"
   ]
  },
  {
   "cell_type": "markdown",
   "id": "2cf3dc71-2edf-4ba3-8bed-7f2d2a649fbe",
   "metadata": {},
   "source": [
    "Grafiquemos las agrupaciones de datos hechas entre los tipos de felinos y las provincias."
   ]
  },
  {
   "cell_type": "code",
   "execution_count": null,
   "id": "70b9379d-f25e-4aa3-86ae-5d54fafe5781",
   "metadata": {},
   "outputs": [],
   "source": [
    "import matplotlib.pyplot as plt"
   ]
  },
  {
   "cell_type": "code",
   "execution_count": null,
   "id": "7120d125-53ba-4a73-af21-5d88204deb0c",
   "metadata": {},
   "outputs": [],
   "source": [
    "import numpy as np\n",
    "genus_unique_province =felinos.groupby('genus')['stateProvince'].nunique()\n",
    "province_unique_genus = felinos.groupby('stateProvince')['genus'].nunique()\n",
    "\n",
    "# Configurar los datos para el gráfico de torta\n",
    "labels_genus = genus_unique_province.index\n",
    "sizes_genus = genus_unique_province.values\n",
    "\n",
    "# Configurar los datos para el gráfico de barra\n",
    "labels_province = province_unique_genus.index\n",
    "sizes_province = province_unique_genus.values\n",
    "posicion = np.arange(len(labels_province))\n",
    " # Crearsubplots\n",
    "fig,ax = plt.subplots(1,2,figsize=(14 , 6))\n",
    "paleta = plt.get_cmap('coolwarm')\n",
    "ax[0].set_prop_cycle(\"color\", [paleta(1. * i/len(labels_genus)) \n",
    "                                for i in range(len(labels_genus))])\n",
    "ax[0].pie(sizes_genus , labels=labels_genus, autopct='%.1f%%', labeldistance=1.15, startangle=140 )\n",
    "ax[0].set_title('Porcentaje de provincias donde se vieron felinos ')\n",
    "\n",
    "ax[1].bar(posicion , sizes_province, tick_label=labels_province)\n",
    "ax[1].set_title('Cantidad de tipos de felinos diferentes vistos en cada provincia ')\n",
    "ax[1].set_xticklabels(labels_province, rotation=45)\n",
    "\n",
    "# Mostramos el gráfico\n",
    "fig.tight_layout()\n",
    "plt.show()"
   ]
  },
  {
   "cell_type": "markdown",
   "id": "e0d6b9d3-fbf2-4675-bf88-e60b176dac65",
   "metadata": {},
   "source": [
    "Algunas de las funciones mostradas:\n",
    "```python\n",
    "fig,ax = plt.subplots(1,2,figsize=(14 , 6))\n",
    "```\n",
    "* **plt.subplots**: permite identificar la figura y el gráfico en sí, para poder personalizar\n",
    "cada uno. Podríamos tener varios gráficos en una misma figura y personalizar cada uno por separado.\n",
    "    * variable **fig**: la figura que contiene ambos gráficos\n",
    "    * **1** fila\n",
    "    * **2** columnas\n",
    "    * **figsize**: tamaño en pulgadas, 14 de ancho y 6 de alto\n",
    "    * variable **ax**: un arreglo con la cantidad de gráficos especificados, ubicados en posición 0 y posición 1\n",
    "* **plt.get_cmap**: define una paleta de colores específica\n",
    "* **set_prop_cycle**: permite definir los colores de la paleta en función de la cantidad de porciones que se van a mostrar\n",
    "* **labels**: las etiquetas para cada porción del gráfico de torta(pie)\n",
    "* **labeldistance**: ubica las etiquetas a una distnacia específica desde el centro del círculo\n",
    "* **tick_label**: las etiquetas para cada barra del gráfico (bar)\n",
    "* **fig.tight_layout()**: ajusta los gráficos al tamaño de la figura"
   ]
  },
  {
   "cell_type": "markdown",
   "id": "1615fe03-395a-4aa3-90ec-51d50f410d3a",
   "metadata": {},
   "source": [
    "### 📌 Plotly\n",
    "Lo que diferencia a Plotly de Matplotlib es que utiliza JavaScript, lo que permite una\n",
    "mayor interacción con los gráficos. Además, esta biblioteca está basada en la biblioteca\n",
    "[d3.js](https://d3js.org/) y [stack.gl](https://github.com/stackgl).\n",
    "* Gráficos simples: **plotly.express**\n",
    "* Gráficos más complejos: **plotly.graph_objects (go.Figure)**\n",
    "* [Documentación](https://plotly.com/python/)."
   ]
  },
  {
   "cell_type": "markdown",
   "id": "1bd2eda3-4045-4f85-b33b-1738f9cacf4a",
   "metadata": {},
   "source": [
    "#### Gráfico usando plotly.express"
   ]
  },
  {
   "cell_type": "markdown",
   "id": "771816d3-7379-4fd3-833e-ee5d18f7d5c4",
   "metadata": {},
   "source": [
    "Hagamos un gráfico simple, de [líneas](https://plotly.com/python/line-charts/) de las cantidad de felinos vistos por año."
   ]
  },
  {
   "cell_type": "markdown",
   "id": "add40526-3936-4842-8740-3b804b8e524a",
   "metadata": {},
   "source": [
    "Primero vamos a modificar el tipo de datos de la columna **year**, como tiene valores nulos las eliminamos a esas filas."
   ]
  },
  {
   "cell_type": "code",
   "execution_count": null,
   "id": "5a9bd978-7310-4d1c-bf4f-c51b5f3ecbe6",
   "metadata": {},
   "outputs": [],
   "source": [
    "felinos_mod = felinos.dropna(subset=['year']).copy()\n",
    "felinos_mod['year'] = felinos_mod['year'].astype(int)\n",
    "dat_valores =felinos_mod.groupby('year')['genus'].count()\n",
    "years = dat_valores.index\n",
    "values = dat_valores.values"
   ]
  },
  {
   "cell_type": "code",
   "execution_count": null,
   "id": "210803d3-538a-4b72-a206-d7348f14c1d8",
   "metadata": {},
   "outputs": [],
   "source": [
    "import plotly.express as px\n",
    "\n",
    "fig = px.line(felinos_mod, x=years, y=values, title='Eventos por Año')\n",
    "fig.show()\n"
   ]
  },
  {
   "cell_type": "markdown",
   "id": "8cbdbe7c-b201-4d5b-ae79-25db3d04788a",
   "metadata": {},
   "source": [
    "#### Gráficos utilizando plotly.graph_objects (go.Figure)\n",
    "\n",
    "Esta opción permite personalizar y generar [gráficos](https://plotly.com/python/creating-and-updating-figures/) con funcionalidades avanzadas."
   ]
  },
  {
   "cell_type": "markdown",
   "id": "c239b0a1-dd9d-405e-a467-5700f48d9ab7",
   "metadata": {},
   "source": [
    "Ejemplo  de un [**gráfico de torta**](https://plotly.com/python/pie-charts/) de los valores generados con las agrupaciones ya realizadas entre las columnas **genus** y **stateProvince**."
   ]
  },
  {
   "cell_type": "code",
   "execution_count": null,
   "id": "2efebe44-eede-465f-a055-bffcad1dc96a",
   "metadata": {},
   "outputs": [],
   "source": [
    "import plotly.graph_objects as go\n",
    "genus_unique_province = felinos.groupby('genus')['stateProvince'].nunique()\n",
    "# Configurar los datos para el gráfico de torta\n",
    "labels_genus = genus_unique_province.index\n",
    "sizes_genus = genus_unique_province.values\n",
    "\n",
    "fig_pie = go.Figure(data=[go.Pie(labels=labels_genus, values=sizes_genus, hole=0.3,\n",
    "                                  hoverinfo=\"label+percent\")] )\n",
    "fig_pie.update_layout(title=\"Cantidad de provincias donde se vieron felinos\")\n",
    "fig_pie.show()"
   ]
  },
  {
   "cell_type": "markdown",
   "id": "e8245e1b-6e4b-4188-8dbc-3fd17b358f73",
   "metadata": {},
   "source": [
    "Veamos el significado de algunas de las opciones\n",
    "* importamos las librerías:\n",
    "```python\n",
    "import plotly.graph_objects as go\n",
    "\n",
    "```\n",
    "* **go.Figure()**: Crea una figura de Plotly que contiene data y diseño.\n",
    "    * **data=**\n",
    "```python\n",
    "\n",
    "go.Pie(labels=labels_genus, values=sizes_genus, hole=0.3,\n",
    "                                  hoverinfo=\"label+percent\"\n",
    "```\n",
    "* **go.Pie()** : genera una gráfico de torta.\n",
    "  * labels: las etiquetas de los valores representados.\n",
    "  * values: los valores par calcular los porcentajes.\n",
    "  * hole: valor opcional que determina el tamaño de un agujero en el medio.\n",
    "  * hoverinfo: lo que se va a mostrar cuando se pasa el mouse sobre cada porción. En este caso hace una combinación de la etiqueta más el porcentaje.\n",
    "  * otras no utilizadas: **textinfo**, **textposition**, **marker**.\n",
    "* **update_layout()**: permite la personalización.\n",
    "* **fig.show()**: mostrar la figura."
   ]
  },
  {
   "cell_type": "markdown",
   "id": "7ec53c65-8ede-45ab-9acd-96033de04953",
   "metadata": {},
   "source": [
    "#### Opciones de hoverinfo\n",
    "* label: Muestra la etiqueta (nombre) de la porción.\n",
    "* value: Muestra el valor numérico de la porción.\n",
    "* percent: Muestra el porcentaje que representa la porción del total.\n",
    "* name: Muestra el nombre de la traza.\n",
    "* text: Muestra el texto asociado con la porción, si se ha definido.\n",
    "* none: No muestra ninguna información de hover.\n",
    "* all: Muestra toda la información disponible."
   ]
  },
  {
   "cell_type": "markdown",
   "id": "a46517d5-7c96-45ee-b67d-345b8971bbee",
   "metadata": {},
   "source": [
    "#### Gráfico de barras con Plotly"
   ]
  },
  {
   "cell_type": "code",
   "execution_count": null,
   "id": "62eb080c-4d7a-4c02-8af2-0d3600fbd9b2",
   "metadata": {},
   "outputs": [],
   "source": [
    "fig_bar =  go.Figure(data=go.Bar(x=labels_province, y=sizes_province, \n",
    "                     marker=dict(color='DarkSlateGrey'), \n",
    "                     text=labels_province,\n",
    "                     hoverinfo='x+y',\n",
    "                     name='Cantidad de tipos de felinos diferentes vistos en cada provincia'))\n",
    "\n",
    "# Actualizar diseño y mostrar la figura\n",
    "fig_bar.update_layout(title=\"Gráficos de felinos\",\n",
    "                  xaxis_title=\"Provincia\",\n",
    "                  yaxis_title=\"Cantidad\",\n",
    "                  barmode='group',\n",
    "                  bargap=0.15,\n",
    "                  bargroupgap=0.1)\n"
   ]
  },
  {
   "cell_type": "markdown",
   "id": "4601e23f-e3fc-4a15-94b7-d124bcf48f29",
   "metadata": {},
   "source": [
    "Algunas de las opciones que cambian para un gráfico de barra\n",
    "```python\n",
    "go.Bar(x=labels_province, y=sizes_province, \n",
    "                     marker=dict(color='skyblue'), \n",
    "                     text=labels_province,\n",
    "                     hoverinfo='x+y',\n",
    "                     name='Cantidad de tipos de felinos diferentes vistos en cada provincia'))\n",
    "```\n",
    "* **x**: las etiquetas del eje x\n",
    "* **y**: los tamaños de las barras\n",
    "* **marker**: un diccionatio con opciones para personalizar la visualización como :\n",
    "    * **color**\n",
    "    * **size**\n",
    "    * **line=** para un gráfico de línea:\n",
    "            line=dict\n",
    "* **name**: para definir el nombre de la traza, en caso que haya más de una, se identifican de forma individual.\n"
   ]
  },
  {
   "cell_type": "markdown",
   "id": "f5201abd-bc4e-4a4d-b761-345244f2dd3d",
   "metadata": {},
   "source": [
    "```python\n",
    "fig_bar.update_layout(title=\"Gráficos de felinos\",\n",
    "                  xaxis_title=\"Provincia\",\n",
    "                  yaxis_title=\"Cantidad\",\n",
    "                  barmode='group',\n",
    "                  bargap=0.15,\n",
    "                  bargroupgap=0.1)\n",
    "```\n",
    "* **yaxis_title - xaxis_title**: título del eje **y** y **x**\n",
    "* **barmode='group'**: indica la forma en que se van agrupar las barras en el gráfico\n",
    "   * 'group': una al lado de la otra\n",
    "   * 'stack': una arriba de la otra\n",
    "* **bargap**: separación que hay entre las barras\n",
    "* **bargroupgap**: separaciń entre grupos de barras."
   ]
  },
  {
   "cell_type": "markdown",
   "id": "a43b5412-35e4-4ffd-866b-e256c9f5266d",
   "metadata": {},
   "source": [
    "#### Gráfico con Plotly con varias trazas\n",
    "Les dejo el código y generación de gráfico que muestra la cantidad de los diferentes felinos vistos por cada mes del año, haciendo un gráfico de barra comparativo entre los 3 tipos de felinos"
   ]
  },
  {
   "cell_type": "markdown",
   "id": "7bbfb02d-50c2-47e9-8c8f-8f52f84de2ab",
   "metadata": {},
   "source": [
    "Agrupo por tipo de felino y por mes"
   ]
  },
  {
   "cell_type": "code",
   "execution_count": null,
   "id": "22534e3f-4edb-4bd2-b489-1f47db98633a",
   "metadata": {},
   "outputs": [],
   "source": [
    "#primero conviero a int la columna month\n",
    "felinos_month_int = felinos.dropna(subset='month').copy()\n",
    "felinos_month_int.month = felinos_month_int.month.astype(int)\n",
    "\n",
    "observations_by_month = felinos_month_int.groupby(['genus', 'month']).size().unstack(fill_value=0)\n",
    "observations_by_month"
   ]
  },
  {
   "cell_type": "markdown",
   "id": "4c4c35fb-4efb-4dc8-b473-44e88e7adf5a",
   "metadata": {},
   "source": [
    "Genero cada barra con los valores de cada tipo de felino, indicando en **name** el nombre correspondiente"
   ]
  },
  {
   "cell_type": "code",
   "execution_count": null,
   "id": "b9c69c13-4b4e-488c-b96d-c4cf08d4e438",
   "metadata": {},
   "outputs": [],
   "source": [
    "fig = go.Figure()\n",
    "\n",
    "for genus in observations_by_month.index:\n",
    "    fig.add_trace(go.Bar(\n",
    "        x=observations_by_month.columns,\n",
    "        y=observations_by_month.loc[genus],\n",
    "        name=genus,        \n",
    "        marker=dict(line=dict(width=1))\n",
    "    ))\n",
    "\n",
    "# Actualizar el diseño de la figura\n",
    "fig.update_layout(\n",
    "    title=\"Observaciones de Felinos por Mes\",\n",
    "    xaxis_title=\"Mes\",\n",
    "    yaxis_title=\"Cantidad de Observaciones\",\n",
    "    xaxis=dict(\n",
    "        tickmode='array',\n",
    "        tickvals=list(range(1, 13)),  # Asegurar que se muestran todos los meses del 1 al 12\n",
    "        ticktext=['Enero', 'Febrero', 'Marzo', 'Abril', 'Mayo', 'Junio', 'Julio', 'Agosto', 'Septiembre', 'Octubre', 'Noviembre', 'Dicembre']\n",
    "    ),\n",
    "    barmode='group',  # Agrupar las barras una al lado de la otra\n",
    "    bargap=0.15,      # Separación entre barras individuales\n",
    "    bargroupgap=0.1   # Separación entre grupos de barras\n",
    ")\n",
    "\n",
    "# Mostrar el gráfico\n",
    "fig.show()"
   ]
  },
  {
   "cell_type": "markdown",
   "id": "25d240a3-31fb-433f-b08d-795000a1e69f",
   "metadata": {},
   "source": [
    "**unstack(fill_value=0)**: para separar los datos luego del groupby y la opción fill_value permite completar con un valor en los casos que no contengan datos, si no se pasa la opción se completa con NaN."
   ]
  },
  {
   "cell_type": "markdown",
   "id": "a65da054-2541-4b79-9edc-846c0457d277",
   "metadata": {},
   "source": [
    "Veamos cómo cambian la disponibildiad de los datos sin usar **unstack**"
   ]
  },
  {
   "cell_type": "code",
   "execution_count": null,
   "id": "73fa2d02-64c0-49a3-8ef4-1c8b0548c85d",
   "metadata": {},
   "outputs": [],
   "source": [
    "felinos_month_int.groupby(['genus', 'month']).size().unstack(fill_value=0)#\n",
    "#felinos_month_int.groupby(['genus', 'month']).size()"
   ]
  },
  {
   "cell_type": "markdown",
   "id": "e3cae39b-f7ba-4ed9-b706-bce7d9887ec3",
   "metadata": {},
   "source": [
    "## 🎒Análisis y  gráficos en Streamlit"
   ]
  },
  {
   "cell_type": "markdown",
   "id": "ed06ed13-608b-46d3-97b6-229c482bd319",
   "metadata": {},
   "source": [
    "Podemos generar diferentes tipos de gráficos en [Streamlit](https://docs.streamlit.io/develop/api-reference/charts):\n",
    "* gráficos simples: le pasamos los datos directamente\n",
    "    * **bar_chart**\n",
    "    * **st.line_chart**\n",
    "    * otros\n",
    "* gráficos a través de librerías específicas: generamos la figura con la librería y luego la mostramos con las funciones de cada librería en Streamlit:\n",
    "    * Matplotlib: **st.pyplot(figura)**\n",
    "    * Plotly: **st.plotly_chart(figura)**\n",
    "    * muchas más.\n",
    "    * \n",
    "En el caso de usar las librerías específicas para graficar, la generación es igual que fuera de Streamlit, lo que necesitamos para verla  es la función propia para cada librería."
   ]
  },
  {
   "cell_type": "markdown",
   "id": "5922014c-05e7-48fd-b4e2-faf77bcf187b",
   "metadata": {},
   "source": [
    " ### Interacción con widgets\n",
    " Los datos o gráficos que mostramos pueden generarse en función de elecciones que haga el usuario, algunos de los widgets que nos permiten esta interacción son:\n",
    " * **st.multiselect**: da la opción de elegir varios valores de una lista\n",
    "   ```python\n",
    "   st.multiselect('Título', [datos])\n",
    "   ```\n",
    " * **st.selectbox**: se puede seleccionar una sola opción\n",
    "   ```python\n",
    "   st.selectbox('Título', [datos])\n",
    "   ```\n",
    " * **st.select_slider**: valores únicos\n",
    "   ```python\n",
    "   st.select_slider('Título', options=opciones)\n",
    "   ```\n",
    "* **st.slider**\n",
    "  rango de valores:(minimo, maximo) es un tupla que representa los valores seleccionados\n",
    "   ```python\n",
    "   st.slider('Rango de Años', minino, maximo, (minimo, maximo))\n",
    "   ```"
   ]
  },
  {
   "cell_type": "code",
   "execution_count": null,
   "id": "2ff15279-9a72-4b83-8b73-ce0053fb2e10",
   "metadata": {},
   "outputs": [],
   "source": []
  }
 ],
 "metadata": {
  "kernelspec": {
   "display_name": "Python 3 (ipykernel)",
   "language": "python",
   "name": "python3"
  },
  "language_info": {
   "codemirror_mode": {
    "name": "ipython",
    "version": 3
   },
   "file_extension": ".py",
   "mimetype": "text/x-python",
   "name": "python",
   "nbconvert_exporter": "python",
   "pygments_lexer": "ipython3",
   "version": "3.11.2"
  }
 },
 "nbformat": 4,
 "nbformat_minor": 5
}
