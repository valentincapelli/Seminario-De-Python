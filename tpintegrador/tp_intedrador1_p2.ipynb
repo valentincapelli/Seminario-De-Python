{
 "cells": [
  {
   "cell_type": "markdown",
   "metadata": {},
   "source": [
    "### __Segunda parte del TP integrador parte 1__\n",
    "#### Utilizando los archivos modificados, mostrar en pantalla los datos solicitados :"
   ]
  },
  {
   "cell_type": "markdown",
   "metadata": {},
   "source": [
    "- ##### 1_ Los diferentes tipos de aeropuertos según la columna 'type'. "
   ]
  },
  {
   "cell_type": "code",
   "execution_count": null,
   "metadata": {},
   "outputs": [],
   "source": [
    "from module import dataset_informer\n",
    "from pathlib import Path\n",
    "\n",
    "route = './custom_datasets/ar-airports_with_provs.csv'\n",
    "\n",
    "type_list = dataset_informer.without_repeated(route, 2)\n",
    "\n",
    "print(type_list)"
   ]
  }
 ],
 "metadata": {
  "kernelspec": {
   "display_name": "venv",
   "language": "python",
   "name": "python3"
  },
  "language_info": {
   "codemirror_mode": {
    "name": "ipython",
    "version": 3
   },
   "file_extension": ".py",
   "mimetype": "text/x-python",
   "name": "python",
   "nbconvert_exporter": "python",
   "pygments_lexer": "ipython3",
   "version": "3.11.2"
  }
 },
 "nbformat": 4,
 "nbformat_minor": 2
}
