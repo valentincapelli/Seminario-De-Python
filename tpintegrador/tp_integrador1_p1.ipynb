{
 "cells": [
  {
   "cell_type": "markdown",
   "metadata": {},
   "source": [
    "### __Primera parte del TP integrador parte 1__\n",
    "- #### Procesamiento de los datasets"
   ]
  },
  {
   "cell_type": "markdown",
   "metadata": {},
   "source": [
    "#### Creo el archivo '**custom_file**'. Este, es una copia del archivo '**ar-airports.csv**' y el que vamos a modificar. En la copia, genero una nueva columna en el encabezado llamada '**elevation_name**' que tendrá como contenido: \"bajo\", \"medio\" o \"alto\", según la elevación de cada aeropuerto (elevation_ft). Si el campo '**elevation_ft**' no contiene ningún valor se completará con un '**-**'."
   ]
  },
  {
   "cell_type": "code",
   "execution_count": 1,
   "metadata": {},
   "outputs": [],
   "source": [
    "from module import dataset_modifier\n",
    "from pathlib import Path\n",
    "\n",
    "airport_file_route = Path('./datasets/ar-airports.csv')\n",
    "custom_file_route = Path('./custom_datasets/ar-airports.csv')\n",
    "\n",
    "\n",
    "custom_file = dataset_modifier.airport_dataset(airport_file_route, custom_file_route)"
   ]
  },
  {
   "cell_type": "markdown",
   "metadata": {},
   "source": [
    "#### Agrego una columna llamada '**prov_name**', donde se incluirá el nombre de la provincia correspondiente a cada aeropuerto. Esta información se obtendrá consultando los nombres de las ciudades en el dataset (E). Si no se encuentra la ciudad en el dataset(E) se completara con '**-**'"
   ]
  },
  {
   "cell_type": "code",
   "execution_count": 2,
   "metadata": {},
   "outputs": [],
   "source": [
    "argentina_file_route = Path('./datasets/ar.csv')\n",
    "\n",
    "airport_with_provs_file = dataset_modifier.airport_with_provs_dataset(argentina_file_route, custom_file_route)"
   ]
  },
  {
   "cell_type": "markdown",
   "metadata": {},
   "source": [
    "#### Copio el archivo '**Conectividad_internet.csv**', donde  se realizará un reemplazo en las celdas que contengan el carácter '-' con la palabra 'NO'. Ademas se agregara una columna llamada '**posee_conectividad**' : El valor será NO si todos los campos ADSL, CABLEMODEM, DIALUP,FIBRAOPTICA, SATELITAL, WIRELESS, TELEFONIAFIJA, 3G y 4G poseen el valor --. Caso contrario el valor será SI."
   ]
  },
  {
   "cell_type": "code",
   "execution_count": 3,
   "metadata": {},
   "outputs": [],
   "source": [
    "connection_file_route = Path('./datasets/Conectividad_Internet.csv')\n",
    "custom_connection = Path('./custom_datasets/Conectividad_Internet.csv')\n",
    "\n",
    "\n",
    "custom_file = dataset_modifier.internet_dataset(connection_file_route, custom_connection)"
   ]
  },
  {
   "cell_type": "markdown",
   "metadata": {},
   "source": [
    "#### En el dataset de Lagos (C), se crearán nuevas columnas que indican los coordenadas en formato GMS(grados,minutos y segundos)y GD(grados decimales). \n",
    "#### Tambien, se creará una nueva columna llamada 'Sup Tamaño' que contendrá datos cualitativos indicando el tamaño de cada lago en función de su superficie en kilómetros cuadrados (km²). Esta columna se completará con las palabras: \"chico\", \"medio\" o \"grande\", según los siguientes criterios:\n",
    "- ##### a. Lagos con una superficie menor o igual a 17 km² serán clasificados como \"chico\".\n",
    "- ##### b. Lagos con una superficie mayor que 17 km² y menor o igual a 59 km² serán clasificados como \"medio\".\n",
    "- ##### c. Lagos con una superficie mayor a 59 km² serán clasificados como \"grande\". "
   ]
  },
  {
   "cell_type": "code",
   "execution_count": 4,
   "metadata": {},
   "outputs": [],
   "source": [
    "lakes_file_route = Path('./datasets/lagos_arg.csv')\n",
    "custom_lakes = Path('./custom_datasets/lagos_arg.csv')\n",
    "\n",
    "custom_file = dataset_modifier.lakes_dataset(lakes_file_route, custom_lakes)"
   ]
  },
  {
   "cell_type": "markdown",
   "metadata": {},
   "source": [
    "####  Reemplazo los valores \"///\" y \"-\" por 0. Y tambien agrego una columna donde dice el porcentaje de poblacion en situacion de calle."
   ]
  },
  {
   "cell_type": "code",
   "execution_count": 5,
   "metadata": {},
   "outputs": [],
   "source": [
    "poblation_file_route = Path('./datasets/c2022_tp_c_resumen_adaptado.csv')\n",
    "custom_poblation = Path('./custom_datasets/c2022_tp_c_resumen_adaptado.csv')\n",
    "\n",
    "custom_file = dataset_modifier.census_dataset(poblation_file_route, custom_poblation)"
   ]
  }
 ],
 "metadata": {
  "kernelspec": {
   "display_name": "venv",
   "language": "python",
   "name": "python3"
  },
  "language_info": {
   "codemirror_mode": {
    "name": "ipython",
    "version": 3
   },
   "file_extension": ".py",
   "mimetype": "text/x-python",
   "name": "python",
   "nbconvert_exporter": "python",
   "pygments_lexer": "ipython3",
   "version": "3.11.7"
  }
 },
 "nbformat": 4,
 "nbformat_minor": 2
}
