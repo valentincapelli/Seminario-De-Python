{
 "cells": [
  {
   "cell_type": "markdown",
   "metadata": {},
   "source": [
    "## Formato JSON\n",
    "### Declaro mi lista de diccionarios con cantantes y su informacion."
   ]
  },
  {
   "cell_type": "code",
   "execution_count": 44,
   "metadata": {},
   "outputs": [],
   "source": [
    "data = [\n",
    "    {\"nombre\": \"Duki\", \"es_solista\": True, \"ciudad\": \"Buenos Aires\", \"pais\": \"Argentina\", \"ref\": \"https://open.spotify.com/artist/1bAftSH8umNcGZ0uyV7LMg?si=166caaa100af4e4c\"},\n",
    "    {\"nombre\": \"Kanye West\", \"es_solista\": True, \"ciudad\": \"Georgia\", \"pais\": \"Estados Unidos\", \"ref\": \"https://open.spotify.com/artist/5K4W6rqBFWDnAN6FQUkS6x?si=4gL5E96QQXWsl8oJhj_eiQ\"},\n",
    "    {\"nombre\": \"Travis Scott\", \"es_solista\": True, \"ciudad\": \"Houston\", \"pais\": \"Estados Unidos\", \"ref\": \"https://open.spotify.com/intl-es/artist/0Y5tJX1MQlPlqiwlOH1tJY?si=Bbe2EOPuQq2FKXKmgY6fUA\"},\n",
    "    {\"nombre\": \"Drake\", \"es_solista\": True, \"ciudad\": \"Toronto\", \"pais\": \"Canada\", \"ref\": \"https://open.spotify.com/artist/3TVXtAsR1Inumwj472S9r4?si=0kbYlc-KSs6PTVZPLMS78w\"}\n",
    "    ]"
   ]
  },
  {
   "cell_type": "markdown",
   "metadata": {},
   "source": [
    "### Armo el path y creo/escribo en el archivo musica de formato json lo que tenia en data."
   ]
  },
  {
   "cell_type": "code",
   "execution_count": 45,
   "metadata": {},
   "outputs": [],
   "source": [
    "from pathlib import Path\n",
    "import json\n",
    "\n",
    "file_route_json = Path('valentin_music') / \"musica.json\"\n",
    "with open(file_route_json, \"w\") as music_file:\n",
    "    json.dump(data, music_file)\n",
    "    music_file.close"
   ]
  },
  {
   "cell_type": "markdown",
   "metadata": {},
   "source": [
    "### Leo en data lo que escribi en musica.json y lo imprimo."
   ]
  },
  {
   "cell_type": "code",
   "execution_count": 50,
   "metadata": {},
   "outputs": [
    {
     "name": "stdout",
     "output_type": "stream",
     "text": [
      "[{'nombre': 'Duki', 'es_solista': True, 'ciudad': 'Buenos Aires', 'pais': 'Argentina', 'ref': 'https://open.spotify.com/artist/1bAftSH8umNcGZ0uyV7LMg?si=166caaa100af4e4c'}, {'nombre': 'Kanye West', 'es_solista': True, 'ciudad': 'Georgia', 'pais': 'Estados Unidos', 'ref': 'https://open.spotify.com/artist/5K4W6rqBFWDnAN6FQUkS6x?si=4gL5E96QQXWsl8oJhj_eiQ'}, {'nombre': 'Travis Scott', 'es_solista': True, 'ciudad': 'Houston', 'pais': 'Estados Unidos', 'ref': 'https://open.spotify.com/intl-es/artist/0Y5tJX1MQlPlqiwlOH1tJY?si=Bbe2EOPuQq2FKXKmgY6fUA'}, {'nombre': 'Drake', 'es_solista': True, 'ciudad': 'Toronto', 'pais': 'Canada', 'ref': 'https://open.spotify.com/artist/3TVXtAsR1Inumwj472S9r4?si=0kbYlc-KSs6PTVZPLMS78w'}]\n"
     ]
    }
   ],
   "source": [
    "with open(file_route_json, \"r\") as music_file:\n",
    "    data = json.load(music_file)\n",
    "    print(data)"
   ]
  },
  {
   "cell_type": "markdown",
   "metadata": {},
   "source": [
    "### Lo imprimo de una forma mas prolija."
   ]
  },
  {
   "cell_type": "code",
   "execution_count": 51,
   "metadata": {},
   "outputs": [
    {
     "name": "stdout",
     "output_type": "stream",
     "text": [
      "[\n",
      "    {\n",
      "        \"nombre\": \"Duki\",\n",
      "        \"es_solista\": true,\n",
      "        \"ciudad\": \"Buenos Aires\",\n",
      "        \"pais\": \"Argentina\",\n",
      "        \"ref\": \"https://open.spotify.com/artist/1bAftSH8umNcGZ0uyV7LMg?si=166caaa100af4e4c\"\n",
      "    },\n",
      "    {\n",
      "        \"nombre\": \"Kanye West\",\n",
      "        \"es_solista\": true,\n",
      "        \"ciudad\": \"Georgia\",\n",
      "        \"pais\": \"Estados Unidos\",\n",
      "        \"ref\": \"https://open.spotify.com/artist/5K4W6rqBFWDnAN6FQUkS6x?si=4gL5E96QQXWsl8oJhj_eiQ\"\n",
      "    },\n",
      "    {\n",
      "        \"nombre\": \"Travis Scott\",\n",
      "        \"es_solista\": true,\n",
      "        \"ciudad\": \"Houston\",\n",
      "        \"pais\": \"Estados Unidos\",\n",
      "        \"ref\": \"https://open.spotify.com/intl-es/artist/0Y5tJX1MQlPlqiwlOH1tJY?si=Bbe2EOPuQq2FKXKmgY6fUA\"\n",
      "    },\n",
      "    {\n",
      "        \"nombre\": \"Drake\",\n",
      "        \"es_solista\": true,\n",
      "        \"ciudad\": \"Toronto\",\n",
      "        \"pais\": \"Canada\",\n",
      "        \"ref\": \"https://open.spotify.com/artist/3TVXtAsR1Inumwj472S9r4?si=0kbYlc-KSs6PTVZPLMS78w\"\n",
      "    }\n",
      "]\n"
     ]
    }
   ],
   "source": [
    "pretty_data = json.dumps(data, indent=4)\n",
    "print(pretty_data)"
   ]
  },
  {
   "cell_type": "markdown",
   "metadata": {},
   "source": [
    "## Formato CSV"
   ]
  },
  {
   "cell_type": "markdown",
   "metadata": {},
   "source": [
    "### Creo y escribo el archivo musica.csv. Voy escribiendo elemento por elemento del archivo musica.json ."
   ]
  },
  {
   "cell_type": "code",
   "execution_count": 48,
   "metadata": {},
   "outputs": [],
   "source": [
    "file_route_csv = Path('valentin_music') / \"musica.csv\"\n",
    "file_route_json = Path('valentin_music') / \"musica.json\"\n",
    "\n",
    "import csv\n",
    "import json\n",
    "\n",
    "with open(file_route_csv,\"w\") as file_csv:\n",
    "    file_json = open(file_route_json)\n",
    "\n",
    "    music = json.load(file_json)\n",
    "    writer = csv.writer(file_csv)\n",
    "    # Grabo el encabezado con los nombres de las columnas\n",
    "    writer.writerow([\"nombre\", \"es_solista\", \"ciudad\", \"pais\", \"referencia\"])\n",
    "    #Grabo los datos\n",
    "    for elem in music:\n",
    "        writer.writerow( [elem[\"nombre\"], elem[\"es_solista\"], elem[\"ciudad\"], elem[\"pais\"], elem[\"ref\"] ])\n",
    "\n",
    "    file_json.close()"
   ]
  },
  {
   "cell_type": "markdown",
   "metadata": {},
   "source": [
    "### Imprimo el archivo musica.csv"
   ]
  },
  {
   "cell_type": "code",
   "execution_count": null,
   "metadata": {},
   "outputs": [],
   "source": [
    "file_csv = open(file_route_csv, \"r\")\n",
    "csv_reader = csv.reader(file_csv, delimiter=',')\n",
    "for line in csv_reader:\n",
    "    print(line)\n",
    "file_csv.close()"
   ]
  }
 ],
 "metadata": {
  "kernelspec": {
   "display_name": "Python 3",
   "language": "python",
   "name": "python3"
  },
  "language_info": {
   "codemirror_mode": {
    "name": "ipython",
    "version": 3
   },
   "file_extension": ".py",
   "mimetype": "text/x-python",
   "name": "python",
   "nbconvert_exporter": "python",
   "pygments_lexer": "ipython3",
   "version": "3.11.2"
  }
 },
 "nbformat": 4,
 "nbformat_minor": 2
}
