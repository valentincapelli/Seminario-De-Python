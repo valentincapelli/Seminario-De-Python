{
 "cells": [
  {
   "cell_type": "markdown",
   "metadata": {},
   "source": [
    "### __Segunda parte del TP integrador parte 1__\n",
    "#### Utilizando los archivos modificados, mostrar en pantalla los datos solicitados :"
   ]
  },
  {
   "cell_type": "markdown",
   "metadata": {},
   "source": [
    "##### Declaro los path para cada archivo"
   ]
  },
  {
   "cell_type": "code",
   "execution_count": 1,
   "metadata": {},
   "outputs": [],
   "source": [
    "from module import dataset_informer\n",
    "from pathlib import Path\n",
    "\n",
    "airport_file_route = Path('./custom_datasets/ar-airports.csv')\n",
    "argentina_file_route = Path('./datasets/ar.csv')\n",
    "connection_file_route = Path('./custom_datasets/Conectividad_Internet.csv')\n",
    "census_file_route = Path('./custom_datasets/c2022_tp_c_resumen_adaptado.csv')\n",
    "lakes_file_route = Path('./custom_datasets/lagos_arg.csv')"
   ]
  },
  {
   "cell_type": "markdown",
   "metadata": {},
   "source": [
    "- ##### 1_ Los diferentes tipos de aeropuertos según la columna 'type'. "
   ]
  },
  {
   "cell_type": "code",
   "execution_count": null,
   "metadata": {},
   "outputs": [],
   "source": [
    "type_list = dataset_informer.without_repeated(airport_file_route, 2)\n",
    "\n",
    "print(type_list)"
   ]
  },
  {
   "cell_type": "markdown",
   "metadata": {},
   "source": [
    "- ##### 2_ Los aeropuertos de una elevación, (bajo, medio, alto) cuya especificación se permita modificar fácilmente, evaluando la columna creada 'elevation_name'."
   ]
  },
  {
   "cell_type": "code",
   "execution_count": null,
   "metadata": {},
   "outputs": [],
   "source": [
    "airports_by_elevation = dataset_informer.airports_by_elevation(airport_file_route)\n",
    "\n",
    "print(airports_by_elevation)"
   ]
  },
  {
   "cell_type": "markdown",
   "metadata": {},
   "source": [
    "- ##### 3_ Los aeropuertos que tienen una mayor o menor elevación con respecto al valor numérico dado."
   ]
  },
  {
   "cell_type": "code",
   "execution_count": null,
   "metadata": {},
   "outputs": [],
   "source": [
    "minor_or_major_elevation = dataset_informer.airports_by_entered_value(airport_file_route)\n",
    "\n",
    "print(minor_or_major_elevation)"
   ]
  },
  {
   "cell_type": "markdown",
   "metadata": {},
   "source": [
    "- ##### 4_ Los aeropuertos, lagos y tipo de conectividad en provincias con población mayor o menor a un valor que se pueda especificar fácilmente."
   ]
  },
  {
   "cell_type": "code",
   "execution_count": null,
   "metadata": {},
   "outputs": [],
   "source": [
    "lakes_file_route = Path('./custom_datasets/lagos_arg.csv')\n",
    "census_file_route = Path('./datasets/c2022_tp_c_resumen_adaptado.csv')\n",
    "connection_file_route = Path('./custom_datasets/Conectividad_Internet.csv')\n",
    "\n",
    "dataset_informer.printer(airport_file_route, lakes_file_route, connection_file_route, census_file_route)"
   ]
  },
  {
   "cell_type": "markdown",
   "metadata": {},
   "source": [
    "- ##### 5_ Mostrar los aeropuertos en las capitales de cada provincia."
   ]
  },
  {
   "cell_type": "code",
   "execution_count": null,
   "metadata": {},
   "outputs": [],
   "source": [
    "airports_dict = dataset_informer.airports_in_capitals(argentina_file_route, airport_file_route)\n",
    "\n",
    "for key,value in airports_dict.items():\n",
    "    print(f'{key}: {value}')"
   ]
  },
  {
   "cell_type": "markdown",
   "metadata": {},
   "source": [
    "- ##### 6_Mostrar los Lagos de una superficie según la columna 'Sup Tamaño' donde el criterio (chico, medio, grande) se puede indicar fácilmente."
   ]
  },
  {
   "cell_type": "code",
   "execution_count": null,
   "metadata": {},
   "outputs": [],
   "source": [
    "lakes_list = dataset_informer.lakes_by_surface(lakes_file_route)\n",
    "print (lakes_list)"
   ]
  },
  {
   "cell_type": "markdown",
   "metadata": {},
   "source": [
    "- ##### 7_Listar las 5 Jurisdicciones con mayor porcentaje de población en situación de calle. Mostrar el nombre de la jurisdicción y el porcentaje."
   ]
  },
  {
   "cell_type": "code",
   "execution_count": null,
   "metadata": {},
   "outputs": [],
   "source": [
    "jurisdiction_list = dataset_informer.street_situation(census_file_route)\n",
    "\n",
    "print ('Las 5 jurisdicciones con mayor porcentaje de poblacion en situacion de calle son: \\n')\n",
    "for jurisdiction, percent in jurisdiction_list:\n",
    "    print (f'{jurisdiction}: {percent}')"
   ]
  },
  {
   "cell_type": "markdown",
   "metadata": {},
   "source": [
    "- ##### 8_Obtener la jurisdicción donde la brecha entre las poblaciones diferenciadas según sexo registrado al nacer es mayor. Informar nombre de Jurisdicción y cantidad de la brecha poblacional"
   ]
  },
  {
   "cell_type": "code",
   "execution_count": null,
   "metadata": {},
   "outputs": [],
   "source": [
    "jurisdiction_tuple = dataset_informer.population_gap(census_file_route)\n",
    "\n",
    "print ('La jurisdicción donde la brecha entre las poblaciones diferenciadas según sexo registrado al nacer es mayor es: \\n')\n",
    "print (f'{jurisdiction_tuple[0]} con una brecha poblacional de {jurisdiction_tuple[1]} personas')"
   ]
  },
  {
   "cell_type": "markdown",
   "metadata": {},
   "source": [
    "- ##### 9_ Mostrar los diferentes tipos de conectividades"
   ]
  },
  {
   "cell_type": "code",
   "execution_count": null,
   "metadata": {},
   "outputs": [],
   "source": [
    "connection_file_route = Path('./custom_datasets/Conectividad_Internet.csv')\n",
    "dataset_informer.inform_connectivity_types(connection_file_route)"
   ]
  },
  {
   "cell_type": "markdown",
   "metadata": {},
   "source": [
    "- ##### 10_ Mostrar las cantidades de localidades con cada tipo de conectividad."
   ]
  },
  {
   "cell_type": "code",
   "execution_count": null,
   "metadata": {},
   "outputs": [],
   "source": [
    "dataset_informer.connectivity_types_per_city(connection_file_route)"
   ]
  },
  {
   "cell_type": "markdown",
   "metadata": {},
   "source": [
    "- ##### 11_ Mostrar las provincias para las cuales todas sus ciudades poseen FIBRA ÓPTICA."
   ]
  },
  {
   "cell_type": "code",
   "execution_count": null,
   "metadata": {},
   "outputs": [],
   "source": [
    "dataset_informer.province_with_optical_fiber(connection_file_route,census_file_route)"
   ]
  },
  {
   "cell_type": "markdown",
   "metadata": {},
   "source": [
    "- ##### 12_ Mostrar para cada provincia su capital y, si se conoce la información para dicha capital, informar si posee conectividad (campo 'posee_conectividad' creado previamente). En caso de no conocer la información mostrar el texto “conectividad desconocida”."
   ]
  },
  {
   "cell_type": "code",
   "execution_count": null,
   "metadata": {},
   "outputs": [],
   "source": [
    "argentina_file_route = Path('./datasets/ar.csv')\n",
    "dataset_informer.capitals_with_connectivity(connection_file_route,argentina_file_route,census_file_route)"
   ]
  }
 ],
 "metadata": {
  "kernelspec": {
   "display_name": "venv",
   "language": "python",
   "name": "python3"
  },
  "language_info": {
   "codemirror_mode": {
    "name": "ipython",
    "version": 3
   },
   "file_extension": ".py",
   "mimetype": "text/x-python",
   "name": "python",
   "nbconvert_exporter": "python",
   "pygments_lexer": "ipython3",
   "version": "3.11.2"
  }
 },
 "nbformat": 4,
 "nbformat_minor": 2
}
