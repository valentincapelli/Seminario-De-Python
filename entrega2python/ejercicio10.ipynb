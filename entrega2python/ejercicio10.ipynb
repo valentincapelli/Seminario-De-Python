{
 "cells": [
  {
   "cell_type": "code",
   "execution_count": 27,
   "metadata": {},
   "outputs": [],
   "source": [
    "names = \"\"\" Agustin, Yanina, Andrés, Ariadna, Bautista, CAROLINA,\n",
    "CESAR, David, Diego, Dolores, DYLAN, ELIANA, Emanuel, Fabián, Noelia,\n",
    "Francsica', FEDERICO, Fernanda, GONZALO, Nancy \"\"\"\n",
    "goals = [0, 10, 4, 0, 5, 14, 0, 0, 7, 2, 1, 1, 1, 5, 6, 1, 1, 2, 0, 11]\n",
    "goals_avoided = [0, 2, 0, 0, 5, 2, 0, 0, 1, 2, 0, 5, 5, 0, 1, 0, 2, 3, 0, 0]\n",
    "assists = [0, 5, 1, 0, 5, 2, 0, 0, 1, 2, 1, 5, 5, 0, 1, 0, 2, 3, 1, 0]"
   ]
  },
  {
   "cell_type": "markdown",
   "metadata": {},
   "source": [
    "### Funcion para remplazar vocales con tildes por vocales normales para evitar posibles problemas."
   ]
  },
  {
   "cell_type": "code",
   "execution_count": 28,
   "metadata": {},
   "outputs": [],
   "source": [
    "def replace_vowels(text):\n",
    "    import string\n",
    "    characters = ('á','é','í','ó','ú')\n",
    "    for character in characters:\n",
    "        if not(character in string.ascii_letters):\n",
    "            match character:\n",
    "                case 'á': text = text.replace('á','a')\n",
    "                case 'é': text = text.replace('é','e')\n",
    "                case 'í': text = text.replace('í','i')\n",
    "                case 'ó': text = text.replace('ó','o')\n",
    "                case 'ú': text = text.replace('ú','u')\n",
    "                case _: continue\n",
    "    return text"
   ]
  },
  {
   "cell_type": "markdown",
   "metadata": {},
   "source": [
    "### Limpio del texto con nombres los caracteres que no me interesan. Tambien creo una lista en la que cada elemento es un nombre."
   ]
  },
  {
   "cell_type": "code",
   "execution_count": null,
   "metadata": {},
   "outputs": [],
   "source": [
    "names = names.lower().replace(',','').replace('\\'','').replace('\\n',' ')\n",
    "names = replace_vowels(names)\n",
    "names = names.strip().split(' ')\n",
    "print(names)"
   ]
  },
  {
   "cell_type": "markdown",
   "metadata": {},
   "source": [
    "### Almaceno la informacion de cada jugador en un diccionario llamado estadistics."
   ]
  },
  {
   "cell_type": "code",
   "execution_count": null,
   "metadata": {},
   "outputs": [],
   "source": [
    "estadistics = {}\n",
    "length_list = len(names)\n",
    "for i in range(length_list):\n",
    "    estadistics[names[i]] = (goals[i], goals_avoided[i], assists[i])\n",
    "\n",
    "print(estadistics)"
   ]
  },
  {
   "cell_type": "markdown",
   "metadata": {},
   "source": [
    "### Importo del modulo calculator. Invoco su funcion que calcula el maximo goleador."
   ]
  },
  {
   "cell_type": "code",
   "execution_count": null,
   "metadata": {},
   "outputs": [],
   "source": [
    "import calculator\n",
    "top_scorer = calculator.topscorer(estadistics)\n",
    "print(f'El goleador es {top_scorer[0]} con {top_scorer[1]} goles.')"
   ]
  },
  {
   "cell_type": "markdown",
   "metadata": {},
   "source": [
    "### Invoco la funcion que calcula el jugador con mas influencias."
   ]
  },
  {
   "cell_type": "code",
   "execution_count": null,
   "metadata": {},
   "outputs": [],
   "source": [
    "most_influential = calculator.most_influential(estadistics)\n",
    "print(f'La mas influyente es {most_influential[0]} con {most_influential[1]} influencias.')"
   ]
  },
  {
   "cell_type": "markdown",
   "metadata": {},
   "source": [
    "### Invoco la funcion que calcula el promedio de goles del equipo"
   ]
  },
  {
   "cell_type": "code",
   "execution_count": null,
   "metadata": {},
   "outputs": [],
   "source": [
    "average_goals = calculator.average_goals(estadistics)\n",
    "print(f'El promedio del equipo es de {average_goals} goles por partido.')"
   ]
  },
  {
   "cell_type": "markdown",
   "metadata": {},
   "source": [
    "### Invoco la funcion que calcula el promedio de goles de un jugador, para que me calcule el promedio goleador del maximo anotador."
   ]
  },
  {
   "cell_type": "code",
   "execution_count": null,
   "metadata": {},
   "outputs": [],
   "source": [
    "average_goals_topscorer = calculator.average_goals_player(top_scorer)\n",
    "print(f'El promedio del goleador es de {average_goals_topscorer} goles por partido.')"
   ]
  }
 ],
 "metadata": {
  "kernelspec": {
   "display_name": "venv",
   "language": "python",
   "name": "python3"
  },
  "language_info": {
   "codemirror_mode": {
    "name": "ipython",
    "version": 3
   },
   "file_extension": ".py",
   "mimetype": "text/x-python",
   "name": "python",
   "nbconvert_exporter": "python",
   "pygments_lexer": "ipython3",
   "version": "3.11.2"
  }
 },
 "nbformat": 4,
 "nbformat_minor": 2
}
