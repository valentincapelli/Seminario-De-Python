{
 "cells": [
  {
   "cell_type": "code",
   "execution_count": 17,
   "metadata": {},
   "outputs": [],
   "source": [
    "names = \"\"\" Agustin, Yanina, Andrés, Ariadna, Bautista, CAROLINA,\n",
    "CESAR, David, Diego, Dolores, DYLAN, ELIANA, Emanuel, Fabián, Noelia,\n",
    "Francsica', FEDERICO, Fernanda, GONZALO, Nancy \"\"\"\n",
    "goals = [0, 10, 4, 0, 5, 14, 0, 0, 7, 2, 1, 1, 1, 5, 6, 1, 1, 2, 0, 11]\n",
    "goals_avoided = [0, 2, 0, 0, 5, 2, 0, 0, 1, 2, 0, 5, 5, 0, 1, 0, 2, 3, 0, 0]\n",
    "assists = [0, 5, 1, 0, 5, 2, 0, 0, 1, 2, 1, 5, 5, 0, 1, 0, 2, 3, 1, 0]"
   ]
  },
  {
   "cell_type": "code",
   "execution_count": 18,
   "metadata": {},
   "outputs": [],
   "source": [
    "def replace_vowels(text):\n",
    "    import string\n",
    "    characters = ('á','é','í','ó','ú')\n",
    "    for character in characters:\n",
    "        if not(character in string.ascii_letters):\n",
    "            match character:\n",
    "                case 'á': text = text.replace('á','a')\n",
    "                case 'é': text = text.replace('é','e')\n",
    "                case 'í': text = text.replace('í','i')\n",
    "                case 'ó': text = text.replace('ó','o')\n",
    "                case 'ú': text = text.replace('ú','u')\n",
    "                case _: continue\n",
    "    return text"
   ]
  },
  {
   "cell_type": "code",
   "execution_count": 19,
   "metadata": {},
   "outputs": [
    {
     "name": "stdout",
     "output_type": "stream",
     "text": [
      "['agustin', 'yanina', 'andres', 'ariadna', 'bautista', 'carolina', 'cesar', 'david', 'diego', 'dolores', 'dylan', 'eliana', 'emanuel', 'fabian', 'noelia', 'francsica', 'federico', 'fernanda', 'gonzalo', 'nancy']\n"
     ]
    }
   ],
   "source": [
    "names = names.lower().replace(',','').replace('\\'','').replace('\\n',' ')\n",
    "names = replace_vowels(names)\n",
    "names = names.strip().split(' ')\n",
    "print(names)"
   ]
  },
  {
   "cell_type": "code",
   "execution_count": 20,
   "metadata": {},
   "outputs": [
    {
     "name": "stdout",
     "output_type": "stream",
     "text": [
      "{'agustin': (0, 0, 0), 'yanina': (10, 2, 5), 'andres': (4, 0, 1), 'ariadna': (0, 0, 0), 'bautista': (5, 5, 5), 'carolina': (14, 2, 2), 'cesar': (0, 0, 0), 'david': (0, 0, 0), 'diego': (7, 1, 1), 'dolores': (2, 2, 2), 'dylan': (1, 0, 1), 'eliana': (1, 5, 5), 'emanuel': (1, 5, 5), 'fabian': (5, 0, 0), 'noelia': (6, 1, 1), 'francsica': (1, 0, 0), 'federico': (1, 2, 2), 'fernanda': (2, 3, 3), 'gonzalo': (0, 0, 1), 'nancy': (11, 0, 0)}\n"
     ]
    }
   ],
   "source": [
    "estadistics = {}\n",
    "length_list = len(names)\n",
    "for i in range(length_list):\n",
    "    estadistics[names[i]] = (goals[i], goals_avoided[i], assists[i])\n",
    "\n",
    "print(estadistics)"
   ]
  },
  {
   "cell_type": "code",
   "execution_count": 21,
   "metadata": {},
   "outputs": [
    {
     "name": "stdout",
     "output_type": "stream",
     "text": [
      "El goleador es carolina con 14 goles.\n"
     ]
    }
   ],
   "source": [
    "import calculator\n",
    "top_scorer = calculator.topscorer(estadistics)\n",
    "print(f'El goleador es {top_scorer[0]} con {top_scorer[1]} goles.')"
   ]
  },
  {
   "cell_type": "code",
   "execution_count": 22,
   "metadata": {},
   "outputs": [
    {
     "name": "stdout",
     "output_type": "stream",
     "text": [
      "La mas influyente es carolina con 25.5 influencias.\n"
     ]
    }
   ],
   "source": [
    "most_influential = calculator.most_influential(estadistics)\n",
    "print(f'La mas influyente es {most_influential[0]} con {most_influential[1]} influencias.')"
   ]
  },
  {
   "cell_type": "code",
   "execution_count": 26,
   "metadata": {},
   "outputs": [
    {
     "name": "stdout",
     "output_type": "stream",
     "text": [
      "El promedio del equipo es de 2.84 goles por partido.\n"
     ]
    }
   ],
   "source": [
    "average_goals = calculator.average_goals(estadistics)\n",
    "print(f'El promedio del equipo es de {average_goals} goles por partido.')"
   ]
  },
  {
   "cell_type": "code",
   "execution_count": 24,
   "metadata": {},
   "outputs": [
    {
     "name": "stdout",
     "output_type": "stream",
     "text": [
      "El promedio de goles del goleador es 0.56 .\n"
     ]
    }
   ],
   "source": [
    "average_goals_topscorer = calculator.average_goals_player(top_scorer)\n",
    "print(f'El promedio del goleador es de {average_goals_topscorer} goles por partido.')"
   ]
  }
 ],
 "metadata": {
  "kernelspec": {
   "display_name": "venv",
   "language": "python",
   "name": "python3"
  },
  "language_info": {
   "codemirror_mode": {
    "name": "ipython",
    "version": 3
   },
   "file_extension": ".py",
   "mimetype": "text/x-python",
   "name": "python",
   "nbconvert_exporter": "python",
   "pygments_lexer": "ipython3",
   "version": "3.11.2"
  }
 },
 "nbformat": 4,
 "nbformat_minor": 2
}
