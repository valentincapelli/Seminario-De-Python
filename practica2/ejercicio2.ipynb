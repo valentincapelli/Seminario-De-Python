{
 "cells": [
  {
   "cell_type": "markdown",
   "metadata": {},
   "source": [
    "## Le asigno a text el string que quiero"
   ]
  },
  {
   "cell_type": "code",
   "execution_count": 44,
   "metadata": {},
   "outputs": [],
   "source": [
    "text = \"\"\"NumPy is the fundamental package for scientific computing with Python.\n",
    "\n",
    "Website: https://www.numpy.org\n",
    "Documentation: https://numpy.org/doc\n",
    "Mailing list: https://mail.python.org/mailman/listinfo/numpy-discussion\n",
    "Source code: https://github.com/numpy/numpy\n",
    "Contributing: https://www.numpy.org/devdocs/dev/index.html\n",
    "Bug reports: https://github.com/numpy/numpy/issues\n",
    "Report a security vulnerability: https://tidelift.com/docs/security\n",
    "It provides:\n",
    "\n",
    "a powerful N-dimensional array object\n",
    "sophisticated (broadcasting) functions\n",
    "tools for integrating C/C++ and Fortran code\n",
    "useful linear algebra, Fourier transform, and random number capabilities\n",
    "Testing:\n",
    "\n",
    "NumPy requires pytest and hypothesis. Tests can then be run after installation with:\n",
    "\n",
    "python -c \"import numpy, sys; sys.exit(numpy.test() is False)\"\n",
    "Code of Conduct\n",
    "NumPy is a community-driven open source project developed by a diverse group of contributors. The NumPy leadership has made a strong commitment to creating an open, inclusive, and positive community. Please read the NumPy Code of Conduct for guidance on how to interact with others in a way that makes our community thrive.\n",
    "\n",
    "Call for Contributions\n",
    "The NumPy project welcomes your expertise and enthusiasm!\n",
    "\n",
    "Small improvements or fixes are always appreciated. If you are considering larger contributions to the source code, please contact us through the mailing list first.\n",
    "\n",
    "Writing code isn’t the only way to contribute to NumPy. You can also:\n",
    "\n",
    "review pull requests\n",
    "help us stay on top of new and old issues\n",
    "develop tutorials, presentations, and other educational materials\n",
    "maintain and improve our website\n",
    "develop graphic design for our brand assets and promotional materials\n",
    "translate website content\n",
    "help with outreach and onboard new contributors\n",
    "write grant proposals and help with other fundraising efforts\n",
    "For more information about the ways you can contribute to NumPy, visit our website. If you’re unsure where to start or how your skills fit in, reach out! You can ask on the mailing list or here, on GitHub, by opening a new issue or leaving a comment on a relevant issue that is already open.\n",
    "\n",
    "Our preferred channels of communication are all public, but if you’d like to speak to us in private first, contact our community coordinators at numpy-team@googlegroups.com or on Slack (write numpy-team@googlegroups.com for an invitation).\n",
    "\n",
    "We also have a biweekly community call, details of which are announced on the mailing list. You are very welcome to join.\n",
    "\n",
    "If you are new to contributing to open source, this guide helps explain why, what, and how to successfully get involved.\"\"\""
   ]
  },
  {
   "cell_type": "markdown",
   "metadata": {},
   "source": [
    "## Lo paso todo a minusculas para contar las palabras que aparecen sin tomar encuenta las mayusculas y creo una lista con todas las palabras del texto"
   ]
  },
  {
   "cell_type": "code",
   "execution_count": null,
   "metadata": {},
   "outputs": [],
   "source": [
    "text = text.lower()\n",
    "words = text.split(\" \")\n",
    "\n",
    "print(type(words))\n",
    "print(words)"
   ]
  },
  {
   "cell_type": "markdown",
   "metadata": {},
   "source": [
    "## Recorro toda la lista de palabras y por cada palabra hago un count de para saber cuantas veces aparece en la lista original"
   ]
  },
  {
   "cell_type": "code",
   "execution_count": null,
   "metadata": {},
   "outputs": [],
   "source": [
    "max = -1\n",
    "max_word = ''\n",
    "for word in words:\n",
    "    if len(word)> 4:\n",
    "        cant = words.count(word)\n",
    "        if cant > max:\n",
    "            max = cant\n",
    "            max_word = word\n",
    "print(f'La palabra mas repetida es {max_word} con un total de {max} veces.')\n"
   ]
  }
 ],
 "metadata": {
  "kernelspec": {
   "display_name": "venv",
   "language": "python",
   "name": "python3"
  },
  "language_info": {
   "codemirror_mode": {
    "name": "ipython",
    "version": 3
   },
   "file_extension": ".py",
   "mimetype": "text/x-python",
   "name": "python",
   "nbconvert_exporter": "python",
   "pygments_lexer": "ipython3",
   "version": "3.11.2"
  }
 },
 "nbformat": 4,
 "nbformat_minor": 2
}
