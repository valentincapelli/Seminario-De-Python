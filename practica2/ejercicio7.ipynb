{
 "cells": [
  {
   "cell_type": "code",
   "execution_count": 130,
   "metadata": {},
   "outputs": [],
   "source": [
    "text = \"\"\" La brecha salarial alcanzó el 27,7%: las mujeres ocupadas\n",
    "debieron trabajar 8 días y 10 horas más que los varones ocupados para\n",
    "ganar lo mismo que ellos en un mes. \"\"\""
   ]
  },
  {
   "cell_type": "markdown",
   "metadata": {},
   "source": [
    "### Limpiamos del texto de los caracteres que no queremos contar."
   ]
  },
  {
   "cell_type": "code",
   "execution_count": null,
   "metadata": {},
   "outputs": [],
   "source": [
    "text = text.strip().replace('\\n',' ')\n",
    "words_list = text.split(' ')\n",
    "print(text)\n",
    "print(words_list)"
   ]
  },
  {
   "cell_type": "markdown",
   "metadata": {},
   "source": [
    "### Declaro un diccionario para llevar las cuentas. Recorro todas las palabras y cada una de sus letras y voy sumando en la posicion del diccionario correspondiente."
   ]
  },
  {
   "cell_type": "code",
   "execution_count": 132,
   "metadata": {},
   "outputs": [],
   "source": [
    "counter = {\"Mayusculas\":0 , \"Minusculas\":0 , \"Caracteres no letras\":0 , \"Cantidad de palabras\":0}\n",
    "import string;\n",
    "ascii_letters = string.ascii_letters\n",
    "\n",
    "for word in words_list:\n",
    "    #if (word in ascii_letters):  esta solucion trataba de no contar numeros como palabras, no pude hacerlo funcionar\n",
    "    counter[\"Cantidad de palabras\"] += 1\n",
    "    for letter in word:\n",
    "        if (letter.isupper()):\n",
    "            counter[\"Mayusculas\"] += 1\n",
    "        elif (letter.islower()):\n",
    "            counter[\"Minusculas\"] += 1\n",
    "        else:\n",
    "            counter[\"Caracteres no letras\"] += 1"
   ]
  },
  {
   "cell_type": "code",
   "execution_count": null,
   "metadata": {},
   "outputs": [],
   "source": [
    "print(counter)"
   ]
  }
 ],
 "metadata": {
  "kernelspec": {
   "display_name": "Python 3",
   "language": "python",
   "name": "python3"
  },
  "language_info": {
   "codemirror_mode": {
    "name": "ipython",
    "version": 3
   },
   "file_extension": ".py",
   "mimetype": "text/x-python",
   "name": "python",
   "nbconvert_exporter": "python",
   "pygments_lexer": "ipython3",
   "version": "3.11.2"
  }
 },
 "nbformat": 4,
 "nbformat_minor": 2
}
