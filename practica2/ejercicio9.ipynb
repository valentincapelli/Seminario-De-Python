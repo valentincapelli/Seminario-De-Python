{
 "cells": [
  {
   "cell_type": "code",
   "execution_count": 30,
   "metadata": {},
   "outputs": [],
   "source": [
    "one_point = ('AEIOULNRST')\n",
    "two_point = ('DG')\n",
    "three_point = ('BCMP')\n",
    "four_point = ('FHVWY')\n",
    "five_point = ('K')\n",
    "eight_point = ('JX')\n",
    "ten_point = ('QZ')\n"
   ]
  },
  {
   "cell_type": "code",
   "execution_count": 31,
   "metadata": {},
   "outputs": [
    {
     "name": "stdout",
     "output_type": "stream",
     "text": [
      "Palabra HOLA. Valor 7.\n"
     ]
    }
   ],
   "source": [
    "word = input(\"Ingrese una palabra\").upper()\n",
    "value = 0\n",
    "for letter in word:\n",
    "    if letter in one_point:\n",
    "        value += 1\n",
    "    elif letter in two_point:\n",
    "        value += 2\n",
    "    elif letter in three_point:\n",
    "        value += 3\n",
    "    elif letter in four_point:\n",
    "        value += 4\n",
    "    elif letter in five_point:\n",
    "        value += 5\n",
    "    elif letter in eight_point:\n",
    "        value += 8\n",
    "    else:\n",
    "        value += 10\n",
    "print(f'Palabra {word}. Valor {value}.')"
   ]
  }
 ],
 "metadata": {
  "kernelspec": {
   "display_name": "venv",
   "language": "python",
   "name": "python3"
  },
  "language_info": {
   "codemirror_mode": {
    "name": "ipython",
    "version": 3
   },
   "file_extension": ".py",
   "mimetype": "text/x-python",
   "name": "python",
   "nbconvert_exporter": "python",
   "pygments_lexer": "ipython3",
   "version": "3.11.2"
  }
 },
 "nbformat": 4,
 "nbformat_minor": 2
}
