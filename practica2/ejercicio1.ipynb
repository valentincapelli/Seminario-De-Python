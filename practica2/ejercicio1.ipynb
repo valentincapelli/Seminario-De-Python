{
 "cells": [
  {
   "cell_type": "markdown",
   "id": "a61992cc",
   "metadata": {},
   "source": [
    "### Le asigno el texto a la variable string cadena"
   ]
  },
  {
   "cell_type": "code",
   "execution_count": 66,
   "id": "7996ac2a-fa2c-4e9d-8027-8286ab510bdc",
   "metadata": {
    "jupyter": {
     "source_hidden": true
    }
   },
   "outputs": [],
   "source": [
    "text =\"\"\"NumPy is the fundamental package for scientific computing with Python.\n",
    "\n",
    "Website: https://www.numpy.org\n",
    "Documentation: https://numpy.org/doc\n",
    "Mailing list: https://mail.python.org/mailman/listinfo/numpy-discussion\n",
    "Source code: https://github.com/numpy/numpy\n",
    "Contributing: https://www.numpy.org/devdocs/dev/index.html\n",
    "Bug reports: https://github.com/numpy/numpy/issues\n",
    "Report a security vulnerability: https://tidelift.com/docs/security\n",
    "It provides:\n",
    "\n",
    "a powerful N-dimensional array object\n",
    "sophisticated (broadcasting) functions\n",
    "tools for integrating C/C++ and Fortran code\n",
    "useful linear algebra, Fourier transform, and random number capabilities\n",
    "Testing:\n",
    "\n",
    "NumPy requires pytest and hypothesis. Tests can then be run after installation with:\n",
    "\n",
    "python -c \"import numpy, sys; sys.exit(numpy.test() is False)\"\n",
    "Code of Conduct\n",
    "NumPy is a community-driven open source project developed by a diverse group of contributors. The NumPy leadership has made a strong commitment to creating an open, inclusive, and positive community. Please read the NumPy Code of Conduct for guidance on how to interact with others in a way that makes our community thrive.\n",
    "\n",
    "Call for Contributions\n",
    "The NumPy project welcomes your expertise and enthusiasm!\n",
    "\n",
    "Small improvements or fixes are always appreciated. If you are considering larger contributions to the source code, please contact us through the mailing list first.\n",
    "\n",
    "Writing code isn’t the only way to contribute to NumPy. You can also:\n",
    "\n",
    "review pull requests\n",
    "help us stay on top of new and old issues\n",
    "develop tutorials, presentations, and other educational materials\n",
    "maintain and improve our website\n",
    "develop graphic design for our brand assets and promotional materials\n",
    "translate website content\n",
    "help with outreach and onboard new contributors\n",
    "write grant proposals and help with other fundraising efforts\n",
    "For more information about the ways you can contribute to NumPy, visit our website. If you’re unsure where to start or how your skills fit in, reach out! You can ask on the mailing list or here, on GitHub, by opening a new issue or leaving a comment on a relevant issue that is already open.\n",
    "\n",
    "Our preferred channels of communication are all public, but if you’d like to speak to us in private first, contact our community coordinators at numpy-team@googlegroups.com or on Slack (write numpy-team@googlegroups.com for an invitation).\n",
    "\n",
    "We also have a biweekly community call, details of which are announced on the mailing list. You are very welcome to join.\n",
    "\n",
    "If you are new to contributing to open source, this guide helps explain why, what, and how to successfully get involved.\"\"\"\n"
   ]
  },
  {
   "cell_type": "markdown",
   "id": "79318a30",
   "metadata": {},
   "source": [
    "# Separo cada linea del texto en una posicion de una lista de strings"
   ]
  },
  {
   "cell_type": "code",
   "execution_count": null,
   "id": "e4982a45",
   "metadata": {},
   "outputs": [],
   "source": [
    "line_list = text.splitlines()\n",
    "print(type(line_list))\n",
    "\n",
    "print(line_list)"
   ]
  },
  {
   "cell_type": "markdown",
   "id": "175fd0dd",
   "metadata": {},
   "source": [
    "## Imprime las lineas del texto en la que la segunda palabra de esa linea empieza con una vocal"
   ]
  },
  {
   "cell_type": "code",
   "execution_count": null,
   "id": "00d5687e",
   "metadata": {},
   "outputs": [],
   "source": [
    "word_list = []\n",
    "vowels = (\"a\", \"e\", \"i\", \"o\", \"u\")\n",
    "for line in line_list:\n",
    "    word_list = line.split(\" \")\n",
    "    if len(word_list) >= 2:\n",
    "        if word_list[1][0].lower() in vowels:\n",
    "            result = \" \".join(word_list)\n",
    "            print(result)"
   ]
  }
 ],
 "metadata": {
  "kernelspec": {
   "display_name": "Python 3 (ipykernel)",
   "language": "python",
   "name": "python3"
  },
  "language_info": {
   "codemirror_mode": {
    "name": "ipython",
    "version": 3
   },
   "file_extension": ".py",
   "mimetype": "text/x-python",
   "name": "python",
   "nbconvert_exporter": "python",
   "pygments_lexer": "ipython3",
   "version": "3.11.2"
  }
 },
 "nbformat": 4,
 "nbformat_minor": 5
}
