{
 "cells": [
  {
   "cell_type": "code",
   "execution_count": 14,
   "metadata": {},
   "outputs": [],
   "source": [
    "article = \"\"\" título: Experiences in Developing a Distributed Agentbased Modeling Toolkit with Python Version 3\n",
    "resumen: Distributed agent-based modeling (ABM) on high-performance\n",
    "computing resources provides the promise of capturing unprecedented\n",
    "details of large-scale complex systems. However, the specialized\n",
    "knowledge required for developing such ABMs creates barriers to wider\n",
    "adoption and utilization. Here we present our experiences in\n",
    "developing an initial implementation of Repast4Py, a Python-based\n",
    "distributed ABM toolkit. We build on our experiences in developing ABM\n",
    "toolkits, including Repast for High Performance Computing (Repast\n",
    "HPC), to identify the key elements of a useful distributed ABM\n",
    "toolkit. We leverage the Numba, NumPy, and PyTorch packages and the\n",
    "Python C-API to create a scalable modeling system that can exploit the\n",
    "largest HPC resources and emerging computing architectures.\"\"\""
   ]
  },
  {
   "cell_type": "markdown",
   "metadata": {},
   "source": [
    "## Limpiamos el texto de las cosas que no nos interesa contabilizar."
   ]
  },
  {
   "cell_type": "code",
   "execution_count": 15,
   "metadata": {},
   "outputs": [],
   "source": [
    "import string\n",
    "string.digits\n",
    "clean_text = article.replace('título:','').replace('\\n','').replace('0','').replace('1','').replace('2','').replace('3','').replace('4','').replace('5','').replace('6','').replace('7','').replace('8','').replace('9','')"
   ]
  },
  {
   "cell_type": "markdown",
   "metadata": {},
   "source": [
    "## A partir del texto limpio, consigo mi lista del titulo y mi lista del resumen."
   ]
  },
  {
   "cell_type": "code",
   "execution_count": null,
   "metadata": {},
   "outputs": [],
   "source": [
    "divided_list = clean_text.split('resumen:')\n",
    "title_list = divided_list[0]\n",
    "resume_list = divided_list[1]\n",
    "print(title_list)\n",
    "print(resume_list)"
   ]
  },
  {
   "cell_type": "markdown",
   "metadata": {},
   "source": [
    "## Termino de limpiar las cosas que no quiero contabilizar de mi titulo, y chequeo si se cumple la longitud."
   ]
  },
  {
   "cell_type": "code",
   "execution_count": 17,
   "metadata": {},
   "outputs": [],
   "source": [
    "\n",
    "title_list = title_list.strip().split(' ')\n",
    "\n",
    "title_approbe = False\n",
    "if (len(title_list)) <= 10:\n",
    "    title_approbe = True"
   ]
  },
  {
   "cell_type": "markdown",
   "metadata": {},
   "source": [
    "## Termino de limpiar las cosas que no quiero contabilizar de mi resumen."
   ]
  },
  {
   "cell_type": "code",
   "execution_count": null,
   "metadata": {},
   "outputs": [],
   "source": [
    "resume_list = resume_list.strip().split('.') #.split(' ')\n",
    "print(resume_list)\n",
    "resume_list.pop(-1)\n",
    "#resume_list = resume_list.split('.')\n",
    "print(resume_list)\n",
    "print(len(resume_list))"
   ]
  },
  {
   "cell_type": "markdown",
   "metadata": {},
   "source": [
    "## Formo las categorias utilizando un diccionario, recorro mi lista del resumen y voy sumando en mi diccionario segun la cantidad de palabras de cada oracion."
   ]
  },
  {
   "cell_type": "code",
   "execution_count": 19,
   "metadata": {},
   "outputs": [],
   "source": [
    "import string\n",
    "categorias = {\"facil de leer\": 0 , \"aceptable para leer\": 0, \"dificil de leer\": 0, \"muy dificil\": 0}\n",
    "\n",
    "for sentence in resume_list:\n",
    "    words = sentence.strip().split(' ')\n",
    "    cant = len(words)\n",
    "    if cant <= 12:\n",
    "        categorias[\"facil de leer\"] += 1\n",
    "    elif cant >= 13 and cant <= 17:\n",
    "        categorias[\"aceptable para leer\"] += 1\n",
    "    elif cant >= 18 and cant <= 25:\n",
    "        categorias[\"dificil de leer\"] += 1\n",
    "    else:\n",
    "        categorias[\"muy dificil\"] += 1"
   ]
  },
  {
   "cell_type": "markdown",
   "metadata": {},
   "source": [
    "## Informo si el titulo cumple con la condicion e informo como quedaron las cantidades de las categorias."
   ]
  },
  {
   "cell_type": "code",
   "execution_count": null,
   "metadata": {},
   "outputs": [],
   "source": [
    "if (title_approbe == True):\n",
    "    print('titulo: ok')\n",
    "else:\n",
    "    print('titulo: not ok')\n",
    "\n",
    "print(f'Cantidad de oraciones fáciles de leer: {categorias[\"facil de leer\"]}. Aceptables para leer: {categorias[\"aceptable para leer\"]}. Dificil de leer: {categorias[\"dificil de leer\"]}. Muy difícil de leer: {categorias[\"muy dificil\"]}')"
   ]
  }
 ],
 "metadata": {
  "kernelspec": {
   "display_name": "venv",
   "language": "python",
   "name": "python3"
  },
  "language_info": {
   "codemirror_mode": {
    "name": "ipython",
    "version": 3
   },
   "file_extension": ".py",
   "mimetype": "text/x-python",
   "name": "python",
   "nbconvert_exporter": "python",
   "pygments_lexer": "ipython3",
   "version": "3.11.2"
  }
 },
 "nbformat": 4,
 "nbformat_minor": 2
}
